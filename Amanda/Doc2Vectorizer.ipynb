{
 "cells": [
  {
   "cell_type": "code",
   "execution_count": 5,
   "metadata": {},
   "outputs": [],
   "source": [
    "import pandas as pd\n",
    "import numpy as np\n",
    "import matplotlib.pyplot as plt\n",
    "import time\n",
    "from tqdm import tqdm\n",
    "import os\n",
    "from gensim.models.doc2vec import Doc2Vec, TaggedDocument\n",
    "from nltk.tokenize import word_tokenize\n",
    "from gensim.test.utils import common_texts, get_tmpfile\n",
    "import warnings\n",
    "warnings.filterwarnings('ignore')"
   ]
  },
  {
   "cell_type": "code",
   "execution_count": 8,
   "metadata": {},
   "outputs": [],
   "source": [
    "test_clean = pd.DataFrame(pd.read_csv(os.getcwd() + '/' + 'test_clean.csv', sep=','))"
   ]
  },
  {
   "cell_type": "code",
   "execution_count": 9,
   "metadata": {},
   "outputs": [
    {
     "data": {
      "text/html": [
       "<div>\n",
       "<style scoped>\n",
       "    .dataframe tbody tr th:only-of-type {\n",
       "        vertical-align: middle;\n",
       "    }\n",
       "\n",
       "    .dataframe tbody tr th {\n",
       "        vertical-align: top;\n",
       "    }\n",
       "\n",
       "    .dataframe thead th {\n",
       "        text-align: right;\n",
       "    }\n",
       "</style>\n",
       "<table border=\"1\" class=\"dataframe\">\n",
       "  <thead>\n",
       "    <tr style=\"text-align: right;\">\n",
       "      <th></th>\n",
       "      <th>ex_id</th>\n",
       "      <th>user_id</th>\n",
       "      <th>prod_id</th>\n",
       "      <th>rating</th>\n",
       "      <th>label</th>\n",
       "      <th>date</th>\n",
       "      <th>review</th>\n",
       "      <th>length</th>\n",
       "      <th>numbers</th>\n",
       "      <th>caps</th>\n",
       "      <th>...</th>\n",
       "      <th>VB</th>\n",
       "      <th>VBD</th>\n",
       "      <th>VBG</th>\n",
       "      <th>VBN</th>\n",
       "      <th>VBP</th>\n",
       "      <th>VBZ</th>\n",
       "      <th>WDT</th>\n",
       "      <th>WP</th>\n",
       "      <th>WP$</th>\n",
       "      <th>WRB</th>\n",
       "    </tr>\n",
       "  </thead>\n",
       "  <tbody>\n",
       "    <tr>\n",
       "      <td>0</td>\n",
       "      <td>6</td>\n",
       "      <td>929</td>\n",
       "      <td>0</td>\n",
       "      <td>4.0</td>\n",
       "      <td>NaN</td>\n",
       "      <td>2009-08-25</td>\n",
       "      <td>let start shoutout everyone boosting mint lemo...</td>\n",
       "      <td>67</td>\n",
       "      <td>0</td>\n",
       "      <td>0.0</td>\n",
       "      <td>...</td>\n",
       "      <td>0.074627</td>\n",
       "      <td>0.044776</td>\n",
       "      <td>0.014925</td>\n",
       "      <td>0.029851</td>\n",
       "      <td>0.059701</td>\n",
       "      <td>0.044776</td>\n",
       "      <td>0.0</td>\n",
       "      <td>0.0</td>\n",
       "      <td>0.0</td>\n",
       "      <td>0.0</td>\n",
       "    </tr>\n",
       "    <tr>\n",
       "      <td>1</td>\n",
       "      <td>9</td>\n",
       "      <td>932</td>\n",
       "      <td>0</td>\n",
       "      <td>5.0</td>\n",
       "      <td>NaN</td>\n",
       "      <td>2014-05-09</td>\n",
       "      <td>stopped lunch today could nt believe delicious...</td>\n",
       "      <td>27</td>\n",
       "      <td>0</td>\n",
       "      <td>0.0</td>\n",
       "      <td>...</td>\n",
       "      <td>0.037037</td>\n",
       "      <td>0.148148</td>\n",
       "      <td>0.000000</td>\n",
       "      <td>0.000000</td>\n",
       "      <td>0.037037</td>\n",
       "      <td>0.000000</td>\n",
       "      <td>0.0</td>\n",
       "      <td>0.0</td>\n",
       "      <td>0.0</td>\n",
       "      <td>0.0</td>\n",
       "    </tr>\n",
       "    <tr>\n",
       "      <td>2</td>\n",
       "      <td>14</td>\n",
       "      <td>937</td>\n",
       "      <td>0</td>\n",
       "      <td>4.0</td>\n",
       "      <td>NaN</td>\n",
       "      <td>2014-10-15</td>\n",
       "      <td>tiny little place good food pastitsio especial...</td>\n",
       "      <td>8</td>\n",
       "      <td>0</td>\n",
       "      <td>0.0</td>\n",
       "      <td>...</td>\n",
       "      <td>0.000000</td>\n",
       "      <td>0.000000</td>\n",
       "      <td>0.000000</td>\n",
       "      <td>0.000000</td>\n",
       "      <td>0.000000</td>\n",
       "      <td>0.000000</td>\n",
       "      <td>0.0</td>\n",
       "      <td>0.0</td>\n",
       "      <td>0.0</td>\n",
       "      <td>0.0</td>\n",
       "    </tr>\n",
       "    <tr>\n",
       "      <td>3</td>\n",
       "      <td>22</td>\n",
       "      <td>945</td>\n",
       "      <td>0</td>\n",
       "      <td>5.0</td>\n",
       "      <td>NaN</td>\n",
       "      <td>2014-04-10</td>\n",
       "      <td>food delicious service great good atmosphere q...</td>\n",
       "      <td>11</td>\n",
       "      <td>0</td>\n",
       "      <td>0.0</td>\n",
       "      <td>...</td>\n",
       "      <td>0.090909</td>\n",
       "      <td>0.000000</td>\n",
       "      <td>0.000000</td>\n",
       "      <td>0.000000</td>\n",
       "      <td>0.000000</td>\n",
       "      <td>0.000000</td>\n",
       "      <td>0.0</td>\n",
       "      <td>0.0</td>\n",
       "      <td>0.0</td>\n",
       "      <td>0.0</td>\n",
       "    </tr>\n",
       "    <tr>\n",
       "      <td>4</td>\n",
       "      <td>23</td>\n",
       "      <td>946</td>\n",
       "      <td>0</td>\n",
       "      <td>5.0</td>\n",
       "      <td>NaN</td>\n",
       "      <td>2014-03-29</td>\n",
       "      <td>awesome hole wall place grab quick bite great ...</td>\n",
       "      <td>24</td>\n",
       "      <td>0</td>\n",
       "      <td>0.0</td>\n",
       "      <td>...</td>\n",
       "      <td>0.000000</td>\n",
       "      <td>0.000000</td>\n",
       "      <td>0.000000</td>\n",
       "      <td>0.000000</td>\n",
       "      <td>0.000000</td>\n",
       "      <td>0.000000</td>\n",
       "      <td>0.0</td>\n",
       "      <td>0.0</td>\n",
       "      <td>0.0</td>\n",
       "      <td>0.0</td>\n",
       "    </tr>\n",
       "  </tbody>\n",
       "</table>\n",
       "<p>5 rows × 48 columns</p>\n",
       "</div>"
      ],
      "text/plain": [
       "   ex_id  user_id  prod_id  rating  label        date  \\\n",
       "0      6      929        0     4.0    NaN  2009-08-25   \n",
       "1      9      932        0     5.0    NaN  2014-05-09   \n",
       "2     14      937        0     4.0    NaN  2014-10-15   \n",
       "3     22      945        0     5.0    NaN  2014-04-10   \n",
       "4     23      946        0     5.0    NaN  2014-03-29   \n",
       "\n",
       "                                              review  length  numbers  caps  \\\n",
       "0  let start shoutout everyone boosting mint lemo...      67        0   0.0   \n",
       "1  stopped lunch today could nt believe delicious...      27        0   0.0   \n",
       "2  tiny little place good food pastitsio especial...       8        0   0.0   \n",
       "3  food delicious service great good atmosphere q...      11        0   0.0   \n",
       "4  awesome hole wall place grab quick bite great ...      24        0   0.0   \n",
       "\n",
       "   ...        VB       VBD       VBG       VBN       VBP       VBZ  WDT   WP  \\\n",
       "0  ...  0.074627  0.044776  0.014925  0.029851  0.059701  0.044776  0.0  0.0   \n",
       "1  ...  0.037037  0.148148  0.000000  0.000000  0.037037  0.000000  0.0  0.0   \n",
       "2  ...  0.000000  0.000000  0.000000  0.000000  0.000000  0.000000  0.0  0.0   \n",
       "3  ...  0.090909  0.000000  0.000000  0.000000  0.000000  0.000000  0.0  0.0   \n",
       "4  ...  0.000000  0.000000  0.000000  0.000000  0.000000  0.000000  0.0  0.0   \n",
       "\n",
       "   WP$  WRB  \n",
       "0  0.0  0.0  \n",
       "1  0.0  0.0  \n",
       "2  0.0  0.0  \n",
       "3  0.0  0.0  \n",
       "4  0.0  0.0  \n",
       "\n",
       "[5 rows x 48 columns]"
      ]
     },
     "execution_count": 9,
     "metadata": {},
     "output_type": "execute_result"
    }
   ],
   "source": [
    "test_clean.head()"
   ]
  },
  {
   "cell_type": "markdown",
   "metadata": {},
   "source": [
    "# Doc2Vec"
   ]
  },
  {
   "cell_type": "code",
   "execution_count": 6,
   "metadata": {},
   "outputs": [],
   "source": [
    "#tokenized data required for Word2Vec & Doc2Vec\n",
    "def tokenize(data):\n",
    "    \n",
    "    data = data.replace(np.nan, \" \")\n",
    "    #tokenize reviews and store in separate column for vectorizers\n",
    "    data['tokens'] = pd.Series()\n",
    "    for i in range(len(data['review'])):\n",
    "        data['tokens'][i] = word_tokenize(data['review'][i])\n",
    "    \n",
    "    return data"
   ]
  },
  {
   "cell_type": "code",
   "execution_count": 10,
   "metadata": {},
   "outputs": [],
   "source": [
    "test = tokenize(test_clean)"
   ]
  },
  {
   "cell_type": "code",
   "execution_count": 7,
   "metadata": {},
   "outputs": [],
   "source": [
    "def Doc2Vec_input(data):\n",
    "    \n",
    "    #returns appropriate input data for Doc2Vec model\n",
    "    #tag reviews with tokens and labels\n",
    "    train_doc =[]\n",
    "    for i in range(0,data.shape[0]):\n",
    "        train_doc.append(TaggedDocument(data['tokens'][i],str(data['label'][i]))) \n",
    "    \n",
    "    return train_doc"
   ]
  },
  {
   "cell_type": "code",
   "execution_count": 11,
   "metadata": {},
   "outputs": [],
   "source": [
    "test_doc = Doc2Vec_input(test)"
   ]
  },
  {
   "cell_type": "code",
   "execution_count": 14,
   "metadata": {},
   "outputs": [
    {
     "data": {
      "text/plain": [
       "TaggedDocument(words=['let', 'start', 'shoutout', 'everyone', 'boosting', 'mint', 'lemonade', 'stuff', 'super', 'tasty', 'refuse', 'believe', 'get', 'fresher', 'delicious', 'greek', 'food', 'dollar', 'sport', 'lunch', 'regularly', 'huge', 'sandwiches', 'filled', 'marinated', 'vegetables', 'succulent', 'meats', 'lamb', 'particularly', 'choice', 'floury', 'ciabatta', 'ideal', 'crustcrunch', 'softinnerwomb', 'cold', 'meze', 'options', 'favorites', 'know', 'anyone', 'take', 'good', 'feta', 'cover', 'salt', 'pepper', 'olive', 'oil', 'dish', 'olives', 'tomatoes', 'quality', 'proportion', 'ingredients', 'makes', 'special', 'heaven', 'rock', 'sandwich', 'grab', 'bigger', 'meals', 'midteens', 'get', 'done'], tags=' ')"
      ]
     },
     "execution_count": 14,
     "metadata": {},
     "output_type": "execute_result"
    }
   ],
   "source": [
    "#example input\n",
    "test_doc[0]"
   ]
  },
  {
   "cell_type": "code",
   "execution_count": 15,
   "metadata": {},
   "outputs": [],
   "source": [
    "def Doc2Vec_vectorize(model, data, epochs=1):\n",
    "    \n",
    "    #creates feature vectors for each review\n",
    "    targets, feature_vectors = zip(*[(doc.tags[0], dv_model.infer_vector(doc.words, epochs =epochs)) for doc in data])\n",
    "    return np.array(feature_vectors)"
   ]
  },
  {
   "cell_type": "code",
   "execution_count": 16,
   "metadata": {},
   "outputs": [],
   "source": [
    "#load saved model\n",
    "dv_model = Doc2Vec.load('dv_model')"
   ]
  },
  {
   "cell_type": "code",
   "execution_count": 17,
   "metadata": {},
   "outputs": [],
   "source": [
    "#create feature vectors for test data using trained model\n",
    "dv_test = Doc2Vec_vectorize(dv_model, test_doc)"
   ]
  },
  {
   "cell_type": "code",
   "execution_count": 18,
   "metadata": {},
   "outputs": [],
   "source": [
    "np.savetxt(\"dv_test.csv\", dv_test, delimiter=\",\")"
   ]
  },
  {
   "cell_type": "code",
   "execution_count": null,
   "metadata": {},
   "outputs": [],
   "source": []
  }
 ],
 "metadata": {
  "kernelspec": {
   "display_name": "Python 3",
   "language": "python",
   "name": "python3"
  },
  "language_info": {
   "codemirror_mode": {
    "name": "ipython",
    "version": 3
   },
   "file_extension": ".py",
   "mimetype": "text/x-python",
   "name": "python",
   "nbconvert_exporter": "python",
   "pygments_lexer": "ipython3",
   "version": "3.7.4"
  }
 },
 "nbformat": 4,
 "nbformat_minor": 2
}
