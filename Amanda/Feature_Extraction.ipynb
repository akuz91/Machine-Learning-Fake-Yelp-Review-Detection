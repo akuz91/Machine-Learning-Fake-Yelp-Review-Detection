{
 "cells": [
  {
   "cell_type": "markdown",
   "metadata": {},
   "source": [
    "Preprocessing was done in \"Prelim_analysis\" notebook and saved locally because of size constraints. It's reloaded here and BOW and TFIDF is rerun. "
   ]
  },
  {
   "cell_type": "code",
   "execution_count": 6,
   "metadata": {},
   "outputs": [],
   "source": [
    "#ToDo:\n",
    "#Feature Extraction: Word2Vec, Doc2Vec\n",
    "#Imbalanced Classes\n",
    "#Modeling"
   ]
  },
  {
   "cell_type": "code",
   "execution_count": 1,
   "metadata": {},
   "outputs": [],
   "source": [
    "import pandas as pd\n",
    "import numpy as np\n",
    "import matplotlib.pyplot as plt\n",
    "import time\n",
    "from tqdm import tqdm\n",
    "import os"
   ]
  },
  {
   "cell_type": "code",
   "execution_count": 2,
   "metadata": {},
   "outputs": [],
   "source": [
    "import warnings\n",
    "warnings.filterwarnings('ignore')"
   ]
  },
  {
   "cell_type": "code",
   "execution_count": 3,
   "metadata": {},
   "outputs": [],
   "source": [
    "full_preprocessed_train = pd.DataFrame(pd.read_csv(os.getcwd() + '/' + 'full_preprocessed_train.csv', sep=','))"
   ]
  },
  {
   "cell_type": "code",
   "execution_count": 10,
   "metadata": {},
   "outputs": [],
   "source": [
    "X_train = full_preprocessed_train.drop(['label'], axis=1)\n",
    "y_train = full_preprocessed_train['label']"
   ]
  },
  {
   "cell_type": "markdown",
   "metadata": {},
   "source": [
    "### Feature Extraction\n",
    "\n",
    "We have used unigram presence, unigram frequency, bigram presence, bigram frequency and review\n",
    "length as features for our model. (http://www.ijceronline.com/papers/Vol5_issue5/J055052056.pdf)\n",
    "\n",
    "We can test which works best:\n",
    "\n",
    "- Count Vectorizer\n",
    "\n",
    "Counts number of occurance of each words in vocabulary base. Transforms each review into a feature with vocabulary base. Now we can use any ML model we want. \n",
    "\n",
    "Cons: only the occurance of the words not the meaning is taken into consideration aka order ignorant. \n",
    "\n",
    "- Tfidf\n",
    "\n",
    "- Word2Vec"
   ]
  },
  {
   "cell_type": "code",
   "execution_count": 11,
   "metadata": {},
   "outputs": [],
   "source": [
    "from sklearn.feature_extraction.text import CountVectorizer, TfidfVectorizer "
   ]
  },
  {
   "cell_type": "markdown",
   "metadata": {},
   "source": [
    "***Count Vectorizer***"
   ]
  },
  {
   "cell_type": "code",
   "execution_count": 12,
   "metadata": {},
   "outputs": [],
   "source": [
    "X_train = X_train.replace(np.nan, \" \")"
   ]
  },
  {
   "cell_type": "code",
   "execution_count": 13,
   "metadata": {},
   "outputs": [],
   "source": [
    "#CountVectorizer\n",
    "binary_vectorizer = CountVectorizer(binary=True, ngram_range=(1, 2), stop_words='english')"
   ]
  },
  {
   "cell_type": "code",
   "execution_count": 14,
   "metadata": {},
   "outputs": [
    {
     "data": {
      "text/plain": [
       "CountVectorizer(analyzer='word', binary=True, decode_error='strict',\n",
       "                dtype=<class 'numpy.int64'>, encoding='utf-8', input='content',\n",
       "                lowercase=True, max_df=1.0, max_features=None, min_df=1,\n",
       "                ngram_range=(1, 2), preprocessor=None, stop_words='english',\n",
       "                strip_accents=None, token_pattern='(?u)\\\\b\\\\w\\\\w+\\\\b',\n",
       "                tokenizer=None, vocabulary=None)"
      ]
     },
     "execution_count": 14,
     "metadata": {},
     "output_type": "execute_result"
    }
   ],
   "source": [
    "binary_vectorizer.fit(X_train['review'])"
   ]
  },
  {
   "cell_type": "code",
   "execution_count": 15,
   "metadata": {},
   "outputs": [],
   "source": [
    "X_train_binary = binary_vectorizer.transform(X_train['review'])"
   ]
  },
  {
   "cell_type": "code",
   "execution_count": 16,
   "metadata": {},
   "outputs": [
    {
     "data": {
      "text/plain": [
       "<250874x4153723 sparse matrix of type '<class 'numpy.int64'>'\n",
       "\twith 23844943 stored elements in Compressed Sparse Row format>"
      ]
     },
     "execution_count": 16,
     "metadata": {},
     "output_type": "execute_result"
    }
   ],
   "source": [
    "X_train_binary"
   ]
  },
  {
   "cell_type": "markdown",
   "metadata": {},
   "source": [
    "***TFIDF Vectorizer***"
   ]
  },
  {
   "cell_type": "code",
   "execution_count": 17,
   "metadata": {},
   "outputs": [],
   "source": [
    "#TfidfVectorizer\n",
    "binary_Tfidf_vectorizer = TfidfVectorizer(binary=True, ngram_range=(1, 2), stop_words='english')\n",
    "binary_Tfidf_vectorizer.fit(X_train['review'])\n",
    "list(binary_Tfidf_vectorizer.vocabulary_.keys())[0:10]\n",
    "binary_Tfidf_vectorizer.get_feature_names()[0:10]\n",
    "\n",
    "#stores data in sparse matrix\n",
    "X_train_binary_Tfidf = binary_Tfidf_vectorizer.transform(X_train['review'])"
   ]
  },
  {
   "cell_type": "code",
   "execution_count": 18,
   "metadata": {},
   "outputs": [
    {
     "data": {
      "text/plain": [
       "<250874x4153723 sparse matrix of type '<class 'numpy.float64'>'\n",
       "\twith 23844943 stored elements in Compressed Sparse Row format>"
      ]
     },
     "execution_count": 18,
     "metadata": {},
     "output_type": "execute_result"
    }
   ],
   "source": [
    "X_train_binary_Tfidf"
   ]
  },
  {
   "cell_type": "markdown",
   "metadata": {},
   "source": [
    "***Doc2Vec***\n",
    "\n",
    "The goal of doc2vec is to create a numeric representation of a document, regardless of its length. While the word vectors represent the concept of a word, the document vector intends to represent the concept of a document. Default vector size is 100 for each document. \n",
    "\n",
    "`min_count`: Ignores all words with total frequency lower than this.\n",
    "\n",
    "`epochs`: number of iterations over the corpus (ie. number of times to train)\n",
    "\n",
    "https://radimrehurek.com/gensim/models/word2vec.html\n",
    "\n",
    "https://towardsdatascience.com/implementing-multi-class-text-classification-with-doc2vec-df7c3812824d\n",
    "\n",
    "https://medium.com/wisio/a-gentle-introduction-to-doc2vec-db3e8c0cce5e\n",
    "\n",
    "https://arxiv.org/pdf/1405.4053v2.pdf"
   ]
  },
  {
   "cell_type": "code",
   "execution_count": 5,
   "metadata": {},
   "outputs": [],
   "source": [
    "from gensim.models.doc2vec import Doc2Vec, TaggedDocument\n",
    "from nltk.tokenize import word_tokenize\n",
    "from gensim.test.utils import common_texts, get_tmpfile"
   ]
  },
  {
   "cell_type": "code",
   "execution_count": 6,
   "metadata": {},
   "outputs": [],
   "source": [
    "#tokenized data required for Word2Vec & Doc2Vec\n",
    "def tokenize(data):\n",
    "    \n",
    "    data = data.replace(np.nan, \" \")\n",
    "    #tokenize reviews and store in separate column for vectorizers\n",
    "    data['tokens'] = pd.Series()\n",
    "    for i in range(len(data['review'])):\n",
    "        data['tokens'][i] = word_tokenize(data['review'][i])\n",
    "    \n",
    "    return data"
   ]
  },
  {
   "cell_type": "code",
   "execution_count": 20,
   "metadata": {},
   "outputs": [],
   "source": [
    "train = tokenize(full_preprocessed_train) #15min"
   ]
  },
  {
   "cell_type": "code",
   "execution_count": null,
   "metadata": {},
   "outputs": [],
   "source": [
    "#tokenize test data\n",
    "#test = tokenize(test)"
   ]
  },
  {
   "cell_type": "code",
   "execution_count": 11,
   "metadata": {},
   "outputs": [],
   "source": [
    "def Doc2Vec_input(data):\n",
    "    \n",
    "    #returns appropriate input data for Doc2Vec model\n",
    "    #tag reviews with tokens and labels\n",
    "    train_doc =[]\n",
    "    for i in range(0,data.shape[0]):\n",
    "        train_doc.append(TaggedDocument(data['tokens'][i],str(data['label'][i]))) \n",
    "    \n",
    "    return train_doc"
   ]
  },
  {
   "cell_type": "code",
   "execution_count": 150,
   "metadata": {},
   "outputs": [],
   "source": [
    "train_doc = Doc2Vec_input(train)"
   ]
  },
  {
   "cell_type": "code",
   "execution_count": 249,
   "metadata": {},
   "outputs": [
    {
     "data": {
      "text/plain": [
       "TaggedDocument(words=['food', 'snack', 'selection', 'popular', 'greek', 'dishes', 'appetizer', 'tray', 'good', 'greek', 'salad', 'underwhelmed', 'main', 'courses', 'tables', 'sometimes', 'hard', 'get', 'seated'], tags='1')"
      ]
     },
     "execution_count": 249,
     "metadata": {},
     "output_type": "execute_result"
    }
   ],
   "source": [
    "#example input\n",
    "train_doc[0]"
   ]
  },
  {
   "cell_type": "code",
   "execution_count": null,
   "metadata": {},
   "outputs": [],
   "source": [
    "#will need to create inputs for test data\n",
    "#test_doc = Doc2Vec_input(test)"
   ]
  },
  {
   "cell_type": "code",
   "execution_count": 158,
   "metadata": {},
   "outputs": [],
   "source": [
    "def Doc2Vec_train_model(train_doc, min_count=50,epochs=1):\n",
    "    \n",
    "    #trains Doc2Vec model\n",
    "    dv_model = Doc2Vec(min_count = min_count)\n",
    "    vocabulary = dv_model.build_vocab([x for x in train_doc])\n",
    "    dv_model.train(train_doc,total_examples=len(train_doc), epochs=epochs)\n",
    "    dv_model.save('dv_model')\n",
    "    \n",
    "    return dv_model"
   ]
  },
  {
   "cell_type": "code",
   "execution_count": 159,
   "metadata": {},
   "outputs": [],
   "source": [
    "#train Doc2Vec model\n",
    "dv_model = Doc2Vec_train_model(train_doc, min_count = 50, epochs =1)"
   ]
  },
  {
   "cell_type": "code",
   "execution_count": 13,
   "metadata": {},
   "outputs": [],
   "source": [
    "def Doc2Vec_vectorize(model, data, epochs=1):\n",
    "    \n",
    "    #creates feature vectors for each review\n",
    "    targets, feature_vectors = zip(*[(doc.tags[0], dv_model.infer_vector(doc.words, epochs =epochs)) for doc in data])\n",
    "    return np.array(feature_vectors)"
   ]
  },
  {
   "cell_type": "code",
   "execution_count": 7,
   "metadata": {},
   "outputs": [],
   "source": [
    "#load saved model\n",
    "dv_model = Doc2Vec.load('dv_model')"
   ]
  },
  {
   "cell_type": "code",
   "execution_count": 163,
   "metadata": {},
   "outputs": [],
   "source": [
    "#create feature vectors for each review\n",
    "dv_train = Doc2Vec_vectorize(dv_model,train_doc)"
   ]
  },
  {
   "cell_type": "code",
   "execution_count": 248,
   "metadata": {},
   "outputs": [
    {
     "data": {
      "text/plain": [
       "0        -0.012734\n",
       "1        -0.015634\n",
       "2        -0.023918\n",
       "3        -0.062335\n",
       "4        -0.024757\n",
       "            ...   \n",
       "250869   -0.130706\n",
       "250870   -0.067054\n",
       "250871   -0.094647\n",
       "250872   -0.057631\n",
       "250873   -0.408347\n",
       "Name: 0, Length: 250874, dtype: float64"
      ]
     },
     "execution_count": 248,
     "metadata": {},
     "output_type": "execute_result"
    }
   ],
   "source": [
    "#example output\n",
    "dv_train[0]"
   ]
  },
  {
   "cell_type": "code",
   "execution_count": 24,
   "metadata": {},
   "outputs": [],
   "source": [
    "#export Doc2Vec features as matrix so we don't need to run again\n",
    "#np.savetxt(\"dv_train.csv\", dv_train, delimiter=\",\")\n",
    "#import saved train feature matrix\n",
    "dv_train = pd.DataFrame(pd.read_csv('dv_train.csv',header = None))"
   ]
  },
  {
   "cell_type": "code",
   "execution_count": 85,
   "metadata": {},
   "outputs": [],
   "source": [
    "#create feature vectors for test data using trained model\n",
    "#dv_test = Doc2Vec_vectorize(dv_model, test_doc)"
   ]
  },
  {
   "cell_type": "markdown",
   "metadata": {},
   "source": [
    "***Validation Set Performance on just Doc2Vec features***"
   ]
  },
  {
   "cell_type": "code",
   "execution_count": 8,
   "metadata": {},
   "outputs": [],
   "source": [
    "val = pd.DataFrame(pd.read_csv('full_preprocessed_dev.csv'))"
   ]
  },
  {
   "cell_type": "code",
   "execution_count": 9,
   "metadata": {},
   "outputs": [],
   "source": [
    "val = tokenize(val)"
   ]
  },
  {
   "cell_type": "code",
   "execution_count": 14,
   "metadata": {},
   "outputs": [],
   "source": [
    "val_doc = Doc2Vec_input(val)\n",
    "dv_val = Doc2Vec_vectorize(dv_model,val_doc)"
   ]
  },
  {
   "cell_type": "code",
   "execution_count": 15,
   "metadata": {},
   "outputs": [],
   "source": [
    "np.savetxt(\"dv_val.csv\", dv_val, delimiter=\",\")"
   ]
  },
  {
   "cell_type": "code",
   "execution_count": 16,
   "metadata": {},
   "outputs": [],
   "source": [
    "dv_val = pd.DataFrame(pd.read_csv('dv_val.csv',header = None))"
   ]
  },
  {
   "cell_type": "code",
   "execution_count": 17,
   "metadata": {},
   "outputs": [],
   "source": [
    "from sklearn.linear_model import LogisticRegression"
   ]
  },
  {
   "cell_type": "code",
   "execution_count": 18,
   "metadata": {},
   "outputs": [
    {
     "data": {
      "text/html": [
       "<div>\n",
       "<style scoped>\n",
       "    .dataframe tbody tr th:only-of-type {\n",
       "        vertical-align: middle;\n",
       "    }\n",
       "\n",
       "    .dataframe tbody tr th {\n",
       "        vertical-align: top;\n",
       "    }\n",
       "\n",
       "    .dataframe thead th {\n",
       "        text-align: right;\n",
       "    }\n",
       "</style>\n",
       "<table border=\"1\" class=\"dataframe\">\n",
       "  <thead>\n",
       "    <tr style=\"text-align: right;\">\n",
       "      <th></th>\n",
       "      <th>0</th>\n",
       "      <th>1</th>\n",
       "      <th>2</th>\n",
       "      <th>3</th>\n",
       "      <th>4</th>\n",
       "      <th>5</th>\n",
       "      <th>6</th>\n",
       "      <th>7</th>\n",
       "      <th>8</th>\n",
       "      <th>9</th>\n",
       "      <th>...</th>\n",
       "      <th>90</th>\n",
       "      <th>91</th>\n",
       "      <th>92</th>\n",
       "      <th>93</th>\n",
       "      <th>94</th>\n",
       "      <th>95</th>\n",
       "      <th>96</th>\n",
       "      <th>97</th>\n",
       "      <th>98</th>\n",
       "      <th>99</th>\n",
       "    </tr>\n",
       "  </thead>\n",
       "  <tbody>\n",
       "    <tr>\n",
       "      <td>0</td>\n",
       "      <td>-0.024378</td>\n",
       "      <td>-0.011341</td>\n",
       "      <td>0.027830</td>\n",
       "      <td>-0.016577</td>\n",
       "      <td>0.011663</td>\n",
       "      <td>0.015205</td>\n",
       "      <td>-0.012754</td>\n",
       "      <td>0.014530</td>\n",
       "      <td>0.002192</td>\n",
       "      <td>-0.005236</td>\n",
       "      <td>...</td>\n",
       "      <td>0.003278</td>\n",
       "      <td>-0.005965</td>\n",
       "      <td>0.014563</td>\n",
       "      <td>0.021086</td>\n",
       "      <td>-0.005711</td>\n",
       "      <td>-0.006272</td>\n",
       "      <td>0.003670</td>\n",
       "      <td>-0.009553</td>\n",
       "      <td>-0.003387</td>\n",
       "      <td>0.002644</td>\n",
       "    </tr>\n",
       "    <tr>\n",
       "      <td>1</td>\n",
       "      <td>-0.100917</td>\n",
       "      <td>-0.008375</td>\n",
       "      <td>-0.040776</td>\n",
       "      <td>-0.054291</td>\n",
       "      <td>0.059100</td>\n",
       "      <td>-0.001957</td>\n",
       "      <td>-0.006223</td>\n",
       "      <td>0.004100</td>\n",
       "      <td>-0.003742</td>\n",
       "      <td>0.039506</td>\n",
       "      <td>...</td>\n",
       "      <td>-0.017508</td>\n",
       "      <td>-0.002470</td>\n",
       "      <td>-0.012271</td>\n",
       "      <td>-0.033159</td>\n",
       "      <td>-0.042549</td>\n",
       "      <td>-0.021927</td>\n",
       "      <td>-0.014873</td>\n",
       "      <td>0.026018</td>\n",
       "      <td>-0.007107</td>\n",
       "      <td>-0.014034</td>\n",
       "    </tr>\n",
       "    <tr>\n",
       "      <td>2</td>\n",
       "      <td>-0.226908</td>\n",
       "      <td>-0.077797</td>\n",
       "      <td>-0.024650</td>\n",
       "      <td>-0.033738</td>\n",
       "      <td>0.040448</td>\n",
       "      <td>-0.131478</td>\n",
       "      <td>0.044563</td>\n",
       "      <td>0.086871</td>\n",
       "      <td>-0.040652</td>\n",
       "      <td>0.028787</td>\n",
       "      <td>...</td>\n",
       "      <td>-0.065935</td>\n",
       "      <td>-0.053869</td>\n",
       "      <td>0.152316</td>\n",
       "      <td>-0.057749</td>\n",
       "      <td>-0.133364</td>\n",
       "      <td>-0.058168</td>\n",
       "      <td>0.091313</td>\n",
       "      <td>-0.036903</td>\n",
       "      <td>0.071645</td>\n",
       "      <td>0.043426</td>\n",
       "    </tr>\n",
       "    <tr>\n",
       "      <td>3</td>\n",
       "      <td>-0.028902</td>\n",
       "      <td>-0.031812</td>\n",
       "      <td>0.005154</td>\n",
       "      <td>0.000457</td>\n",
       "      <td>0.032092</td>\n",
       "      <td>-0.009865</td>\n",
       "      <td>0.005364</td>\n",
       "      <td>0.001181</td>\n",
       "      <td>-0.052542</td>\n",
       "      <td>-0.029562</td>\n",
       "      <td>...</td>\n",
       "      <td>-0.000919</td>\n",
       "      <td>0.009804</td>\n",
       "      <td>0.055477</td>\n",
       "      <td>-0.011842</td>\n",
       "      <td>-0.017485</td>\n",
       "      <td>-0.044842</td>\n",
       "      <td>-0.024257</td>\n",
       "      <td>-0.043243</td>\n",
       "      <td>0.032026</td>\n",
       "      <td>0.066152</td>\n",
       "    </tr>\n",
       "    <tr>\n",
       "      <td>4</td>\n",
       "      <td>-0.062493</td>\n",
       "      <td>0.000413</td>\n",
       "      <td>-0.005998</td>\n",
       "      <td>-0.113533</td>\n",
       "      <td>0.046913</td>\n",
       "      <td>-0.007696</td>\n",
       "      <td>0.013374</td>\n",
       "      <td>-0.011959</td>\n",
       "      <td>0.021428</td>\n",
       "      <td>0.020432</td>\n",
       "      <td>...</td>\n",
       "      <td>-0.062944</td>\n",
       "      <td>0.024767</td>\n",
       "      <td>0.014776</td>\n",
       "      <td>-0.008454</td>\n",
       "      <td>0.004320</td>\n",
       "      <td>0.053754</td>\n",
       "      <td>0.038958</td>\n",
       "      <td>0.004754</td>\n",
       "      <td>0.037695</td>\n",
       "      <td>-0.035619</td>\n",
       "    </tr>\n",
       "  </tbody>\n",
       "</table>\n",
       "<p>5 rows × 100 columns</p>\n",
       "</div>"
      ],
      "text/plain": [
       "         0         1         2         3         4         5         6   \\\n",
       "0 -0.024378 -0.011341  0.027830 -0.016577  0.011663  0.015205 -0.012754   \n",
       "1 -0.100917 -0.008375 -0.040776 -0.054291  0.059100 -0.001957 -0.006223   \n",
       "2 -0.226908 -0.077797 -0.024650 -0.033738  0.040448 -0.131478  0.044563   \n",
       "3 -0.028902 -0.031812  0.005154  0.000457  0.032092 -0.009865  0.005364   \n",
       "4 -0.062493  0.000413 -0.005998 -0.113533  0.046913 -0.007696  0.013374   \n",
       "\n",
       "         7         8         9   ...        90        91        92        93  \\\n",
       "0  0.014530  0.002192 -0.005236  ...  0.003278 -0.005965  0.014563  0.021086   \n",
       "1  0.004100 -0.003742  0.039506  ... -0.017508 -0.002470 -0.012271 -0.033159   \n",
       "2  0.086871 -0.040652  0.028787  ... -0.065935 -0.053869  0.152316 -0.057749   \n",
       "3  0.001181 -0.052542 -0.029562  ... -0.000919  0.009804  0.055477 -0.011842   \n",
       "4 -0.011959  0.021428  0.020432  ... -0.062944  0.024767  0.014776 -0.008454   \n",
       "\n",
       "         94        95        96        97        98        99  \n",
       "0 -0.005711 -0.006272  0.003670 -0.009553 -0.003387  0.002644  \n",
       "1 -0.042549 -0.021927 -0.014873  0.026018 -0.007107 -0.014034  \n",
       "2 -0.133364 -0.058168  0.091313 -0.036903  0.071645  0.043426  \n",
       "3 -0.017485 -0.044842 -0.024257 -0.043243  0.032026  0.066152  \n",
       "4  0.004320  0.053754  0.038958  0.004754  0.037695 -0.035619  \n",
       "\n",
       "[5 rows x 100 columns]"
      ]
     },
     "execution_count": 18,
     "metadata": {},
     "output_type": "execute_result"
    }
   ],
   "source": [
    "dv_val.head()"
   ]
  },
  {
   "cell_type": "code",
   "execution_count": 21,
   "metadata": {},
   "outputs": [],
   "source": [
    "y_train = train['label']\n",
    "y_val = val['label']"
   ]
  },
  {
   "cell_type": "code",
   "execution_count": 25,
   "metadata": {},
   "outputs": [
    {
     "data": {
      "text/plain": [
       "LogisticRegression(C=100000.0, class_weight=None, dual=False,\n",
       "                   fit_intercept=True, intercept_scaling=1, l1_ratio=None,\n",
       "                   max_iter=100, multi_class='warn', n_jobs=1, penalty='l2',\n",
       "                   random_state=None, solver='warn', tol=0.0001, verbose=0,\n",
       "                   warm_start=False)"
      ]
     },
     "execution_count": 25,
     "metadata": {},
     "output_type": "execute_result"
    }
   ],
   "source": [
    "logreg = LogisticRegression(n_jobs=1, C=1e5)\n",
    "logreg.fit(dv_train, y_train)"
   ]
  },
  {
   "cell_type": "code",
   "execution_count": 26,
   "metadata": {},
   "outputs": [],
   "source": [
    "y_pred = logreg.predict(dv_val)"
   ]
  },
  {
   "cell_type": "code",
   "execution_count": 27,
   "metadata": {},
   "outputs": [],
   "source": [
    "from sklearn.metrics import accuracy_score, f1_score"
   ]
  },
  {
   "cell_type": "code",
   "execution_count": 28,
   "metadata": {},
   "outputs": [
    {
     "name": "stdout",
     "output_type": "stream",
     "text": [
      "Testing accuracy: 0.898435324906732\n",
      "Testing F1 score: 0.8503697992239174\n"
     ]
    }
   ],
   "source": [
    "print('Testing accuracy: {}'.format(accuracy_score(y_val, y_pred)))\n",
    "print('Testing F1 score: {}'.format(f1_score(y_val, y_pred, average='weighted')))"
   ]
  },
  {
   "cell_type": "markdown",
   "metadata": {},
   "source": [
    "***LDA***\n",
    "\n",
    "Topic modeling which is based on co-occurences of words within topics.\n",
    "\n",
    "Might want to play around with num_topics. HDP used to find num_topics but now its max is 150. Tried LDA with 100 topics, try different number of top topics for which the feature vectors are built on (ie. 100 topics, but only using 20 topics to be assigned to feature vectors).\n",
    "\n",
    "https://radimrehurek.com/gensim/models/ldamodel.html\n",
    "\n",
    "https://towardsdatascience.com/unsupervised-nlp-topic-models-as-a-supervised-learning-input-cf8ee9e5cf28\n",
    "\n",
    "https://towardsdatascience.com/evaluate-topic-model-in-python-latent-dirichlet-allocation-lda-7d57484bb5d0"
   ]
  },
  {
   "cell_type": "code",
   "execution_count": 31,
   "metadata": {},
   "outputs": [],
   "source": [
    "from gensim import corpora\n",
    "from gensim.models import LdaModel\n",
    "from gensim.test.utils import common_texts\n",
    "from gensim.corpora.dictionary import Dictionary"
   ]
  },
  {
   "cell_type": "code",
   "execution_count": 39,
   "metadata": {},
   "outputs": [],
   "source": [
    "def LDA_input(data):\n",
    "    #create bag of words corpus and dictionary\n",
    "    dictionary = corpora.Dictionary(data['tokens'])\n",
    "    corpus = [dictionary.doc2bow(text) for text in data['tokens']]\n",
    "    dictionary.save('dictionary.gensim')\n",
    "    \n",
    "    return corpus, dictionary"
   ]
  },
  {
   "cell_type": "code",
   "execution_count": 121,
   "metadata": {},
   "outputs": [],
   "source": [
    "corpus, dictionary = LDA_input(train)"
   ]
  },
  {
   "cell_type": "code",
   "execution_count": null,
   "metadata": {},
   "outputs": [],
   "source": [
    "#get corpus input for test data\n",
    "#test_corpus = [dictionary.doc2bow(text) for text in test['tokens']]"
   ]
  },
  {
   "cell_type": "code",
   "execution_count": 126,
   "metadata": {},
   "outputs": [],
   "source": [
    "def LDA_train_model(corpus, dictionary, num_topics):\n",
    "    \n",
    "    #train LDA model\n",
    "    lda_model = LdaModel(corpus, num_topics = num_topics, id2word=dictionary)\n",
    "    lda_model.save('lda_model.gensim')\n",
    "\n",
    "    return lda_model"
   ]
  },
  {
   "cell_type": "code",
   "execution_count": 165,
   "metadata": {},
   "outputs": [],
   "source": [
    "#train LDA model, get corpus and num of total topics\n",
    "lda_model = LDA_train_model(corpus, dictionary, num_topics = 100)"
   ]
  },
  {
   "cell_type": "code",
   "execution_count": 38,
   "metadata": {},
   "outputs": [],
   "source": [
    "def LDA_vectorize(model, corpus, num_top_topics):\n",
    "    \n",
    "    lda_train = []\n",
    "    \n",
    "    #apply topics as feature vectors to each review\n",
    "    for i in range(len(corpus)):\n",
    "        top_topics = model.get_document_topics(corpus[i], minimum_probability=0.0)\n",
    "        topic_vec = [top_topics[i][1] for i in range(num_top_topics)]\n",
    "        lda_train.append(topic_vec)\n",
    "        \n",
    "    return np.array(lda_train)"
   ]
  },
  {
   "cell_type": "code",
   "execution_count": 32,
   "metadata": {},
   "outputs": [],
   "source": [
    "#load saved model\n",
    "lda_model = LdaModel.load('lda_model.gensim')"
   ]
  },
  {
   "cell_type": "code",
   "execution_count": 34,
   "metadata": {},
   "outputs": [
    {
     "name": "stderr",
     "output_type": "stream",
     "text": [
      "WARNING:root:random_state not set so using default value\n",
      "WARNING:root:failed to load state from dictionary.gensim.state: [Errno 2] No such file or directory: 'dictionary.gensim.state'\n"
     ]
    }
   ],
   "source": [
    "dictionary = LdaModel.load('dictionary.gensim')"
   ]
  },
  {
   "cell_type": "code",
   "execution_count": 166,
   "metadata": {},
   "outputs": [],
   "source": [
    "#create feature vectors for each review\n",
    "lda_train = LDA_vectorize(lda_model, corpus, num_top_topics = 20)"
   ]
  },
  {
   "cell_type": "code",
   "execution_count": 167,
   "metadata": {},
   "outputs": [
    {
     "data": {
      "text/plain": [
       "array([0.00016399, 0.00016399, 0.01793851, 0.01660835, 0.00016399,\n",
       "       0.01746433, 0.01689391, 0.00016399, 0.00016399, 0.00016399,\n",
       "       0.00016399, 0.00016399, 0.00016399, 0.00016399, 0.00016399,\n",
       "       0.00016399, 0.00016399, 0.00016399, 0.14974767, 0.02036646],\n",
       "      dtype=float32)"
      ]
     },
     "execution_count": 167,
     "metadata": {},
     "output_type": "execute_result"
    }
   ],
   "source": [
    "#example output\n",
    "lda_train[4]"
   ]
  },
  {
   "cell_type": "code",
   "execution_count": 168,
   "metadata": {
    "scrolled": true
   },
   "outputs": [
    {
     "name": "stdout",
     "output_type": "stream",
     "text": [
      "(37, '0.116*\"coffee\" + 0.083*\"asian\" + 0.076*\"visiting\" + 0.072*\"cafe\" + 0.067*\"sandwiches\" + 0.047*\"visited\" + 0.038*\"turkey\" + 0.031*\"school\" + 0.030*\"buy\" + 0.029*\"old\"')\n",
      "(85, '0.062*\"street\" + 0.044*\"across\" + 0.028*\"fast\" + 0.023*\"pay\" + 0.022*\"block\" + 0.021*\"miss\" + 0.017*\"food\" + 0.016*\"cheap\" + 0.015*\"meat\" + 0.015*\"live\"')\n",
      "(66, '0.066*\"st\" + 0.049*\"generally\" + 0.049*\"normal\" + 0.045*\"midtown\" + 0.041*\"fall\" + 0.040*\"carrots\" + 0.037*\"sangrias\" + 0.034*\"eats\" + 0.033*\"dollar\" + 0.032*\"ones\"')\n",
      "(94, '0.100*\"away\" + 0.059*\"ambience\" + 0.046*\"dont\" + 0.030*\"blocks\" + 0.029*\"stay\" + 0.028*\"desert\" + 0.026*\"waitresses\" + 0.026*\"waitstaff\" + 0.024*\"blown\" + 0.023*\"months\"')\n",
      "(84, '0.118*\"baked\" + 0.116*\"spring\" + 0.070*\"prosciutto\" + 0.046*\"organic\" + 0.042*\"doors\" + 0.041*\"hipster\" + 0.040*\"text\" + 0.039*\"pretentious\" + 0.026*\"espresso\" + 0.021*\"machine\"')\n",
      "(53, '0.214*\"thai\" + 0.112*\"noodle\" + 0.046*\"village\" + 0.046*\"east\" + 0.040*\"chinese\" + 0.032*\"west\" + 0.025*\"authentic\" + 0.019*\"dishes\" + 0.018*\"restaurants\" + 0.017*\"iced\"')\n",
      "(58, '0.055*\"seating\" + 0.046*\"tables\" + 0.045*\"small\" + 0.039*\"space\" + 0.038*\"area\" + 0.032*\"outside\" + 0.031*\"inside\" + 0.027*\"little\" + 0.023*\"place\" + 0.022*\"open\"')\n",
      "(36, '0.306*\"belly\" + 0.094*\"alone\" + 0.058*\"box\" + 0.057*\"dine\" + 0.053*\"chill\" + 0.038*\"ridiculous\" + 0.037*\"imagine\" + 0.037*\"holy\" + 0.028*\"rated\" + 0.026*\"knowing\"')\n",
      "(35, '0.081*\"apps\" + 0.059*\"weekday\" + 0.049*\"diner\" + 0.041*\"question\" + 0.036*\"thats\" + 0.035*\"cooks\" + 0.029*\"board\" + 0.028*\"lighter\" + 0.028*\"staple\" + 0.026*\"wasnt\"')\n",
      "(15, '0.120*\"wall\" + 0.078*\"bathroom\" + 0.057*\"hole\" + 0.051*\"vodka\" + 0.037*\"melts\" + 0.034*\"brussels\" + 0.031*\"grand\" + 0.031*\"crowds\" + 0.030*\"whole\" + 0.030*\"central\"')\n",
      "(55, '0.147*\"pasta\" + 0.119*\"italian\" + 0.054*\"gnocchi\" + 0.053*\"dishes\" + 0.043*\"dish\" + 0.042*\"restaurant\" + 0.038*\"favorites\" + 0.031*\"eggplant\" + 0.027*\"disappoint\" + 0.021*\"terrific\"')\n",
      "(27, '0.101*\"wine\" + 0.045*\"glass\" + 0.025*\"list\" + 0.023*\"bottle\" + 0.018*\"water\" + 0.017*\"glasses\" + 0.016*\"red\" + 0.014*\"dinner\" + 0.013*\"meal\" + 0.011*\"menu\"')\n",
      "(73, '0.048*\"mexican\" + 0.033*\"lounge\" + 0.033*\"throw\" + 0.031*\"yeah\" + 0.029*\"hopefully\" + 0.025*\"fatty\" + 0.025*\"discovered\" + 0.025*\"anytime\" + 0.024*\"walking\" + 0.023*\"truck\"')\n",
      "(33, '0.114*\"duck\" + 0.110*\"steak\" + 0.088*\"cooked\" + 0.064*\"perfectly\" + 0.032*\"octopus\" + 0.032*\"perfection\" + 0.030*\"well\" + 0.028*\"roast\" + 0.027*\"delicious\" + 0.026*\"mussels\"')\n",
      "(12, '0.104*\"la\" + 0.077*\"de\" + 0.074*\"environment\" + 0.067*\"omg\" + 0.051*\"spanish\" + 0.050*\"sooo\" + 0.036*\"con\" + 0.027*\"narrow\" + 0.023*\"gras\" + 0.023*\"self\"')\n",
      "(71, '0.136*\"brooklyn\" + 0.072*\"summer\" + 0.049*\"hip\" + 0.048*\"words\" + 0.034*\"soooo\" + 0.033*\"needs\" + 0.031*\"winter\" + 0.031*\"tourists\" + 0.028*\"hanging\" + 0.025*\"hell\"')\n",
      "(44, '0.139*\"hummus\" + 0.088*\"mayo\" + 0.087*\"greasy\" + 0.069*\"falafel\" + 0.063*\"pita\" + 0.042*\"mediterranean\" + 0.031*\"oily\" + 0.029*\"mark\" + 0.021*\"period\" + 0.020*\"joints\"')\n",
      "(62, '0.222*\"fried\" + 0.151*\"chicken\" + 0.069*\"oysters\" + 0.046*\"junior\" + 0.038*\"deep\" + 0.030*\"southern\" + 0.027*\"b\" + 0.025*\"oyster\" + 0.022*\"country\" + 0.018*\"item\"')\n",
      "(13, '0.131*\"good\" + 0.057*\"food\" + 0.053*\"pretty\" + 0.048*\"place\" + 0.041*\"really\" + 0.034*\"better\" + 0.031*\"nt\" + 0.028*\"like\" + 0.020*\"ok\" + 0.020*\"much\"')\n",
      "(11, '0.213*\"tea\" + 0.072*\"sea\" + 0.068*\"cup\" + 0.037*\"bass\" + 0.035*\"green\" + 0.030*\"massive\" + 0.027*\"match\" + 0.025*\"wallet\" + 0.023*\"grabbed\" + 0.022*\"basement\"')\n"
     ]
    }
   ],
   "source": [
    "#top 20 topics\n",
    "topics = lda_model.print_topics(num_words=10)\n",
    "for topic in topics:\n",
    "    print(topic)"
   ]
  },
  {
   "cell_type": "code",
   "execution_count": 42,
   "metadata": {},
   "outputs": [],
   "source": [
    "#export Doc2Vec features as matrix so we don't need to run again\n",
    "#np.savetxt(\"lda_train.csv\", lda_train, delimiter=\",\")\n",
    "#import saved train feature matrix\n",
    "lda_train = pd.DataFrame(pd.read_csv('lda_train.csv',header = None))"
   ]
  },
  {
   "cell_type": "code",
   "execution_count": null,
   "metadata": {},
   "outputs": [],
   "source": [
    "#create feature vectors for test data using trained model\n",
    "#lda_test = LDA_vectorize(lda_model, test_corpus, num_top_topics=20)"
   ]
  },
  {
   "cell_type": "markdown",
   "metadata": {},
   "source": [
    "***Validation Set Performance on just LDA features***"
   ]
  },
  {
   "cell_type": "code",
   "execution_count": 35,
   "metadata": {},
   "outputs": [],
   "source": [
    "test_corpus = [dictionary.doc2bow(text) for text in val['tokens']]"
   ]
  },
  {
   "cell_type": "code",
   "execution_count": 40,
   "metadata": {},
   "outputs": [],
   "source": [
    "lda_val = LDA_vectorize(lda_model, test_corpus, num_top_topics=20)"
   ]
  },
  {
   "cell_type": "code",
   "execution_count": 46,
   "metadata": {},
   "outputs": [],
   "source": [
    "np.savetxt(\"lda_val.csv\", lda_val, delimiter=\",\")"
   ]
  },
  {
   "cell_type": "code",
   "execution_count": 43,
   "metadata": {},
   "outputs": [
    {
     "data": {
      "text/plain": [
       "LogisticRegression(C=100000.0, class_weight=None, dual=False,\n",
       "                   fit_intercept=True, intercept_scaling=1, l1_ratio=None,\n",
       "                   max_iter=100, multi_class='warn', n_jobs=1, penalty='l2',\n",
       "                   random_state=None, solver='warn', tol=0.0001, verbose=0,\n",
       "                   warm_start=False)"
      ]
     },
     "execution_count": 43,
     "metadata": {},
     "output_type": "execute_result"
    }
   ],
   "source": [
    "logreg = LogisticRegression(n_jobs=1, C=1e5)\n",
    "logreg.fit(lda_train, y_train)"
   ]
  },
  {
   "cell_type": "code",
   "execution_count": 44,
   "metadata": {},
   "outputs": [],
   "source": [
    "y_pred = logreg.predict(lda_val)"
   ]
  },
  {
   "cell_type": "code",
   "execution_count": 45,
   "metadata": {},
   "outputs": [
    {
     "name": "stdout",
     "output_type": "stream",
     "text": [
      "Testing accuracy: 0.898435324906732\n",
      "Testing F1 score: 0.8503697992239174\n"
     ]
    }
   ],
   "source": [
    "print('Testing accuracy: {}'.format(accuracy_score(y_val, y_pred)))\n",
    "print('Testing F1 score: {}'.format(f1_score(y_val, y_pred, average='weighted')))"
   ]
  },
  {
   "cell_type": "markdown",
   "metadata": {},
   "source": [
    "### Creating training dataset"
   ]
  },
  {
   "cell_type": "code",
   "execution_count": 30,
   "metadata": {},
   "outputs": [],
   "source": [
    "from scipy import sparse"
   ]
  },
  {
   "cell_type": "code",
   "execution_count": 32,
   "metadata": {},
   "outputs": [
    {
     "data": {
      "text/plain": [
       "Index(['ex_id', 'user_id', 'prod_id', 'rating', 'date', 'review', 'length',\n",
       "       'numbers', 'caps', 'num_sent', 'avg_words', 'perc_tot_user_reviews',\n",
       "       'CC', 'CD', 'DT', 'EX', 'FW', 'IN', 'JJ', 'JJR', 'JJS', 'LS', 'MD',\n",
       "       'NN', 'NNS', 'NNP', 'NNPS', 'PDT', 'POS', 'PRP', 'PRP$', 'RB', 'RBR',\n",
       "       'RBS', 'RP', 'TO', 'UH', 'VB', 'VBD', 'VBG', 'VBN', 'VBP', 'VBZ', 'WDT',\n",
       "       'WP', 'WP$', 'WRB'],\n",
       "      dtype='object')"
      ]
     },
     "execution_count": 32,
     "metadata": {},
     "output_type": "execute_result"
    }
   ],
   "source": [
    "X_train.columns"
   ]
  },
  {
   "cell_type": "code",
   "execution_count": 34,
   "metadata": {},
   "outputs": [],
   "source": [
    "#create training data with old features and new features\n",
    "num_feats = X_train[['rating', 'length', 'numbers', \n",
    "                  'caps', 'num_sent','avg_words','perc_tot_user_reviews',\n",
    "                 'CC', 'CD', 'DT', 'EX', 'FW', 'IN', 'JJ', 'JJR', 'JJS', 'LS', 'MD',\n",
    "               'NN', 'NNS', 'NNP', 'NNPS', 'PDT', 'POS', 'PRP', 'PRP$', 'RB', 'RBR',\n",
    "               'RBS', 'RP', 'TO', 'UH', 'VB', 'VBD', 'VBG', 'VBN', 'VBP', 'VBZ', 'WDT',\n",
    "               'WP', 'WP$', 'WRB']].values\n",
    "\n",
    "training_data = sparse.hstack((X_train_binary_Tfidf, num_feats))"
   ]
  },
  {
   "cell_type": "code",
   "execution_count": null,
   "metadata": {},
   "outputs": [],
   "source": []
  },
  {
   "cell_type": "markdown",
   "metadata": {},
   "source": [
    "### Visulizations\n",
    "Usually the length of fake review will be on the lesser side because of the following reasons:\n",
    "- Reviewer will not have much knowledge about the product/business.\n",
    "- Reviewer tries to achieve the objective with as few words as possible."
   ]
  },
  {
   "cell_type": "code",
   "execution_count": 132,
   "metadata": {},
   "outputs": [
    {
     "name": "stdout",
     "output_type": "stream",
     "text": [
      "Collecting numpy==1.16.4\n",
      "  Downloading https://files.pythonhosted.org/packages/0f/c9/3526a357b6c35e5529158fbcfac1bb3adc8827e8809a6d254019d326d1cc/numpy-1.16.4-cp36-cp36m-macosx_10_6_intel.macosx_10_9_intel.macosx_10_9_x86_64.macosx_10_10_intel.macosx_10_10_x86_64.whl (13.9MB)\n",
      "\u001b[K    100% |████████████████████████████████| 13.9MB 82kB/s eta 0:00:01\n",
      "\u001b[?25hInstalling collected packages: numpy\n",
      "  Found existing installation: numpy 1.18.2\n",
      "    Uninstalling numpy-1.18.2:\n",
      "      Successfully uninstalled numpy-1.18.2\n",
      "Successfully installed numpy-1.16.4\n",
      "\u001b[33mYou are using pip version 9.0.1, however version 20.0.2 is available.\n",
      "You should consider upgrading via the 'pip install --upgrade pip' command.\u001b[0m\n"
     ]
    }
   ],
   "source": [
    "!pip install numpy==1.16.4"
   ]
  },
  {
   "cell_type": "code",
   "execution_count": 14,
   "metadata": {},
   "outputs": [],
   "source": [
    "import matplotlib.pyplot as plt"
   ]
  },
  {
   "cell_type": "code",
   "execution_count": 139,
   "metadata": {},
   "outputs": [],
   "source": [
    "import seaborn as sns"
   ]
  },
  {
   "cell_type": "code",
   "execution_count": 17,
   "metadata": {},
   "outputs": [],
   "source": [
    "testing = train.copy()"
   ]
  },
  {
   "cell_type": "code",
   "execution_count": 215,
   "metadata": {},
   "outputs": [],
   "source": [
    "addDateInfo(testing)"
   ]
  },
  {
   "cell_type": "code",
   "execution_count": 216,
   "metadata": {},
   "outputs": [
    {
     "data": {
      "text/html": [
       "<div>\n",
       "<style scoped>\n",
       "    .dataframe tbody tr th:only-of-type {\n",
       "        vertical-align: middle;\n",
       "    }\n",
       "\n",
       "    .dataframe tbody tr th {\n",
       "        vertical-align: top;\n",
       "    }\n",
       "\n",
       "    .dataframe thead th {\n",
       "        text-align: right;\n",
       "    }\n",
       "</style>\n",
       "<table border=\"1\" class=\"dataframe\">\n",
       "  <thead>\n",
       "    <tr style=\"text-align: right;\">\n",
       "      <th></th>\n",
       "      <th>ex_id</th>\n",
       "      <th>user_id</th>\n",
       "      <th>prod_id</th>\n",
       "      <th>rating</th>\n",
       "      <th>label</th>\n",
       "      <th>date</th>\n",
       "      <th>review</th>\n",
       "      <th>length</th>\n",
       "      <th>numbers</th>\n",
       "      <th>caps</th>\n",
       "      <th>num_sent</th>\n",
       "      <th>avg_words</th>\n",
       "      <th>perc_tot_user_reviews</th>\n",
       "      <th>my_dates</th>\n",
       "      <th>day_of_week</th>\n",
       "      <th>month</th>\n",
       "      <th>year</th>\n",
       "      <th>week_day</th>\n",
       "    </tr>\n",
       "  </thead>\n",
       "  <tbody>\n",
       "    <tr>\n",
       "      <td>0</td>\n",
       "      <td>0</td>\n",
       "      <td>923</td>\n",
       "      <td>0</td>\n",
       "      <td>3.0</td>\n",
       "      <td>1</td>\n",
       "      <td>2014-12-08</td>\n",
       "      <td>The food at snack is a selection of popular Gr...</td>\n",
       "      <td>40</td>\n",
       "      <td>1.0</td>\n",
       "      <td>0.035714</td>\n",
       "      <td>5</td>\n",
       "      <td>4.400000</td>\n",
       "      <td>0.000104</td>\n",
       "      <td>2014-12-08</td>\n",
       "      <td>Monday</td>\n",
       "      <td>12</td>\n",
       "      <td>2014</td>\n",
       "      <td>0</td>\n",
       "    </tr>\n",
       "    <tr>\n",
       "      <td>1</td>\n",
       "      <td>1</td>\n",
       "      <td>924</td>\n",
       "      <td>0</td>\n",
       "      <td>3.0</td>\n",
       "      <td>1</td>\n",
       "      <td>2013-05-16</td>\n",
       "      <td>This little place in Soho is wonderful. I had ...</td>\n",
       "      <td>52</td>\n",
       "      <td>0.0</td>\n",
       "      <td>0.028846</td>\n",
       "      <td>5</td>\n",
       "      <td>4.192308</td>\n",
       "      <td>0.000004</td>\n",
       "      <td>2013-05-16</td>\n",
       "      <td>Thursday</td>\n",
       "      <td>5</td>\n",
       "      <td>2013</td>\n",
       "      <td>3</td>\n",
       "    </tr>\n",
       "    <tr>\n",
       "      <td>2</td>\n",
       "      <td>2</td>\n",
       "      <td>925</td>\n",
       "      <td>0</td>\n",
       "      <td>4.0</td>\n",
       "      <td>1</td>\n",
       "      <td>2013-07-01</td>\n",
       "      <td>ordered lunch for 15 from Snack last Friday.  ...</td>\n",
       "      <td>32</td>\n",
       "      <td>1.0</td>\n",
       "      <td>0.028986</td>\n",
       "      <td>4</td>\n",
       "      <td>4.593750</td>\n",
       "      <td>0.000008</td>\n",
       "      <td>2013-07-01</td>\n",
       "      <td>Monday</td>\n",
       "      <td>7</td>\n",
       "      <td>2013</td>\n",
       "      <td>0</td>\n",
       "    </tr>\n",
       "    <tr>\n",
       "      <td>3</td>\n",
       "      <td>3</td>\n",
       "      <td>926</td>\n",
       "      <td>0</td>\n",
       "      <td>4.0</td>\n",
       "      <td>1</td>\n",
       "      <td>2011-07-28</td>\n",
       "      <td>This is a beautiful quaint little restaurant o...</td>\n",
       "      <td>90</td>\n",
       "      <td>0.0</td>\n",
       "      <td>0.020725</td>\n",
       "      <td>8</td>\n",
       "      <td>4.466667</td>\n",
       "      <td>0.000004</td>\n",
       "      <td>2011-07-28</td>\n",
       "      <td>Thursday</td>\n",
       "      <td>7</td>\n",
       "      <td>2011</td>\n",
       "      <td>3</td>\n",
       "    </tr>\n",
       "    <tr>\n",
       "      <td>4</td>\n",
       "      <td>4</td>\n",
       "      <td>927</td>\n",
       "      <td>0</td>\n",
       "      <td>4.0</td>\n",
       "      <td>1</td>\n",
       "      <td>2010-11-01</td>\n",
       "      <td>Snack is great place for a  casual sit down lu...</td>\n",
       "      <td>102</td>\n",
       "      <td>0.0</td>\n",
       "      <td>0.021186</td>\n",
       "      <td>13</td>\n",
       "      <td>4.852941</td>\n",
       "      <td>0.000012</td>\n",
       "      <td>2010-11-01</td>\n",
       "      <td>Monday</td>\n",
       "      <td>11</td>\n",
       "      <td>2010</td>\n",
       "      <td>0</td>\n",
       "    </tr>\n",
       "  </tbody>\n",
       "</table>\n",
       "</div>"
      ],
      "text/plain": [
       "   ex_id  user_id  prod_id  rating  label        date  \\\n",
       "0      0      923        0     3.0      1  2014-12-08   \n",
       "1      1      924        0     3.0      1  2013-05-16   \n",
       "2      2      925        0     4.0      1  2013-07-01   \n",
       "3      3      926        0     4.0      1  2011-07-28   \n",
       "4      4      927        0     4.0      1  2010-11-01   \n",
       "\n",
       "                                              review  length  numbers  \\\n",
       "0  The food at snack is a selection of popular Gr...      40      1.0   \n",
       "1  This little place in Soho is wonderful. I had ...      52      0.0   \n",
       "2  ordered lunch for 15 from Snack last Friday.  ...      32      1.0   \n",
       "3  This is a beautiful quaint little restaurant o...      90      0.0   \n",
       "4  Snack is great place for a  casual sit down lu...     102      0.0   \n",
       "\n",
       "       caps  num_sent  avg_words  perc_tot_user_reviews   my_dates  \\\n",
       "0  0.035714         5   4.400000               0.000104 2014-12-08   \n",
       "1  0.028846         5   4.192308               0.000004 2013-05-16   \n",
       "2  0.028986         4   4.593750               0.000008 2013-07-01   \n",
       "3  0.020725         8   4.466667               0.000004 2011-07-28   \n",
       "4  0.021186        13   4.852941               0.000012 2010-11-01   \n",
       "\n",
       "  day_of_week  month  year  week_day  \n",
       "0      Monday     12  2014         0  \n",
       "1    Thursday      5  2013         3  \n",
       "2      Monday      7  2013         0  \n",
       "3    Thursday      7  2011         3  \n",
       "4      Monday     11  2010         0  "
      ]
     },
     "execution_count": 216,
     "metadata": {},
     "output_type": "execute_result"
    }
   ],
   "source": [
    "testing.head()"
   ]
  },
  {
   "cell_type": "code",
   "execution_count": 223,
   "metadata": {},
   "outputs": [
    {
     "data": {
      "image/png": "[encoded data removed]",
      "text/plain": [
       "<Figure size 432x288 with 1 Axes>"
      ]
     },
     "metadata": {
      "needs_background": "light"
     },
     "output_type": "display_data"
    }
   ],
   "source": [
    "ax = sns.barplot(x=\"label\", y=\"length\", data=testing)"
   ]
  },
  {
   "cell_type": "code",
   "execution_count": 224,
   "metadata": {},
   "outputs": [
    {
     "data": {
      "image/png": "[encoded data removed]",
      "text/plain": [
       "<Figure size 432x288 with 1 Axes>"
      ]
     },
     "metadata": {
      "needs_background": "light"
     },
     "output_type": "display_data"
    }
   ],
   "source": [
    "ax = sns.barplot(x=\"rating\", y=\"length\", hue=\"label\", data=testing)"
   ]
  },
  {
   "cell_type": "code",
   "execution_count": 225,
   "metadata": {},
   "outputs": [
    {
     "data": {
      "image/png": "[encoded data removed]",
      "text/plain": [
       "<Figure size 432x288 with 1 Axes>"
      ]
     },
     "metadata": {
      "needs_background": "light"
     },
     "output_type": "display_data"
    }
   ],
   "source": [
    "ax = sns.barplot(x=\"day_of_week\", y=\"length\", hue=\"label\", data=testing)"
   ]
  },
  {
   "cell_type": "code",
   "execution_count": 226,
   "metadata": {},
   "outputs": [
    {
     "data": {
      "image/png": "[encoded data removed]",
      "text/plain": [
       "<Figure size 432x288 with 1 Axes>"
      ]
     },
     "metadata": {
      "needs_background": "light"
     },
     "output_type": "display_data"
    }
   ],
   "source": [
    "ax = sns.barplot(x=\"year\", y=\"length\", hue=\"label\", data=testing)"
   ]
  },
  {
   "cell_type": "code",
   "execution_count": 227,
   "metadata": {},
   "outputs": [
    {
     "data": {
      "image/png": "[encoded data removed]",
      "text/plain": [
       "<Figure size 432x288 with 1 Axes>"
      ]
     },
     "metadata": {
      "needs_background": "light"
     },
     "output_type": "display_data"
    }
   ],
   "source": [
    "#number of sentences\n",
    "ax = sns.boxplot(x=\"label\", y=\"num_sent\", data=testing)"
   ]
  },
  {
   "cell_type": "code",
   "execution_count": null,
   "metadata": {},
   "outputs": [],
   "source": [
    "#word2vec visualization\n",
    "#scatter plot or line plot "
   ]
  },
  {
   "cell_type": "code",
   "execution_count": 218,
   "metadata": {},
   "outputs": [
    {
     "data": {
      "image/png": "[encoded data removed]",
      "text/plain": [
       "<Figure size 432x288 with 1 Axes>"
      ]
     },
     "metadata": {
      "needs_background": "light"
     },
     "output_type": "display_data"
    }
   ],
   "source": [
    "#percent of total user reviews\n",
    "ax = sns.barplot(x=\"label\", y=\"perc_tot_user_reviews\", hue=\"label\", data=testing)"
   ]
  },
  {
   "cell_type": "code",
   "execution_count": 219,
   "metadata": {},
   "outputs": [
    {
     "data": {
      "image/png": "[encoded data removed]",
      "text/plain": [
       "<Figure size 432x288 with 1 Axes>"
      ]
     },
     "metadata": {
      "needs_background": "light"
     },
     "output_type": "display_data"
    }
   ],
   "source": [
    "#percent of total user reviews\n",
    "ax = sns.boxplot(x=\"label\", y=\"perc_tot_user_reviews\", data=testing)"
   ]
  },
  {
   "cell_type": "markdown",
   "metadata": {},
   "source": [
    "### Imabalanced Classes\n",
    "\n",
    "SMOTE"
   ]
  },
  {
   "cell_type": "markdown",
   "metadata": {},
   "source": [
    "### Modeling\n",
    "Naïve Bayes Classifier, Support Vector\n",
    "Machines and Logistic Regression classifiers"
   ]
  },
  {
   "cell_type": "code",
   "execution_count": null,
   "metadata": {},
   "outputs": [],
   "source": [
    "from sklearn.linear_model import LogisticRegression\n",
    "from sklearn.naive_bayes import BernoulliNB\n",
    "from sklearn.metrics import roc_curve, auc\n",
    "\n",
    "#L O G I S T I C  R E G R E S S I O N \n",
    "#CountVectorizer\n",
    "countvec_LR_model = LogisticRegression()\n",
    "countvec_LR_model.fit(X_train_binary, Y_train)\n",
    "countvec_LR_fpr, countvec_LR_tpr, countvec_LR_thresholds = roc_curve(Y_test, countvec_LR_model.predict_proba(X_test_binary)[:,1])\n",
    "countvec_LR_auc = auc(countvec_LR_fpr, countvec_LR_tpr)\n",
    "\n",
    "#TfidfVectorizer\n",
    "Tfidf_LR_model = LogisticRegression()\n",
    "Tfidf_LR_model.fit(X_train_binary_Tfidf, Y_train)\n",
    "Tfidf_LR_fpr, Tfidf_LR_tpr, Tfidf_LR_thresholds = roc_curve(Y_test, Tfidf_LR_model.predict_proba(X_test_binary_Tfidf)[:,1])\n",
    "Tfidf_LR_auc = auc(Tfidf_LR_fpr, Tfidf_LR_tpr)\n",
    "\n",
    "#B E R N O U L L I  N B \n",
    "#CountVectorizer\n",
    "countvec_NB_model = BernoulliNB()\n",
    "countvec_NB_model.fit(X_train_binary, Y_train)\n",
    "countvec_NB_fpr, countvec_NB_tpr, countvec_NB_thresholds = roc_curve(Y_test, countvec_NB_model.predict_proba(X_test_binary)[:,1])\n",
    "countvec_NB_auc = auc(countvec_NB_fpr, countvec_NB_tpr)\n",
    "\n",
    "#TfidfVectorizer\n",
    "Tfidf_NB_model = BernoulliNB()\n",
    "Tfidf_NB_model.fit(X_train_binary_Tfidf, Y_train)\n",
    "Tfidf_NB_fpr, Tfidf_NB_tpr, Tfidf_NB_thresholds = roc_curve(Y_test, Tfidf_NB_model.predict_proba(X_test_binary_Tfidf)[:,1])\n",
    "Tfidf_NB_auc = auc(Tfidf_NB_fpr, Tfidf_NB_tpr)"
   ]
  }
 ],
 "metadata": {
  "kernelspec": {
   "display_name": "Python 3",
   "language": "python",
   "name": "python3"
  },
  "language_info": {
   "codemirror_mode": {
    "name": "ipython",
    "version": 3
   },
   "file_extension": ".py",
   "mimetype": "text/x-python",
   "name": "python",
   "nbconvert_exporter": "python",
   "pygments_lexer": "ipython3",
   "version": "3.7.4"
  }
 },
 "nbformat": 4,
 "nbformat_minor": 2
}
