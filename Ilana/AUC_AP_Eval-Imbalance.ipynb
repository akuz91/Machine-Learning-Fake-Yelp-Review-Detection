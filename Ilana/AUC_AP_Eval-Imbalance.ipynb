{
 "cells": [
  {
   "cell_type": "code",
   "execution_count": 1,
   "metadata": {},
   "outputs": [],
   "source": [
    "import pandas as pd\n",
    "import numpy as np\n",
    "import os\n",
    "\n",
    "import warnings\n",
    "warnings.filterwarnings('ignore')"
   ]
  },
  {
   "cell_type": "code",
   "execution_count": 2,
   "metadata": {},
   "outputs": [],
   "source": [
    "from sklearn.naive_bayes import BernoulliNB, MultinomialNB, GaussianNB\n",
    "\n",
    "from sklearn.metrics import f1_score\n",
    "from sklearn.metrics import accuracy_score"
   ]
  },
  {
   "cell_type": "code",
   "execution_count": 3,
   "metadata": {},
   "outputs": [],
   "source": [
    "from scipy import sparse"
   ]
  },
  {
   "cell_type": "code",
   "execution_count": 4,
   "metadata": {},
   "outputs": [],
   "source": [
    "from sklearn import preprocessing"
   ]
  },
  {
   "cell_type": "code",
   "execution_count": 5,
   "metadata": {},
   "outputs": [],
   "source": [
    "full_preprocessed_train = pd.DataFrame(pd.read_csv(os.getcwd() + '/' + 'full_preprocessed_train.csv', sep=','))\n",
    "full_preprocessed_val = pd.DataFrame(pd.read_csv(os.getcwd() + '/' + 'full_preprocessed_dev.csv', sep=','))\n",
    "\n",
    "full_preprocessed_train = full_preprocessed_train.replace(np.nan, \" \")\n",
    "full_preprocessed_val = full_preprocessed_val.replace(np.nan, \" \")"
   ]
  },
  {
   "cell_type": "code",
   "execution_count": 6,
   "metadata": {},
   "outputs": [],
   "source": [
    "y_training_data = full_preprocessed_train['label']\n",
    "y_val_val = full_preprocessed_val['label']"
   ]
  },
  {
   "cell_type": "markdown",
   "metadata": {},
   "source": [
    "# LDA"
   ]
  },
  {
   "cell_type": "code",
   "execution_count": 7,
   "metadata": {},
   "outputs": [],
   "source": [
    "lda_train = pd.DataFrame(pd.read_csv(os.getcwd() + '/' + 'lda_train.csv', sep=',', header=None))\n",
    "lda_val = pd.DataFrame(pd.read_csv(os.getcwd() + '/' + 'lda_val.csv', sep=',', header=None))"
   ]
  },
  {
   "cell_type": "code",
   "execution_count": 8,
   "metadata": {},
   "outputs": [
    {
     "data": {
      "text/plain": [
       "(250874, 20)"
      ]
     },
     "execution_count": 8,
     "metadata": {},
     "output_type": "execute_result"
    }
   ],
   "source": [
    "lda_train.shape"
   ]
  },
  {
   "cell_type": "code",
   "execution_count": 9,
   "metadata": {},
   "outputs": [
    {
     "data": {
      "text/plain": [
       "(35918, 20)"
      ]
     },
     "execution_count": 9,
     "metadata": {},
     "output_type": "execute_result"
    }
   ],
   "source": [
    "lda_val.shape"
   ]
  },
  {
   "cell_type": "markdown",
   "metadata": {},
   "source": [
    "### LDA without Additional Features (aka just vectorizer)"
   ]
  },
  {
   "cell_type": "code",
   "execution_count": 10,
   "metadata": {},
   "outputs": [
    {
     "name": "stdout",
     "output_type": "stream",
     "text": [
      "LDA with out additional features\n",
      "Accuracy: 0.898435324906732\n",
      "F1: 0.8503697992239174\n"
     ]
    }
   ],
   "source": [
    "LDA_model = MultinomialNB()\n",
    "LDA_model.fit(lda_train, y_training_data)\n",
    "y_pred = LDA_model.predict(lda_val)\n",
    "print(\"LDA with out additional features\")\n",
    "print(\"Accuracy:\", accuracy_score(y_val_val, y_pred))\n",
    "print(\"F1:\", f1_score(y_val_val, y_pred, average='weighted'))"
   ]
  },
  {
   "cell_type": "markdown",
   "metadata": {},
   "source": [
    "### LDA with Additional Features (aka preprocessed + vectorizer)"
   ]
  },
  {
   "cell_type": "code",
   "execution_count": 11,
   "metadata": {},
   "outputs": [],
   "source": [
    "num_feats = full_preprocessed_train[['user_id', 'prod_id', 'rating',  'length',\n",
    "       'numbers', 'caps', 'num_sent', 'avg_words', 'perc_tot_user_reviews',\n",
    "       'CC', 'CD', 'DT', 'EX', 'FW', 'IN', 'JJ', 'JJR', 'JJS', 'LS', 'MD',\n",
    "       'NN', 'NNS', 'NNP', 'NNPS', 'PDT', 'POS', 'PRP', 'PRP$', 'RB', 'RBR',\n",
    "       'RBS', 'RP', 'TO', 'UH', 'VB', 'VBD', 'VBG', 'VBN', 'VBP', 'VBZ', 'WDT',\n",
    "       'WP', 'WP$', 'WRB']].values"
   ]
  },
  {
   "cell_type": "code",
   "execution_count": 12,
   "metadata": {},
   "outputs": [],
   "source": [
    "val_num_feats = full_preprocessed_val[['user_id', 'prod_id', 'rating',  'length',\n",
    "       'numbers', 'caps', 'num_sent', 'avg_words', 'perc_tot_user_reviews',\n",
    "       'CC', 'CD', 'DT', 'EX', 'FW', 'IN', 'JJ', 'JJR', 'JJS', 'LS', 'MD',\n",
    "       'NN', 'NNS', 'NNP', 'NNPS', 'PDT', 'POS', 'PRP', 'PRP$', 'RB', 'RBR',\n",
    "       'RBS', 'RP', 'TO', 'UH', 'VB', 'VBD', 'VBG', 'VBN', 'VBP', 'VBZ', 'WDT',\n",
    "       'WP', 'WP$', 'WRB']].values"
   ]
  },
  {
   "cell_type": "code",
   "execution_count": 13,
   "metadata": {},
   "outputs": [],
   "source": [
    "LDA_X_training_data = sparse.hstack((num_feats, lda_train))\n",
    "LDA_X_val_data = sparse.hstack((val_num_feats, lda_val))"
   ]
  },
  {
   "cell_type": "code",
   "execution_count": 14,
   "metadata": {},
   "outputs": [
    {
     "data": {
      "text/plain": [
       "<250874x64 sparse matrix of type '<class 'numpy.float64'>'\n",
       "\twith 9660326 stored elements in COOrdinate format>"
      ]
     },
     "execution_count": 14,
     "metadata": {},
     "output_type": "execute_result"
    }
   ],
   "source": [
    "LDA_X_training_data"
   ]
  },
  {
   "cell_type": "code",
   "execution_count": 15,
   "metadata": {},
   "outputs": [
    {
     "data": {
      "text/plain": [
       "<35918x64 sparse matrix of type '<class 'numpy.float64'>'\n",
       "\twith 1382973 stored elements in COOrdinate format>"
      ]
     },
     "execution_count": 15,
     "metadata": {},
     "output_type": "execute_result"
    }
   ],
   "source": [
    "LDA_X_val_data"
   ]
  },
  {
   "cell_type": "code",
   "execution_count": 16,
   "metadata": {},
   "outputs": [
    {
     "name": "stdout",
     "output_type": "stream",
     "text": [
      "LDA with additional features\n",
      "Accuracy: 0.6213597639066764\n",
      "F1: 0.6961307477408298\n"
     ]
    }
   ],
   "source": [
    "LDA_model_add = MultinomialNB()\n",
    "LDA_model_add.fit(LDA_X_training_data.toarray(), y_training_data)\n",
    "y_pred_add = LDA_model_add.predict(LDA_X_val_data.toarray())\n",
    "print(\"LDA with additional features\")\n",
    "print(\"Accuracy:\", accuracy_score(y_val_val, y_pred_add))\n",
    "print(\"F1:\", f1_score(y_val_val, y_pred_add, average='weighted'))"
   ]
  },
  {
   "cell_type": "markdown",
   "metadata": {},
   "source": [
    "### LDA just vectorizer and normalized"
   ]
  },
  {
   "cell_type": "code",
   "execution_count": 17,
   "metadata": {},
   "outputs": [
    {
     "data": {
      "text/plain": [
       "scipy.sparse.coo.coo_matrix"
      ]
     },
     "execution_count": 17,
     "metadata": {},
     "output_type": "execute_result"
    }
   ],
   "source": [
    "type(LDA_X_training_data)"
   ]
  },
  {
   "cell_type": "code",
   "execution_count": 18,
   "metadata": {},
   "outputs": [],
   "source": [
    "x = lda_train.values\n",
    "min_max_scaler = preprocessing.MinMaxScaler()\n",
    "x_scaled = min_max_scaler.fit_transform(x)\n",
    "lda_train_N = pd.DataFrame(x_scaled)\n",
    "\n",
    "x = lda_val.values #returns a numpy array\n",
    "min_max_scaler = preprocessing.MinMaxScaler()\n",
    "x_scaled = min_max_scaler.fit_transform(x)\n",
    "lda_val_N = pd.DataFrame(x_scaled)"
   ]
  },
  {
   "cell_type": "code",
   "execution_count": 19,
   "metadata": {},
   "outputs": [
    {
     "name": "stdout",
     "output_type": "stream",
     "text": [
      "LDA with out additional features and Normalized\n",
      "Accuracy: 0.898435324906732\n",
      "F1: 0.8503697992239174\n"
     ]
    }
   ],
   "source": [
    "LDA_model = MultinomialNB()\n",
    "LDA_model.fit(lda_train_N, y_training_data)\n",
    "y_pred_norm = LDA_model.predict(lda_val_N)\n",
    "print(\"LDA with out additional features and Normalized\")\n",
    "print(\"Accuracy:\", accuracy_score(y_val_val, y_pred_norm))\n",
    "print(\"F1:\", f1_score(y_val_val, y_pred_norm, average='weighted'))"
   ]
  },
  {
   "cell_type": "markdown",
   "metadata": {},
   "source": [
    "### Eval"
   ]
  },
  {
   "cell_type": "code",
   "execution_count": 20,
   "metadata": {},
   "outputs": [],
   "source": [
    "from sklearn.metrics import roc_curve, auc"
   ]
  },
  {
   "cell_type": "code",
   "execution_count": 21,
   "metadata": {},
   "outputs": [],
   "source": [
    "import numpy as np\n",
    "import matplotlib.pyplot as plt\n",
    "%matplotlib inline"
   ]
  },
  {
   "cell_type": "code",
   "execution_count": 22,
   "metadata": {},
   "outputs": [],
   "source": [
    "plt.rcParams['figure.figsize'] = 6,6"
   ]
  },
  {
   "cell_type": "code",
   "execution_count": 23,
   "metadata": {},
   "outputs": [],
   "source": [
    "LDA_fpr, LDA_tpr, LDA_thresholds = roc_curve(y_val_val, y_pred)\n",
    "LDA_auc = auc(LDA_fpr, LDA_tpr)\n",
    "\n",
    "LDA_add_fpr, LDA_add_tpr, LDA_add_thresholds = roc_curve(y_val_val, y_pred_add)\n",
    "LDA_add_auc = auc(LDA_add_fpr, LDA_add_tpr)\n",
    "\n",
    "LDA_norm_fpr, LDA_norm_tpr, LDA_norm_thresholds = roc_curve(y_val_val, y_pred_norm)\n",
    "LDA_norm_auc = auc(LDA_norm_fpr, LDA_norm_tpr)"
   ]
  },
  {
   "cell_type": "code",
   "execution_count": 24,
   "metadata": {},
   "outputs": [
    {
     "data": {
      "text/plain": [
       "<matplotlib.legend.Legend at 0x1274d3d68>"
      ]
     },
     "execution_count": 24,
     "metadata": {},
     "output_type": "execute_result"
    },
    {
     "data": {
      "image/png": "[encoded data removed]",
      "text/plain": [
       "<Figure size 432x432 with 1 Axes>"
      ]
     },
     "metadata": {
      "needs_background": "light"
     },
     "output_type": "display_data"
    }
   ],
   "source": [
    "plt.plot(LDA_fpr, LDA_tpr, color = 'r', label = \"LDA: just Vectorizer\" + ' (AUC = %0.3f)' % LDA_auc)\n",
    "plt.plot(LDA_add_fpr, LDA_add_tpr, color = 'g', label = \"LDA: Vectorizer + additionals\" + ' (AUC = %0.3f)' % LDA_add_auc)\n",
    "plt.plot(LDA_norm_fpr, LDA_norm_tpr, color = 'b', label = \"LDA: Normalized Vectorizer\" + ' (AUC = %0.3f)' % LDA_norm_auc)\n",
    "\n",
    "\n",
    "plt.plot([0, 1], [0, 1], 'k--')\n",
    "plt.xlim([0.0, 1.0])\n",
    "plt.ylim([0.0, 1.0])\n",
    "\n",
    "plt.xlabel('False Positive Rate')\n",
    "plt.ylabel('True Positive Rate')\n",
    "plt.title('ROC - Multinomial LDA')\n",
    "plt.legend(loc=\"lower right\")"
   ]
  },
  {
   "cell_type": "markdown",
   "metadata": {},
   "source": [
    "### AP Eval"
   ]
  },
  {
   "cell_type": "code",
   "execution_count": 25,
   "metadata": {},
   "outputs": [
    {
     "name": "stdout",
     "output_type": "stream",
     "text": [
      " AP for LDA just Vectorizer\n",
      "0.101564675093268\n",
      " \n",
      "\n",
      " AP for LDA Vectorizer + additionals\n",
      "0.15212879966422246\n",
      " \n",
      "\n",
      " AP for LDA NormalizedVectorizer\n",
      "0.101564675093268\n"
     ]
    }
   ],
   "source": [
    "from sklearn.metrics import average_precision_score\n",
    "\n",
    "print (\" AP for LDA just Vectorizer\")\n",
    "print (average_precision_score(y_val_val, y_pred))\n",
    "print (\" \\n\")\n",
    "print (\" AP for LDA Vectorizer + additionals\")\n",
    "print (average_precision_score(y_val_val, y_pred_add))\n",
    "print (\" \\n\")\n",
    "print (\" AP for LDA NormalizedVectorizer\")\n",
    "print (average_precision_score(y_val_val, y_pred_norm))\n",
    "\n"
   ]
  },
  {
   "cell_type": "markdown",
   "metadata": {},
   "source": [
    "# Doc2Vec"
   ]
  },
  {
   "cell_type": "code",
   "execution_count": 26,
   "metadata": {},
   "outputs": [],
   "source": [
    "doc2vec_train = pd.DataFrame(pd.read_csv(os.getcwd() + '/' + 'dv_train.csv', sep=',', header=None))\n",
    "doc2vec_val = pd.DataFrame(pd.read_csv(os.getcwd() + '/' + 'dv_val.csv', sep=',', header=None))"
   ]
  },
  {
   "cell_type": "code",
   "execution_count": 27,
   "metadata": {},
   "outputs": [
    {
     "data": {
      "text/plain": [
       "(250874, 100)"
      ]
     },
     "execution_count": 27,
     "metadata": {},
     "output_type": "execute_result"
    }
   ],
   "source": [
    "doc2vec_train.shape"
   ]
  },
  {
   "cell_type": "code",
   "execution_count": 28,
   "metadata": {},
   "outputs": [
    {
     "data": {
      "text/plain": [
       "(35918, 100)"
      ]
     },
     "execution_count": 28,
     "metadata": {},
     "output_type": "execute_result"
    }
   ],
   "source": [
    "doc2vec_val.shape"
   ]
  },
  {
   "cell_type": "markdown",
   "metadata": {},
   "source": [
    "### Doc2Vec without Additional Features (aka just vectorizer)"
   ]
  },
  {
   "cell_type": "code",
   "execution_count": 29,
   "metadata": {},
   "outputs": [
    {
     "name": "stdout",
     "output_type": "stream",
     "text": [
      "DOC2VEC with out additional features\n",
      "Accuracy: 0.4378584553705663\n",
      "F1: 0.5258688605705018\n"
     ]
    }
   ],
   "source": [
    "dv_model = GaussianNB()\n",
    "dv_model.fit(doc2vec_train, y_training_data)\n",
    "y_pred = dv_model.predict(doc2vec_val)\n",
    "print(\"DOC2VEC with out additional features\")\n",
    "print(\"Accuracy:\", accuracy_score(y_val_val, y_pred))\n",
    "print(\"F1:\", f1_score(y_val_val, y_pred, average='weighted'))"
   ]
  },
  {
   "cell_type": "markdown",
   "metadata": {},
   "source": [
    "### Doc2Vec with Additional Features (aka preprocessed + vectorizer)"
   ]
  },
  {
   "cell_type": "code",
   "execution_count": 30,
   "metadata": {},
   "outputs": [],
   "source": [
    "DOC2VEC_X_training_data = sparse.hstack((num_feats, doc2vec_train))\n",
    "DOC2VEC_X_val_data = sparse.hstack((val_num_feats, doc2vec_val))"
   ]
  },
  {
   "cell_type": "code",
   "execution_count": 31,
   "metadata": {},
   "outputs": [
    {
     "data": {
      "text/plain": [
       "<250874x144 sparse matrix of type '<class 'numpy.float64'>'\n",
       "\twith 29730246 stored elements in COOrdinate format>"
      ]
     },
     "execution_count": 31,
     "metadata": {},
     "output_type": "execute_result"
    }
   ],
   "source": [
    "DOC2VEC_X_training_data"
   ]
  },
  {
   "cell_type": "code",
   "execution_count": 32,
   "metadata": {},
   "outputs": [
    {
     "data": {
      "text/plain": [
       "<35918x144 sparse matrix of type '<class 'numpy.float64'>'\n",
       "\twith 4256413 stored elements in COOrdinate format>"
      ]
     },
     "execution_count": 32,
     "metadata": {},
     "output_type": "execute_result"
    }
   ],
   "source": [
    "DOC2VEC_X_val_data"
   ]
  },
  {
   "cell_type": "code",
   "execution_count": 33,
   "metadata": {},
   "outputs": [
    {
     "name": "stdout",
     "output_type": "stream",
     "text": [
      "DOC2VEC with additional features\n",
      "Accuracy: 0.8977114538671418\n",
      "F1: 0.850703980594319\n"
     ]
    }
   ],
   "source": [
    "dv_model = GaussianNB()\n",
    "dv_model.fit(DOC2VEC_X_training_data.toarray(), y_training_data)\n",
    "y_pred_add = dv_model.predict(DOC2VEC_X_val_data.toarray())\n",
    "print(\"DOC2VEC with additional features\")\n",
    "print(\"Accuracy:\", accuracy_score(y_val_val, y_pred_add))\n",
    "print(\"F1:\", f1_score(y_val_val, y_pred_add, average='weighted'))"
   ]
  },
  {
   "cell_type": "markdown",
   "metadata": {},
   "source": [
    "### Doc2Vec just vectorizer and normalized"
   ]
  },
  {
   "cell_type": "code",
   "execution_count": 34,
   "metadata": {},
   "outputs": [],
   "source": [
    "x = doc2vec_train.values #returns a numpy array\n",
    "min_max_scaler = preprocessing.MinMaxScaler()\n",
    "x_scaled = min_max_scaler.fit_transform(x)\n",
    "doc2vec_train_N = pd.DataFrame(x_scaled)\n",
    "\n",
    "x = doc2vec_val.values #returns a numpy array\n",
    "min_max_scaler = preprocessing.MinMaxScaler()\n",
    "x_scaled = min_max_scaler.fit_transform(x)\n",
    "doc2vec_val_N = pd.DataFrame(x_scaled)"
   ]
  },
  {
   "cell_type": "code",
   "execution_count": 35,
   "metadata": {},
   "outputs": [
    {
     "name": "stdout",
     "output_type": "stream",
     "text": [
      "DOC2VEC with out additional features\n",
      "Accuracy: 0.898435324906732\n",
      "F1: 0.8503697992239174\n"
     ]
    }
   ],
   "source": [
    "dv_model = GaussianNB()\n",
    "dv_model.fit(doc2vec_train_N , y_training_data)\n",
    "y_pred_norm = dv_model.predict(doc2vec_val_N)\n",
    "print(\"DOC2VEC with out additional features\")\n",
    "print(\"Accuracy:\", accuracy_score(y_val_val, y_pred_norm))\n",
    "print(\"F1:\", f1_score(y_val_val, y_pred_norm, average='weighted'))"
   ]
  },
  {
   "cell_type": "markdown",
   "metadata": {},
   "source": [
    "### Eval"
   ]
  },
  {
   "cell_type": "code",
   "execution_count": 36,
   "metadata": {},
   "outputs": [
    {
     "data": {
      "text/plain": [
       "<matplotlib.legend.Legend at 0x122ffd748>"
      ]
     },
     "execution_count": 36,
     "metadata": {},
     "output_type": "execute_result"
    },
    {
     "data": {
      "image/png": "[encoded data removed]",
      "text/plain": [
       "<Figure size 432x432 with 1 Axes>"
      ]
     },
     "metadata": {
      "needs_background": "light"
     },
     "output_type": "display_data"
    }
   ],
   "source": [
    "dv_fpr, dv_tpr, dv_thresholds = roc_curve(y_val_val, y_pred)\n",
    "dv_auc = auc(dv_fpr, dv_tpr)\n",
    "\n",
    "dv_add_fpr, dv_add_tpr, dv_add_thresholds = roc_curve(y_val_val, y_pred_add)\n",
    "dv_add_auc = auc(dv_add_fpr, dv_add_tpr)\n",
    "\n",
    "dv_norm_fpr, dv_norm_tpr, dv_norm_thresholds = roc_curve(y_val_val, y_pred_norm)\n",
    "dv_norm_auc = auc(dv_norm_fpr, dv_norm_tpr)\n",
    "\n",
    "plt.plot(dv_fpr, dv_tpr, color = 'r', label = \"Doc2Vec: Vectorizer\" + ' (AUC = %0.3f)' % dv_auc)\n",
    "plt.plot(dv_add_fpr, dv_add_tpr, color = 'g', label = \"Doc2Vec: Vectorizer + additional Features\" + ' (AUC = %0.3f)' % dv_add_auc)\n",
    "plt.plot(dv_norm_fpr, dv_norm_tpr, color = 'b', label = \"Doc2Vec: Normalized Vectorizer\" + ' (AUC = %0.3f)' % dv_norm_auc)\n",
    "\n",
    "\n",
    "\n",
    "plt.plot([0, 1], [0, 1], 'k--')\n",
    "plt.xlim([0.0, 1.0])\n",
    "plt.ylim([0.0, 1.0])\n",
    "\n",
    "plt.xlabel('False Positive Rate')\n",
    "plt.ylabel('True Positive Rate')\n",
    "plt.title('ROC - Guassian Doc2Vec')\n",
    "plt.legend(loc=\"lower right\")"
   ]
  },
  {
   "cell_type": "markdown",
   "metadata": {},
   "source": [
    "### AP Eval"
   ]
  },
  {
   "cell_type": "code",
   "execution_count": 37,
   "metadata": {},
   "outputs": [
    {
     "name": "stdout",
     "output_type": "stream",
     "text": [
      " AP for Doc2Vec just Vectorizer\n",
      "0.12262018578049512\n",
      " \n",
      "\n",
      " AP for Doc2Vec Vectorizer + additionals\n",
      "0.10209363869627992\n",
      " \n",
      "\n",
      " AP for Doc2Vec NormalizedVectorizer\n",
      "0.101564675093268\n"
     ]
    }
   ],
   "source": [
    "print (\" AP for Doc2Vec just Vectorizer\")\n",
    "print (average_precision_score(y_val_val, y_pred))\n",
    "print (\" \\n\")\n",
    "print (\" AP for Doc2Vec Vectorizer + additionals\")\n",
    "print (average_precision_score(y_val_val, y_pred_add))\n",
    "print (\" \\n\")\n",
    "print (\" AP for Doc2Vec NormalizedVectorizer\")\n",
    "print (average_precision_score(y_val_val, y_pred_norm))"
   ]
  },
  {
   "cell_type": "markdown",
   "metadata": {},
   "source": [
    "# TFIDF"
   ]
  },
  {
   "cell_type": "code",
   "execution_count": 38,
   "metadata": {},
   "outputs": [],
   "source": [
    "from sklearn.feature_extraction.text import CountVectorizer, TfidfVectorizer \n",
    "\n",
    "#TfidfVectorizer\n",
    "binary_Tfidf_vectorizer = TfidfVectorizer(binary=True, ngram_range=(1, 2), stop_words = 'english')\n",
    "binary_Tfidf_vectorizer.fit(full_preprocessed_train['review'])\n",
    "\n",
    "#stores data in sparse matrix\n",
    "X_train_binary_Tfidf = binary_Tfidf_vectorizer.transform(full_preprocessed_train['review'])\n",
    "X_val_binary_Tfidf = binary_Tfidf_vectorizer.transform(full_preprocessed_val['review'])"
   ]
  },
  {
   "cell_type": "code",
   "execution_count": 39,
   "metadata": {},
   "outputs": [
    {
     "data": {
      "text/plain": [
       "<250874x4153723 sparse matrix of type '<class 'numpy.float64'>'\n",
       "\twith 23844943 stored elements in Compressed Sparse Row format>"
      ]
     },
     "execution_count": 39,
     "metadata": {},
     "output_type": "execute_result"
    }
   ],
   "source": [
    "X_train_binary_Tfidf"
   ]
  },
  {
   "cell_type": "code",
   "execution_count": 40,
   "metadata": {},
   "outputs": [
    {
     "data": {
      "text/plain": [
       "<35918x4153723 sparse matrix of type '<class 'numpy.float64'>'\n",
       "\twith 2984495 stored elements in Compressed Sparse Row format>"
      ]
     },
     "execution_count": 40,
     "metadata": {},
     "output_type": "execute_result"
    }
   ],
   "source": [
    "X_val_binary_Tfidf"
   ]
  },
  {
   "cell_type": "markdown",
   "metadata": {},
   "source": [
    "### TFIDF without Additional Features (aka just vectorizer)"
   ]
  },
  {
   "cell_type": "code",
   "execution_count": 41,
   "metadata": {},
   "outputs": [
    {
     "name": "stdout",
     "output_type": "stream",
     "text": [
      "TFIDF with out additional features\n",
      "Accuracy: 0.898435324906732\n",
      "F1: 0.8503697992239174\n"
     ]
    }
   ],
   "source": [
    "tfidf_model = MultinomialNB()\n",
    "tfidf_model.fit(X_train_binary_Tfidf, y_training_data)\n",
    "y_pred = tfidf_model.predict(X_val_binary_Tfidf)\n",
    "print(\"TFIDF with out additional features\")\n",
    "print(\"Accuracy:\", accuracy_score(y_val_val, y_pred))\n",
    "print(\"F1:\", f1_score(y_val_val, y_pred, average='weighted'))"
   ]
  },
  {
   "cell_type": "markdown",
   "metadata": {},
   "source": [
    "### TFIDF with Additional Features (aka preprocessed + vectorizer)"
   ]
  },
  {
   "cell_type": "code",
   "execution_count": 42,
   "metadata": {},
   "outputs": [],
   "source": [
    "Tfidf_X_training_data = sparse.hstack((num_feats, X_train_binary_Tfidf))\n",
    "Tfidf_X_val_data = sparse.hstack((val_num_feats, X_val_binary_Tfidf ))"
   ]
  },
  {
   "cell_type": "code",
   "execution_count": 43,
   "metadata": {},
   "outputs": [
    {
     "name": "stdout",
     "output_type": "stream",
     "text": [
      "TFIDF with additional features\n",
      "Accuracy: 0.750069602984576\n",
      "F1: 0.791060520494921\n"
     ]
    }
   ],
   "source": [
    "tfidf_model = MultinomialNB()\n",
    "tfidf_model.fit(Tfidf_X_training_data, y_training_data)\n",
    "y_pred_add = tfidf_model.predict(Tfidf_X_val_data)\n",
    "print(\"TFIDF with additional features\")\n",
    "print(\"Accuracy:\", accuracy_score(y_val_val, y_pred_add))\n",
    "print(\"F1:\", f1_score(y_val_val, y_pred_add, average='weighted'))"
   ]
  },
  {
   "cell_type": "markdown",
   "metadata": {},
   "source": [
    "### TFIDF just vectorizer and normalized\n",
    "\n",
    "MinMaxScaler does not support sparse input and crashed computer when converted to dense. "
   ]
  },
  {
   "cell_type": "markdown",
   "metadata": {},
   "source": [
    "### Eval"
   ]
  },
  {
   "cell_type": "code",
   "execution_count": 44,
   "metadata": {},
   "outputs": [
    {
     "data": {
      "text/plain": [
       "<matplotlib.legend.Legend at 0x12d1cbf60>"
      ]
     },
     "execution_count": 44,
     "metadata": {},
     "output_type": "execute_result"
    },
    {
     "data": {
      "image/png": "[encoded data removed]",
      "text/plain": [
       "<Figure size 432x432 with 1 Axes>"
      ]
     },
     "metadata": {
      "needs_background": "light"
     },
     "output_type": "display_data"
    }
   ],
   "source": [
    "tfidf_fpr, tfidf_tpr, tfidf_thresholds = roc_curve(y_val_val, y_pred)\n",
    "tfidf_auc = auc(tfidf_fpr, tfidf_tpr)\n",
    "\n",
    "tfidf_add_fpr, tfidf_add_tpr, tfidf_add_thresholds = roc_curve(y_val_val, y_pred_add)\n",
    "tfidf_add_auc = auc(tfidf_add_fpr, tfidf_add_tpr)\n",
    "\n",
    "plt.plot(tfidf_fpr, tfidf_tpr, color = 'r', label = \"tfidf: Vectorizer\" + ' (AUC = %0.3f)' % tfidf_auc)\n",
    "plt.plot(tfidf_add_fpr, tfidf_add_tpr, color = 'g', label = \"tfidf: Vectorizer + additional Features\" + ' (AUC = %0.3f)' % tfidf_add_auc)\n",
    "\n",
    "\n",
    "\n",
    "plt.plot([0, 1], [0, 1], 'k--')\n",
    "plt.xlim([0.0, 1.0])\n",
    "plt.ylim([0.0, 1.0])\n",
    "\n",
    "plt.xlabel('False Positive Rate')\n",
    "plt.ylabel('True Positive Rate')\n",
    "plt.title('ROC - MultiNomial TFIDF')\n",
    "plt.legend(loc=\"lower right\")"
   ]
  },
  {
   "cell_type": "markdown",
   "metadata": {},
   "source": [
    "### AP Eval"
   ]
  },
  {
   "cell_type": "code",
   "execution_count": 45,
   "metadata": {},
   "outputs": [
    {
     "name": "stdout",
     "output_type": "stream",
     "text": [
      " AP for TFIDF just Vectorizer\n",
      "0.101564675093268\n",
      " \n",
      "\n",
      " AP for TFIDF Vectorizer + additionals\n",
      "0.14798639008619668\n"
     ]
    }
   ],
   "source": [
    "print (\" AP for TFIDF just Vectorizer\")\n",
    "print (average_precision_score(y_val_val, y_pred))\n",
    "print (\" \\n\")\n",
    "print (\" AP for TFIDF Vectorizer + additionals\")\n",
    "print (average_precision_score(y_val_val, y_pred_add))"
   ]
  },
  {
   "cell_type": "markdown",
   "metadata": {},
   "source": [
    "# IMBALANCE - upsampling and SMOTE"
   ]
  },
  {
   "attachments": {
    "Screen%20Shot%202020-05-07%20at%204.41.09%20PM.png": {
     "image/png": "[encoded data removed]"
    }
   },
   "cell_type": "markdown",
   "metadata": {},
   "source": [
    "## To Do: \n",
    "![Screen%20Shot%202020-05-07%20at%204.41.09%20PM.png](attachment:Screen%20Shot%202020-05-07%20at%204.41.09%20PM.png)"
   ]
  },
  {
   "cell_type": "code",
   "execution_count": 46,
   "metadata": {},
   "outputs": [],
   "source": [
    "#over sampling\n",
    "from scipy import sparse\n",
    "from sklearn.utils import resample\n",
    "\n",
    "def oversampling(X_train,y_train):\n",
    "    \n",
    "    genuine = []\n",
    "    fake = []\n",
    "    for idx,label in enumerate(y_train):\n",
    "        if label == 1:\n",
    "            fake.append(idx)\n",
    "        else:\n",
    "            genuine.append(idx)\n",
    "            \n",
    "    X = sparse.hstack((X_train,y_train[:,None]))\n",
    "    \n",
    "    fake_X = X.tocsr()[fake,:]\n",
    "    genuine_X = X.tocsr()[genuine,:]\n",
    "    \n",
    "    # upsample minority\n",
    "    fake_upsampled = resample(fake_X,\n",
    "                          replace=True, # sample with replacement\n",
    "                          n_samples=genuine_X.shape[0], # match number in majority class\n",
    "                          random_state=27) # reproducible results\n",
    "    \n",
    "    X_upsampled = sparse.vstack((fake_upsampled,genuine_X))\n",
    "    \n",
    "    np.random.seed(27)\n",
    "    index = np.arange(X_upsampled.shape[0])\n",
    "    np.random.shuffle(index)\n",
    "    X_upsampled = X_upsampled[index, :]\n",
    "    \n",
    "    X_train_upsampled = X_upsampled.T[:-1].T\n",
    "    y_train_upsampled = X_upsampled.T[-1].T\n",
    "    \n",
    "    fake_count = y_train_upsampled.sum()\n",
    "    genuine_count = y_train_upsampled.shape[0] - fake_count\n",
    "    \n",
    "    print(\"Genuine reviews: {}\\nFake reviews: {}\".format(genuine_count,fake_count))\n",
    "\n",
    "    return X_train_upsampled, y_train_upsampled.A "
   ]
  },
  {
   "cell_type": "code",
   "execution_count": 47,
   "metadata": {},
   "outputs": [
    {
     "name": "stderr",
     "output_type": "stream",
     "text": [
      "Using TensorFlow backend.\n"
     ]
    }
   ],
   "source": [
    "from imblearn.over_sampling import SMOTE\n",
    "\n",
    "#played around with ratios, didnt see a difference\n",
    "sm = SMOTE(random_state=2020, sampling_strategy= 'auto')\n",
    "\n",
    "# X_train_Tfidf_SMOTE, y_train_Tfidf_SMOTE = sm.fit_sample(X_train_binary_Tfidf,y_training_data)\n",
    "# X_train_lda_SMOTE, y_train_lda_SMOTE = sm.fit_sample(lda_train,y_training_data)"
   ]
  },
  {
   "cell_type": "markdown",
   "metadata": {},
   "source": [
    "# Data (preprocessed) + Additional Features + Vectorizer"
   ]
  },
  {
   "cell_type": "markdown",
   "metadata": {},
   "source": [
    "## LDA - MN "
   ]
  },
  {
   "cell_type": "code",
   "execution_count": 62,
   "metadata": {},
   "outputs": [
    {
     "name": "stdout",
     "output_type": "stream",
     "text": [
      "LDA with additional features\n",
      "Accuracy: 0.6157636839467676\n",
      "F1: 0.6915113684624855\n"
     ]
    }
   ],
   "source": [
    "LDA_model_add = MultinomialNB()\n",
    "LDA_model_add.fit(LDA_X_training_data.toarray(),y_training_data)\n",
    "y_pred_lda = LDA_model_add.predict(LDA_X_val_data.toarray())\n",
    "print(\"LDA with additional features\")\n",
    "print(\"Accuracy:\", accuracy_score(y_val_val, y_pred_add))\n",
    "print(\"F1:\", f1_score(y_val_val, y_pred_add, average='weighted'))"
   ]
  },
  {
   "cell_type": "code",
   "execution_count": 63,
   "metadata": {},
   "outputs": [
    {
     "name": "stdout",
     "output_type": "stream",
     "text": [
      "Genuine reviews: 225055.0\n",
      "Fake reviews: 225055.0\n"
     ]
    }
   ],
   "source": [
    "X_train_LDA_upsampled, y_train_LDA_upsampled = oversampling(LDA_X_training_data,y_training_data)"
   ]
  },
  {
   "cell_type": "code",
   "execution_count": 64,
   "metadata": {},
   "outputs": [
    {
     "name": "stdout",
     "output_type": "stream",
     "text": [
      "LDA with additional features\n",
      "Accuracy: 0.6157636839467676\n",
      "F1: 0.6915113684624855\n"
     ]
    }
   ],
   "source": [
    "LDA_model_add = MultinomialNB()\n",
    "LDA_model_add.fit(X_train_LDA_upsampled, y_train_LDA_upsampled)\n",
    "y_pred_lda_up = LDA_model_add.predict(LDA_X_val_data.toarray())\n",
    "print(\"LDA with additional features\")\n",
    "print(\"Accuracy:\", accuracy_score(y_val_val, y_pred_add))\n",
    "print(\"F1:\", f1_score(y_val_val, y_pred_add, average='weighted'))"
   ]
  },
  {
   "cell_type": "code",
   "execution_count": 65,
   "metadata": {},
   "outputs": [],
   "source": [
    "X_train_lda_SMOTE, y_train_lda_SMOTE = sm.fit_sample(LDA_X_training_data,y_training_data)"
   ]
  },
  {
   "cell_type": "code",
   "execution_count": 66,
   "metadata": {},
   "outputs": [
    {
     "name": "stdout",
     "output_type": "stream",
     "text": [
      "LDA with additional features\n",
      "Accuracy: 0.6157636839467676\n",
      "F1: 0.6915113684624855\n"
     ]
    }
   ],
   "source": [
    "LDA_model_add = MultinomialNB()\n",
    "LDA_model_add.fit(X_train_lda_SMOTE, y_train_lda_SMOTE)\n",
    "y_pred_lda_smote = LDA_model_add.predict(LDA_X_val_data.toarray())\n",
    "print(\"LDA with additional features\")\n",
    "print(\"Accuracy:\", accuracy_score(y_val_val, y_pred_add))\n",
    "print(\"F1:\", f1_score(y_val_val, y_pred_add, average='weighted'))"
   ]
  },
  {
   "cell_type": "markdown",
   "metadata": {},
   "source": [
    "## TFIDF - MN"
   ]
  },
  {
   "cell_type": "code",
   "execution_count": 67,
   "metadata": {},
   "outputs": [
    {
     "name": "stdout",
     "output_type": "stream",
     "text": [
      "TFIDF with additional features\n",
      "Accuracy: 0.6157636839467676\n",
      "F1: 0.6915113684624855\n"
     ]
    }
   ],
   "source": [
    "tfidf_model = MultinomialNB()\n",
    "tfidf_model.fit(Tfidf_X_training_data, y_training_data)\n",
    "y_pred_tfidf = tfidf_model.predict(Tfidf_X_val_data)\n",
    "print(\"TFIDF with additional features\")\n",
    "print(\"Accuracy:\", accuracy_score(y_val_val, y_pred_add))\n",
    "print(\"F1:\", f1_score(y_val_val, y_pred_add, average='weighted'))"
   ]
  },
  {
   "cell_type": "code",
   "execution_count": 68,
   "metadata": {},
   "outputs": [
    {
     "name": "stdout",
     "output_type": "stream",
     "text": [
      "Genuine reviews: 225055.0\n",
      "Fake reviews: 225055.0\n"
     ]
    }
   ],
   "source": [
    "Tfidf_X_training_upsampled, y_training_upsampled = oversampling(Tfidf_X_training_data, y_training_data)"
   ]
  },
  {
   "cell_type": "code",
   "execution_count": 69,
   "metadata": {},
   "outputs": [
    {
     "name": "stdout",
     "output_type": "stream",
     "text": [
      "TFIDF with additional features\n",
      "Accuracy: 0.6157636839467676\n",
      "F1: 0.6915113684624855\n"
     ]
    }
   ],
   "source": [
    "tfidf_model = MultinomialNB()\n",
    "tfidf_model.fit(Tfidf_X_training_upsampled, y_training_upsampled)\n",
    "y_pred_tfidf_up = tfidf_model.predict(Tfidf_X_val_data)\n",
    "print(\"TFIDF with additional features\")\n",
    "print(\"Accuracy:\", accuracy_score(y_val_val, y_pred_add))\n",
    "print(\"F1:\", f1_score(y_val_val, y_pred_add, average='weighted'))"
   ]
  },
  {
   "cell_type": "code",
   "execution_count": 70,
   "metadata": {},
   "outputs": [],
   "source": [
    "Tfidf_X_training_SMOTE, y_training_SMOTE = sm.fit_sample(Tfidf_X_training_data, y_training_data)"
   ]
  },
  {
   "cell_type": "code",
   "execution_count": 71,
   "metadata": {},
   "outputs": [
    {
     "name": "stdout",
     "output_type": "stream",
     "text": [
      "TFIDF with additional features\n",
      "Accuracy: 0.6157636839467676\n",
      "F1: 0.6915113684624855\n"
     ]
    }
   ],
   "source": [
    "tfidf_model = MultinomialNB()\n",
    "tfidf_model.fit(Tfidf_X_training_SMOTE, y_training_SMOTE)\n",
    "y_pred_tfidf_smote = tfidf_model.predict(Tfidf_X_val_data)\n",
    "print(\"TFIDF with additional features\")\n",
    "print(\"Accuracy:\", accuracy_score(y_val_val, y_pred_add))\n",
    "print(\"F1:\", f1_score(y_val_val, y_pred_add, average='weighted'))"
   ]
  },
  {
   "cell_type": "markdown",
   "metadata": {},
   "source": [
    "# Just Vectorizer"
   ]
  },
  {
   "cell_type": "markdown",
   "metadata": {},
   "source": [
    "## Doc2Vec - Gauss"
   ]
  },
  {
   "cell_type": "code",
   "execution_count": 72,
   "metadata": {},
   "outputs": [
    {
     "name": "stdout",
     "output_type": "stream",
     "text": [
      "DOC2VEC with out additional features\n",
      "Accuracy: 0.46146778773873826\n",
      "F1: 0.5507065526807647\n"
     ]
    }
   ],
   "source": [
    "dv_model = GaussianNB()\n",
    "dv_model.fit(doc2vec_train, y_training_data)\n",
    "y_pred_d2v = dv_model.predict(doc2vec_val)\n",
    "print(\"DOC2VEC with out additional features\")\n",
    "print(\"Accuracy:\", accuracy_score(y_val_val, y_pred))\n",
    "print(\"F1:\", f1_score(y_val_val, y_pred, average='weighted'))"
   ]
  },
  {
   "cell_type": "code",
   "execution_count": 73,
   "metadata": {},
   "outputs": [
    {
     "name": "stdout",
     "output_type": "stream",
     "text": [
      "Genuine reviews: 225055.0\n",
      "Fake reviews: 225055.0\n"
     ]
    }
   ],
   "source": [
    "X_train_D2V_upsampled, y_train_D2V_upsampled = oversampling(doc2vec_train, y_training_data)"
   ]
  },
  {
   "cell_type": "code",
   "execution_count": 74,
   "metadata": {},
   "outputs": [
    {
     "name": "stdout",
     "output_type": "stream",
     "text": [
      "DOC2VEC with out additional features\n",
      "Accuracy: 0.46146778773873826\n",
      "F1: 0.5507065526807647\n"
     ]
    }
   ],
   "source": [
    "dv_model = GaussianNB()\n",
    "dv_model.fit(X_train_D2V_upsampled.toarray(), y_train_D2V_upsampled)\n",
    "y_pred_d2v_up = dv_model.predict(doc2vec_val)\n",
    "print(\"DOC2VEC with out additional features\")\n",
    "print(\"Accuracy:\", accuracy_score(y_val_val, y_pred))\n",
    "print(\"F1:\", f1_score(y_val_val, y_pred, average='weighted'))"
   ]
  },
  {
   "cell_type": "code",
   "execution_count": 75,
   "metadata": {},
   "outputs": [],
   "source": [
    "X_train_D2V_SMOTE, y_train_D2V_SMOTE = sm.fit_sample(doc2vec_train, y_training_data)"
   ]
  },
  {
   "cell_type": "code",
   "execution_count": 76,
   "metadata": {},
   "outputs": [
    {
     "name": "stdout",
     "output_type": "stream",
     "text": [
      "DOC2VEC with out additional features\n",
      "Accuracy: 0.46146778773873826\n",
      "F1: 0.5507065526807647\n"
     ]
    }
   ],
   "source": [
    "dv_model = GaussianNB()\n",
    "dv_model.fit(X_train_D2V_SMOTE, y_train_D2V_SMOTE)\n",
    "y_pred_d2v_smote = dv_model.predict(doc2vec_val)\n",
    "print(\"DOC2VEC with out additional features\")\n",
    "print(\"Accuracy:\", accuracy_score(y_val_val, y_pred))\n",
    "print(\"F1:\", f1_score(y_val_val, y_pred, average='weighted'))"
   ]
  },
  {
   "cell_type": "markdown",
   "metadata": {},
   "source": [
    "# Eval"
   ]
  },
  {
   "cell_type": "code",
   "execution_count": 119,
   "metadata": {},
   "outputs": [
    {
     "data": {
      "text/plain": [
       "<matplotlib.legend.Legend at 0x12e1bca20>"
      ]
     },
     "execution_count": 119,
     "metadata": {},
     "output_type": "execute_result"
    },
    {
     "data": {
      "image/png": "[encoded data removed]",
      "text/plain": [
       "<Figure size 432x432 with 1 Axes>"
      ]
     },
     "metadata": {
      "needs_background": "light"
     },
     "output_type": "display_data"
    }
   ],
   "source": [
    "#LDA (reg,up,smote)\n",
    "lda_fpr, lda_tpr, lda_thresholds = roc_curve(y_val_val, y_pred_lda)\n",
    "lda_auc = auc(lda_fpr, lda_tpr)\n",
    "\n",
    "lda_fpr1, lda_tpr1, lda_thresholds1 = roc_curve(y_val_val, y_pred_lda_up)\n",
    "lda_auc_up = auc(lda_fpr1, lda_tpr1)\n",
    "\n",
    "lda_fpr2, lda_tpr2, lda_thresholds2 = roc_curve(y_val_val, y_pred_lda_smote)\n",
    "lda_auc_smote = auc(lda_fpr2, lda_tpr2)\n",
    "\n",
    "#TFIDF\n",
    "tfidf_fpr, tfidf_tpr, tfidf_thresholds = roc_curve(y_val_val, y_pred_tfidf)\n",
    "tfidf_auc = auc(tfidf_fpr, tfidf_tpr)\n",
    "\n",
    "tfidf_fpr1, tfidf_tpr1, tfidf_thresholds1 = roc_curve(y_val_val, y_pred_tfidf_up)\n",
    "tfidf_auc_up = auc(tfidf_fpr1, tfidf_tpr1)\n",
    "\n",
    "tfidf_fpr2, tfidf_tpr2, tfidf_thresholds2 = roc_curve(y_val_val, y_pred_tfidf_smote)\n",
    "tfidf_auc_smote = auc(tfidf_fpr2, tfidf_tpr2)\n",
    "\n",
    "#D2V\n",
    "d2v_fpr, d2v_tpr, d2v_thresholds = roc_curve(y_val_val, y_pred_d2v)\n",
    "d2v_auc = auc(d2v_fpr, d2v_tpr)\n",
    "\n",
    "d2v_fpr1, d2v_tpr1, d2v_thresholds1 = roc_curve(y_val_val, y_pred_d2v_up)\n",
    "d2v_auc_up = auc(d2v_fpr1, d2v_tpr1)\n",
    "\n",
    "d2v_fpr2, d2v_tpr2, d2v_thresholds2 = roc_curve(y_val_val, y_pred_d2v_smote)\n",
    "d2v_auc_smote = auc(d2v_fpr2, d2v_tpr2)\n",
    "\n",
    "plt.plot(lda_fpr, lda_tpr, color = 'b', label = \"LDA\" + ' (AUC = %0.3f)' % lda_auc)\n",
    "plt.plot(lda_fpr1, lda_tpr1, color = 'g', label = \"LDA upsampled\" + ' (AUC = %0.3f)' % lda_auc_up)\n",
    "plt.plot(lda_fpr2, lda_tpr2, color = 'r', label = \"LDA SMOTE\" + ' (AUC = %0.3f)' % lda_auc_smote)\n",
    "\n",
    "plt.plot(tfidf_fpr, tfidf_tpr, color = 'c', label = \"tfidf\" + ' (AUC = %0.3f)' % tfidf_auc)\n",
    "plt.plot(tfidf_fpr1, tfidf_tpr1, color = 'm', label = \"tfidf upsampled\" + ' (AUC = %0.3f)' % tfidf_auc_up)\n",
    "plt.plot(tfidf_fpr2, tfidf_tpr2, color = 'lime', label = \"tfidf SMOTE\" + ' (AUC = %0.3f)' % tfidf_auc_smote)\n",
    "\n",
    "plt.plot(d2v_fpr, d2v_tpr, color = 'y', label = \"D2V\" + ' (AUC = %0.3f)' % d2v_auc)\n",
    "plt.plot(d2v_fpr1, d2v_tpr1, color = 'k', label = \"D2V Upsampled\" + ' (AUC = %0.3f)' % d2v_auc_up)\n",
    "plt.plot(d2v_fpr2, d2v_tpr2, color = 'purple', label = \"D2V SMOTE\" + ' (AUC = %0.3f)' % d2v_auc_smote)\n",
    "\n",
    "\n",
    "plt.plot([0, 1], [0, 1], 'k--')\n",
    "plt.xlim([0.0, 1.0])\n",
    "plt.ylim([0.0, 1.0])\n",
    "\n",
    "plt.xlabel('False Positive Rate')\n",
    "plt.ylabel('True Positive Rate')\n",
    "plt.title('ROC - LDA, TFIDF, D2V')\n",
    "plt.legend(loc=\"lower right\")"
   ]
  },
  {
   "cell_type": "code",
   "execution_count": 95,
   "metadata": {},
   "outputs": [
    {
     "name": "stdout",
     "output_type": "stream",
     "text": [
      " AP for Doc2Vec just Vectorizer\n",
      "0.15212879966422246\n",
      " \n",
      "\n",
      " AP for Doc2Vec Vectorizer + additionals\n",
      "0.15155967644403706\n",
      " \n",
      "\n",
      " AP for Doc2Vec NormalizedVectorizer\n",
      "0.101564675093268\n"
     ]
    }
   ],
   "source": [
    "y_pred_list = [y_pred_lda,y_pred_lda_up,y_pred_lda_smote, \n",
    "               y_pred_tfidf,y_pred_tfidf_up,y_pred_tfidf_smote,\n",
    "              y_pred_d2v,y_pred_d2v_up,y_pred_d2v_smote]\n",
    "print (\" AP for Doc2Vec just Vectorizer\")\n",
    "print (average_precision_score(y_val_val, y_pred_lda))\n",
    "print (\" \\n\")\n",
    "print (\" AP for Doc2Vec Vectorizer + additionals\")\n",
    "print (average_precision_score(y_val_val, y_pred_add))\n",
    "print (\" \\n\")\n",
    "print (\" AP for Doc2Vec NormalizedVectorizer\")\n",
    "print (average_precision_score(y_val_val, y_pred_norm))"
   ]
  },
  {
   "cell_type": "code",
   "execution_count": 103,
   "metadata": {},
   "outputs": [
    {
     "data": {
      "text/plain": [
       "9"
      ]
     },
     "execution_count": 103,
     "metadata": {},
     "output_type": "execute_result"
    }
   ],
   "source": [
    "len(y_pred_list)\n",
    "# 0 1 2\n",
    "# 3 4 5\n",
    "# 6 7 8"
   ]
  },
  {
   "cell_type": "code",
   "execution_count": 105,
   "metadata": {},
   "outputs": [],
   "source": [
    "ap_lda = []\n",
    "ap_tfidf = []\n",
    "ap_d2v = []\n",
    "\n",
    "for pred in range(len(y_pred_list)):\n",
    "    ap = average_precision_score(y_val_val, y_pred_list[pred])\n",
    "    if pred <= 2:\n",
    "        ap_lda.append(ap)\n",
    "    elif pred >= 6:\n",
    "        ap_d2v.append(ap)\n",
    "    else:\n",
    "        ap_tfidf.append(ap)"
   ]
  },
  {
   "cell_type": "code",
   "execution_count": 106,
   "metadata": {},
   "outputs": [
    {
     "data": {
      "text/plain": [
       "[0.15212879966422246, 0.1521687661654886, 0.15214197557860995]"
      ]
     },
     "execution_count": 106,
     "metadata": {},
     "output_type": "execute_result"
    }
   ],
   "source": [
    "ap_lda"
   ]
  },
  {
   "cell_type": "code",
   "execution_count": 107,
   "metadata": {},
   "outputs": [
    {
     "data": {
      "text/plain": [
       "[0.14798639008619668, 0.1512084308795889, 0.15155967644403706]"
      ]
     },
     "execution_count": 107,
     "metadata": {},
     "output_type": "execute_result"
    }
   ],
   "source": [
    "ap_tfidf"
   ]
  },
  {
   "cell_type": "code",
   "execution_count": 117,
   "metadata": {},
   "outputs": [],
   "source": [
    "ap_df = pd.DataFrame([ap_lda,ap_tfidf,ap_d2v], columns = ['regular','upsampled','SMOTE'], index = ['LDA','TFIDF','D2V'])"
   ]
  },
  {
   "cell_type": "code",
   "execution_count": 118,
   "metadata": {},
   "outputs": [
    {
     "data": {
      "text/html": [
       "<div>\n",
       "<style scoped>\n",
       "    .dataframe tbody tr th:only-of-type {\n",
       "        vertical-align: middle;\n",
       "    }\n",
       "\n",
       "    .dataframe tbody tr th {\n",
       "        vertical-align: top;\n",
       "    }\n",
       "\n",
       "    .dataframe thead th {\n",
       "        text-align: right;\n",
       "    }\n",
       "</style>\n",
       "<table border=\"1\" class=\"dataframe\">\n",
       "  <thead>\n",
       "    <tr style=\"text-align: right;\">\n",
       "      <th></th>\n",
       "      <th>regular</th>\n",
       "      <th>upsampled</th>\n",
       "      <th>SMOTE</th>\n",
       "    </tr>\n",
       "  </thead>\n",
       "  <tbody>\n",
       "    <tr>\n",
       "      <th>LDA</th>\n",
       "      <td>0.152129</td>\n",
       "      <td>0.152169</td>\n",
       "      <td>0.152142</td>\n",
       "    </tr>\n",
       "    <tr>\n",
       "      <th>TFIDF</th>\n",
       "      <td>0.147986</td>\n",
       "      <td>0.151208</td>\n",
       "      <td>0.151560</td>\n",
       "    </tr>\n",
       "    <tr>\n",
       "      <th>D2V</th>\n",
       "      <td>0.122620</td>\n",
       "      <td>0.122006</td>\n",
       "      <td>0.124288</td>\n",
       "    </tr>\n",
       "  </tbody>\n",
       "</table>\n",
       "</div>"
      ],
      "text/plain": [
       "        regular  upsampled     SMOTE\n",
       "LDA    0.152129   0.152169  0.152142\n",
       "TFIDF  0.147986   0.151208  0.151560\n",
       "D2V    0.122620   0.122006  0.124288"
      ]
     },
     "execution_count": 118,
     "metadata": {},
     "output_type": "execute_result"
    }
   ],
   "source": [
    "ap_df"
   ]
  },
  {
   "cell_type": "code",
   "execution_count": null,
   "metadata": {},
   "outputs": [],
   "source": []
  }
 ],
 "metadata": {
  "kernelspec": {
   "display_name": "Python 3",
   "language": "python",
   "name": "python3"
  },
  "language_info": {
   "codemirror_mode": {
    "name": "ipython",
    "version": 3
   },
   "file_extension": ".py",
   "mimetype": "text/x-python",
   "name": "python",
   "nbconvert_exporter": "python",
   "pygments_lexer": "ipython3",
   "version": "3.7.3"
  }
 },
 "nbformat": 4,
 "nbformat_minor": 2
}
