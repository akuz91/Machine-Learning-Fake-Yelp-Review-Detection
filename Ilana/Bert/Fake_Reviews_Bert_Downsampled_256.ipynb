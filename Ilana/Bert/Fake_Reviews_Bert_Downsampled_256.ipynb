{
  "nbformat": 4,
  "nbformat_minor": 0,
  "metadata": {
    "kernelspec": {
      "display_name": "Python 3",
      "language": "python",
      "name": "python3"
    },
    "language_info": {
      "codemirror_mode": {
        "name": "ipython",
        "version": 3
      },
      "file_extension": ".py",
      "mimetype": "text/x-python",
      "name": "python",
      "nbconvert_exporter": "python",
      "pygments_lexer": "ipython3",
      "version": "3.7.3"
    },
    "colab": {
      "name": "Copy of Fake_Reviews_Bert_Downsampled_256.ipynb",
      "provenance": [],
      "collapsed_sections": [],
      "include_colab_link": true
    },
    "accelerator": "GPU",
    "widgets": {
      "application/vnd.jupyter.widget-state+json": {
        "89e459bf96084520859dfbbd663c86e3": {
          "model_module": "@jupyter-widgets/controls",
          "model_name": "HBoxModel",
          "state": {
            "_view_name": "HBoxView",
            "_dom_classes": [],
            "_model_name": "HBoxModel",
            "_view_module": "@jupyter-widgets/controls",
            "_model_module_version": "1.5.0",
            "_view_count": null,
            "_view_module_version": "1.5.0",
            "box_style": "",
            "layout": "IPY_MODEL_3b69ec1f9a7945828f6412a31871c45a",
            "_model_module": "@jupyter-widgets/controls",
            "children": [
              "IPY_MODEL_78d81cdc243e4aaca3a5169a48049196",
              "IPY_MODEL_5b18cd9c045a4c95b3208336d7313620"
            ]
          }
        },
        "3b69ec1f9a7945828f6412a31871c45a": {
          "model_module": "@jupyter-widgets/base",
          "model_name": "LayoutModel",
          "state": {
            "_view_name": "LayoutView",
            "grid_template_rows": null,
            "right": null,
            "justify_content": null,
            "_view_module": "@jupyter-widgets/base",
            "overflow": null,
            "_model_module_version": "1.2.0",
            "_view_count": null,
            "flex_flow": null,
            "width": null,
            "min_width": null,
            "border": null,
            "align_items": null,
            "bottom": null,
            "_model_module": "@jupyter-widgets/base",
            "top": null,
            "grid_column": null,
            "overflow_y": null,
            "overflow_x": null,
            "grid_auto_flow": null,
            "grid_area": null,
            "grid_template_columns": null,
            "flex": null,
            "_model_name": "LayoutModel",
            "justify_items": null,
            "grid_row": null,
            "max_height": null,
            "align_content": null,
            "visibility": null,
            "align_self": null,
            "height": null,
            "min_height": null,
            "padding": null,
            "grid_auto_rows": null,
            "grid_gap": null,
            "max_width": null,
            "order": null,
            "_view_module_version": "1.2.0",
            "grid_template_areas": null,
            "object_position": null,
            "object_fit": null,
            "grid_auto_columns": null,
            "margin": null,
            "display": null,
            "left": null
          }
        },
        "78d81cdc243e4aaca3a5169a48049196": {
          "model_module": "@jupyter-widgets/controls",
          "model_name": "FloatProgressModel",
          "state": {
            "_view_name": "ProgressView",
            "style": "IPY_MODEL_0d27855273084ecea3ff35a91e57d7ca",
            "_dom_classes": [],
            "description": "Downloading: 100%",
            "_model_name": "FloatProgressModel",
            "bar_style": "success",
            "max": 231508,
            "_view_module": "@jupyter-widgets/controls",
            "_model_module_version": "1.5.0",
            "value": 231508,
            "_view_count": null,
            "_view_module_version": "1.5.0",
            "orientation": "horizontal",
            "min": 0,
            "description_tooltip": null,
            "_model_module": "@jupyter-widgets/controls",
            "layout": "IPY_MODEL_36a9ed7634c14f95996610dce06c2a89"
          }
        },
        "5b18cd9c045a4c95b3208336d7313620": {
          "model_module": "@jupyter-widgets/controls",
          "model_name": "HTMLModel",
          "state": {
            "_view_name": "HTMLView",
            "style": "IPY_MODEL_1738392622f84fad9fb90f0e012ac33f",
            "_dom_classes": [],
            "description": "",
            "_model_name": "HTMLModel",
            "placeholder": "​",
            "_view_module": "@jupyter-widgets/controls",
            "_model_module_version": "1.5.0",
            "value": " 232k/232k [00:00&lt;00:00, 303kB/s]",
            "_view_count": null,
            "_view_module_version": "1.5.0",
            "description_tooltip": null,
            "_model_module": "@jupyter-widgets/controls",
            "layout": "IPY_MODEL_e005c4f5f7a848cb8bac5c0db66b2f0e"
          }
        },
        "0d27855273084ecea3ff35a91e57d7ca": {
          "model_module": "@jupyter-widgets/controls",
          "model_name": "ProgressStyleModel",
          "state": {
            "_view_name": "StyleView",
            "_model_name": "ProgressStyleModel",
            "description_width": "initial",
            "_view_module": "@jupyter-widgets/base",
            "_model_module_version": "1.5.0",
            "_view_count": null,
            "_view_module_version": "1.2.0",
            "bar_color": null,
            "_model_module": "@jupyter-widgets/controls"
          }
        },
        "36a9ed7634c14f95996610dce06c2a89": {
          "model_module": "@jupyter-widgets/base",
          "model_name": "LayoutModel",
          "state": {
            "_view_name": "LayoutView",
            "grid_template_rows": null,
            "right": null,
            "justify_content": null,
            "_view_module": "@jupyter-widgets/base",
            "overflow": null,
            "_model_module_version": "1.2.0",
            "_view_count": null,
            "flex_flow": null,
            "width": null,
            "min_width": null,
            "border": null,
            "align_items": null,
            "bottom": null,
            "_model_module": "@jupyter-widgets/base",
            "top": null,
            "grid_column": null,
            "overflow_y": null,
            "overflow_x": null,
            "grid_auto_flow": null,
            "grid_area": null,
            "grid_template_columns": null,
            "flex": null,
            "_model_name": "LayoutModel",
            "justify_items": null,
            "grid_row": null,
            "max_height": null,
            "align_content": null,
            "visibility": null,
            "align_self": null,
            "height": null,
            "min_height": null,
            "padding": null,
            "grid_auto_rows": null,
            "grid_gap": null,
            "max_width": null,
            "order": null,
            "_view_module_version": "1.2.0",
            "grid_template_areas": null,
            "object_position": null,
            "object_fit": null,
            "grid_auto_columns": null,
            "margin": null,
            "display": null,
            "left": null
          }
        },
        "1738392622f84fad9fb90f0e012ac33f": {
          "model_module": "@jupyter-widgets/controls",
          "model_name": "DescriptionStyleModel",
          "state": {
            "_view_name": "StyleView",
            "_model_name": "DescriptionStyleModel",
            "description_width": "",
            "_view_module": "@jupyter-widgets/base",
            "_model_module_version": "1.5.0",
            "_view_count": null,
            "_view_module_version": "1.2.0",
            "_model_module": "@jupyter-widgets/controls"
          }
        },
        "e005c4f5f7a848cb8bac5c0db66b2f0e": {
          "model_module": "@jupyter-widgets/base",
          "model_name": "LayoutModel",
          "state": {
            "_view_name": "LayoutView",
            "grid_template_rows": null,
            "right": null,
            "justify_content": null,
            "_view_module": "@jupyter-widgets/base",
            "overflow": null,
            "_model_module_version": "1.2.0",
            "_view_count": null,
            "flex_flow": null,
            "width": null,
            "min_width": null,
            "border": null,
            "align_items": null,
            "bottom": null,
            "_model_module": "@jupyter-widgets/base",
            "top": null,
            "grid_column": null,
            "overflow_y": null,
            "overflow_x": null,
            "grid_auto_flow": null,
            "grid_area": null,
            "grid_template_columns": null,
            "flex": null,
            "_model_name": "LayoutModel",
            "justify_items": null,
            "grid_row": null,
            "max_height": null,
            "align_content": null,
            "visibility": null,
            "align_self": null,
            "height": null,
            "min_height": null,
            "padding": null,
            "grid_auto_rows": null,
            "grid_gap": null,
            "max_width": null,
            "order": null,
            "_view_module_version": "1.2.0",
            "grid_template_areas": null,
            "object_position": null,
            "object_fit": null,
            "grid_auto_columns": null,
            "margin": null,
            "display": null,
            "left": null
          }
        }
      }
    }
  },
  "cells": [
    {
      "cell_type": "markdown",
      "metadata": {
        "id": "view-in-github",
        "colab_type": "text"
      },
      "source": [
        "<a href=\"https://colab.research.google.com/github/Ilanagweinstein/Machine-Learning-Project/blob/master/Fake_Reviews_Bert_Downsampled_256.ipynb\" target=\"_parent\"><img src=\"https://colab.research.google.com/assets/colab-badge.svg\" alt=\"Open In Colab\"/></a>"
      ]
    },
    {
      "cell_type": "markdown",
      "metadata": {
        "id": "PwujU93ZUC2d",
        "colab_type": "text"
      },
      "source": [
        "## Kaggle Sentiment Analysis on Movie Reviews ##"
      ]
    },
    {
      "cell_type": "markdown",
      "metadata": {
        "id": "GIVMY4-BdK-b",
        "colab_type": "text"
      },
      "source": [
        "**Loading transformers, data and initializing GPU**"
      ]
    },
    {
      "cell_type": "code",
      "metadata": {
        "id": "jNdugWnaLapH",
        "colab_type": "code",
        "outputId": "8fee33f6-c922-41c8-a38a-8ab5cb355ab7",
        "colab": {
          "base_uri": "https://localhost:8080/",
          "height": 581
        }
      },
      "source": [
        "!pip3 install transformers"
      ],
      "execution_count": 2,
      "outputs": [
        {
          "output_type": "stream",
          "text": [
            "Collecting transformers\n",
            "\u001b[?25l  Downloading https://files.pythonhosted.org/packages/22/97/7db72a0beef1825f82188a4b923e62a146271ac2ced7928baa4d47ef2467/transformers-2.9.1-py3-none-any.whl (641kB)\n",
            "\u001b[K     |████████████████████████████████| 645kB 2.8MB/s \n",
            "\u001b[?25hRequirement already satisfied: tqdm>=4.27 in /usr/local/lib/python3.6/dist-packages (from transformers) (4.41.1)\n",
            "Requirement already satisfied: dataclasses; python_version < \"3.7\" in /usr/local/lib/python3.6/dist-packages (from transformers) (0.7)\n",
            "Collecting sacremoses\n",
            "\u001b[?25l  Downloading https://files.pythonhosted.org/packages/7d/34/09d19aff26edcc8eb2a01bed8e98f13a1537005d31e95233fd48216eed10/sacremoses-0.0.43.tar.gz (883kB)\n",
            "\u001b[K     |████████████████████████████████| 890kB 40.4MB/s \n",
            "\u001b[?25hCollecting tokenizers==0.7.0\n",
            "\u001b[?25l  Downloading https://files.pythonhosted.org/packages/14/e5/a26eb4716523808bb0a799fcfdceb6ebf77a18169d9591b2f46a9adb87d9/tokenizers-0.7.0-cp36-cp36m-manylinux1_x86_64.whl (3.8MB)\n",
            "\u001b[K     |████████████████████████████████| 3.8MB 35.0MB/s \n",
            "\u001b[?25hRequirement already satisfied: filelock in /usr/local/lib/python3.6/dist-packages (from transformers) (3.0.12)\n",
            "Requirement already satisfied: numpy in /usr/local/lib/python3.6/dist-packages (from transformers) (1.18.4)\n",
            "Collecting sentencepiece\n",
            "\u001b[?25l  Downloading https://files.pythonhosted.org/packages/3b/88/49e772d686088e1278766ad68a463513642a2a877487decbd691dec02955/sentencepiece-0.1.90-cp36-cp36m-manylinux1_x86_64.whl (1.1MB)\n",
            "\u001b[K     |████████████████████████████████| 1.1MB 36.9MB/s \n",
            "\u001b[?25hRequirement already satisfied: requests in /usr/local/lib/python3.6/dist-packages (from transformers) (2.23.0)\n",
            "Requirement already satisfied: regex!=2019.12.17 in /usr/local/lib/python3.6/dist-packages (from transformers) (2019.12.20)\n",
            "Requirement already satisfied: six in /usr/local/lib/python3.6/dist-packages (from sacremoses->transformers) (1.12.0)\n",
            "Requirement already satisfied: click in /usr/local/lib/python3.6/dist-packages (from sacremoses->transformers) (7.1.2)\n",
            "Requirement already satisfied: joblib in /usr/local/lib/python3.6/dist-packages (from sacremoses->transformers) (0.14.1)\n",
            "Requirement already satisfied: urllib3!=1.25.0,!=1.25.1,<1.26,>=1.21.1 in /usr/local/lib/python3.6/dist-packages (from requests->transformers) (1.24.3)\n",
            "Requirement already satisfied: idna<3,>=2.5 in /usr/local/lib/python3.6/dist-packages (from requests->transformers) (2.9)\n",
            "Requirement already satisfied: certifi>=2017.4.17 in /usr/local/lib/python3.6/dist-packages (from requests->transformers) (2020.4.5.1)\n",
            "Requirement already satisfied: chardet<4,>=3.0.2 in /usr/local/lib/python3.6/dist-packages (from requests->transformers) (3.0.4)\n",
            "Building wheels for collected packages: sacremoses\n",
            "  Building wheel for sacremoses (setup.py) ... \u001b[?25l\u001b[?25hdone\n",
            "  Created wheel for sacremoses: filename=sacremoses-0.0.43-cp36-none-any.whl size=893260 sha256=a056b44f9ef1ee8eca08d3a2195b65ffd3a323baa84ffa03b8915601bf8b963d\n",
            "  Stored in directory: /root/.cache/pip/wheels/29/3c/fd/7ce5c3f0666dab31a50123635e6fb5e19ceb42ce38d4e58f45\n",
            "Successfully built sacremoses\n",
            "Installing collected packages: sacremoses, tokenizers, sentencepiece, transformers\n",
            "Successfully installed sacremoses-0.0.43 sentencepiece-0.1.90 tokenizers-0.7.0 transformers-2.9.1\n"
          ],
          "name": "stdout"
        }
      ]
    },
    {
      "cell_type": "code",
      "metadata": {
        "id": "wcnIFcqkLapN",
        "colab_type": "code",
        "colab": {}
      },
      "source": [
        "import pandas as pd\n",
        "import numpy as np\n",
        "import os\n",
        "\n",
        "import warnings\n",
        "warnings.filterwarnings('ignore')\n",
        "\n",
        "import transformers"
      ],
      "execution_count": 0,
      "outputs": []
    },
    {
      "cell_type": "code",
      "metadata": {
        "id": "Ebz8IXtKLuU8",
        "colab_type": "code",
        "outputId": "d85c9205-858b-43ae-9db3-823916641b20",
        "colab": {
          "base_uri": "https://localhost:8080/",
          "height": 34
        }
      },
      "source": [
        "import tensorflow as tf# Get the GPU device name.\n",
        "device_name = tf.test.gpu_device_name()# The device name should look like the following:\n",
        "if device_name == '/device:GPU:0':\n",
        "  print('Found GPU at: {}'.format(device_name))\n",
        "else:\n",
        "  raise SystemError('GPU device not found')"
      ],
      "execution_count": 4,
      "outputs": [
        {
          "output_type": "stream",
          "text": [
            "Found GPU at: /device:GPU:0\n"
          ],
          "name": "stdout"
        }
      ]
    },
    {
      "cell_type": "code",
      "metadata": {
        "id": "RMwqMWdgbZ0W",
        "colab_type": "code",
        "outputId": "fd7f2b27-2492-4c01-c4ca-2cbe80c68bca",
        "colab": {
          "base_uri": "https://localhost:8080/",
          "height": 51
        }
      },
      "source": [
        "import torch# If there's a GPU available...\n",
        "if torch.cuda.is_available():  # Tell PyTorch to use the GPU. \n",
        "  device = torch.device(\"cuda\") \n",
        "  print('There are %d GPU(s) available.' % torch.cuda.device_count()) \n",
        "  print('We will use the GPU:', torch.cuda.get_device_name(0))# If not...\n",
        "else:\n",
        "  print('No GPU available, using the CPU instead.')\n",
        "  device = torch.device(\"cpu\")"
      ],
      "execution_count": 5,
      "outputs": [
        {
          "output_type": "stream",
          "text": [
            "There are 1 GPU(s) available.\n",
            "We will use the GPU: Tesla K80\n"
          ],
          "name": "stdout"
        }
      ]
    },
    {
      "cell_type": "code",
      "metadata": {
        "id": "WoF8f73IeOdR",
        "colab_type": "code",
        "outputId": "e1c526ed-9d9d-449a-a429-fd9f59136ae7",
        "colab": {
          "base_uri": "https://localhost:8080/",
          "height": 34
        }
      },
      "source": [
        "!pip install wget"
      ],
      "execution_count": 0,
      "outputs": [
        {
          "output_type": "stream",
          "text": [
            "Requirement already satisfied: wget in /usr/local/lib/python3.6/dist-packages (3.2)\n"
          ],
          "name": "stdout"
        }
      ]
    },
    {
      "cell_type": "code",
      "metadata": {
        "id": "vLnGt1Ypfe30",
        "colab_type": "code",
        "outputId": "d53bb6e4-972f-4bb1-f513-f26420b2db8b",
        "colab": {
          "base_uri": "https://localhost:8080/",
          "height": 68
        }
      },
      "source": [
        "!wget 'https://worksheets.codalab.org/rest/bundles/0x7b873062afd04a7f82a7a49940ee7737/contents/blob/' -O train.csv"
      ],
      "execution_count": 0,
      "outputs": [
        {
          "output_type": "stream",
          "text": [
            "--2020-05-19 03:55:23--  https://worksheets.codalab.org/rest/bundles/0x7b873062afd04a7f82a7a49940ee7737/contents/blob/\n",
            "Resolving worksheets.codalab.org (worksheets.codalab.org)... 40.71.231.153\n",
            "Connecting to worksheets.codalab.org (worksheets.codalab.org)|40.71.231.153|:443... ^C\n"
          ],
          "name": "stdout"
        }
      ]
    },
    {
      "cell_type": "code",
      "metadata": {
        "id": "XHp2bc5Jq3L9",
        "colab_type": "code",
        "outputId": "6b4b0b0c-254b-4692-8c58-9ca9fc28d40c",
        "colab": {
          "base_uri": "https://localhost:8080/",
          "height": 68
        }
      },
      "source": [
        "!wget 'https://worksheets.codalab.org/rest/bundles/0xa63401efaa6d44e39ed6ed9fe7e08cd2/contents/blob/' -O dev.csv"
      ],
      "execution_count": 0,
      "outputs": [
        {
          "output_type": "stream",
          "text": [
            "--2020-05-19 03:19:38--  https://worksheets.codalab.org/rest/bundles/0xa63401efaa6d44e39ed6ed9fe7e08cd2/contents/blob/\n",
            "Resolving worksheets.codalab.org (worksheets.codalab.org)... 40.71.231.153\n",
            "Connecting to worksheets.codalab.org (worksheets.codalab.org)|40.71.231.153|:443... ^C\n"
          ],
          "name": "stdout"
        }
      ]
    },
    {
      "cell_type": "code",
      "metadata": {
        "id": "zsT-2TG5eDzs",
        "colab_type": "code",
        "outputId": "1fb7a506-b060-47b4-bf66-6a787440e0e4",
        "colab": {
          "base_uri": "https://localhost:8080/",
          "height": 122
        }
      },
      "source": [
        "from google.colab import drive\n",
        "drive.mount('/drive')"
      ],
      "execution_count": 6,
      "outputs": [
        {
          "output_type": "stream",
          "text": [
            "Go to this URL in a browser: https://accounts.google.com/o/oauth2/auth?client_id=947318989803-6bn6qk8qdgf4n4g3pfee6491hc0brc4i.apps.googleusercontent.com&redirect_uri=urn%3aietf%3awg%3aoauth%3a2.0%3aoob&response_type=code&scope=email%20https%3a%2f%2fwww.googleapis.com%2fauth%2fdocs.test%20https%3a%2f%2fwww.googleapis.com%2fauth%2fdrive%20https%3a%2f%2fwww.googleapis.com%2fauth%2fdrive.photos.readonly%20https%3a%2f%2fwww.googleapis.com%2fauth%2fpeopleapi.readonly\n",
            "\n",
            "Enter your authorization code:\n",
            "··········\n",
            "Mounted at /drive\n"
          ],
          "name": "stdout"
        }
      ]
    },
    {
      "cell_type": "code",
      "metadata": {
        "id": "ykZkUaurLapR",
        "colab_type": "code",
        "outputId": "5885a761-fd69-4e02-fae0-64ba5ff1a023",
        "colab": {
          "base_uri": "https://localhost:8080/",
          "height": 51
        }
      },
      "source": [
        "# train = pd.DataFrame(pd.read_csv('train.csv', sep=','))\n",
        "# test = pd.DataFrame(pd.read_csv('dev.csv', sep=','))\n",
        "\n",
        "train = pd.DataFrame(pd.read_csv('/drive/My Drive/train.csv', sep=','))\n",
        "test = pd.DataFrame(pd.read_csv('/drive/My Drive/dev.csv', sep=','))\n",
        "\n",
        "print('Number of training sentences: {:,}\\n'.format(train.shape[0]))"
      ],
      "execution_count": 7,
      "outputs": [
        {
          "output_type": "stream",
          "text": [
            "Number of training sentences: 250,874\n",
            "\n"
          ],
          "name": "stdout"
        }
      ]
    },
    {
      "cell_type": "code",
      "metadata": {
        "id": "6IqNPn8tLapX",
        "colab_type": "code",
        "outputId": "e1ad8558-f55d-4c3b-fa4a-98fc51408397",
        "colab": {
          "base_uri": "https://localhost:8080/",
          "height": 204
        }
      },
      "source": [
        "train.head()"
      ],
      "execution_count": 0,
      "outputs": [
        {
          "output_type": "execute_result",
          "data": {
            "text/html": [
              "<div>\n",
              "<style scoped>\n",
              "    .dataframe tbody tr th:only-of-type {\n",
              "        vertical-align: middle;\n",
              "    }\n",
              "\n",
              "    .dataframe tbody tr th {\n",
              "        vertical-align: top;\n",
              "    }\n",
              "\n",
              "    .dataframe thead th {\n",
              "        text-align: right;\n",
              "    }\n",
              "</style>\n",
              "<table border=\"1\" class=\"dataframe\">\n",
              "  <thead>\n",
              "    <tr style=\"text-align: right;\">\n",
              "      <th></th>\n",
              "      <th>ex_id</th>\n",
              "      <th>user_id</th>\n",
              "      <th>prod_id</th>\n",
              "      <th>rating</th>\n",
              "      <th>label</th>\n",
              "      <th>date</th>\n",
              "      <th>review</th>\n",
              "    </tr>\n",
              "  </thead>\n",
              "  <tbody>\n",
              "    <tr>\n",
              "      <th>0</th>\n",
              "      <td>0</td>\n",
              "      <td>923</td>\n",
              "      <td>0</td>\n",
              "      <td>3.0</td>\n",
              "      <td>1</td>\n",
              "      <td>2014-12-08</td>\n",
              "      <td>The food at snack is a selection of popular Gr...</td>\n",
              "    </tr>\n",
              "    <tr>\n",
              "      <th>1</th>\n",
              "      <td>1</td>\n",
              "      <td>924</td>\n",
              "      <td>0</td>\n",
              "      <td>3.0</td>\n",
              "      <td>1</td>\n",
              "      <td>2013-05-16</td>\n",
              "      <td>This little place in Soho is wonderful. I had ...</td>\n",
              "    </tr>\n",
              "    <tr>\n",
              "      <th>2</th>\n",
              "      <td>2</td>\n",
              "      <td>925</td>\n",
              "      <td>0</td>\n",
              "      <td>4.0</td>\n",
              "      <td>1</td>\n",
              "      <td>2013-07-01</td>\n",
              "      <td>ordered lunch for 15 from Snack last Friday.  ...</td>\n",
              "    </tr>\n",
              "    <tr>\n",
              "      <th>3</th>\n",
              "      <td>3</td>\n",
              "      <td>926</td>\n",
              "      <td>0</td>\n",
              "      <td>4.0</td>\n",
              "      <td>1</td>\n",
              "      <td>2011-07-28</td>\n",
              "      <td>This is a beautiful quaint little restaurant o...</td>\n",
              "    </tr>\n",
              "    <tr>\n",
              "      <th>4</th>\n",
              "      <td>4</td>\n",
              "      <td>927</td>\n",
              "      <td>0</td>\n",
              "      <td>4.0</td>\n",
              "      <td>1</td>\n",
              "      <td>2010-11-01</td>\n",
              "      <td>Snack is great place for a  casual sit down lu...</td>\n",
              "    </tr>\n",
              "  </tbody>\n",
              "</table>\n",
              "</div>"
            ],
            "text/plain": [
              "   ex_id  ...                                             review\n",
              "0      0  ...  The food at snack is a selection of popular Gr...\n",
              "1      1  ...  This little place in Soho is wonderful. I had ...\n",
              "2      2  ...  ordered lunch for 15 from Snack last Friday.  ...\n",
              "3      3  ...  This is a beautiful quaint little restaurant o...\n",
              "4      4  ...  Snack is great place for a  casual sit down lu...\n",
              "\n",
              "[5 rows x 7 columns]"
            ]
          },
          "metadata": {
            "tags": []
          },
          "execution_count": 10
        }
      ]
    },
    {
      "cell_type": "code",
      "metadata": {
        "id": "DFfZyAYMLapa",
        "colab_type": "code",
        "outputId": "097086ad-449e-45a3-99bc-e0bab33dd955",
        "colab": {
          "base_uri": "https://localhost:8080/",
          "height": 204
        }
      },
      "source": [
        "test.head()"
      ],
      "execution_count": 0,
      "outputs": [
        {
          "output_type": "execute_result",
          "data": {
            "text/html": [
              "<div>\n",
              "<style scoped>\n",
              "    .dataframe tbody tr th:only-of-type {\n",
              "        vertical-align: middle;\n",
              "    }\n",
              "\n",
              "    .dataframe tbody tr th {\n",
              "        vertical-align: top;\n",
              "    }\n",
              "\n",
              "    .dataframe thead th {\n",
              "        text-align: right;\n",
              "    }\n",
              "</style>\n",
              "<table border=\"1\" class=\"dataframe\">\n",
              "  <thead>\n",
              "    <tr style=\"text-align: right;\">\n",
              "      <th></th>\n",
              "      <th>ex_id</th>\n",
              "      <th>user_id</th>\n",
              "      <th>prod_id</th>\n",
              "      <th>rating</th>\n",
              "      <th>label</th>\n",
              "      <th>date</th>\n",
              "      <th>review</th>\n",
              "    </tr>\n",
              "  </thead>\n",
              "  <tbody>\n",
              "    <tr>\n",
              "      <th>0</th>\n",
              "      <td>11</td>\n",
              "      <td>934</td>\n",
              "      <td>0</td>\n",
              "      <td>5.0</td>\n",
              "      <td>1</td>\n",
              "      <td>2014-01-20</td>\n",
              "      <td>all around good place, cozy, I came in and did...</td>\n",
              "    </tr>\n",
              "    <tr>\n",
              "      <th>1</th>\n",
              "      <td>17</td>\n",
              "      <td>940</td>\n",
              "      <td>0</td>\n",
              "      <td>4.0</td>\n",
              "      <td>0</td>\n",
              "      <td>2014-09-16</td>\n",
              "      <td>For lunch, my friend and I had: -Lamb sandwich...</td>\n",
              "    </tr>\n",
              "    <tr>\n",
              "      <th>2</th>\n",
              "      <td>20</td>\n",
              "      <td>943</td>\n",
              "      <td>0</td>\n",
              "      <td>5.0</td>\n",
              "      <td>0</td>\n",
              "      <td>2014-05-24</td>\n",
              "      <td>Some good Big Greek cooking!! Came to City on ...</td>\n",
              "    </tr>\n",
              "    <tr>\n",
              "      <th>3</th>\n",
              "      <td>30</td>\n",
              "      <td>953</td>\n",
              "      <td>0</td>\n",
              "      <td>4.0</td>\n",
              "      <td>0</td>\n",
              "      <td>2013-10-17</td>\n",
              "      <td>So... as you may notice from some of my other ...</td>\n",
              "    </tr>\n",
              "    <tr>\n",
              "      <th>4</th>\n",
              "      <td>43</td>\n",
              "      <td>966</td>\n",
              "      <td>0</td>\n",
              "      <td>3.0</td>\n",
              "      <td>0</td>\n",
              "      <td>2012-12-19</td>\n",
              "      <td>I don't understand the whole \"You can't order ...</td>\n",
              "    </tr>\n",
              "  </tbody>\n",
              "</table>\n",
              "</div>"
            ],
            "text/plain": [
              "   ex_id  ...                                             review\n",
              "0     11  ...  all around good place, cozy, I came in and did...\n",
              "1     17  ...  For lunch, my friend and I had: -Lamb sandwich...\n",
              "2     20  ...  Some good Big Greek cooking!! Came to City on ...\n",
              "3     30  ...  So... as you may notice from some of my other ...\n",
              "4     43  ...  I don't understand the whole \"You can't order ...\n",
              "\n",
              "[5 rows x 7 columns]"
            ]
          },
          "metadata": {
            "tags": []
          },
          "execution_count": 11
        }
      ]
    },
    {
      "cell_type": "markdown",
      "metadata": {
        "id": "Xy8YUGnydeEJ",
        "colab_type": "text"
      },
      "source": [
        "**Analysis of data can be found in Cadent_Sentiment_Analysis_Basic**"
      ]
    },
    {
      "cell_type": "code",
      "metadata": {
        "id": "B4xnNHAwLaqB",
        "colab_type": "code",
        "colab": {}
      },
      "source": [
        "X_train = train['review']\n",
        "y_train = train['label']\n",
        "\n",
        "X_test = test['review']\n",
        "y_test = test['label']\n",
        "\n",
        "train_texts, train_labels = X_train, y_train\n",
        "val_texts, val_labels = X_test, y_test"
      ],
      "execution_count": 0,
      "outputs": []
    },
    {
      "cell_type": "code",
      "metadata": {
        "id": "DR3FWXqW9aKe",
        "colab_type": "code",
        "outputId": "528786ba-7837-4c7e-c9b5-ff60581e9de0",
        "colab": {
          "base_uri": "https://localhost:8080/",
          "height": 34
        }
      },
      "source": [
        "from sklearn.utils import resample\n",
        "\n",
        "# concatenate our training data back together\n",
        "X = pd.concat([X_train, y_train], axis=1)\n",
        "\n",
        "# separate minority and majority classes\n",
        "genuine = X[X.label==0]\n",
        "fake = X[X.label==1]\n",
        "\n",
        "# downsample majority\n",
        "genuine_downsampled = resample(genuine,\n",
        "                                replace = False, # sample without replacement\n",
        "                                n_samples = len(fake), # match minority n\n",
        "                                random_state = 27) # reproducible results\n",
        "\n",
        "# combine minority and downsampled majority\n",
        "downsampled = pd.concat([genuine_downsampled, fake], ignore_index = True)\n",
        "downsampled.shape\n"
      ],
      "execution_count": 9,
      "outputs": [
        {
          "output_type": "execute_result",
          "data": {
            "text/plain": [
              "(51638, 2)"
            ]
          },
          "metadata": {
            "tags": []
          },
          "execution_count": 9
        }
      ]
    },
    {
      "cell_type": "code",
      "metadata": {
        "id": "cClDhmDoJoiD",
        "colab_type": "code",
        "outputId": "cd78c350-f199-4720-9793-af430759391c",
        "colab": {
          "base_uri": "https://localhost:8080/",
          "height": 204
        }
      },
      "source": [
        "downsampled.head()"
      ],
      "execution_count": 10,
      "outputs": [
        {
          "output_type": "execute_result",
          "data": {
            "text/html": [
              "<div>\n",
              "<style scoped>\n",
              "    .dataframe tbody tr th:only-of-type {\n",
              "        vertical-align: middle;\n",
              "    }\n",
              "\n",
              "    .dataframe tbody tr th {\n",
              "        vertical-align: top;\n",
              "    }\n",
              "\n",
              "    .dataframe thead th {\n",
              "        text-align: right;\n",
              "    }\n",
              "</style>\n",
              "<table border=\"1\" class=\"dataframe\">\n",
              "  <thead>\n",
              "    <tr style=\"text-align: right;\">\n",
              "      <th></th>\n",
              "      <th>review</th>\n",
              "      <th>label</th>\n",
              "    </tr>\n",
              "  </thead>\n",
              "  <tbody>\n",
              "    <tr>\n",
              "      <th>0</th>\n",
              "      <td>What a great place! A variety of low-key Itali...</td>\n",
              "      <td>0</td>\n",
              "    </tr>\n",
              "    <tr>\n",
              "      <th>1</th>\n",
              "      <td>Once upon a time, I was determined to make Emp...</td>\n",
              "      <td>0</td>\n",
              "    </tr>\n",
              "    <tr>\n",
              "      <th>2</th>\n",
              "      <td>Amazing staff, awesome pancakes over all great...</td>\n",
              "      <td>0</td>\n",
              "    </tr>\n",
              "    <tr>\n",
              "      <th>3</th>\n",
              "      <td>I really liked this place! I went for dinner w...</td>\n",
              "      <td>0</td>\n",
              "    </tr>\n",
              "    <tr>\n",
              "      <th>4</th>\n",
              "      <td>Closed for remodeling. Wish i would have known...</td>\n",
              "      <td>0</td>\n",
              "    </tr>\n",
              "  </tbody>\n",
              "</table>\n",
              "</div>"
            ],
            "text/plain": [
              "                                              review  label\n",
              "0  What a great place! A variety of low-key Itali...      0\n",
              "1  Once upon a time, I was determined to make Emp...      0\n",
              "2  Amazing staff, awesome pancakes over all great...      0\n",
              "3  I really liked this place! I went for dinner w...      0\n",
              "4  Closed for remodeling. Wish i would have known...      0"
            ]
          },
          "metadata": {
            "tags": []
          },
          "execution_count": 10
        }
      ]
    },
    {
      "cell_type": "code",
      "metadata": {
        "id": "i8WZIwwK-ZOo",
        "colab_type": "code",
        "colab": {}
      },
      "source": [
        "train_texts = downsampled['review']\n",
        "train_labels = downsampled['label']"
      ],
      "execution_count": 0,
      "outputs": []
    },
    {
      "cell_type": "code",
      "metadata": {
        "id": "_t6S3JouBeso",
        "colab_type": "code",
        "outputId": "67d9106f-7a99-49a4-cd3f-aca40b593888",
        "colab": {
          "base_uri": "https://localhost:8080/",
          "height": 34
        }
      },
      "source": [
        "downsampled[downsampled['label'] == 0].shape[0]"
      ],
      "execution_count": 0,
      "outputs": [
        {
          "output_type": "execute_result",
          "data": {
            "text/plain": [
              "25819"
            ]
          },
          "metadata": {
            "tags": []
          },
          "execution_count": 45
        }
      ]
    },
    {
      "cell_type": "code",
      "metadata": {
        "id": "wcOMZ8IuBqA5",
        "colab_type": "code",
        "outputId": "99da3e5c-d0f6-4712-9d3b-b54489925819",
        "colab": {
          "base_uri": "https://localhost:8080/",
          "height": 34
        }
      },
      "source": [
        "downsampled[downsampled['label'] == 1].shape[0]"
      ],
      "execution_count": 0,
      "outputs": [
        {
          "output_type": "execute_result",
          "data": {
            "text/plain": [
              "25819"
            ]
          },
          "metadata": {
            "tags": []
          },
          "execution_count": 46
        }
      ]
    },
    {
      "cell_type": "markdown",
      "metadata": {
        "id": "C4dDsykFeLkg",
        "colab_type": "text"
      },
      "source": [
        "**Data Pre-processing**"
      ]
    },
    {
      "cell_type": "code",
      "metadata": {
        "id": "Avew8uWPnv8C",
        "colab_type": "code",
        "outputId": "3f627dce-6d1a-479c-9a6b-47041b3e4d3e",
        "colab": {
          "base_uri": "https://localhost:8080/",
          "height": 83,
          "referenced_widgets": [
            "89e459bf96084520859dfbbd663c86e3",
            "3b69ec1f9a7945828f6412a31871c45a",
            "78d81cdc243e4aaca3a5169a48049196",
            "5b18cd9c045a4c95b3208336d7313620",
            "0d27855273084ecea3ff35a91e57d7ca",
            "36a9ed7634c14f95996610dce06c2a89",
            "1738392622f84fad9fb90f0e012ac33f",
            "e005c4f5f7a848cb8bac5c0db66b2f0e"
          ]
        }
      },
      "source": [
        "#The following code was adapted from this Bert-fine-tuning example by Chris McCormick and Nick Ryan\n",
        "#Link: https://mccormickml.com/2019/07/22/BERT-fine-tuning/\n",
        "#The same tutorial has been helpful for a current Fake Claim detection project I have been working on at NYU.\n",
        "\n",
        "#BERT tokenizer\n",
        "from transformers import BertTokenizer\n",
        "print('Loading BERT tokenizer...')\n",
        "tokenizer = BertTokenizer.from_pretrained('bert-base-uncased', do_lower_case=True)"
      ],
      "execution_count": 12,
      "outputs": [
        {
          "output_type": "stream",
          "text": [
            "Loading BERT tokenizer...\n"
          ],
          "name": "stdout"
        },
        {
          "output_type": "display_data",
          "data": {
            "application/vnd.jupyter.widget-view+json": {
              "model_id": "89e459bf96084520859dfbbd663c86e3",
              "version_minor": 0,
              "version_major": 2
            },
            "text/plain": [
              "HBox(children=(FloatProgress(value=0.0, description='Downloading', max=231508.0, style=ProgressStyle(descripti…"
            ]
          },
          "metadata": {
            "tags": []
          }
        },
        {
          "output_type": "stream",
          "text": [
            "\n"
          ],
          "name": "stdout"
        }
      ]
    },
    {
      "cell_type": "code",
      "metadata": {
        "id": "fHtdYGTnoR3r",
        "colab_type": "code",
        "colab": {}
      },
      "source": [
        "def tokenize_mask(texts):\n",
        "  # Tokenize all of the sentences and map the tokens to thier word IDs.\n",
        "  input_ids = []# For every sentence...\n",
        "  attention_masks = []\n",
        "\n",
        "  for text in texts:\n",
        "    # `encode_plus` will:\n",
        "    #   (1) Tokenize the sentence.\n",
        "    #   (2) Prepend the `[CLS]` token to the start.\n",
        "    #   (3) Append the `[SEP]` token to the end.\n",
        "    #   (4) Map tokens to their IDs.\n",
        "    #   (5) Pad or truncate the sentence to `max_length`\n",
        "    #   (6) Create attention masks for [PAD] tokens.\n",
        "    \n",
        "    encoded_dict = tokenizer.encode_plus(\n",
        "                        text,                      # Sentence to encode.\n",
        "                        add_special_tokens = True, # Add '[CLS]' and '[SEP]'\n",
        "                        max_length = 256,           # Pad & truncate all sentences. Max BERT can do is 512.\n",
        "                        pad_to_max_length = True,\n",
        "                        return_attention_mask = True,   # Construct attn. masks.\n",
        "                        return_tensors = 'pt',     # Return pytorch tensors.\n",
        "                   )\n",
        "\n",
        "    # Add the encoded sentence to the list.\n",
        "    input_ids.append(encoded_dict['input_ids'])# Print sentence 0, now as a list of IDs.\n",
        "    \n",
        "    # And its attention mask (simply differentiates padding from non-padding).\n",
        "    attention_masks.append(encoded_dict['attention_mask'])\n",
        "  \n",
        "    # Convert the lists into tensors.\n",
        "  input_ids = torch.cat(input_ids, dim=0)\n",
        "  attention_masks = torch.cat(attention_masks, dim=0)\n",
        "  \n",
        "  #print out example\n",
        "  print('Original: ', texts[0])\n",
        "  print('Token IDs:', input_ids[0])\n",
        "  print('Attention Masks:', attention_masks[0])\n",
        "\n",
        "  return input_ids, attention_masks"
      ],
      "execution_count": 0,
      "outputs": []
    },
    {
      "cell_type": "code",
      "metadata": {
        "id": "wMk6Y1I1rMpA",
        "colab_type": "code",
        "outputId": "5b09ed60-afa2-4980-e4a5-a13932b07dcf",
        "colab": {
          "base_uri": "https://localhost:8080/",
          "height": 1000
        }
      },
      "source": [
        "#Train data: tokenize, pad, mask and convert to tensors\n",
        "train_inputs, train_masks = tokenize_mask(train_texts)\n",
        "train_labels = torch.tensor(train_labels)\n",
        "\n",
        "#Val data: tokenize, pad, mask and convert to tensors\n",
        "val_inputs, val_masks = tokenize_mask(val_texts)\n",
        "val_labels = torch.tensor(val_labels)"
      ],
      "execution_count": 14,
      "outputs": [
        {
          "output_type": "stream",
          "text": [
            "Original:  What a great place! A variety of low-key Italian restaurants interspersed in a large Italian marketplace. We ate at the fish restaurant and everything was delicious. Later I picked up a small apple tart and panna cotta from the dessert counter. However, the restaurant staff are pretty obnoxious and rude as many of them are transplants who have some Italian background and have no idea of American customer service. However our waiter wasn't Italian so he was great but then again I don't blame the staff for being rude and dismissive as the clientele seems to cater to equally rude, entitled, poser elitists like the table of three women who threw a hissy fit when our food arrived earlier than theirs. Another patron started pouting when she got carded. Just go for the food and selection and it will be fine.\n",
            "Token IDs: tensor([  101,  2054,  1037,  2307,  2173,   999,  1037,  3528,  1997,  2659,\n",
            "         1011,  3145,  3059,  7884, 25338,  1999,  1037,  2312,  3059, 18086,\n",
            "         1012,  2057,  8823,  2012,  1996,  3869,  4825,  1998,  2673,  2001,\n",
            "        12090,  1012,  2101,  1045,  3856,  2039,  1037,  2235,  6207, 16985,\n",
            "         2102,  1998,  6090,  2532, 26046,  2696,  2013,  1996, 18064,  4675,\n",
            "         1012,  2174,  1010,  1996,  4825,  3095,  2024,  3492, 27885,  3630,\n",
            "        25171,  1998, 12726,  2004,  2116,  1997,  2068,  2024, 22291,  2015,\n",
            "         2040,  2031,  2070,  3059,  4281,  1998,  2031,  2053,  2801,  1997,\n",
            "         2137,  8013,  2326,  1012,  2174,  2256, 15610,  2347,  1005,  1056,\n",
            "         3059,  2061,  2002,  2001,  2307,  2021,  2059,  2153,  1045,  2123,\n",
            "         1005,  1056,  7499,  1996,  3095,  2005,  2108, 12726,  1998, 19776,\n",
            "         3512,  2004,  1996,  7396, 12260,  3849,  2000, 23488,  2000,  8053,\n",
            "        12726,  1010,  4709,  1010, 13382,  2099, 12005, 16774,  2015,  2066,\n",
            "         1996,  2795,  1997,  2093,  2308,  2040,  4711,  1037, 19074,  2100,\n",
            "         4906,  2043,  2256,  2833,  3369,  3041,  2084, 17156,  1012,  2178,\n",
            "         9161,  2318, 13433, 20807,  2043,  2016,  2288,  4003,  2098,  1012,\n",
            "         2074,  2175,  2005,  1996,  2833,  1998,  4989,  1998,  2009,  2097,\n",
            "         2022,  2986,  1012,   102,     0,     0,     0,     0,     0,     0,\n",
            "            0,     0,     0,     0,     0,     0,     0,     0,     0,     0,\n",
            "            0,     0,     0,     0,     0,     0,     0,     0,     0,     0,\n",
            "            0,     0,     0,     0,     0,     0,     0,     0,     0,     0,\n",
            "            0,     0,     0,     0,     0,     0,     0,     0,     0,     0,\n",
            "            0,     0,     0,     0,     0,     0,     0,     0,     0,     0,\n",
            "            0,     0,     0,     0,     0,     0,     0,     0,     0,     0,\n",
            "            0,     0,     0,     0,     0,     0,     0,     0,     0,     0,\n",
            "            0,     0,     0,     0,     0,     0])\n",
            "Attention Masks: tensor([1, 1, 1, 1, 1, 1, 1, 1, 1, 1, 1, 1, 1, 1, 1, 1, 1, 1, 1, 1, 1, 1, 1, 1,\n",
            "        1, 1, 1, 1, 1, 1, 1, 1, 1, 1, 1, 1, 1, 1, 1, 1, 1, 1, 1, 1, 1, 1, 1, 1,\n",
            "        1, 1, 1, 1, 1, 1, 1, 1, 1, 1, 1, 1, 1, 1, 1, 1, 1, 1, 1, 1, 1, 1, 1, 1,\n",
            "        1, 1, 1, 1, 1, 1, 1, 1, 1, 1, 1, 1, 1, 1, 1, 1, 1, 1, 1, 1, 1, 1, 1, 1,\n",
            "        1, 1, 1, 1, 1, 1, 1, 1, 1, 1, 1, 1, 1, 1, 1, 1, 1, 1, 1, 1, 1, 1, 1, 1,\n",
            "        1, 1, 1, 1, 1, 1, 1, 1, 1, 1, 1, 1, 1, 1, 1, 1, 1, 1, 1, 1, 1, 1, 1, 1,\n",
            "        1, 1, 1, 1, 1, 1, 1, 1, 1, 1, 1, 1, 1, 1, 1, 1, 1, 1, 1, 1, 1, 1, 1, 1,\n",
            "        1, 1, 1, 1, 1, 1, 0, 0, 0, 0, 0, 0, 0, 0, 0, 0, 0, 0, 0, 0, 0, 0, 0, 0,\n",
            "        0, 0, 0, 0, 0, 0, 0, 0, 0, 0, 0, 0, 0, 0, 0, 0, 0, 0, 0, 0, 0, 0, 0, 0,\n",
            "        0, 0, 0, 0, 0, 0, 0, 0, 0, 0, 0, 0, 0, 0, 0, 0, 0, 0, 0, 0, 0, 0, 0, 0,\n",
            "        0, 0, 0, 0, 0, 0, 0, 0, 0, 0, 0, 0, 0, 0, 0, 0])\n",
            "Original:  all around good place, cozy, I came in and didn't have a huge appetite but just stuck to the appetizers...which my friend and I did the combo platter of and we were more than full with it.\n",
            "Token IDs: tensor([  101,  2035,  2105,  2204,  2173,  1010, 26931,  1010,  1045,  2234,\n",
            "         1999,  1998,  2134,  1005,  1056,  2031,  1037,  4121, 18923,  2021,\n",
            "         2074,  5881,  2000,  1996, 10439, 20624, 16750,  1012,  1012,  1012,\n",
            "         2029,  2026,  2767,  1998,  1045,  2106,  1996, 25025, 28005,  2121,\n",
            "         1997,  1998,  2057,  2020,  2062,  2084,  2440,  2007,  2009,  1012,\n",
            "          102,     0,     0,     0,     0,     0,     0,     0,     0,     0,\n",
            "            0,     0,     0,     0,     0,     0,     0,     0,     0,     0,\n",
            "            0,     0,     0,     0,     0,     0,     0,     0,     0,     0,\n",
            "            0,     0,     0,     0,     0,     0,     0,     0,     0,     0,\n",
            "            0,     0,     0,     0,     0,     0,     0,     0,     0,     0,\n",
            "            0,     0,     0,     0,     0,     0,     0,     0,     0,     0,\n",
            "            0,     0,     0,     0,     0,     0,     0,     0,     0,     0,\n",
            "            0,     0,     0,     0,     0,     0,     0,     0,     0,     0,\n",
            "            0,     0,     0,     0,     0,     0,     0,     0,     0,     0,\n",
            "            0,     0,     0,     0,     0,     0,     0,     0,     0,     0,\n",
            "            0,     0,     0,     0,     0,     0,     0,     0,     0,     0,\n",
            "            0,     0,     0,     0,     0,     0,     0,     0,     0,     0,\n",
            "            0,     0,     0,     0,     0,     0,     0,     0,     0,     0,\n",
            "            0,     0,     0,     0,     0,     0,     0,     0,     0,     0,\n",
            "            0,     0,     0,     0,     0,     0,     0,     0,     0,     0,\n",
            "            0,     0,     0,     0,     0,     0,     0,     0,     0,     0,\n",
            "            0,     0,     0,     0,     0,     0,     0,     0,     0,     0,\n",
            "            0,     0,     0,     0,     0,     0,     0,     0,     0,     0,\n",
            "            0,     0,     0,     0,     0,     0,     0,     0,     0,     0,\n",
            "            0,     0,     0,     0,     0,     0,     0,     0,     0,     0,\n",
            "            0,     0,     0,     0,     0,     0])\n",
            "Attention Masks: tensor([1, 1, 1, 1, 1, 1, 1, 1, 1, 1, 1, 1, 1, 1, 1, 1, 1, 1, 1, 1, 1, 1, 1, 1,\n",
            "        1, 1, 1, 1, 1, 1, 1, 1, 1, 1, 1, 1, 1, 1, 1, 1, 1, 1, 1, 1, 1, 1, 1, 1,\n",
            "        1, 1, 1, 0, 0, 0, 0, 0, 0, 0, 0, 0, 0, 0, 0, 0, 0, 0, 0, 0, 0, 0, 0, 0,\n",
            "        0, 0, 0, 0, 0, 0, 0, 0, 0, 0, 0, 0, 0, 0, 0, 0, 0, 0, 0, 0, 0, 0, 0, 0,\n",
            "        0, 0, 0, 0, 0, 0, 0, 0, 0, 0, 0, 0, 0, 0, 0, 0, 0, 0, 0, 0, 0, 0, 0, 0,\n",
            "        0, 0, 0, 0, 0, 0, 0, 0, 0, 0, 0, 0, 0, 0, 0, 0, 0, 0, 0, 0, 0, 0, 0, 0,\n",
            "        0, 0, 0, 0, 0, 0, 0, 0, 0, 0, 0, 0, 0, 0, 0, 0, 0, 0, 0, 0, 0, 0, 0, 0,\n",
            "        0, 0, 0, 0, 0, 0, 0, 0, 0, 0, 0, 0, 0, 0, 0, 0, 0, 0, 0, 0, 0, 0, 0, 0,\n",
            "        0, 0, 0, 0, 0, 0, 0, 0, 0, 0, 0, 0, 0, 0, 0, 0, 0, 0, 0, 0, 0, 0, 0, 0,\n",
            "        0, 0, 0, 0, 0, 0, 0, 0, 0, 0, 0, 0, 0, 0, 0, 0, 0, 0, 0, 0, 0, 0, 0, 0,\n",
            "        0, 0, 0, 0, 0, 0, 0, 0, 0, 0, 0, 0, 0, 0, 0, 0])\n"
          ],
          "name": "stdout"
        }
      ]
    },
    {
      "cell_type": "markdown",
      "metadata": {
        "id": "4MYOWL6XegkW",
        "colab_type": "text"
      },
      "source": [
        "**Pre-trained Model and Training Set-up**"
      ]
    },
    {
      "cell_type": "code",
      "metadata": {
        "id": "wSfzPkYxsaiH",
        "colab_type": "code",
        "colab": {}
      },
      "source": [
        "from torch.utils.data import TensorDataset, DataLoader, RandomSampler, SequentialSampler# The DataLoader needs to know our batch size for training\n",
        "batch_size = 16\n",
        "\n",
        "# Create the DataLoader for training set.\n",
        "train_data = TensorDataset(train_inputs, train_masks, train_labels)\n",
        "train_sampler = RandomSampler(train_data)\n",
        "train_dataloader = DataLoader(train_data, sampler=train_sampler, batch_size=batch_size)# Create the DataLoader for our validation set.\n",
        "\n",
        "# Create the DataLoader for validation set without labels.\n",
        "val_data = TensorDataset(val_inputs, val_masks, val_labels)\n",
        "val_sampler = SequentialSampler(val_data)\n",
        "val_dataloader = DataLoader(val_data, sampler=val_sampler, batch_size=batch_size)"
      ],
      "execution_count": 0,
      "outputs": []
    },
    {
      "cell_type": "code",
      "metadata": {
        "id": "bAROsdsUtWcw",
        "colab_type": "code",
        "outputId": "4ae5629d-12b2-48df-ce7d-b8e27bc0988a",
        "colab": {
          "base_uri": "https://localhost:8080/",
          "height": 1000
        }
      },
      "source": [
        "from transformers import BertForSequenceClassification, AdamW, BertConfig\n",
        "# Load BertForSequenceClassification, the pretrained BERT model with a single \n",
        "# linear classification layer on top. \n",
        "\n",
        "model = BertForSequenceClassification.from_pretrained(\n",
        " \"bert-base-uncased\", # Use the 12-layer BERT model, with an uncased vocab.\n",
        " num_labels = 2, # The number of output labels for multi-class classification. \n",
        " output_attentions = False, # Whether the model returns attentions weights.\n",
        " output_hidden_states = False, # Whether the model returns all hidden-states.\n",
        ")# Tell pytorch to run this model on the GPU.\n",
        "\n",
        "model.cuda()"
      ],
      "execution_count": 0,
      "outputs": [
        {
          "output_type": "execute_result",
          "data": {
            "text/plain": [
              "BertForSequenceClassification(\n",
              "  (bert): BertModel(\n",
              "    (embeddings): BertEmbeddings(\n",
              "      (word_embeddings): Embedding(30522, 768, padding_idx=0)\n",
              "      (position_embeddings): Embedding(512, 768)\n",
              "      (token_type_embeddings): Embedding(2, 768)\n",
              "      (LayerNorm): LayerNorm((768,), eps=1e-12, elementwise_affine=True)\n",
              "      (dropout): Dropout(p=0.1, inplace=False)\n",
              "    )\n",
              "    (encoder): BertEncoder(\n",
              "      (layer): ModuleList(\n",
              "        (0): BertLayer(\n",
              "          (attention): BertAttention(\n",
              "            (self): BertSelfAttention(\n",
              "              (query): Linear(in_features=768, out_features=768, bias=True)\n",
              "              (key): Linear(in_features=768, out_features=768, bias=True)\n",
              "              (value): Linear(in_features=768, out_features=768, bias=True)\n",
              "              (dropout): Dropout(p=0.1, inplace=False)\n",
              "            )\n",
              "            (output): BertSelfOutput(\n",
              "              (dense): Linear(in_features=768, out_features=768, bias=True)\n",
              "              (LayerNorm): LayerNorm((768,), eps=1e-12, elementwise_affine=True)\n",
              "              (dropout): Dropout(p=0.1, inplace=False)\n",
              "            )\n",
              "          )\n",
              "          (intermediate): BertIntermediate(\n",
              "            (dense): Linear(in_features=768, out_features=3072, bias=True)\n",
              "          )\n",
              "          (output): BertOutput(\n",
              "            (dense): Linear(in_features=3072, out_features=768, bias=True)\n",
              "            (LayerNorm): LayerNorm((768,), eps=1e-12, elementwise_affine=True)\n",
              "            (dropout): Dropout(p=0.1, inplace=False)\n",
              "          )\n",
              "        )\n",
              "        (1): BertLayer(\n",
              "          (attention): BertAttention(\n",
              "            (self): BertSelfAttention(\n",
              "              (query): Linear(in_features=768, out_features=768, bias=True)\n",
              "              (key): Linear(in_features=768, out_features=768, bias=True)\n",
              "              (value): Linear(in_features=768, out_features=768, bias=True)\n",
              "              (dropout): Dropout(p=0.1, inplace=False)\n",
              "            )\n",
              "            (output): BertSelfOutput(\n",
              "              (dense): Linear(in_features=768, out_features=768, bias=True)\n",
              "              (LayerNorm): LayerNorm((768,), eps=1e-12, elementwise_affine=True)\n",
              "              (dropout): Dropout(p=0.1, inplace=False)\n",
              "            )\n",
              "          )\n",
              "          (intermediate): BertIntermediate(\n",
              "            (dense): Linear(in_features=768, out_features=3072, bias=True)\n",
              "          )\n",
              "          (output): BertOutput(\n",
              "            (dense): Linear(in_features=3072, out_features=768, bias=True)\n",
              "            (LayerNorm): LayerNorm((768,), eps=1e-12, elementwise_affine=True)\n",
              "            (dropout): Dropout(p=0.1, inplace=False)\n",
              "          )\n",
              "        )\n",
              "        (2): BertLayer(\n",
              "          (attention): BertAttention(\n",
              "            (self): BertSelfAttention(\n",
              "              (query): Linear(in_features=768, out_features=768, bias=True)\n",
              "              (key): Linear(in_features=768, out_features=768, bias=True)\n",
              "              (value): Linear(in_features=768, out_features=768, bias=True)\n",
              "              (dropout): Dropout(p=0.1, inplace=False)\n",
              "            )\n",
              "            (output): BertSelfOutput(\n",
              "              (dense): Linear(in_features=768, out_features=768, bias=True)\n",
              "              (LayerNorm): LayerNorm((768,), eps=1e-12, elementwise_affine=True)\n",
              "              (dropout): Dropout(p=0.1, inplace=False)\n",
              "            )\n",
              "          )\n",
              "          (intermediate): BertIntermediate(\n",
              "            (dense): Linear(in_features=768, out_features=3072, bias=True)\n",
              "          )\n",
              "          (output): BertOutput(\n",
              "            (dense): Linear(in_features=3072, out_features=768, bias=True)\n",
              "            (LayerNorm): LayerNorm((768,), eps=1e-12, elementwise_affine=True)\n",
              "            (dropout): Dropout(p=0.1, inplace=False)\n",
              "          )\n",
              "        )\n",
              "        (3): BertLayer(\n",
              "          (attention): BertAttention(\n",
              "            (self): BertSelfAttention(\n",
              "              (query): Linear(in_features=768, out_features=768, bias=True)\n",
              "              (key): Linear(in_features=768, out_features=768, bias=True)\n",
              "              (value): Linear(in_features=768, out_features=768, bias=True)\n",
              "              (dropout): Dropout(p=0.1, inplace=False)\n",
              "            )\n",
              "            (output): BertSelfOutput(\n",
              "              (dense): Linear(in_features=768, out_features=768, bias=True)\n",
              "              (LayerNorm): LayerNorm((768,), eps=1e-12, elementwise_affine=True)\n",
              "              (dropout): Dropout(p=0.1, inplace=False)\n",
              "            )\n",
              "          )\n",
              "          (intermediate): BertIntermediate(\n",
              "            (dense): Linear(in_features=768, out_features=3072, bias=True)\n",
              "          )\n",
              "          (output): BertOutput(\n",
              "            (dense): Linear(in_features=3072, out_features=768, bias=True)\n",
              "            (LayerNorm): LayerNorm((768,), eps=1e-12, elementwise_affine=True)\n",
              "            (dropout): Dropout(p=0.1, inplace=False)\n",
              "          )\n",
              "        )\n",
              "        (4): BertLayer(\n",
              "          (attention): BertAttention(\n",
              "            (self): BertSelfAttention(\n",
              "              (query): Linear(in_features=768, out_features=768, bias=True)\n",
              "              (key): Linear(in_features=768, out_features=768, bias=True)\n",
              "              (value): Linear(in_features=768, out_features=768, bias=True)\n",
              "              (dropout): Dropout(p=0.1, inplace=False)\n",
              "            )\n",
              "            (output): BertSelfOutput(\n",
              "              (dense): Linear(in_features=768, out_features=768, bias=True)\n",
              "              (LayerNorm): LayerNorm((768,), eps=1e-12, elementwise_affine=True)\n",
              "              (dropout): Dropout(p=0.1, inplace=False)\n",
              "            )\n",
              "          )\n",
              "          (intermediate): BertIntermediate(\n",
              "            (dense): Linear(in_features=768, out_features=3072, bias=True)\n",
              "          )\n",
              "          (output): BertOutput(\n",
              "            (dense): Linear(in_features=3072, out_features=768, bias=True)\n",
              "            (LayerNorm): LayerNorm((768,), eps=1e-12, elementwise_affine=True)\n",
              "            (dropout): Dropout(p=0.1, inplace=False)\n",
              "          )\n",
              "        )\n",
              "        (5): BertLayer(\n",
              "          (attention): BertAttention(\n",
              "            (self): BertSelfAttention(\n",
              "              (query): Linear(in_features=768, out_features=768, bias=True)\n",
              "              (key): Linear(in_features=768, out_features=768, bias=True)\n",
              "              (value): Linear(in_features=768, out_features=768, bias=True)\n",
              "              (dropout): Dropout(p=0.1, inplace=False)\n",
              "            )\n",
              "            (output): BertSelfOutput(\n",
              "              (dense): Linear(in_features=768, out_features=768, bias=True)\n",
              "              (LayerNorm): LayerNorm((768,), eps=1e-12, elementwise_affine=True)\n",
              "              (dropout): Dropout(p=0.1, inplace=False)\n",
              "            )\n",
              "          )\n",
              "          (intermediate): BertIntermediate(\n",
              "            (dense): Linear(in_features=768, out_features=3072, bias=True)\n",
              "          )\n",
              "          (output): BertOutput(\n",
              "            (dense): Linear(in_features=3072, out_features=768, bias=True)\n",
              "            (LayerNorm): LayerNorm((768,), eps=1e-12, elementwise_affine=True)\n",
              "            (dropout): Dropout(p=0.1, inplace=False)\n",
              "          )\n",
              "        )\n",
              "        (6): BertLayer(\n",
              "          (attention): BertAttention(\n",
              "            (self): BertSelfAttention(\n",
              "              (query): Linear(in_features=768, out_features=768, bias=True)\n",
              "              (key): Linear(in_features=768, out_features=768, bias=True)\n",
              "              (value): Linear(in_features=768, out_features=768, bias=True)\n",
              "              (dropout): Dropout(p=0.1, inplace=False)\n",
              "            )\n",
              "            (output): BertSelfOutput(\n",
              "              (dense): Linear(in_features=768, out_features=768, bias=True)\n",
              "              (LayerNorm): LayerNorm((768,), eps=1e-12, elementwise_affine=True)\n",
              "              (dropout): Dropout(p=0.1, inplace=False)\n",
              "            )\n",
              "          )\n",
              "          (intermediate): BertIntermediate(\n",
              "            (dense): Linear(in_features=768, out_features=3072, bias=True)\n",
              "          )\n",
              "          (output): BertOutput(\n",
              "            (dense): Linear(in_features=3072, out_features=768, bias=True)\n",
              "            (LayerNorm): LayerNorm((768,), eps=1e-12, elementwise_affine=True)\n",
              "            (dropout): Dropout(p=0.1, inplace=False)\n",
              "          )\n",
              "        )\n",
              "        (7): BertLayer(\n",
              "          (attention): BertAttention(\n",
              "            (self): BertSelfAttention(\n",
              "              (query): Linear(in_features=768, out_features=768, bias=True)\n",
              "              (key): Linear(in_features=768, out_features=768, bias=True)\n",
              "              (value): Linear(in_features=768, out_features=768, bias=True)\n",
              "              (dropout): Dropout(p=0.1, inplace=False)\n",
              "            )\n",
              "            (output): BertSelfOutput(\n",
              "              (dense): Linear(in_features=768, out_features=768, bias=True)\n",
              "              (LayerNorm): LayerNorm((768,), eps=1e-12, elementwise_affine=True)\n",
              "              (dropout): Dropout(p=0.1, inplace=False)\n",
              "            )\n",
              "          )\n",
              "          (intermediate): BertIntermediate(\n",
              "            (dense): Linear(in_features=768, out_features=3072, bias=True)\n",
              "          )\n",
              "          (output): BertOutput(\n",
              "            (dense): Linear(in_features=3072, out_features=768, bias=True)\n",
              "            (LayerNorm): LayerNorm((768,), eps=1e-12, elementwise_affine=True)\n",
              "            (dropout): Dropout(p=0.1, inplace=False)\n",
              "          )\n",
              "        )\n",
              "        (8): BertLayer(\n",
              "          (attention): BertAttention(\n",
              "            (self): BertSelfAttention(\n",
              "              (query): Linear(in_features=768, out_features=768, bias=True)\n",
              "              (key): Linear(in_features=768, out_features=768, bias=True)\n",
              "              (value): Linear(in_features=768, out_features=768, bias=True)\n",
              "              (dropout): Dropout(p=0.1, inplace=False)\n",
              "            )\n",
              "            (output): BertSelfOutput(\n",
              "              (dense): Linear(in_features=768, out_features=768, bias=True)\n",
              "              (LayerNorm): LayerNorm((768,), eps=1e-12, elementwise_affine=True)\n",
              "              (dropout): Dropout(p=0.1, inplace=False)\n",
              "            )\n",
              "          )\n",
              "          (intermediate): BertIntermediate(\n",
              "            (dense): Linear(in_features=768, out_features=3072, bias=True)\n",
              "          )\n",
              "          (output): BertOutput(\n",
              "            (dense): Linear(in_features=3072, out_features=768, bias=True)\n",
              "            (LayerNorm): LayerNorm((768,), eps=1e-12, elementwise_affine=True)\n",
              "            (dropout): Dropout(p=0.1, inplace=False)\n",
              "          )\n",
              "        )\n",
              "        (9): BertLayer(\n",
              "          (attention): BertAttention(\n",
              "            (self): BertSelfAttention(\n",
              "              (query): Linear(in_features=768, out_features=768, bias=True)\n",
              "              (key): Linear(in_features=768, out_features=768, bias=True)\n",
              "              (value): Linear(in_features=768, out_features=768, bias=True)\n",
              "              (dropout): Dropout(p=0.1, inplace=False)\n",
              "            )\n",
              "            (output): BertSelfOutput(\n",
              "              (dense): Linear(in_features=768, out_features=768, bias=True)\n",
              "              (LayerNorm): LayerNorm((768,), eps=1e-12, elementwise_affine=True)\n",
              "              (dropout): Dropout(p=0.1, inplace=False)\n",
              "            )\n",
              "          )\n",
              "          (intermediate): BertIntermediate(\n",
              "            (dense): Linear(in_features=768, out_features=3072, bias=True)\n",
              "          )\n",
              "          (output): BertOutput(\n",
              "            (dense): Linear(in_features=3072, out_features=768, bias=True)\n",
              "            (LayerNorm): LayerNorm((768,), eps=1e-12, elementwise_affine=True)\n",
              "            (dropout): Dropout(p=0.1, inplace=False)\n",
              "          )\n",
              "        )\n",
              "        (10): BertLayer(\n",
              "          (attention): BertAttention(\n",
              "            (self): BertSelfAttention(\n",
              "              (query): Linear(in_features=768, out_features=768, bias=True)\n",
              "              (key): Linear(in_features=768, out_features=768, bias=True)\n",
              "              (value): Linear(in_features=768, out_features=768, bias=True)\n",
              "              (dropout): Dropout(p=0.1, inplace=False)\n",
              "            )\n",
              "            (output): BertSelfOutput(\n",
              "              (dense): Linear(in_features=768, out_features=768, bias=True)\n",
              "              (LayerNorm): LayerNorm((768,), eps=1e-12, elementwise_affine=True)\n",
              "              (dropout): Dropout(p=0.1, inplace=False)\n",
              "            )\n",
              "          )\n",
              "          (intermediate): BertIntermediate(\n",
              "            (dense): Linear(in_features=768, out_features=3072, bias=True)\n",
              "          )\n",
              "          (output): BertOutput(\n",
              "            (dense): Linear(in_features=3072, out_features=768, bias=True)\n",
              "            (LayerNorm): LayerNorm((768,), eps=1e-12, elementwise_affine=True)\n",
              "            (dropout): Dropout(p=0.1, inplace=False)\n",
              "          )\n",
              "        )\n",
              "        (11): BertLayer(\n",
              "          (attention): BertAttention(\n",
              "            (self): BertSelfAttention(\n",
              "              (query): Linear(in_features=768, out_features=768, bias=True)\n",
              "              (key): Linear(in_features=768, out_features=768, bias=True)\n",
              "              (value): Linear(in_features=768, out_features=768, bias=True)\n",
              "              (dropout): Dropout(p=0.1, inplace=False)\n",
              "            )\n",
              "            (output): BertSelfOutput(\n",
              "              (dense): Linear(in_features=768, out_features=768, bias=True)\n",
              "              (LayerNorm): LayerNorm((768,), eps=1e-12, elementwise_affine=True)\n",
              "              (dropout): Dropout(p=0.1, inplace=False)\n",
              "            )\n",
              "          )\n",
              "          (intermediate): BertIntermediate(\n",
              "            (dense): Linear(in_features=768, out_features=3072, bias=True)\n",
              "          )\n",
              "          (output): BertOutput(\n",
              "            (dense): Linear(in_features=3072, out_features=768, bias=True)\n",
              "            (LayerNorm): LayerNorm((768,), eps=1e-12, elementwise_affine=True)\n",
              "            (dropout): Dropout(p=0.1, inplace=False)\n",
              "          )\n",
              "        )\n",
              "      )\n",
              "    )\n",
              "    (pooler): BertPooler(\n",
              "      (dense): Linear(in_features=768, out_features=768, bias=True)\n",
              "      (activation): Tanh()\n",
              "    )\n",
              "  )\n",
              "  (dropout): Dropout(p=0.1, inplace=False)\n",
              "  (classifier): Linear(in_features=768, out_features=2, bias=True)\n",
              ")"
            ]
          },
          "metadata": {
            "tags": []
          },
          "execution_count": 58
        }
      ]
    },
    {
      "cell_type": "markdown",
      "metadata": {
        "id": "AMLOMxE3e4eo",
        "colab_type": "text"
      },
      "source": [
        "model.cuda() output removed"
      ]
    },
    {
      "cell_type": "code",
      "metadata": {
        "id": "vGtw1ayevvg2",
        "colab_type": "code",
        "colab": {
          "base_uri": "https://localhost:8080/",
          "height": 232
        },
        "outputId": "a50ae540-4490-4df6-e01e-8350c3135572"
      },
      "source": [
        "# Note: AdamW is a class from the huggingface library (as opposed to pytorch) \n",
        "optimizer = AdamW(model.parameters(),\n",
        " lr = 2e-5, # args.learning_rate - default is 5e-5, our notebook had 2e-5\n",
        " eps = 1e-8 # args.adam_epsilon - default is 1e-8.\n",
        " )\n",
        "\n",
        "from transformers import get_linear_schedule_with_warmup\n",
        "# Number of training epochs (authors recommend between 2 and 4)\n",
        "epochs = 3\n",
        "\n",
        "# Total number of training steps is number of batches * number of epochs.\n",
        "total_steps = len(train_dataloader) * epochs\n",
        "\n",
        "# Create the learning rate scheduler.\n",
        "scheduler = get_linear_schedule_with_warmup(optimizer, \n",
        " num_warmup_steps = 0, # Default value in run_glue.py\n",
        " num_training_steps = total_steps)"
      ],
      "execution_count": 16,
      "outputs": [
        {
          "output_type": "error",
          "ename": "NameError",
          "evalue": "ignored",
          "traceback": [
            "\u001b[0;31m---------------------------------------------------------------------------\u001b[0m",
            "\u001b[0;31mNameError\u001b[0m                                 Traceback (most recent call last)",
            "\u001b[0;32m<ipython-input-16-ff7cbfc57380>\u001b[0m in \u001b[0;36m<module>\u001b[0;34m()\u001b[0m\n\u001b[1;32m      1\u001b[0m \u001b[0;31m# Note: AdamW is a class from the huggingface library (as opposed to pytorch)\u001b[0m\u001b[0;34m\u001b[0m\u001b[0;34m\u001b[0m\u001b[0;34m\u001b[0m\u001b[0m\n\u001b[0;32m----> 2\u001b[0;31m optimizer = AdamW(model.parameters(),\n\u001b[0m\u001b[1;32m      3\u001b[0m  \u001b[0mlr\u001b[0m \u001b[0;34m=\u001b[0m \u001b[0;36m2e-5\u001b[0m\u001b[0;34m,\u001b[0m \u001b[0;31m# args.learning_rate - default is 5e-5, our notebook had 2e-5\u001b[0m\u001b[0;34m\u001b[0m\u001b[0;34m\u001b[0m\u001b[0m\n\u001b[1;32m      4\u001b[0m  \u001b[0meps\u001b[0m \u001b[0;34m=\u001b[0m \u001b[0;36m1e-8\u001b[0m \u001b[0;31m# args.adam_epsilon - default is 1e-8.\u001b[0m\u001b[0;34m\u001b[0m\u001b[0;34m\u001b[0m\u001b[0m\n\u001b[1;32m      5\u001b[0m  )\n",
            "\u001b[0;31mNameError\u001b[0m: name 'AdamW' is not defined"
          ]
        }
      ]
    },
    {
      "cell_type": "code",
      "metadata": {
        "id": "WNYYeNFywR8_",
        "colab_type": "code",
        "colab": {}
      },
      "source": [
        "import time\n",
        "import datetime\n",
        "\n",
        "def format_time(elapsed):\n",
        "    '''\n",
        "    Takes a time in seconds and returns a string hh:mm:ss\n",
        "    '''\n",
        "    # Round to the nearest second.\n",
        "    elapsed_rounded = int(round((elapsed)))\n",
        "    \n",
        "    # Format as hh:mm:ss\n",
        "    return str(datetime.timedelta(seconds=elapsed_rounded))"
      ],
      "execution_count": 0,
      "outputs": []
    },
    {
      "cell_type": "code",
      "metadata": {
        "id": "Xg8vSTuT7d0y",
        "colab_type": "code",
        "colab": {}
      },
      "source": [
        "import numpy as np\n",
        "\n",
        "# Function to calculate the accuracy of our predictions vs labels\n",
        "def flat_accuracy(preds, labels):\n",
        "    pred_flat = np.argmax(preds, axis=1).flatten()\n",
        "    labels_flat = labels.flatten()\n",
        "    return np.sum(pred_flat == labels_flat) / len(labels_flat)"
      ],
      "execution_count": 0,
      "outputs": []
    },
    {
      "cell_type": "markdown",
      "metadata": {
        "id": "DK1LwK5GfAEq",
        "colab_type": "text"
      },
      "source": [
        "#Training#"
      ]
    },
    {
      "cell_type": "code",
      "metadata": {
        "id": "x1l0NZC3yWSr",
        "colab_type": "code",
        "outputId": "84932de9-02da-431e-fe93-d25fd2983741",
        "colab": {
          "base_uri": "https://localhost:8080/",
          "height": 1000
        }
      },
      "source": [
        "import random\n",
        "import numpy as np\n",
        "import time\n",
        "\n",
        "# This training code is based on the `run_glue.py` script here:\n",
        "# https://github.com/huggingface/transformers/blob/5bfcd0485ece086ebcbed2d008813037968a9e58/examples/run_glue.py#L128\n",
        "\n",
        "# Set the seed value all over the place to make this reproducible.\n",
        "seed_val = 42\n",
        "\n",
        "random.seed(seed_val)\n",
        "np.random.seed(seed_val)\n",
        "torch.manual_seed(seed_val)\n",
        "torch.cuda.manual_seed_all(seed_val)\n",
        "\n",
        "# We'll store a number of quantities such as training and validation loss, \n",
        "# validation accuracy, and timings.\n",
        "training_stats = []\n",
        "\n",
        "# Measure the total training time for the whole run.\n",
        "total_t0 = time.time()\n",
        "\n",
        "# For each epoch...\n",
        "for epoch_i in range(0, epochs):\n",
        "  \n",
        "    # Perform one full pass over the training set.\n",
        "\n",
        "    print(\"\")\n",
        "    print('======== Epoch {:} / {:} ========'.format(epoch_i + 1, epochs))\n",
        "    print('Training...')\n",
        "\n",
        "    # Measure how long the training epoch takes.\n",
        "    t0 = time.time()\n",
        "\n",
        "    # Reset the total loss for this epoch.\n",
        "    total_train_loss = 0\n",
        "\n",
        "    # Put the model into training mode. Don't be mislead--the call to \n",
        "    # `train` just changes the *mode*, it doesn't *perform* the training.\n",
        "    # `dropout` and `batchnorm` layers behave differently during training\n",
        "    # vs. test (source: https://stackoverflow.com/questions/51433378/what-does-model-train-do-in-pytorch)\n",
        "    model.train()\n",
        "\n",
        "    # For each batch of training data...\n",
        "    for step, batch in enumerate(train_dataloader):\n",
        "\n",
        "        # Progress update every 40 batches.\n",
        "        if step % 40 == 0 and not step == 0:\n",
        "            # Calculate elapsed time in minutes.\n",
        "            elapsed = format_time(time.time() - t0)\n",
        "            \n",
        "            # Report progress.\n",
        "            print('  Batch {:>5,}  of  {:>5,}.    Elapsed: {:}.'.format(step, len(train_dataloader), elapsed))\n",
        "\n",
        "        # Unpack this training batch from our dataloader. \n",
        "        #\n",
        "        # As we unpack the batch, we'll also copy each tensor to the GPU using the \n",
        "        # `to` method.\n",
        "        #\n",
        "        # `batch` contains three pytorch tensors:\n",
        "        #   [0]: input ids \n",
        "        #   [1]: attention masks\n",
        "        #   [2]: labels \n",
        "        b_input_ids = batch[0].to(device)\n",
        "        b_input_mask = batch[1].to(device)\n",
        "        b_labels = batch[2].to(device)\n",
        "\n",
        "        # Always clear any previously calculated gradients before performing a\n",
        "        # backward pass. PyTorch doesn't do this automatically because \n",
        "        # accumulating the gradients is \"convenient while training RNNs\". \n",
        "        # (source: https://stackoverflow.com/questions/48001598/why-do-we-need-to-call-zero-grad-in-pytorch)\n",
        "        model.zero_grad()        \n",
        "\n",
        "        # Perform a forward pass (evaluate the model on this training batch).\n",
        "        # The documentation for this `model` function is here: \n",
        "        # https://huggingface.co/transformers/v2.2.0/model_doc/bert.html#transformers.BertForSequenceClassification\n",
        "        # It returns different numbers of parameters depending on what arguments\n",
        "        # arge given and what flags are set. For our useage here, it returns\n",
        "        # the loss (because we provided labels) and the \"logits\"--the model\n",
        "        # outputs prior to activation.\n",
        "        loss, logits = model(b_input_ids, \n",
        "                             token_type_ids=None, \n",
        "                             attention_mask=b_input_mask, \n",
        "                             labels=b_labels)\n",
        "\n",
        "        # Accumulate the training loss over all of the batches so that we can\n",
        "        # calculate the average loss at the end. `loss` is a Tensor containing a\n",
        "        # single value; the `.item()` function just returns the Python value \n",
        "        # from the tensor.\n",
        "        total_train_loss += loss.item()\n",
        "\n",
        "        # Perform a backward pass to calculate the gradients.\n",
        "        loss.backward()\n",
        "\n",
        "        # Clip the norm of the gradients to 1.0.\n",
        "        # This is to help prevent the \"exploding gradients\" problem.\n",
        "        torch.nn.utils.clip_grad_norm_(model.parameters(), 1.0)\n",
        "\n",
        "        # Update parameters and take a step using the computed gradient.\n",
        "        # The optimizer dictates the \"update rule\"--how the parameters are\n",
        "        # modified based on their gradients, the learning rate, etc.\n",
        "        optimizer.step()\n",
        "\n",
        "        # Update the learning rate.\n",
        "        scheduler.step()\n",
        "\n",
        "    # Calculate the average loss over all of the batches.\n",
        "    avg_train_loss = total_train_loss / len(train_dataloader)            \n",
        "    \n",
        "    # Measure how long this epoch took.\n",
        "    training_time = format_time(time.time() - t0)\n",
        "\n",
        "    print(\"\")\n",
        "    print(\"  Average training loss: {0:.2f}\".format(avg_train_loss))\n",
        "    print(\"  Training epcoh took: {:}\".format(training_time))\n",
        "\n",
        "    # ========================================\n",
        "    #               Validation\n",
        "    # ========================================\n",
        "    # After the completion of each training epoch, measure our performance on\n",
        "    # our validation set.\n",
        "\n",
        "    print(\"\")\n",
        "    print(\"Running Validation...\")\n",
        "\n",
        "    t0 = time.time()\n",
        "\n",
        "    # Put the model in evaluation mode--the dropout layers behave differently\n",
        "    # during evaluation.\n",
        "    model.eval()\n",
        "\n",
        "    # Tracking variables \n",
        "    total_eval_accuracy = 0\n",
        "    total_eval_loss = 0\n",
        "    nb_eval_steps = 0\n",
        "\n",
        "    # Evaluate data for one epoch\n",
        "    for batch in val_dataloader:\n",
        "        \n",
        "        # Unpack this training batch from our dataloader. \n",
        "        #\n",
        "        # As we unpack the batch, we'll also copy each tensor to the GPU using \n",
        "        # the `to` method.\n",
        "        #\n",
        "        # `batch` contains three pytorch tensors:\n",
        "        #   [0]: input ids \n",
        "        #   [1]: attention masks\n",
        "        #   [2]: labels \n",
        "        b_input_ids = batch[0].to(device)\n",
        "        b_input_mask = batch[1].to(device)\n",
        "        b_labels = batch[2].to(device)\n",
        "        \n",
        "        # Tell pytorch not to bother with constructing the compute graph during\n",
        "        # the forward pass, since this is only needed for backprop (training).\n",
        "        with torch.no_grad():        \n",
        "\n",
        "            # Forward pass, calculate logit predictions.\n",
        "            # token_type_ids is the same as the \"segment ids\", which \n",
        "            # differentiates sentence 1 and 2 in 2-sentence tasks.\n",
        "            # The documentation for this `model` function is here: \n",
        "            # https://huggingface.co/transformers/v2.2.0/model_doc/bert.html#transformers.BertForSequenceClassification\n",
        "            # Get the \"logits\" output by the model. The \"logits\" are the output\n",
        "            # values prior to applying an activation function like the softmax.\n",
        "            (loss, logits) = model(b_input_ids, \n",
        "                                   token_type_ids=None, \n",
        "                                   attention_mask=b_input_mask,\n",
        "                                   labels=b_labels)\n",
        "            \n",
        "        # Accumulate the validation loss.\n",
        "        total_eval_loss += loss.item()\n",
        "\n",
        "        # Move logits and labels to CPU\n",
        "        logits = logits.detach().cpu().numpy()\n",
        "        label_ids = b_labels.to('cpu').numpy()\n",
        "\n",
        "        # Calculate the accuracy for this batch of test sentences, and\n",
        "        # accumulate it over all batches.\n",
        "        total_eval_accuracy += flat_accuracy(logits, label_ids)\n",
        "        \n",
        "\n",
        "    # Report the final accuracy for this validation run.\n",
        "    avg_val_accuracy = total_eval_accuracy / len(val_dataloader)\n",
        "    print(\"  Accuracy: {0:.2f}\".format(avg_val_accuracy))\n",
        "\n",
        "    # Calculate the average loss over all of the batches.\n",
        "    avg_val_loss = total_eval_loss / len(val_dataloader)\n",
        "    \n",
        "    # Measure how long the validation run took.\n",
        "    validation_time = format_time(time.time() - t0)\n",
        "    \n",
        "    print(\"  Validation Loss: {0:.2f}\".format(avg_val_loss))\n",
        "    print(\"  Validation took: {:}\".format(validation_time))\n",
        "\n",
        "    # Record all statistics from this epoch.\n",
        "    training_stats.append(\n",
        "        {\n",
        "            'epoch': epoch_i + 1,\n",
        "            'Training Loss': avg_train_loss,\n",
        "            'Valid. Loss': avg_val_loss,\n",
        "            'Valid. Accur.': avg_val_accuracy,\n",
        "            'Training Time': training_time,\n",
        "            'Validation Time': validation_time\n",
        "        }\n",
        "    )\n",
        "\n",
        "    #save model for epoch\n",
        "\n",
        "    import os\n",
        "\n",
        "    output_dir = './model_save2/epoch_{}'.format(epoch_i)\n",
        "\n",
        "    # Create output directory if needed\n",
        "    if not os.path.exists(output_dir):\n",
        "      os.makedirs(output_dir)\n",
        "\n",
        "    print(\"Saving model to %s\" % output_dir)\n",
        "\n",
        "    # Save a trained model, configuration and tokenizer using `save_pretrained()`.\n",
        "    # They can then be reloaded using `from_pretrained()`\n",
        "    model_to_save = model.module if hasattr(model, 'module') else model  # Take care of distributed/parallel training\n",
        "    model_to_save.save_pretrained(output_dir)\n",
        "    tokenizer.save_pretrained(output_dir)\n",
        "    \n",
        "print(\"\")\n",
        "print(\"Training complete!\")\n",
        "\n",
        "print(\"Total training took {:} (h:mm:ss)\".format(format_time(time.time()-total_t0)))"
      ],
      "execution_count": 0,
      "outputs": [
        {
          "output_type": "stream",
          "text": [
            "\n",
            "======== Epoch 1 / 3 ========\n",
            "Training...\n",
            "  Batch    40  of  3,228.    Elapsed: 0:00:30.\n",
            "  Batch    80  of  3,228.    Elapsed: 0:00:58.\n",
            "  Batch   120  of  3,228.    Elapsed: 0:01:27.\n",
            "  Batch   160  of  3,228.    Elapsed: 0:01:55.\n",
            "  Batch   200  of  3,228.    Elapsed: 0:02:24.\n",
            "  Batch   240  of  3,228.    Elapsed: 0:02:53.\n",
            "  Batch   280  of  3,228.    Elapsed: 0:03:22.\n",
            "  Batch   320  of  3,228.    Elapsed: 0:03:50.\n",
            "  Batch   360  of  3,228.    Elapsed: 0:04:19.\n",
            "  Batch   400  of  3,228.    Elapsed: 0:04:48.\n",
            "  Batch   440  of  3,228.    Elapsed: 0:05:17.\n",
            "  Batch   480  of  3,228.    Elapsed: 0:05:45.\n",
            "  Batch   520  of  3,228.    Elapsed: 0:06:14.\n",
            "  Batch   560  of  3,228.    Elapsed: 0:06:43.\n",
            "  Batch   600  of  3,228.    Elapsed: 0:07:11.\n",
            "  Batch   640  of  3,228.    Elapsed: 0:07:40.\n",
            "  Batch   680  of  3,228.    Elapsed: 0:08:09.\n",
            "  Batch   720  of  3,228.    Elapsed: 0:08:38.\n",
            "  Batch   760  of  3,228.    Elapsed: 0:09:06.\n",
            "  Batch   800  of  3,228.    Elapsed: 0:09:35.\n",
            "  Batch   840  of  3,228.    Elapsed: 0:10:04.\n",
            "  Batch   880  of  3,228.    Elapsed: 0:10:32.\n",
            "  Batch   920  of  3,228.    Elapsed: 0:11:01.\n",
            "  Batch   960  of  3,228.    Elapsed: 0:11:29.\n",
            "  Batch 1,000  of  3,228.    Elapsed: 0:11:58.\n",
            "  Batch 1,040  of  3,228.    Elapsed: 0:12:27.\n",
            "  Batch 1,080  of  3,228.    Elapsed: 0:12:56.\n",
            "  Batch 1,120  of  3,228.    Elapsed: 0:13:25.\n",
            "  Batch 1,160  of  3,228.    Elapsed: 0:13:53.\n",
            "  Batch 1,200  of  3,228.    Elapsed: 0:14:22.\n",
            "  Batch 1,240  of  3,228.    Elapsed: 0:14:51.\n",
            "  Batch 1,280  of  3,228.    Elapsed: 0:15:19.\n",
            "  Batch 1,320  of  3,228.    Elapsed: 0:15:48.\n",
            "  Batch 1,360  of  3,228.    Elapsed: 0:16:17.\n",
            "  Batch 1,400  of  3,228.    Elapsed: 0:16:46.\n",
            "  Batch 1,440  of  3,228.    Elapsed: 0:17:15.\n",
            "  Batch 1,480  of  3,228.    Elapsed: 0:17:43.\n",
            "  Batch 1,520  of  3,228.    Elapsed: 0:18:12.\n",
            "  Batch 1,560  of  3,228.    Elapsed: 0:18:41.\n",
            "  Batch 1,600  of  3,228.    Elapsed: 0:19:09.\n",
            "  Batch 1,640  of  3,228.    Elapsed: 0:19:38.\n",
            "  Batch 1,680  of  3,228.    Elapsed: 0:20:07.\n",
            "  Batch 1,720  of  3,228.    Elapsed: 0:20:35.\n",
            "  Batch 1,760  of  3,228.    Elapsed: 0:21:04.\n",
            "  Batch 1,800  of  3,228.    Elapsed: 0:21:33.\n",
            "  Batch 1,840  of  3,228.    Elapsed: 0:22:02.\n",
            "  Batch 1,880  of  3,228.    Elapsed: 0:22:30.\n",
            "  Batch 1,920  of  3,228.    Elapsed: 0:22:59.\n",
            "  Batch 1,960  of  3,228.    Elapsed: 0:23:28.\n",
            "  Batch 2,000  of  3,228.    Elapsed: 0:23:56.\n",
            "  Batch 2,040  of  3,228.    Elapsed: 0:24:25.\n",
            "  Batch 2,080  of  3,228.    Elapsed: 0:24:54.\n",
            "  Batch 2,120  of  3,228.    Elapsed: 0:25:23.\n",
            "  Batch 2,160  of  3,228.    Elapsed: 0:25:51.\n",
            "  Batch 2,200  of  3,228.    Elapsed: 0:26:20.\n",
            "  Batch 2,240  of  3,228.    Elapsed: 0:26:49.\n",
            "  Batch 2,280  of  3,228.    Elapsed: 0:27:18.\n",
            "  Batch 2,320  of  3,228.    Elapsed: 0:27:46.\n",
            "  Batch 2,360  of  3,228.    Elapsed: 0:28:15.\n",
            "  Batch 2,400  of  3,228.    Elapsed: 0:28:44.\n",
            "  Batch 2,440  of  3,228.    Elapsed: 0:29:12.\n",
            "  Batch 2,480  of  3,228.    Elapsed: 0:29:41.\n",
            "  Batch 2,520  of  3,228.    Elapsed: 0:30:10.\n",
            "  Batch 2,560  of  3,228.    Elapsed: 0:30:39.\n",
            "  Batch 2,600  of  3,228.    Elapsed: 0:31:07.\n",
            "  Batch 2,640  of  3,228.    Elapsed: 0:31:36.\n",
            "  Batch 2,680  of  3,228.    Elapsed: 0:32:05.\n",
            "  Batch 2,720  of  3,228.    Elapsed: 0:32:34.\n",
            "  Batch 2,760  of  3,228.    Elapsed: 0:33:02.\n",
            "  Batch 2,800  of  3,228.    Elapsed: 0:33:31.\n",
            "  Batch 2,840  of  3,228.    Elapsed: 0:34:00.\n",
            "  Batch 2,880  of  3,228.    Elapsed: 0:34:28.\n",
            "  Batch 2,920  of  3,228.    Elapsed: 0:34:57.\n",
            "  Batch 2,960  of  3,228.    Elapsed: 0:35:26.\n",
            "  Batch 3,000  of  3,228.    Elapsed: 0:35:54.\n",
            "  Batch 3,040  of  3,228.    Elapsed: 0:36:23.\n",
            "  Batch 3,080  of  3,228.    Elapsed: 0:36:52.\n",
            "  Batch 3,120  of  3,228.    Elapsed: 0:37:21.\n",
            "  Batch 3,160  of  3,228.    Elapsed: 0:37:49.\n",
            "  Batch 3,200  of  3,228.    Elapsed: 0:38:18.\n",
            "\n",
            "  Average training loss: 0.62\n",
            "  Training epcoh took: 0:38:38\n",
            "\n",
            "Running Validation...\n",
            "  Accuracy: 0.64\n",
            "  Validation Loss: 0.58\n",
            "  Validation took: 0:09:15\n",
            "Saving model to ./model_save2/epoch_0\n",
            "\n",
            "======== Epoch 2 / 3 ========\n",
            "Training...\n",
            "  Batch    40  of  3,228.    Elapsed: 0:00:29.\n",
            "  Batch    80  of  3,228.    Elapsed: 0:00:58.\n",
            "  Batch   120  of  3,228.    Elapsed: 0:01:26.\n",
            "  Batch   160  of  3,228.    Elapsed: 0:01:55.\n",
            "  Batch   200  of  3,228.    Elapsed: 0:02:24.\n",
            "  Batch   240  of  3,228.    Elapsed: 0:02:52.\n",
            "  Batch   280  of  3,228.    Elapsed: 0:03:21.\n",
            "  Batch   320  of  3,228.    Elapsed: 0:03:50.\n",
            "  Batch   360  of  3,228.    Elapsed: 0:04:18.\n",
            "  Batch   400  of  3,228.    Elapsed: 0:04:47.\n",
            "  Batch   440  of  3,228.    Elapsed: 0:05:16.\n",
            "  Batch   480  of  3,228.    Elapsed: 0:05:44.\n",
            "  Batch   520  of  3,228.    Elapsed: 0:06:13.\n",
            "  Batch   560  of  3,228.    Elapsed: 0:06:42.\n",
            "  Batch   600  of  3,228.    Elapsed: 0:07:10.\n",
            "  Batch   640  of  3,228.    Elapsed: 0:07:39.\n",
            "  Batch   680  of  3,228.    Elapsed: 0:08:08.\n",
            "  Batch   720  of  3,228.    Elapsed: 0:08:36.\n",
            "  Batch   760  of  3,228.    Elapsed: 0:09:05.\n",
            "  Batch   800  of  3,228.    Elapsed: 0:09:34.\n",
            "  Batch   840  of  3,228.    Elapsed: 0:10:02.\n",
            "  Batch   880  of  3,228.    Elapsed: 0:10:31.\n",
            "  Batch   920  of  3,228.    Elapsed: 0:11:00.\n",
            "  Batch   960  of  3,228.    Elapsed: 0:11:29.\n",
            "  Batch 1,000  of  3,228.    Elapsed: 0:11:57.\n",
            "  Batch 1,040  of  3,228.    Elapsed: 0:12:26.\n",
            "  Batch 1,080  of  3,228.    Elapsed: 0:12:54.\n",
            "  Batch 1,120  of  3,228.    Elapsed: 0:13:23.\n",
            "  Batch 1,160  of  3,228.    Elapsed: 0:13:52.\n",
            "  Batch 1,200  of  3,228.    Elapsed: 0:14:21.\n",
            "  Batch 1,240  of  3,228.    Elapsed: 0:14:49.\n",
            "  Batch 1,280  of  3,228.    Elapsed: 0:15:18.\n",
            "  Batch 1,320  of  3,228.    Elapsed: 0:15:47.\n",
            "  Batch 1,360  of  3,228.    Elapsed: 0:16:15.\n",
            "  Batch 1,400  of  3,228.    Elapsed: 0:16:44.\n",
            "  Batch 1,440  of  3,228.    Elapsed: 0:17:13.\n",
            "  Batch 1,480  of  3,228.    Elapsed: 0:17:41.\n",
            "  Batch 1,520  of  3,228.    Elapsed: 0:18:10.\n",
            "  Batch 1,560  of  3,228.    Elapsed: 0:18:39.\n",
            "  Batch 1,600  of  3,228.    Elapsed: 0:19:07.\n",
            "  Batch 1,640  of  3,228.    Elapsed: 0:19:36.\n",
            "  Batch 1,680  of  3,228.    Elapsed: 0:20:05.\n",
            "  Batch 1,720  of  3,228.    Elapsed: 0:20:34.\n",
            "  Batch 1,760  of  3,228.    Elapsed: 0:21:03.\n",
            "  Batch 1,800  of  3,228.    Elapsed: 0:21:31.\n",
            "  Batch 1,840  of  3,228.    Elapsed: 0:22:00.\n",
            "  Batch 1,880  of  3,228.    Elapsed: 0:22:29.\n",
            "  Batch 1,920  of  3,228.    Elapsed: 0:22:58.\n",
            "  Batch 1,960  of  3,228.    Elapsed: 0:23:26.\n",
            "  Batch 2,000  of  3,228.    Elapsed: 0:23:55.\n",
            "  Batch 2,040  of  3,228.    Elapsed: 0:24:24.\n",
            "  Batch 2,080  of  3,228.    Elapsed: 0:24:52.\n",
            "  Batch 2,120  of  3,228.    Elapsed: 0:25:21.\n",
            "  Batch 2,160  of  3,228.    Elapsed: 0:25:50.\n",
            "  Batch 2,200  of  3,228.    Elapsed: 0:26:19.\n",
            "  Batch 2,240  of  3,228.    Elapsed: 0:26:47.\n",
            "  Batch 2,280  of  3,228.    Elapsed: 0:27:16.\n",
            "  Batch 2,320  of  3,228.    Elapsed: 0:27:45.\n",
            "  Batch 2,360  of  3,228.    Elapsed: 0:28:13.\n",
            "  Batch 2,400  of  3,228.    Elapsed: 0:28:42.\n",
            "  Batch 2,440  of  3,228.    Elapsed: 0:29:11.\n",
            "  Batch 2,480  of  3,228.    Elapsed: 0:29:40.\n",
            "  Batch 2,520  of  3,228.    Elapsed: 0:30:08.\n",
            "  Batch 2,560  of  3,228.    Elapsed: 0:30:37.\n",
            "  Batch 2,600  of  3,228.    Elapsed: 0:31:06.\n",
            "  Batch 2,640  of  3,228.    Elapsed: 0:31:34.\n",
            "  Batch 2,680  of  3,228.    Elapsed: 0:32:03.\n",
            "  Batch 2,720  of  3,228.    Elapsed: 0:32:32.\n",
            "  Batch 2,760  of  3,228.    Elapsed: 0:33:01.\n",
            "  Batch 2,800  of  3,228.    Elapsed: 0:33:29.\n",
            "  Batch 2,840  of  3,228.    Elapsed: 0:33:58.\n",
            "  Batch 2,880  of  3,228.    Elapsed: 0:34:27.\n",
            "  Batch 2,920  of  3,228.    Elapsed: 0:34:55.\n",
            "  Batch 2,960  of  3,228.    Elapsed: 0:35:24.\n",
            "  Batch 3,000  of  3,228.    Elapsed: 0:35:53.\n",
            "  Batch 3,040  of  3,228.    Elapsed: 0:36:22.\n",
            "  Batch 3,080  of  3,228.    Elapsed: 0:36:50.\n",
            "  Batch 3,120  of  3,228.    Elapsed: 0:37:19.\n",
            "  Batch 3,160  of  3,228.    Elapsed: 0:37:48.\n",
            "  Batch 3,200  of  3,228.    Elapsed: 0:38:16.\n",
            "\n",
            "  Average training loss: 0.55\n",
            "  Training epcoh took: 0:38:36\n",
            "\n",
            "Running Validation...\n",
            "  Accuracy: 0.67\n",
            "  Validation Loss: 0.59\n",
            "  Validation took: 0:09:14\n",
            "Saving model to ./model_save2/epoch_1\n",
            "\n",
            "======== Epoch 3 / 3 ========\n",
            "Training...\n",
            "  Batch    40  of  3,228.    Elapsed: 0:00:29.\n",
            "  Batch    80  of  3,228.    Elapsed: 0:00:57.\n",
            "  Batch   120  of  3,228.    Elapsed: 0:01:26.\n",
            "  Batch   160  of  3,228.    Elapsed: 0:01:55.\n",
            "  Batch   200  of  3,228.    Elapsed: 0:02:24.\n",
            "  Batch   240  of  3,228.    Elapsed: 0:02:52.\n",
            "  Batch   280  of  3,228.    Elapsed: 0:03:21.\n",
            "  Batch   320  of  3,228.    Elapsed: 0:03:50.\n",
            "  Batch   360  of  3,228.    Elapsed: 0:04:19.\n",
            "  Batch   400  of  3,228.    Elapsed: 0:04:47.\n",
            "  Batch   440  of  3,228.    Elapsed: 0:05:16.\n",
            "  Batch   480  of  3,228.    Elapsed: 0:05:45.\n",
            "  Batch   520  of  3,228.    Elapsed: 0:06:13.\n",
            "  Batch   560  of  3,228.    Elapsed: 0:06:42.\n",
            "  Batch   600  of  3,228.    Elapsed: 0:07:11.\n",
            "  Batch   640  of  3,228.    Elapsed: 0:07:39.\n",
            "  Batch   680  of  3,228.    Elapsed: 0:08:08.\n",
            "  Batch   720  of  3,228.    Elapsed: 0:08:37.\n",
            "  Batch   760  of  3,228.    Elapsed: 0:09:06.\n",
            "  Batch   800  of  3,228.    Elapsed: 0:09:34.\n",
            "  Batch   840  of  3,228.    Elapsed: 0:10:03.\n",
            "  Batch   880  of  3,228.    Elapsed: 0:10:32.\n",
            "  Batch   920  of  3,228.    Elapsed: 0:11:00.\n",
            "  Batch   960  of  3,228.    Elapsed: 0:11:29.\n",
            "  Batch 1,000  of  3,228.    Elapsed: 0:11:58.\n",
            "  Batch 1,040  of  3,228.    Elapsed: 0:12:26.\n",
            "  Batch 1,080  of  3,228.    Elapsed: 0:12:55.\n",
            "  Batch 1,120  of  3,228.    Elapsed: 0:13:24.\n",
            "  Batch 1,160  of  3,228.    Elapsed: 0:13:53.\n",
            "  Batch 1,200  of  3,228.    Elapsed: 0:14:21.\n",
            "  Batch 1,240  of  3,228.    Elapsed: 0:14:50.\n",
            "  Batch 1,280  of  3,228.    Elapsed: 0:15:19.\n",
            "  Batch 1,320  of  3,228.    Elapsed: 0:15:47.\n",
            "  Batch 1,360  of  3,228.    Elapsed: 0:16:16.\n",
            "  Batch 1,400  of  3,228.    Elapsed: 0:16:45.\n",
            "  Batch 1,440  of  3,228.    Elapsed: 0:17:13.\n",
            "  Batch 1,480  of  3,228.    Elapsed: 0:17:42.\n",
            "  Batch 1,520  of  3,228.    Elapsed: 0:18:11.\n",
            "  Batch 1,560  of  3,228.    Elapsed: 0:18:39.\n",
            "  Batch 1,600  of  3,228.    Elapsed: 0:19:08.\n",
            "  Batch 1,640  of  3,228.    Elapsed: 0:19:37.\n",
            "  Batch 1,680  of  3,228.    Elapsed: 0:20:05.\n",
            "  Batch 1,720  of  3,228.    Elapsed: 0:20:34.\n",
            "  Batch 1,760  of  3,228.    Elapsed: 0:21:03.\n",
            "  Batch 1,800  of  3,228.    Elapsed: 0:21:31.\n",
            "  Batch 1,840  of  3,228.    Elapsed: 0:22:00.\n",
            "  Batch 1,880  of  3,228.    Elapsed: 0:22:29.\n",
            "  Batch 1,920  of  3,228.    Elapsed: 0:22:58.\n",
            "  Batch 1,960  of  3,228.    Elapsed: 0:23:26.\n",
            "  Batch 2,000  of  3,228.    Elapsed: 0:23:55.\n",
            "  Batch 2,040  of  3,228.    Elapsed: 0:24:24.\n",
            "  Batch 2,080  of  3,228.    Elapsed: 0:24:52.\n",
            "  Batch 2,120  of  3,228.    Elapsed: 0:25:21.\n",
            "  Batch 2,160  of  3,228.    Elapsed: 0:25:50.\n",
            "  Batch 2,200  of  3,228.    Elapsed: 0:26:18.\n",
            "  Batch 2,240  of  3,228.    Elapsed: 0:26:47.\n",
            "  Batch 2,280  of  3,228.    Elapsed: 0:27:16.\n",
            "  Batch 2,320  of  3,228.    Elapsed: 0:27:44.\n",
            "  Batch 2,360  of  3,228.    Elapsed: 0:28:13.\n",
            "  Batch 2,400  of  3,228.    Elapsed: 0:28:42.\n",
            "  Batch 2,440  of  3,228.    Elapsed: 0:29:11.\n",
            "  Batch 2,480  of  3,228.    Elapsed: 0:29:39.\n",
            "  Batch 2,520  of  3,228.    Elapsed: 0:30:08.\n",
            "  Batch 2,560  of  3,228.    Elapsed: 0:30:37.\n",
            "  Batch 2,600  of  3,228.    Elapsed: 0:31:06.\n",
            "  Batch 2,640  of  3,228.    Elapsed: 0:31:34.\n",
            "  Batch 2,680  of  3,228.    Elapsed: 0:32:03.\n",
            "  Batch 2,720  of  3,228.    Elapsed: 0:32:32.\n",
            "  Batch 2,760  of  3,228.    Elapsed: 0:33:00.\n",
            "  Batch 2,800  of  3,228.    Elapsed: 0:33:29.\n",
            "  Batch 2,840  of  3,228.    Elapsed: 0:33:58.\n",
            "  Batch 2,880  of  3,228.    Elapsed: 0:34:26.\n",
            "  Batch 2,920  of  3,228.    Elapsed: 0:34:55.\n",
            "  Batch 2,960  of  3,228.    Elapsed: 0:35:24.\n",
            "  Batch 3,000  of  3,228.    Elapsed: 0:35:53.\n",
            "  Batch 3,040  of  3,228.    Elapsed: 0:36:21.\n",
            "  Batch 3,080  of  3,228.    Elapsed: 0:36:50.\n",
            "  Batch 3,120  of  3,228.    Elapsed: 0:37:19.\n",
            "  Batch 3,160  of  3,228.    Elapsed: 0:37:47.\n",
            "  Batch 3,200  of  3,228.    Elapsed: 0:38:16.\n",
            "\n",
            "  Average training loss: 0.45\n",
            "  Training epcoh took: 0:38:36\n",
            "\n",
            "Running Validation...\n",
            "  Accuracy: 0.65\n",
            "  Validation Loss: 0.68\n",
            "  Validation took: 0:09:14\n",
            "Saving model to ./model_save2/epoch_2\n",
            "\n",
            "Training complete!\n",
            "Total training took 2:23:35 (h:mm:ss)\n"
          ],
          "name": "stdout"
        }
      ]
    },
    {
      "cell_type": "code",
      "metadata": {
        "id": "XpiQ1LZ3rsdG",
        "colab_type": "code",
        "colab": {}
      },
      "source": [
        "!cp -r ./model_save2/ \"/drive/My Drive\""
      ],
      "execution_count": 0,
      "outputs": []
    },
    {
      "cell_type": "code",
      "metadata": {
        "id": "O8vT9lN_VOjk",
        "colab_type": "code",
        "outputId": "f3eab69c-dd75-4ce4-d188-b0cd1b899eeb",
        "colab": {
          "base_uri": "https://localhost:8080/",
          "height": 173
        }
      },
      "source": [
        "import pandas as pd\n",
        "\n",
        "# Display floats with two decimal places.\n",
        "pd.set_option('precision', 2)\n",
        "\n",
        "# Create a DataFrame from our training statistics.\n",
        "df_stats = pd.DataFrame(data=training_stats)\n",
        "\n",
        "# Use the 'epoch' as the row index.\n",
        "df_stats = df_stats.set_index('epoch')\n",
        "\n",
        "# A hack to force the column headers to wrap.\n",
        "#df = df.style.set_table_styles([dict(selector=\"th\",props=[('max-width', '70px')])])\n",
        "\n",
        "# Display the table.\n",
        "df_stats"
      ],
      "execution_count": 0,
      "outputs": [
        {
          "output_type": "execute_result",
          "data": {
            "text/html": [
              "<div>\n",
              "<style scoped>\n",
              "    .dataframe tbody tr th:only-of-type {\n",
              "        vertical-align: middle;\n",
              "    }\n",
              "\n",
              "    .dataframe tbody tr th {\n",
              "        vertical-align: top;\n",
              "    }\n",
              "\n",
              "    .dataframe thead th {\n",
              "        text-align: right;\n",
              "    }\n",
              "</style>\n",
              "<table border=\"1\" class=\"dataframe\">\n",
              "  <thead>\n",
              "    <tr style=\"text-align: right;\">\n",
              "      <th></th>\n",
              "      <th>Training Loss</th>\n",
              "      <th>Valid. Loss</th>\n",
              "      <th>Valid. Accur.</th>\n",
              "      <th>Training Time</th>\n",
              "      <th>Validation Time</th>\n",
              "    </tr>\n",
              "    <tr>\n",
              "      <th>epoch</th>\n",
              "      <th></th>\n",
              "      <th></th>\n",
              "      <th></th>\n",
              "      <th></th>\n",
              "      <th></th>\n",
              "    </tr>\n",
              "  </thead>\n",
              "  <tbody>\n",
              "    <tr>\n",
              "      <th>1</th>\n",
              "      <td>0.62</td>\n",
              "      <td>0.58</td>\n",
              "      <td>0.64</td>\n",
              "      <td>0:38:38</td>\n",
              "      <td>0:09:15</td>\n",
              "    </tr>\n",
              "    <tr>\n",
              "      <th>2</th>\n",
              "      <td>0.55</td>\n",
              "      <td>0.59</td>\n",
              "      <td>0.67</td>\n",
              "      <td>0:38:36</td>\n",
              "      <td>0:09:14</td>\n",
              "    </tr>\n",
              "    <tr>\n",
              "      <th>3</th>\n",
              "      <td>0.45</td>\n",
              "      <td>0.68</td>\n",
              "      <td>0.65</td>\n",
              "      <td>0:38:36</td>\n",
              "      <td>0:09:14</td>\n",
              "    </tr>\n",
              "  </tbody>\n",
              "</table>\n",
              "</div>"
            ],
            "text/plain": [
              "       Training Loss  Valid. Loss  Valid. Accur. Training Time Validation Time\n",
              "epoch                                                                         \n",
              "1               0.62         0.58           0.64       0:38:38         0:09:15\n",
              "2               0.55         0.59           0.67       0:38:36         0:09:14\n",
              "3               0.45         0.68           0.65       0:38:36         0:09:14"
            ]
          },
          "metadata": {
            "tags": []
          },
          "execution_count": 64
        }
      ]
    },
    {
      "cell_type": "code",
      "metadata": {
        "id": "eFOYhwOLVWmm",
        "colab_type": "code",
        "outputId": "b81c211a-f510-4010-f1d8-56a1fb138798",
        "colab": {
          "base_uri": "https://localhost:8080/",
          "height": 427
        }
      },
      "source": [
        "#We do not have validation labels t\n",
        "import matplotlib.pyplot as plt\n",
        "% matplotlib inline\n",
        "\n",
        "import seaborn as sns\n",
        "\n",
        "# Use plot styling from seaborn.\n",
        "sns.set(style='darkgrid')\n",
        "\n",
        "# Increase the plot size and font size.\n",
        "sns.set(font_scale=1.5)\n",
        "plt.rcParams[\"figure.figsize\"] = (12,6)\n",
        "\n",
        "# Plot the learning curve.\n",
        "plt.plot(df_stats['Training Loss'], 'b-o', label=\"Training\")\n",
        "plt.plot(df_stats['Valid. Loss'], 'g-o', label=\"Validation\")\n",
        "\n",
        "# Label the plot.\n",
        "plt.title(\"Training Loss\")\n",
        "plt.xlabel(\"Epoch\")\n",
        "plt.ylabel(\"Loss\")\n",
        "plt.legend()\n",
        "plt.xticks([1, 2, 3, 4])\n",
        "\n",
        "plt.show()"
      ],
      "execution_count": 0,
      "outputs": [
        {
          "output_type": "display_data",
          "data": {
            "image/png": "[encoded data removed]",
            "text/plain": [
              "<Figure size 864x432 with 1 Axes>"
            ]
          },
          "metadata": {
            "tags": []
          }
        }
      ]
    },
    {
      "cell_type": "code",
      "metadata": {
        "id": "60uJ0z5X_ybO",
        "colab_type": "code",
        "outputId": "86cfaf2c-9460-4f3c-810a-63298d8708c4",
        "colab": {
          "base_uri": "https://localhost:8080/",
          "height": 51
        }
      },
      "source": [
        "# Prediction on test set\n",
        "\n",
        "print('Predicting labels for {:,} test sentences...'.format(len(val_inputs)))\n",
        "\n",
        "# Put model in evaluation mode\n",
        "model.eval()\n",
        "\n",
        "# Tracking variables \n",
        "predictions = []\n",
        "true_labels = []\n",
        "\n",
        "# Predict \n",
        "for batch in val_dataloader:\n",
        "  # Add batch to GPU\n",
        "  batch = tuple(t.to(device) for t in batch)\n",
        "  \n",
        "  # Unpack the inputs from our dataloader\n",
        "  b_input_ids, b_input_mask, b_labels = batch\n",
        "  \n",
        "  # Telling the model not to compute or store gradients, saving memory and \n",
        "  # speeding up prediction\n",
        "  with torch.no_grad():\n",
        "      # Forward pass, calculate logit predictions\n",
        "      outputs = model(b_input_ids, token_type_ids=None, \n",
        "                      attention_mask=b_input_mask)\n",
        "\n",
        "  logits = outputs[0]\n",
        "\n",
        "  # Move logits and labels to CPU\n",
        "  logits = logits.detach().cpu().numpy()\n",
        "  label_ids = b_labels.to('cpu').numpy()\n",
        "  \n",
        "  # Store predictions and true labels\n",
        "  predictions.append(logits)\n",
        "  true_labels.append(label_ids)\n",
        "\n",
        "print('    DONE.')"
      ],
      "execution_count": 0,
      "outputs": [
        {
          "output_type": "stream",
          "text": [
            "Predicting labels for 35,918 test sentences...\n",
            "    DONE.\n"
          ],
          "name": "stdout"
        }
      ]
    },
    {
      "cell_type": "code",
      "metadata": {
        "id": "JCIW87IFZKp8",
        "colab_type": "code",
        "outputId": "66d0b2be-f097-40ab-982b-05333d392194",
        "colab": {
          "base_uri": "https://localhost:8080/",
          "height": 34
        }
      },
      "source": [
        "import itertools\n",
        "y_pred = []\n",
        "for i in range(len(predictions)):\n",
        "  \n",
        "  # The predictions for this batch are a 5-column ndarray with a row for each batch (32). \n",
        "  #Pick the label with the highest value and consider the index = class\n",
        "  pred_labels_i = list(np.argmax(predictions[i], axis=1))\n",
        "  y_pred.append(pred_labels_i)\n",
        "\n",
        "y_pred = list(itertools.chain.from_iterable(y_pred))\n",
        "true_labels = list(itertools.chain.from_iterable(true_labels))\n",
        "y_pred[0:5]"
      ],
      "execution_count": 0,
      "outputs": [
        {
          "output_type": "execute_result",
          "data": {
            "text/plain": [
              "[0, 0, 1, 0, 0]"
            ]
          },
          "metadata": {
            "tags": []
          },
          "execution_count": 67
        }
      ]
    },
    {
      "cell_type": "code",
      "metadata": {
        "id": "fFk0A1t8Gbbz",
        "colab_type": "code",
        "outputId": "a2a221e2-941e-4a48-c059-15633606ecf3",
        "colab": {
          "base_uri": "https://localhost:8080/",
          "height": 34
        }
      },
      "source": [
        "true_labels[0:5]"
      ],
      "execution_count": 0,
      "outputs": [
        {
          "output_type": "execute_result",
          "data": {
            "text/plain": [
              "[1, 0, 0, 0, 0]"
            ]
          },
          "metadata": {
            "tags": []
          },
          "execution_count": 68
        }
      ]
    },
    {
      "cell_type": "code",
      "metadata": {
        "id": "BL3E5firGuka",
        "colab_type": "code",
        "outputId": "7a346287-2e03-40bd-c853-6bda39fd9beb",
        "colab": {
          "base_uri": "https://localhost:8080/",
          "height": 34
        }
      },
      "source": [
        "from sklearn.metrics import f1_score\n",
        "from sklearn.metrics import roc_curve, auc\n",
        "from sklearn.metrics import average_precision_score\n",
        "\n",
        "f1_score(true_labels,y_pred, average='micro')"
      ],
      "execution_count": 0,
      "outputs": [
        {
          "output_type": "execute_result",
          "data": {
            "text/plain": [
              "0.6495350520630324"
            ]
          },
          "metadata": {
            "tags": []
          },
          "execution_count": 69
        }
      ]
    },
    {
      "cell_type": "code",
      "metadata": {
        "id": "jnUhLvNcJK7I",
        "colab_type": "code",
        "outputId": "9ef10c19-ee85-4867-f437-f9675259292a",
        "colab": {
          "base_uri": "https://localhost:8080/",
          "height": 136
        }
      },
      "source": [
        "from sklearn.metrics import accuracy_score\n",
        "# Combine the results across all batches. \n",
        "# flat_predictions = np.concatenate(predictions, axis=0)\n",
        "\n",
        "# For each sample, pick the label (0 or 1) with the higher score.\n",
        "# flat_predictions = np.argmax(flat_predictions, axis=1).flatten()\n",
        "flat_predictions = y_pred\n",
        "# Combine the correct labels for each batch into a single list.\n",
        "# flat_true_labels = np.concatenate(true_labels, axis=0)\n",
        "flat_true_labels = true_labels\n",
        "\n",
        "# Calculate the MCC\n",
        "# mcc = matthews_corrcoef(flat_true_labels, flat_predictions)\n",
        "f1_weighted = f1_score(flat_true_labels, flat_predictions,average='weighted')\n",
        "f1_micro = f1_score(flat_true_labels, flat_predictions,average='micro')\n",
        "f1_macro = f1_score(flat_true_labels, flat_predictions,average='macro')\n",
        "acc = accuracy_score(flat_true_labels, flat_predictions)\n",
        "fpr, tpr, thresholds = roc_curve(flat_true_labels, flat_predictions)\n",
        "auc_score = auc(fpr, tpr)\n",
        "ap = average_precision_score(flat_true_labels, flat_predictions)\n",
        "\n",
        "\n",
        "# print('Total MCC: %.3f' % mcc)\n",
        "print()\n",
        "print('Total f1_weighted: %.3f' % f1_weighted)\n",
        "print('Total f1_micro: %.3f' % f1_micro)\n",
        "print('Total f1_macro: %.3f' % f1_macro)\n",
        "print('Total acc: %.3f' % acc)\n",
        "print('AUC: %.3f' % auc_score)\n",
        "print('AP: %.3f' % ap)\n"
      ],
      "execution_count": 0,
      "outputs": [
        {
          "output_type": "stream",
          "text": [
            "\n",
            "Total f1_weighted: 0.719\n",
            "Total f1_micro: 0.650\n",
            "Total f1_macro: 0.528\n",
            "Total acc: 0.650\n",
            "AUC: 0.671\n",
            "AP: 0.157\n"
          ],
          "name": "stdout"
        }
      ]
    },
    {
      "cell_type": "code",
      "metadata": {
        "id": "sLCurel7fgLF",
        "colab_type": "code",
        "colab": {}
      },
      "source": [
        "final = pd.DataFrame()\n",
        "# final['PhraseId'] = X_test['PhraseId']\n",
        "final['Sentiment'] = y_pred\n",
        "\n",
        "final.to_csv('/drive/My Drive/ML_100.csv', index = False)"
      ],
      "execution_count": 0,
      "outputs": []
    },
    {
      "cell_type": "code",
      "metadata": {
        "id": "1TN_ZmY2sSl0",
        "colab_type": "code",
        "colab": {}
      },
      "source": [
        "output_dir_0  = './model_save1/epoch_0'\n",
        "output_dir_1  = './model_save1/epoch_1'"
      ],
      "execution_count": 0,
      "outputs": []
    },
    {
      "cell_type": "markdown",
      "metadata": {
        "id": "ZRHg2uEVvCuD",
        "colab_type": "text"
      },
      "source": [
        "EPOCH 1"
      ]
    },
    {
      "cell_type": "code",
      "metadata": {
        "id": "fRnr_EOrrwzQ",
        "colab_type": "code",
        "outputId": "1599301d-0ef2-485e-d617-5732e8e38226",
        "colab": {
          "base_uri": "https://localhost:8080/",
          "height": 232
        }
      },
      "source": [
        "# Load a trained model and vocabulary that you have fine-tuned\n",
        "model = model.from_pretrained(output_dir_1)\n",
        "tokenizer = tokenizer.from_pretrained(output_dir_1)\n",
        "\n",
        "# Copy the model to the GPU.\n",
        "model.to(device)"
      ],
      "execution_count": 18,
      "outputs": [
        {
          "output_type": "error",
          "ename": "NameError",
          "evalue": "ignored",
          "traceback": [
            "\u001b[0;31m---------------------------------------------------------------------------\u001b[0m",
            "\u001b[0;31mNameError\u001b[0m                                 Traceback (most recent call last)",
            "\u001b[0;32m<ipython-input-18-a7dc033b265f>\u001b[0m in \u001b[0;36m<module>\u001b[0;34m()\u001b[0m\n\u001b[1;32m      1\u001b[0m \u001b[0;31m# Load a trained model and vocabulary that you have fine-tuned\u001b[0m\u001b[0;34m\u001b[0m\u001b[0;34m\u001b[0m\u001b[0;34m\u001b[0m\u001b[0m\n\u001b[0;32m----> 2\u001b[0;31m \u001b[0mmodel\u001b[0m \u001b[0;34m=\u001b[0m \u001b[0mmodel\u001b[0m\u001b[0;34m.\u001b[0m\u001b[0mfrom_pretrained\u001b[0m\u001b[0;34m(\u001b[0m\u001b[0moutput_dir_1\u001b[0m\u001b[0;34m)\u001b[0m\u001b[0;34m\u001b[0m\u001b[0;34m\u001b[0m\u001b[0m\n\u001b[0m\u001b[1;32m      3\u001b[0m \u001b[0mtokenizer\u001b[0m \u001b[0;34m=\u001b[0m \u001b[0mtokenizer\u001b[0m\u001b[0;34m.\u001b[0m\u001b[0mfrom_pretrained\u001b[0m\u001b[0;34m(\u001b[0m\u001b[0moutput_dir_1\u001b[0m\u001b[0;34m)\u001b[0m\u001b[0;34m\u001b[0m\u001b[0;34m\u001b[0m\u001b[0m\n\u001b[1;32m      4\u001b[0m \u001b[0;34m\u001b[0m\u001b[0m\n\u001b[1;32m      5\u001b[0m \u001b[0;31m# Copy the model to the GPU.\u001b[0m\u001b[0;34m\u001b[0m\u001b[0;34m\u001b[0m\u001b[0;34m\u001b[0m\u001b[0m\n",
            "\u001b[0;31mNameError\u001b[0m: name 'model' is not defined"
          ]
        }
      ]
    },
    {
      "cell_type": "code",
      "metadata": {
        "id": "okutIz06smPi",
        "colab_type": "code",
        "colab": {}
      },
      "source": [
        "# Prediction on test set\n",
        "\n",
        "print('Predicting labels for {:,} test sentences...'.format(len(val_inputs)))\n",
        "\n",
        "# Put model in evaluation mode\n",
        "model.eval()\n",
        "\n",
        "# Tracking variables \n",
        "predictions = []\n",
        "true_labels = []\n",
        "\n",
        "# Predict \n",
        "for batch in val_dataloader:\n",
        "  # Add batch to GPU\n",
        "  batch = tuple(t.to(device) for t in batch)\n",
        "  \n",
        "  # Unpack the inputs from our dataloader\n",
        "  b_input_ids, b_input_mask, b_labels = batch\n",
        "  \n",
        "  # Telling the model not to compute or store gradients, saving memory and \n",
        "  # speeding up prediction\n",
        "  with torch.no_grad():\n",
        "      # Forward pass, calculate logit predictions\n",
        "      outputs = model(b_input_ids, token_type_ids=None, \n",
        "                      attention_mask=b_input_mask)\n",
        "\n",
        "  logits = outputs[0]\n",
        "\n",
        "  # Move logits and labels to CPU\n",
        "  logits = logits.detach().cpu().numpy()\n",
        "  label_ids = b_labels.to('cpu').numpy()\n",
        "  \n",
        "  # Store predictions and true labels\n",
        "  predictions.append(logits)\n",
        "  true_labels.append(label_ids)\n",
        "\n",
        "print('    DONE.')"
      ],
      "execution_count": 0,
      "outputs": []
    },
    {
      "cell_type": "code",
      "metadata": {
        "id": "6sg6qDaYu2Tx",
        "colab_type": "code",
        "colab": {}
      },
      "source": [
        "import itertools\n",
        "y_pred = []\n",
        "for i in range(len(predictions)):\n",
        "  \n",
        "  # The predictions for this batch are a 5-column ndarray with a row for each batch (32). \n",
        "  #Pick the label with the highest value and consider the index = class\n",
        "  pred_labels_i = list(np.argmax(predictions[i], axis=1))\n",
        "  y_pred.append(pred_labels_i)\n",
        "\n",
        "y_pred = list(itertools.chain.from_iterable(y_pred))\n",
        "true_labels = list(itertools.chain.from_iterable(true_labels))\n",
        "y_pred[0:5]"
      ],
      "execution_count": 0,
      "outputs": []
    },
    {
      "cell_type": "code",
      "metadata": {
        "id": "TDtuLKRLvdKm",
        "colab_type": "code",
        "colab": {}
      },
      "source": [
        "true_labels[0:5]"
      ],
      "execution_count": 0,
      "outputs": []
    },
    {
      "cell_type": "code",
      "metadata": {
        "id": "EIxhTCZIu-uB",
        "colab_type": "code",
        "colab": {}
      },
      "source": [
        "flat_predictions = y_pred\n",
        "# Combine the correct labels for each batch into a single list.\n",
        "# flat_true_labels = np.concatenate(true_labels, axis=0)\n",
        "flat_true_labels = true_labels\n",
        "\n",
        "# Calculate the MCC\n",
        "# mcc = matthews_corrcoef(flat_true_labels, flat_predictions)\n",
        "f1_weighted = f1_score(flat_true_labels, flat_predictions,average='weighted')\n",
        "f1_micro = f1_score(flat_true_labels, flat_predictions,average='micro')\n",
        "f1_macro = f1_score(flat_true_labels, flat_predictions,average='macro')\n",
        "acc = accuracy_score(flat_true_labels, flat_predictions)\n",
        "fpr, tpr, thresholds = roc_curve(flat_true_labels, flat_predictions)\n",
        "auc_score = auc(fpr, tpr)\n",
        "ap = average_precision_score(flat_true_labels, flat_predictions)\n",
        "\n",
        "\n",
        "# print('Total MCC: %.3f' % mcc)\n",
        "print()\n",
        "print('Total f1_weighted: %.3f' % f1_weighted)\n",
        "print('Total f1_micro: %.3f' % f1_micro)\n",
        "print('Total f1_macro: %.3f' % f1_macro)\n",
        "print('Total acc: %.3f' % acc)\n",
        "print('AUC: %.3f' % auc_score)\n",
        "print('AP: %.3f' % ap)"
      ],
      "execution_count": 0,
      "outputs": []
    },
    {
      "cell_type": "code",
      "metadata": {
        "id": "xkRXf6zHvADv",
        "colab_type": "code",
        "colab": {}
      },
      "source": [
        ""
      ],
      "execution_count": 0,
      "outputs": []
    },
    {
      "cell_type": "markdown",
      "metadata": {
        "id": "kW51Xe-Tw5Jo",
        "colab_type": "text"
      },
      "source": [
        "EPOCH 0"
      ]
    },
    {
      "cell_type": "code",
      "metadata": {
        "id": "LKvVHU_Aw50D",
        "colab_type": "code",
        "colab": {}
      },
      "source": [
        "# Load a trained model and vocabulary that you have fine-tuned\n",
        "model = model.from_pretrained(output_dir_0)\n",
        "tokenizer = tokenizer.from_pretrained(output_dir_0)\n",
        "\n",
        "# Copy the model to the GPU.\n",
        "model.to(device)"
      ],
      "execution_count": 0,
      "outputs": []
    },
    {
      "cell_type": "code",
      "metadata": {
        "id": "FjFrmBgaw8JD",
        "colab_type": "code",
        "colab": {}
      },
      "source": [
        "# Prediction on test set\n",
        "\n",
        "print('Predicting labels for {:,} test sentences...'.format(len(val_inputs)))\n",
        "\n",
        "# Put model in evaluation mode\n",
        "model.eval()\n",
        "\n",
        "# Tracking variables \n",
        "predictions = []\n",
        "true_labels = []\n",
        "\n",
        "# Predict \n",
        "for batch in val_dataloader:\n",
        "  # Add batch to GPU\n",
        "  batch = tuple(t.to(device) for t in batch)\n",
        "  \n",
        "  # Unpack the inputs from our dataloader\n",
        "  b_input_ids, b_input_mask, b_labels = batch\n",
        "  \n",
        "  # Telling the model not to compute or store gradients, saving memory and \n",
        "  # speeding up prediction\n",
        "  with torch.no_grad():\n",
        "      # Forward pass, calculate logit predictions\n",
        "      outputs = model(b_input_ids, token_type_ids=None, \n",
        "                      attention_mask=b_input_mask)\n",
        "\n",
        "  logits = outputs[0]\n",
        "\n",
        "  # Move logits and labels to CPU\n",
        "  logits = logits.detach().cpu().numpy()\n",
        "  label_ids = b_labels.to('cpu').numpy()\n",
        "  \n",
        "  # Store predictions and true labels\n",
        "  predictions.append(logits)\n",
        "  true_labels.append(label_ids)\n",
        "\n",
        "print('    DONE.')"
      ],
      "execution_count": 0,
      "outputs": []
    },
    {
      "cell_type": "code",
      "metadata": {
        "id": "0-e-5xBzxFUt",
        "colab_type": "code",
        "colab": {}
      },
      "source": [
        "import itertools\n",
        "y_pred = []\n",
        "for i in range(len(predictions)):\n",
        "  \n",
        "  # The predictions for this batch are a 5-column ndarray with a row for each batch (32). \n",
        "  #Pick the label with the highest value and consider the index = class\n",
        "  pred_labels_i = list(np.argmax(predictions[i], axis=1))\n",
        "  y_pred.append(pred_labels_i)\n",
        "\n",
        "y_pred = list(itertools.chain.from_iterable(y_pred))\n",
        "true_labels = list(itertools.chain.from_iterable(true_labels))\n",
        "y_pred[0:5]"
      ],
      "execution_count": 0,
      "outputs": []
    },
    {
      "cell_type": "code",
      "metadata": {
        "id": "qWUxj68AxJiQ",
        "colab_type": "code",
        "colab": {}
      },
      "source": [
        "flat_predictions = y_pred\n",
        "# Combine the correct labels for each batch into a single list.\n",
        "# flat_true_labels = np.concatenate(true_labels, axis=0)\n",
        "flat_true_labels = true_labels\n",
        "\n",
        "# Calculate the MCC\n",
        "# mcc = matthews_corrcoef(flat_true_labels, flat_predictions)\n",
        "f1_weighted = f1_score(flat_true_labels, flat_predictions,average='weighted')\n",
        "f1_micro = f1_score(flat_true_labels, flat_predictions,average='micro')\n",
        "f1_macro = f1_score(flat_true_labels, flat_predictions,average='macro')\n",
        "acc = accuracy_score(flat_true_labels, flat_predictions)\n",
        "fpr, tpr, thresholds = roc_curve(flat_true_labels, flat_predictions)\n",
        "auc_score = auc(fpr, tpr)\n",
        "ap = average_precision_score(flat_true_labels, flat_predictions)\n",
        "\n",
        "\n",
        "# print('Total MCC: %.3f' % mcc)\n",
        "print()\n",
        "print('Total f1_weighted: %.3f' % f1_weighted)\n",
        "print('Total f1_micro: %.3f' % f1_micro)\n",
        "print('Total f1_macro: %.3f' % f1_macro)\n",
        "print('Total acc: %.3f' % acc)\n",
        "print('AUC: %.3f' % auc_score)\n",
        "print('AP: %.3f' % ap)"
      ],
      "execution_count": 0,
      "outputs": []
    },
    {
      "cell_type": "code",
      "metadata": {
        "id": "Qb02FRCrxrlF",
        "colab_type": "code",
        "colab": {}
      },
      "source": [
        ""
      ],
      "execution_count": 0,
      "outputs": []
    }
  ]
}
