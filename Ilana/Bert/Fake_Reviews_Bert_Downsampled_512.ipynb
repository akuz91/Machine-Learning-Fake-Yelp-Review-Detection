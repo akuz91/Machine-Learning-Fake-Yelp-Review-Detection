{
  "nbformat": 4,
  "nbformat_minor": 0,
  "metadata": {
    "kernelspec": {
      "display_name": "Python 3",
      "language": "python",
      "name": "python3"
    },
    "language_info": {
      "codemirror_mode": {
        "name": "ipython",
        "version": 3
      },
      "file_extension": ".py",
      "mimetype": "text/x-python",
      "name": "python",
      "nbconvert_exporter": "python",
      "pygments_lexer": "ipython3",
      "version": "3.7.3"
    },
    "colab": {
      "name": "Fake_Reviews_Bert_Downsampled_512.ipynb",
      "provenance": [],
      "collapsed_sections": [],
      "include_colab_link": true
    },
    "accelerator": "GPU",
    "widgets": {
      "application/vnd.jupyter.widget-state+json": {
        "621f5003c5f44eb08c0c4a27dd316b35": {
          "model_module": "@jupyter-widgets/controls",
          "model_name": "HBoxModel",
          "state": {
            "_view_name": "HBoxView",
            "_dom_classes": [],
            "_model_name": "HBoxModel",
            "_view_module": "@jupyter-widgets/controls",
            "_model_module_version": "1.5.0",
            "_view_count": null,
            "_view_module_version": "1.5.0",
            "box_style": "",
            "layout": "IPY_MODEL_b1bc5eb01be44a8ca3d58f17c86736f5",
            "_model_module": "@jupyter-widgets/controls",
            "children": [
              "IPY_MODEL_43cc940616fa4d35844d8b721522aeef",
              "IPY_MODEL_24d053d374e949688d5db7770771e396"
            ]
          }
        },
        "b1bc5eb01be44a8ca3d58f17c86736f5": {
          "model_module": "@jupyter-widgets/base",
          "model_name": "LayoutModel",
          "state": {
            "_view_name": "LayoutView",
            "grid_template_rows": null,
            "right": null,
            "justify_content": null,
            "_view_module": "@jupyter-widgets/base",
            "overflow": null,
            "_model_module_version": "1.2.0",
            "_view_count": null,
            "flex_flow": null,
            "width": null,
            "min_width": null,
            "border": null,
            "align_items": null,
            "bottom": null,
            "_model_module": "@jupyter-widgets/base",
            "top": null,
            "grid_column": null,
            "overflow_y": null,
            "overflow_x": null,
            "grid_auto_flow": null,
            "grid_area": null,
            "grid_template_columns": null,
            "flex": null,
            "_model_name": "LayoutModel",
            "justify_items": null,
            "grid_row": null,
            "max_height": null,
            "align_content": null,
            "visibility": null,
            "align_self": null,
            "height": null,
            "min_height": null,
            "padding": null,
            "grid_auto_rows": null,
            "grid_gap": null,
            "max_width": null,
            "order": null,
            "_view_module_version": "1.2.0",
            "grid_template_areas": null,
            "object_position": null,
            "object_fit": null,
            "grid_auto_columns": null,
            "margin": null,
            "display": null,
            "left": null
          }
        },
        "43cc940616fa4d35844d8b721522aeef": {
          "model_module": "@jupyter-widgets/controls",
          "model_name": "FloatProgressModel",
          "state": {
            "_view_name": "ProgressView",
            "style": "IPY_MODEL_a3a9677fc48048f98dc0d6ffba32fb51",
            "_dom_classes": [],
            "description": "Downloading: 100%",
            "_model_name": "FloatProgressModel",
            "bar_style": "success",
            "max": 231508,
            "_view_module": "@jupyter-widgets/controls",
            "_model_module_version": "1.5.0",
            "value": 231508,
            "_view_count": null,
            "_view_module_version": "1.5.0",
            "orientation": "horizontal",
            "min": 0,
            "description_tooltip": null,
            "_model_module": "@jupyter-widgets/controls",
            "layout": "IPY_MODEL_9eb09889587b4302b7dd1cae9211e296"
          }
        },
        "24d053d374e949688d5db7770771e396": {
          "model_module": "@jupyter-widgets/controls",
          "model_name": "HTMLModel",
          "state": {
            "_view_name": "HTMLView",
            "style": "IPY_MODEL_2a722e18c0b34aa49c8b9c0b84f7a352",
            "_dom_classes": [],
            "description": "",
            "_model_name": "HTMLModel",
            "placeholder": "​",
            "_view_module": "@jupyter-widgets/controls",
            "_model_module_version": "1.5.0",
            "value": " 232k/232k [00:00&lt;00:00, 873kB/s]",
            "_view_count": null,
            "_view_module_version": "1.5.0",
            "description_tooltip": null,
            "_model_module": "@jupyter-widgets/controls",
            "layout": "IPY_MODEL_98e8f164d9f542a8a49c078e4cc7e7c1"
          }
        },
        "a3a9677fc48048f98dc0d6ffba32fb51": {
          "model_module": "@jupyter-widgets/controls",
          "model_name": "ProgressStyleModel",
          "state": {
            "_view_name": "StyleView",
            "_model_name": "ProgressStyleModel",
            "description_width": "initial",
            "_view_module": "@jupyter-widgets/base",
            "_model_module_version": "1.5.0",
            "_view_count": null,
            "_view_module_version": "1.2.0",
            "bar_color": null,
            "_model_module": "@jupyter-widgets/controls"
          }
        },
        "9eb09889587b4302b7dd1cae9211e296": {
          "model_module": "@jupyter-widgets/base",
          "model_name": "LayoutModel",
          "state": {
            "_view_name": "LayoutView",
            "grid_template_rows": null,
            "right": null,
            "justify_content": null,
            "_view_module": "@jupyter-widgets/base",
            "overflow": null,
            "_model_module_version": "1.2.0",
            "_view_count": null,
            "flex_flow": null,
            "width": null,
            "min_width": null,
            "border": null,
            "align_items": null,
            "bottom": null,
            "_model_module": "@jupyter-widgets/base",
            "top": null,
            "grid_column": null,
            "overflow_y": null,
            "overflow_x": null,
            "grid_auto_flow": null,
            "grid_area": null,
            "grid_template_columns": null,
            "flex": null,
            "_model_name": "LayoutModel",
            "justify_items": null,
            "grid_row": null,
            "max_height": null,
            "align_content": null,
            "visibility": null,
            "align_self": null,
            "height": null,
            "min_height": null,
            "padding": null,
            "grid_auto_rows": null,
            "grid_gap": null,
            "max_width": null,
            "order": null,
            "_view_module_version": "1.2.0",
            "grid_template_areas": null,
            "object_position": null,
            "object_fit": null,
            "grid_auto_columns": null,
            "margin": null,
            "display": null,
            "left": null
          }
        },
        "2a722e18c0b34aa49c8b9c0b84f7a352": {
          "model_module": "@jupyter-widgets/controls",
          "model_name": "DescriptionStyleModel",
          "state": {
            "_view_name": "StyleView",
            "_model_name": "DescriptionStyleModel",
            "description_width": "",
            "_view_module": "@jupyter-widgets/base",
            "_model_module_version": "1.5.0",
            "_view_count": null,
            "_view_module_version": "1.2.0",
            "_model_module": "@jupyter-widgets/controls"
          }
        },
        "98e8f164d9f542a8a49c078e4cc7e7c1": {
          "model_module": "@jupyter-widgets/base",
          "model_name": "LayoutModel",
          "state": {
            "_view_name": "LayoutView",
            "grid_template_rows": null,
            "right": null,
            "justify_content": null,
            "_view_module": "@jupyter-widgets/base",
            "overflow": null,
            "_model_module_version": "1.2.0",
            "_view_count": null,
            "flex_flow": null,
            "width": null,
            "min_width": null,
            "border": null,
            "align_items": null,
            "bottom": null,
            "_model_module": "@jupyter-widgets/base",
            "top": null,
            "grid_column": null,
            "overflow_y": null,
            "overflow_x": null,
            "grid_auto_flow": null,
            "grid_area": null,
            "grid_template_columns": null,
            "flex": null,
            "_model_name": "LayoutModel",
            "justify_items": null,
            "grid_row": null,
            "max_height": null,
            "align_content": null,
            "visibility": null,
            "align_self": null,
            "height": null,
            "min_height": null,
            "padding": null,
            "grid_auto_rows": null,
            "grid_gap": null,
            "max_width": null,
            "order": null,
            "_view_module_version": "1.2.0",
            "grid_template_areas": null,
            "object_position": null,
            "object_fit": null,
            "grid_auto_columns": null,
            "margin": null,
            "display": null,
            "left": null
          }
        },
        "f7982dd13d724592bb480d1407e1b396": {
          "model_module": "@jupyter-widgets/controls",
          "model_name": "HBoxModel",
          "state": {
            "_view_name": "HBoxView",
            "_dom_classes": [],
            "_model_name": "HBoxModel",
            "_view_module": "@jupyter-widgets/controls",
            "_model_module_version": "1.5.0",
            "_view_count": null,
            "_view_module_version": "1.5.0",
            "box_style": "",
            "layout": "IPY_MODEL_cec9eb609b6a438da8d9e47fdb8c93f4",
            "_model_module": "@jupyter-widgets/controls",
            "children": [
              "IPY_MODEL_3e7776b26b134f538a70ca19a1410103",
              "IPY_MODEL_448f301ad0954d5581b2396c845db405"
            ]
          }
        },
        "cec9eb609b6a438da8d9e47fdb8c93f4": {
          "model_module": "@jupyter-widgets/base",
          "model_name": "LayoutModel",
          "state": {
            "_view_name": "LayoutView",
            "grid_template_rows": null,
            "right": null,
            "justify_content": null,
            "_view_module": "@jupyter-widgets/base",
            "overflow": null,
            "_model_module_version": "1.2.0",
            "_view_count": null,
            "flex_flow": null,
            "width": null,
            "min_width": null,
            "border": null,
            "align_items": null,
            "bottom": null,
            "_model_module": "@jupyter-widgets/base",
            "top": null,
            "grid_column": null,
            "overflow_y": null,
            "overflow_x": null,
            "grid_auto_flow": null,
            "grid_area": null,
            "grid_template_columns": null,
            "flex": null,
            "_model_name": "LayoutModel",
            "justify_items": null,
            "grid_row": null,
            "max_height": null,
            "align_content": null,
            "visibility": null,
            "align_self": null,
            "height": null,
            "min_height": null,
            "padding": null,
            "grid_auto_rows": null,
            "grid_gap": null,
            "max_width": null,
            "order": null,
            "_view_module_version": "1.2.0",
            "grid_template_areas": null,
            "object_position": null,
            "object_fit": null,
            "grid_auto_columns": null,
            "margin": null,
            "display": null,
            "left": null
          }
        },
        "3e7776b26b134f538a70ca19a1410103": {
          "model_module": "@jupyter-widgets/controls",
          "model_name": "FloatProgressModel",
          "state": {
            "_view_name": "ProgressView",
            "style": "IPY_MODEL_93d75db7bdfd46b79e5b0f782abd2cb1",
            "_dom_classes": [],
            "description": "Downloading: 100%",
            "_model_name": "FloatProgressModel",
            "bar_style": "success",
            "max": 433,
            "_view_module": "@jupyter-widgets/controls",
            "_model_module_version": "1.5.0",
            "value": 433,
            "_view_count": null,
            "_view_module_version": "1.5.0",
            "orientation": "horizontal",
            "min": 0,
            "description_tooltip": null,
            "_model_module": "@jupyter-widgets/controls",
            "layout": "IPY_MODEL_284cf875f53840de9f29c8486eeb7066"
          }
        },
        "448f301ad0954d5581b2396c845db405": {
          "model_module": "@jupyter-widgets/controls",
          "model_name": "HTMLModel",
          "state": {
            "_view_name": "HTMLView",
            "style": "IPY_MODEL_d663cc94ad1a4e42b4fd1aa36ab08fde",
            "_dom_classes": [],
            "description": "",
            "_model_name": "HTMLModel",
            "placeholder": "​",
            "_view_module": "@jupyter-widgets/controls",
            "_model_module_version": "1.5.0",
            "value": " 433/433 [00:10&lt;00:00, 41.5B/s]",
            "_view_count": null,
            "_view_module_version": "1.5.0",
            "description_tooltip": null,
            "_model_module": "@jupyter-widgets/controls",
            "layout": "IPY_MODEL_3640e7cd939645118b0c78602513095c"
          }
        },
        "93d75db7bdfd46b79e5b0f782abd2cb1": {
          "model_module": "@jupyter-widgets/controls",
          "model_name": "ProgressStyleModel",
          "state": {
            "_view_name": "StyleView",
            "_model_name": "ProgressStyleModel",
            "description_width": "initial",
            "_view_module": "@jupyter-widgets/base",
            "_model_module_version": "1.5.0",
            "_view_count": null,
            "_view_module_version": "1.2.0",
            "bar_color": null,
            "_model_module": "@jupyter-widgets/controls"
          }
        },
        "284cf875f53840de9f29c8486eeb7066": {
          "model_module": "@jupyter-widgets/base",
          "model_name": "LayoutModel",
          "state": {
            "_view_name": "LayoutView",
            "grid_template_rows": null,
            "right": null,
            "justify_content": null,
            "_view_module": "@jupyter-widgets/base",
            "overflow": null,
            "_model_module_version": "1.2.0",
            "_view_count": null,
            "flex_flow": null,
            "width": null,
            "min_width": null,
            "border": null,
            "align_items": null,
            "bottom": null,
            "_model_module": "@jupyter-widgets/base",
            "top": null,
            "grid_column": null,
            "overflow_y": null,
            "overflow_x": null,
            "grid_auto_flow": null,
            "grid_area": null,
            "grid_template_columns": null,
            "flex": null,
            "_model_name": "LayoutModel",
            "justify_items": null,
            "grid_row": null,
            "max_height": null,
            "align_content": null,
            "visibility": null,
            "align_self": null,
            "height": null,
            "min_height": null,
            "padding": null,
            "grid_auto_rows": null,
            "grid_gap": null,
            "max_width": null,
            "order": null,
            "_view_module_version": "1.2.0",
            "grid_template_areas": null,
            "object_position": null,
            "object_fit": null,
            "grid_auto_columns": null,
            "margin": null,
            "display": null,
            "left": null
          }
        },
        "d663cc94ad1a4e42b4fd1aa36ab08fde": {
          "model_module": "@jupyter-widgets/controls",
          "model_name": "DescriptionStyleModel",
          "state": {
            "_view_name": "StyleView",
            "_model_name": "DescriptionStyleModel",
            "description_width": "",
            "_view_module": "@jupyter-widgets/base",
            "_model_module_version": "1.5.0",
            "_view_count": null,
            "_view_module_version": "1.2.0",
            "_model_module": "@jupyter-widgets/controls"
          }
        },
        "3640e7cd939645118b0c78602513095c": {
          "model_module": "@jupyter-widgets/base",
          "model_name": "LayoutModel",
          "state": {
            "_view_name": "LayoutView",
            "grid_template_rows": null,
            "right": null,
            "justify_content": null,
            "_view_module": "@jupyter-widgets/base",
            "overflow": null,
            "_model_module_version": "1.2.0",
            "_view_count": null,
            "flex_flow": null,
            "width": null,
            "min_width": null,
            "border": null,
            "align_items": null,
            "bottom": null,
            "_model_module": "@jupyter-widgets/base",
            "top": null,
            "grid_column": null,
            "overflow_y": null,
            "overflow_x": null,
            "grid_auto_flow": null,
            "grid_area": null,
            "grid_template_columns": null,
            "flex": null,
            "_model_name": "LayoutModel",
            "justify_items": null,
            "grid_row": null,
            "max_height": null,
            "align_content": null,
            "visibility": null,
            "align_self": null,
            "height": null,
            "min_height": null,
            "padding": null,
            "grid_auto_rows": null,
            "grid_gap": null,
            "max_width": null,
            "order": null,
            "_view_module_version": "1.2.0",
            "grid_template_areas": null,
            "object_position": null,
            "object_fit": null,
            "grid_auto_columns": null,
            "margin": null,
            "display": null,
            "left": null
          }
        },
        "a15229eccf374a4fb2f9062cb77c25ab": {
          "model_module": "@jupyter-widgets/controls",
          "model_name": "HBoxModel",
          "state": {
            "_view_name": "HBoxView",
            "_dom_classes": [],
            "_model_name": "HBoxModel",
            "_view_module": "@jupyter-widgets/controls",
            "_model_module_version": "1.5.0",
            "_view_count": null,
            "_view_module_version": "1.5.0",
            "box_style": "",
            "layout": "IPY_MODEL_04f4a168ed80426fb301cf7ce687f8d1",
            "_model_module": "@jupyter-widgets/controls",
            "children": [
              "IPY_MODEL_d9106493e9fa44c79103977a97fd57ed",
              "IPY_MODEL_5de95874dbc34484bf9239edc6a1fdc5"
            ]
          }
        },
        "04f4a168ed80426fb301cf7ce687f8d1": {
          "model_module": "@jupyter-widgets/base",
          "model_name": "LayoutModel",
          "state": {
            "_view_name": "LayoutView",
            "grid_template_rows": null,
            "right": null,
            "justify_content": null,
            "_view_module": "@jupyter-widgets/base",
            "overflow": null,
            "_model_module_version": "1.2.0",
            "_view_count": null,
            "flex_flow": null,
            "width": null,
            "min_width": null,
            "border": null,
            "align_items": null,
            "bottom": null,
            "_model_module": "@jupyter-widgets/base",
            "top": null,
            "grid_column": null,
            "overflow_y": null,
            "overflow_x": null,
            "grid_auto_flow": null,
            "grid_area": null,
            "grid_template_columns": null,
            "flex": null,
            "_model_name": "LayoutModel",
            "justify_items": null,
            "grid_row": null,
            "max_height": null,
            "align_content": null,
            "visibility": null,
            "align_self": null,
            "height": null,
            "min_height": null,
            "padding": null,
            "grid_auto_rows": null,
            "grid_gap": null,
            "max_width": null,
            "order": null,
            "_view_module_version": "1.2.0",
            "grid_template_areas": null,
            "object_position": null,
            "object_fit": null,
            "grid_auto_columns": null,
            "margin": null,
            "display": null,
            "left": null
          }
        },
        "d9106493e9fa44c79103977a97fd57ed": {
          "model_module": "@jupyter-widgets/controls",
          "model_name": "FloatProgressModel",
          "state": {
            "_view_name": "ProgressView",
            "style": "IPY_MODEL_e9c5ad16749b478e8a161a007d3676ae",
            "_dom_classes": [],
            "description": "Downloading: 100%",
            "_model_name": "FloatProgressModel",
            "bar_style": "success",
            "max": 440473133,
            "_view_module": "@jupyter-widgets/controls",
            "_model_module_version": "1.5.0",
            "value": 440473133,
            "_view_count": null,
            "_view_module_version": "1.5.0",
            "orientation": "horizontal",
            "min": 0,
            "description_tooltip": null,
            "_model_module": "@jupyter-widgets/controls",
            "layout": "IPY_MODEL_7d70dbcf61ac446bb1fe96c8f06c8b4f"
          }
        },
        "5de95874dbc34484bf9239edc6a1fdc5": {
          "model_module": "@jupyter-widgets/controls",
          "model_name": "HTMLModel",
          "state": {
            "_view_name": "HTMLView",
            "style": "IPY_MODEL_bb0d3a09f9844ee38d6d3aa8f519c1c4",
            "_dom_classes": [],
            "description": "",
            "_model_name": "HTMLModel",
            "placeholder": "​",
            "_view_module": "@jupyter-widgets/controls",
            "_model_module_version": "1.5.0",
            "value": " 440M/440M [00:06&lt;00:00, 70.3MB/s]",
            "_view_count": null,
            "_view_module_version": "1.5.0",
            "description_tooltip": null,
            "_model_module": "@jupyter-widgets/controls",
            "layout": "IPY_MODEL_b71ebd95b60f40388c6af9bb77ead339"
          }
        },
        "e9c5ad16749b478e8a161a007d3676ae": {
          "model_module": "@jupyter-widgets/controls",
          "model_name": "ProgressStyleModel",
          "state": {
            "_view_name": "StyleView",
            "_model_name": "ProgressStyleModel",
            "description_width": "initial",
            "_view_module": "@jupyter-widgets/base",
            "_model_module_version": "1.5.0",
            "_view_count": null,
            "_view_module_version": "1.2.0",
            "bar_color": null,
            "_model_module": "@jupyter-widgets/controls"
          }
        },
        "7d70dbcf61ac446bb1fe96c8f06c8b4f": {
          "model_module": "@jupyter-widgets/base",
          "model_name": "LayoutModel",
          "state": {
            "_view_name": "LayoutView",
            "grid_template_rows": null,
            "right": null,
            "justify_content": null,
            "_view_module": "@jupyter-widgets/base",
            "overflow": null,
            "_model_module_version": "1.2.0",
            "_view_count": null,
            "flex_flow": null,
            "width": null,
            "min_width": null,
            "border": null,
            "align_items": null,
            "bottom": null,
            "_model_module": "@jupyter-widgets/base",
            "top": null,
            "grid_column": null,
            "overflow_y": null,
            "overflow_x": null,
            "grid_auto_flow": null,
            "grid_area": null,
            "grid_template_columns": null,
            "flex": null,
            "_model_name": "LayoutModel",
            "justify_items": null,
            "grid_row": null,
            "max_height": null,
            "align_content": null,
            "visibility": null,
            "align_self": null,
            "height": null,
            "min_height": null,
            "padding": null,
            "grid_auto_rows": null,
            "grid_gap": null,
            "max_width": null,
            "order": null,
            "_view_module_version": "1.2.0",
            "grid_template_areas": null,
            "object_position": null,
            "object_fit": null,
            "grid_auto_columns": null,
            "margin": null,
            "display": null,
            "left": null
          }
        },
        "bb0d3a09f9844ee38d6d3aa8f519c1c4": {
          "model_module": "@jupyter-widgets/controls",
          "model_name": "DescriptionStyleModel",
          "state": {
            "_view_name": "StyleView",
            "_model_name": "DescriptionStyleModel",
            "description_width": "",
            "_view_module": "@jupyter-widgets/base",
            "_model_module_version": "1.5.0",
            "_view_count": null,
            "_view_module_version": "1.2.0",
            "_model_module": "@jupyter-widgets/controls"
          }
        },
        "b71ebd95b60f40388c6af9bb77ead339": {
          "model_module": "@jupyter-widgets/base",
          "model_name": "LayoutModel",
          "state": {
            "_view_name": "LayoutView",
            "grid_template_rows": null,
            "right": null,
            "justify_content": null,
            "_view_module": "@jupyter-widgets/base",
            "overflow": null,
            "_model_module_version": "1.2.0",
            "_view_count": null,
            "flex_flow": null,
            "width": null,
            "min_width": null,
            "border": null,
            "align_items": null,
            "bottom": null,
            "_model_module": "@jupyter-widgets/base",
            "top": null,
            "grid_column": null,
            "overflow_y": null,
            "overflow_x": null,
            "grid_auto_flow": null,
            "grid_area": null,
            "grid_template_columns": null,
            "flex": null,
            "_model_name": "LayoutModel",
            "justify_items": null,
            "grid_row": null,
            "max_height": null,
            "align_content": null,
            "visibility": null,
            "align_self": null,
            "height": null,
            "min_height": null,
            "padding": null,
            "grid_auto_rows": null,
            "grid_gap": null,
            "max_width": null,
            "order": null,
            "_view_module_version": "1.2.0",
            "grid_template_areas": null,
            "object_position": null,
            "object_fit": null,
            "grid_auto_columns": null,
            "margin": null,
            "display": null,
            "left": null
          }
        }
      }
    }
  },
  "cells": [
    {
      "cell_type": "markdown",
      "metadata": {
        "id": "view-in-github",
        "colab_type": "text"
      },
      "source": [
        "<a href=\"https://colab.research.google.com/github/Ilanagweinstein/Machine-Learning-Project/blob/master/Fake_Reviews_Bert_Downsampled_512.ipynb\" target=\"_parent\"><img src=\"https://colab.research.google.com/assets/colab-badge.svg\" alt=\"Open In Colab\"/></a>"
      ]
    },
    {
      "cell_type": "markdown",
      "metadata": {
        "id": "PwujU93ZUC2d",
        "colab_type": "text"
      },
      "source": [
        "## Kaggle Sentiment Analysis on Movie Reviews ##"
      ]
    },
    {
      "cell_type": "markdown",
      "metadata": {
        "id": "GIVMY4-BdK-b",
        "colab_type": "text"
      },
      "source": [
        "**Loading transformers, data and initializing GPU**"
      ]
    },
    {
      "cell_type": "code",
      "metadata": {
        "id": "jNdugWnaLapH",
        "colab_type": "code",
        "outputId": "969e3d88-3fcd-4fcc-c7fd-201e9954c690",
        "colab": {
          "base_uri": "https://localhost:8080/",
          "height": 581
        }
      },
      "source": [
        "!pip3 install transformers"
      ],
      "execution_count": 1,
      "outputs": [
        {
          "output_type": "stream",
          "text": [
            "Collecting transformers\n",
            "\u001b[?25l  Downloading https://files.pythonhosted.org/packages/22/97/7db72a0beef1825f82188a4b923e62a146271ac2ced7928baa4d47ef2467/transformers-2.9.1-py3-none-any.whl (641kB)\n",
            "\u001b[K     |████████████████████████████████| 645kB 4.8MB/s \n",
            "\u001b[?25hCollecting tokenizers==0.7.0\n",
            "\u001b[?25l  Downloading https://files.pythonhosted.org/packages/14/e5/a26eb4716523808bb0a799fcfdceb6ebf77a18169d9591b2f46a9adb87d9/tokenizers-0.7.0-cp36-cp36m-manylinux1_x86_64.whl (3.8MB)\n",
            "\u001b[K     |████████████████████████████████| 3.8MB 58.2MB/s \n",
            "\u001b[?25hRequirement already satisfied: filelock in /usr/local/lib/python3.6/dist-packages (from transformers) (3.0.12)\n",
            "Requirement already satisfied: numpy in /usr/local/lib/python3.6/dist-packages (from transformers) (1.18.4)\n",
            "Requirement already satisfied: tqdm>=4.27 in /usr/local/lib/python3.6/dist-packages (from transformers) (4.41.1)\n",
            "Requirement already satisfied: dataclasses; python_version < \"3.7\" in /usr/local/lib/python3.6/dist-packages (from transformers) (0.7)\n",
            "Requirement already satisfied: regex!=2019.12.17 in /usr/local/lib/python3.6/dist-packages (from transformers) (2019.12.20)\n",
            "Collecting sentencepiece\n",
            "\u001b[?25l  Downloading https://files.pythonhosted.org/packages/3b/88/49e772d686088e1278766ad68a463513642a2a877487decbd691dec02955/sentencepiece-0.1.90-cp36-cp36m-manylinux1_x86_64.whl (1.1MB)\n",
            "\u001b[K     |████████████████████████████████| 1.1MB 49.4MB/s \n",
            "\u001b[?25hCollecting sacremoses\n",
            "\u001b[?25l  Downloading https://files.pythonhosted.org/packages/7d/34/09d19aff26edcc8eb2a01bed8e98f13a1537005d31e95233fd48216eed10/sacremoses-0.0.43.tar.gz (883kB)\n",
            "\u001b[K     |████████████████████████████████| 890kB 58.5MB/s \n",
            "\u001b[?25hRequirement already satisfied: requests in /usr/local/lib/python3.6/dist-packages (from transformers) (2.23.0)\n",
            "Requirement already satisfied: six in /usr/local/lib/python3.6/dist-packages (from sacremoses->transformers) (1.12.0)\n",
            "Requirement already satisfied: click in /usr/local/lib/python3.6/dist-packages (from sacremoses->transformers) (7.1.2)\n",
            "Requirement already satisfied: joblib in /usr/local/lib/python3.6/dist-packages (from sacremoses->transformers) (0.14.1)\n",
            "Requirement already satisfied: certifi>=2017.4.17 in /usr/local/lib/python3.6/dist-packages (from requests->transformers) (2020.4.5.1)\n",
            "Requirement already satisfied: idna<3,>=2.5 in /usr/local/lib/python3.6/dist-packages (from requests->transformers) (2.9)\n",
            "Requirement already satisfied: chardet<4,>=3.0.2 in /usr/local/lib/python3.6/dist-packages (from requests->transformers) (3.0.4)\n",
            "Requirement already satisfied: urllib3!=1.25.0,!=1.25.1,<1.26,>=1.21.1 in /usr/local/lib/python3.6/dist-packages (from requests->transformers) (1.24.3)\n",
            "Building wheels for collected packages: sacremoses\n",
            "  Building wheel for sacremoses (setup.py) ... \u001b[?25l\u001b[?25hdone\n",
            "  Created wheel for sacremoses: filename=sacremoses-0.0.43-cp36-none-any.whl size=893260 sha256=8207bb6b998907cfcbf2cc75352d5906542cbecd9bfbd7792d6deb161b857508\n",
            "  Stored in directory: /root/.cache/pip/wheels/29/3c/fd/7ce5c3f0666dab31a50123635e6fb5e19ceb42ce38d4e58f45\n",
            "Successfully built sacremoses\n",
            "Installing collected packages: tokenizers, sentencepiece, sacremoses, transformers\n",
            "Successfully installed sacremoses-0.0.43 sentencepiece-0.1.90 tokenizers-0.7.0 transformers-2.9.1\n"
          ],
          "name": "stdout"
        }
      ]
    },
    {
      "cell_type": "code",
      "metadata": {
        "id": "wcnIFcqkLapN",
        "colab_type": "code",
        "colab": {}
      },
      "source": [
        "import pandas as pd\n",
        "import numpy as np\n",
        "import os\n",
        "\n",
        "import warnings\n",
        "warnings.filterwarnings('ignore')\n",
        "\n",
        "import transformers"
      ],
      "execution_count": 0,
      "outputs": []
    },
    {
      "cell_type": "code",
      "metadata": {
        "id": "Ebz8IXtKLuU8",
        "colab_type": "code",
        "outputId": "14acb4b5-890d-4b85-d965-2e3c559bc54b",
        "colab": {
          "base_uri": "https://localhost:8080/",
          "height": 34
        }
      },
      "source": [
        "import tensorflow as tf# Get the GPU device name.\n",
        "device_name = tf.test.gpu_device_name()# The device name should look like the following:\n",
        "if device_name == '/device:GPU:0':\n",
        "  print('Found GPU at: {}'.format(device_name))\n",
        "else:\n",
        "  raise SystemError('GPU device not found')"
      ],
      "execution_count": 3,
      "outputs": [
        {
          "output_type": "stream",
          "text": [
            "Found GPU at: /device:GPU:0\n"
          ],
          "name": "stdout"
        }
      ]
    },
    {
      "cell_type": "code",
      "metadata": {
        "id": "RMwqMWdgbZ0W",
        "colab_type": "code",
        "outputId": "2c04fb45-757d-45fc-a557-433136fb65cb",
        "colab": {
          "base_uri": "https://localhost:8080/",
          "height": 51
        }
      },
      "source": [
        "import torch# If there's a GPU available...\n",
        "if torch.cuda.is_available():  # Tell PyTorch to use the GPU. \n",
        "  device = torch.device(\"cuda\") \n",
        "  print('There are %d GPU(s) available.' % torch.cuda.device_count()) \n",
        "  print('We will use the GPU:', torch.cuda.get_device_name(0))# If not...\n",
        "else:\n",
        "  print('No GPU available, using the CPU instead.')\n",
        "  device = torch.device(\"cpu\")"
      ],
      "execution_count": 4,
      "outputs": [
        {
          "output_type": "stream",
          "text": [
            "There are 1 GPU(s) available.\n",
            "We will use the GPU: Tesla P100-PCIE-16GB\n"
          ],
          "name": "stdout"
        }
      ]
    },
    {
      "cell_type": "code",
      "metadata": {
        "id": "WoF8f73IeOdR",
        "colab_type": "code",
        "outputId": "936ad345-dba2-4607-cd49-7ad08889c074",
        "colab": {
          "base_uri": "https://localhost:8080/",
          "height": 190
        }
      },
      "source": [
        "!pip install wget"
      ],
      "execution_count": 5,
      "outputs": [
        {
          "output_type": "stream",
          "text": [
            "Collecting wget\n",
            "  Downloading https://files.pythonhosted.org/packages/47/6a/62e288da7bcda82b935ff0c6cfe542970f04e29c756b0e147251b2fb251f/wget-3.2.zip\n",
            "Building wheels for collected packages: wget\n",
            "  Building wheel for wget (setup.py) ... \u001b[?25l\u001b[?25hdone\n",
            "  Created wheel for wget: filename=wget-3.2-cp36-none-any.whl size=9682 sha256=fdf46230fdc1bc9ea0b5085c417b60e3890b9f65532529212b716bfbbf4550b7\n",
            "  Stored in directory: /root/.cache/pip/wheels/40/15/30/7d8f7cea2902b4db79e3fea550d7d7b85ecb27ef992b618f3f\n",
            "Successfully built wget\n",
            "Installing collected packages: wget\n",
            "Successfully installed wget-3.2\n"
          ],
          "name": "stdout"
        }
      ]
    },
    {
      "cell_type": "code",
      "metadata": {
        "id": "vLnGt1Ypfe30",
        "colab_type": "code",
        "outputId": "e20f41ed-e0ce-497c-c6b6-d203a84cd757",
        "colab": {
          "base_uri": "https://localhost:8080/",
          "height": 68
        }
      },
      "source": [
        "!wget 'https://worksheets.codalab.org/rest/bundles/0x7b873062afd04a7f82a7a49940ee7737/contents/blob/' -O train.csv"
      ],
      "execution_count": 6,
      "outputs": [
        {
          "output_type": "stream",
          "text": [
            "--2020-05-19 14:42:33--  https://worksheets.codalab.org/rest/bundles/0x7b873062afd04a7f82a7a49940ee7737/contents/blob/\n",
            "Resolving worksheets.codalab.org (worksheets.codalab.org)... 40.71.231.153\n",
            "Connecting to worksheets.codalab.org (worksheets.codalab.org)|40.71.231.153|:443... ^C\n"
          ],
          "name": "stdout"
        }
      ]
    },
    {
      "cell_type": "code",
      "metadata": {
        "id": "XHp2bc5Jq3L9",
        "colab_type": "code",
        "outputId": "6b4b0b0c-254b-4692-8c58-9ca9fc28d40c",
        "colab": {
          "base_uri": "https://localhost:8080/",
          "height": 68
        }
      },
      "source": [
        "!wget 'https://worksheets.codalab.org/rest/bundles/0xa63401efaa6d44e39ed6ed9fe7e08cd2/contents/blob/' -O dev.csv"
      ],
      "execution_count": 0,
      "outputs": [
        {
          "output_type": "stream",
          "text": [
            "--2020-05-19 03:19:38--  https://worksheets.codalab.org/rest/bundles/0xa63401efaa6d44e39ed6ed9fe7e08cd2/contents/blob/\n",
            "Resolving worksheets.codalab.org (worksheets.codalab.org)... 40.71.231.153\n",
            "Connecting to worksheets.codalab.org (worksheets.codalab.org)|40.71.231.153|:443... ^C\n"
          ],
          "name": "stdout"
        }
      ]
    },
    {
      "cell_type": "code",
      "metadata": {
        "id": "zsT-2TG5eDzs",
        "colab_type": "code",
        "outputId": "ce21ebe1-53c7-4bf3-cc59-0cf53106f91c",
        "colab": {
          "base_uri": "https://localhost:8080/",
          "height": 122
        }
      },
      "source": [
        "from google.colab import drive\n",
        "drive.mount('/drive')"
      ],
      "execution_count": 7,
      "outputs": [
        {
          "output_type": "stream",
          "text": [
            "Go to this URL in a browser: https://accounts.google.com/o/oauth2/auth?client_id=947318989803-6bn6qk8qdgf4n4g3pfee6491hc0brc4i.apps.googleusercontent.com&redirect_uri=urn%3aietf%3awg%3aoauth%3a2.0%3aoob&response_type=code&scope=email%20https%3a%2f%2fwww.googleapis.com%2fauth%2fdocs.test%20https%3a%2f%2fwww.googleapis.com%2fauth%2fdrive%20https%3a%2f%2fwww.googleapis.com%2fauth%2fdrive.photos.readonly%20https%3a%2f%2fwww.googleapis.com%2fauth%2fpeopleapi.readonly\n",
            "\n",
            "Enter your authorization code:\n",
            "··········\n",
            "Mounted at /drive\n"
          ],
          "name": "stdout"
        }
      ]
    },
    {
      "cell_type": "code",
      "metadata": {
        "id": "ykZkUaurLapR",
        "colab_type": "code",
        "outputId": "436d5eff-b52c-4c00-eb90-6e6275b67943",
        "colab": {
          "base_uri": "https://localhost:8080/",
          "height": 51
        }
      },
      "source": [
        "# train = pd.DataFrame(pd.read_csv('train.csv', sep=','))\n",
        "# test = pd.DataFrame(pd.read_csv('dev.csv', sep=','))\n",
        "\n",
        "train = pd.DataFrame(pd.read_csv('/drive/My Drive/train.csv', sep=','))\n",
        "test = pd.DataFrame(pd.read_csv('/drive/My Drive/dev.csv', sep=','))\n",
        "\n",
        "print('Number of training sentences: {:,}\\n'.format(train.shape[0]))"
      ],
      "execution_count": 8,
      "outputs": [
        {
          "output_type": "stream",
          "text": [
            "Number of training sentences: 250,874\n",
            "\n"
          ],
          "name": "stdout"
        }
      ]
    },
    {
      "cell_type": "code",
      "metadata": {
        "id": "6IqNPn8tLapX",
        "colab_type": "code",
        "outputId": "dfd941bd-5a61-4840-d027-d92116e35778",
        "colab": {
          "base_uri": "https://localhost:8080/",
          "height": 204
        }
      },
      "source": [
        "train.head()"
      ],
      "execution_count": 9,
      "outputs": [
        {
          "output_type": "execute_result",
          "data": {
            "text/html": [
              "<div>\n",
              "<style scoped>\n",
              "    .dataframe tbody tr th:only-of-type {\n",
              "        vertical-align: middle;\n",
              "    }\n",
              "\n",
              "    .dataframe tbody tr th {\n",
              "        vertical-align: top;\n",
              "    }\n",
              "\n",
              "    .dataframe thead th {\n",
              "        text-align: right;\n",
              "    }\n",
              "</style>\n",
              "<table border=\"1\" class=\"dataframe\">\n",
              "  <thead>\n",
              "    <tr style=\"text-align: right;\">\n",
              "      <th></th>\n",
              "      <th>ex_id</th>\n",
              "      <th>user_id</th>\n",
              "      <th>prod_id</th>\n",
              "      <th>rating</th>\n",
              "      <th>label</th>\n",
              "      <th>date</th>\n",
              "      <th>review</th>\n",
              "    </tr>\n",
              "  </thead>\n",
              "  <tbody>\n",
              "    <tr>\n",
              "      <th>0</th>\n",
              "      <td>0</td>\n",
              "      <td>923</td>\n",
              "      <td>0</td>\n",
              "      <td>3.0</td>\n",
              "      <td>1</td>\n",
              "      <td>2014-12-08</td>\n",
              "      <td>The food at snack is a selection of popular Gr...</td>\n",
              "    </tr>\n",
              "    <tr>\n",
              "      <th>1</th>\n",
              "      <td>1</td>\n",
              "      <td>924</td>\n",
              "      <td>0</td>\n",
              "      <td>3.0</td>\n",
              "      <td>1</td>\n",
              "      <td>2013-05-16</td>\n",
              "      <td>This little place in Soho is wonderful. I had ...</td>\n",
              "    </tr>\n",
              "    <tr>\n",
              "      <th>2</th>\n",
              "      <td>2</td>\n",
              "      <td>925</td>\n",
              "      <td>0</td>\n",
              "      <td>4.0</td>\n",
              "      <td>1</td>\n",
              "      <td>2013-07-01</td>\n",
              "      <td>ordered lunch for 15 from Snack last Friday.  ...</td>\n",
              "    </tr>\n",
              "    <tr>\n",
              "      <th>3</th>\n",
              "      <td>3</td>\n",
              "      <td>926</td>\n",
              "      <td>0</td>\n",
              "      <td>4.0</td>\n",
              "      <td>1</td>\n",
              "      <td>2011-07-28</td>\n",
              "      <td>This is a beautiful quaint little restaurant o...</td>\n",
              "    </tr>\n",
              "    <tr>\n",
              "      <th>4</th>\n",
              "      <td>4</td>\n",
              "      <td>927</td>\n",
              "      <td>0</td>\n",
              "      <td>4.0</td>\n",
              "      <td>1</td>\n",
              "      <td>2010-11-01</td>\n",
              "      <td>Snack is great place for a  casual sit down lu...</td>\n",
              "    </tr>\n",
              "  </tbody>\n",
              "</table>\n",
              "</div>"
            ],
            "text/plain": [
              "   ex_id  ...                                             review\n",
              "0      0  ...  The food at snack is a selection of popular Gr...\n",
              "1      1  ...  This little place in Soho is wonderful. I had ...\n",
              "2      2  ...  ordered lunch for 15 from Snack last Friday.  ...\n",
              "3      3  ...  This is a beautiful quaint little restaurant o...\n",
              "4      4  ...  Snack is great place for a  casual sit down lu...\n",
              "\n",
              "[5 rows x 7 columns]"
            ]
          },
          "metadata": {
            "tags": []
          },
          "execution_count": 9
        }
      ]
    },
    {
      "cell_type": "code",
      "metadata": {
        "id": "DFfZyAYMLapa",
        "colab_type": "code",
        "outputId": "9b54593f-cba5-4d3d-b55f-f3cc550407c7",
        "colab": {
          "base_uri": "https://localhost:8080/",
          "height": 204
        }
      },
      "source": [
        "test.head()"
      ],
      "execution_count": 10,
      "outputs": [
        {
          "output_type": "execute_result",
          "data": {
            "text/html": [
              "<div>\n",
              "<style scoped>\n",
              "    .dataframe tbody tr th:only-of-type {\n",
              "        vertical-align: middle;\n",
              "    }\n",
              "\n",
              "    .dataframe tbody tr th {\n",
              "        vertical-align: top;\n",
              "    }\n",
              "\n",
              "    .dataframe thead th {\n",
              "        text-align: right;\n",
              "    }\n",
              "</style>\n",
              "<table border=\"1\" class=\"dataframe\">\n",
              "  <thead>\n",
              "    <tr style=\"text-align: right;\">\n",
              "      <th></th>\n",
              "      <th>ex_id</th>\n",
              "      <th>user_id</th>\n",
              "      <th>prod_id</th>\n",
              "      <th>rating</th>\n",
              "      <th>label</th>\n",
              "      <th>date</th>\n",
              "      <th>review</th>\n",
              "    </tr>\n",
              "  </thead>\n",
              "  <tbody>\n",
              "    <tr>\n",
              "      <th>0</th>\n",
              "      <td>11</td>\n",
              "      <td>934</td>\n",
              "      <td>0</td>\n",
              "      <td>5.0</td>\n",
              "      <td>1</td>\n",
              "      <td>2014-01-20</td>\n",
              "      <td>all around good place, cozy, I came in and did...</td>\n",
              "    </tr>\n",
              "    <tr>\n",
              "      <th>1</th>\n",
              "      <td>17</td>\n",
              "      <td>940</td>\n",
              "      <td>0</td>\n",
              "      <td>4.0</td>\n",
              "      <td>0</td>\n",
              "      <td>2014-09-16</td>\n",
              "      <td>For lunch, my friend and I had: -Lamb sandwich...</td>\n",
              "    </tr>\n",
              "    <tr>\n",
              "      <th>2</th>\n",
              "      <td>20</td>\n",
              "      <td>943</td>\n",
              "      <td>0</td>\n",
              "      <td>5.0</td>\n",
              "      <td>0</td>\n",
              "      <td>2014-05-24</td>\n",
              "      <td>Some good Big Greek cooking!! Came to City on ...</td>\n",
              "    </tr>\n",
              "    <tr>\n",
              "      <th>3</th>\n",
              "      <td>30</td>\n",
              "      <td>953</td>\n",
              "      <td>0</td>\n",
              "      <td>4.0</td>\n",
              "      <td>0</td>\n",
              "      <td>2013-10-17</td>\n",
              "      <td>So... as you may notice from some of my other ...</td>\n",
              "    </tr>\n",
              "    <tr>\n",
              "      <th>4</th>\n",
              "      <td>43</td>\n",
              "      <td>966</td>\n",
              "      <td>0</td>\n",
              "      <td>3.0</td>\n",
              "      <td>0</td>\n",
              "      <td>2012-12-19</td>\n",
              "      <td>I don't understand the whole \"You can't order ...</td>\n",
              "    </tr>\n",
              "  </tbody>\n",
              "</table>\n",
              "</div>"
            ],
            "text/plain": [
              "   ex_id  ...                                             review\n",
              "0     11  ...  all around good place, cozy, I came in and did...\n",
              "1     17  ...  For lunch, my friend and I had: -Lamb sandwich...\n",
              "2     20  ...  Some good Big Greek cooking!! Came to City on ...\n",
              "3     30  ...  So... as you may notice from some of my other ...\n",
              "4     43  ...  I don't understand the whole \"You can't order ...\n",
              "\n",
              "[5 rows x 7 columns]"
            ]
          },
          "metadata": {
            "tags": []
          },
          "execution_count": 10
        }
      ]
    },
    {
      "cell_type": "markdown",
      "metadata": {
        "id": "Xy8YUGnydeEJ",
        "colab_type": "text"
      },
      "source": [
        "**Analysis of data can be found in Cadent_Sentiment_Analysis_Basic**"
      ]
    },
    {
      "cell_type": "code",
      "metadata": {
        "id": "B4xnNHAwLaqB",
        "colab_type": "code",
        "colab": {}
      },
      "source": [
        "X_train = train['review']\n",
        "y_train = train['label']\n",
        "\n",
        "X_test = test['review']\n",
        "y_test = test['label']\n",
        "\n",
        "train_texts, train_labels = X_train, y_train\n",
        "val_texts, val_labels = X_test, y_test"
      ],
      "execution_count": 0,
      "outputs": []
    },
    {
      "cell_type": "code",
      "metadata": {
        "id": "DR3FWXqW9aKe",
        "colab_type": "code",
        "outputId": "eb7cbd6d-537e-469d-ebb8-57945431401a",
        "colab": {
          "base_uri": "https://localhost:8080/",
          "height": 34
        }
      },
      "source": [
        "from sklearn.utils import resample\n",
        "\n",
        "# concatenate our training data back together\n",
        "X = pd.concat([X_train, y_train], axis=1)\n",
        "\n",
        "# separate minority and majority classes\n",
        "genuine = X[X.label==0]\n",
        "fake = X[X.label==1]\n",
        "\n",
        "# downsample majority\n",
        "genuine_downsampled = resample(genuine,\n",
        "                                replace = False, # sample without replacement\n",
        "                                n_samples = len(fake), # match minority n\n",
        "                                random_state = 27) # reproducible results\n",
        "\n",
        "# combine minority and downsampled majority\n",
        "downsampled = pd.concat([genuine_downsampled, fake], ignore_index = True)\n",
        "downsampled.shape\n"
      ],
      "execution_count": 12,
      "outputs": [
        {
          "output_type": "execute_result",
          "data": {
            "text/plain": [
              "(51638, 2)"
            ]
          },
          "metadata": {
            "tags": []
          },
          "execution_count": 12
        }
      ]
    },
    {
      "cell_type": "code",
      "metadata": {
        "id": "cClDhmDoJoiD",
        "colab_type": "code",
        "outputId": "330b5d0b-2903-4fc1-d7ca-44d55396dd82",
        "colab": {
          "base_uri": "https://localhost:8080/",
          "height": 204
        }
      },
      "source": [
        "downsampled.head()"
      ],
      "execution_count": 13,
      "outputs": [
        {
          "output_type": "execute_result",
          "data": {
            "text/html": [
              "<div>\n",
              "<style scoped>\n",
              "    .dataframe tbody tr th:only-of-type {\n",
              "        vertical-align: middle;\n",
              "    }\n",
              "\n",
              "    .dataframe tbody tr th {\n",
              "        vertical-align: top;\n",
              "    }\n",
              "\n",
              "    .dataframe thead th {\n",
              "        text-align: right;\n",
              "    }\n",
              "</style>\n",
              "<table border=\"1\" class=\"dataframe\">\n",
              "  <thead>\n",
              "    <tr style=\"text-align: right;\">\n",
              "      <th></th>\n",
              "      <th>review</th>\n",
              "      <th>label</th>\n",
              "    </tr>\n",
              "  </thead>\n",
              "  <tbody>\n",
              "    <tr>\n",
              "      <th>0</th>\n",
              "      <td>What a great place! A variety of low-key Itali...</td>\n",
              "      <td>0</td>\n",
              "    </tr>\n",
              "    <tr>\n",
              "      <th>1</th>\n",
              "      <td>Once upon a time, I was determined to make Emp...</td>\n",
              "      <td>0</td>\n",
              "    </tr>\n",
              "    <tr>\n",
              "      <th>2</th>\n",
              "      <td>Amazing staff, awesome pancakes over all great...</td>\n",
              "      <td>0</td>\n",
              "    </tr>\n",
              "    <tr>\n",
              "      <th>3</th>\n",
              "      <td>I really liked this place! I went for dinner w...</td>\n",
              "      <td>0</td>\n",
              "    </tr>\n",
              "    <tr>\n",
              "      <th>4</th>\n",
              "      <td>Closed for remodeling. Wish i would have known...</td>\n",
              "      <td>0</td>\n",
              "    </tr>\n",
              "  </tbody>\n",
              "</table>\n",
              "</div>"
            ],
            "text/plain": [
              "                                              review  label\n",
              "0  What a great place! A variety of low-key Itali...      0\n",
              "1  Once upon a time, I was determined to make Emp...      0\n",
              "2  Amazing staff, awesome pancakes over all great...      0\n",
              "3  I really liked this place! I went for dinner w...      0\n",
              "4  Closed for remodeling. Wish i would have known...      0"
            ]
          },
          "metadata": {
            "tags": []
          },
          "execution_count": 13
        }
      ]
    },
    {
      "cell_type": "code",
      "metadata": {
        "id": "i8WZIwwK-ZOo",
        "colab_type": "code",
        "colab": {}
      },
      "source": [
        "train_texts = downsampled['review']\n",
        "train_labels = downsampled['label']"
      ],
      "execution_count": 0,
      "outputs": []
    },
    {
      "cell_type": "code",
      "metadata": {
        "id": "_t6S3JouBeso",
        "colab_type": "code",
        "outputId": "cc0d4726-a1f2-44c9-c28a-58e2b9e43711",
        "colab": {
          "base_uri": "https://localhost:8080/",
          "height": 34
        }
      },
      "source": [
        "downsampled[downsampled['label'] == 0].shape[0]"
      ],
      "execution_count": 15,
      "outputs": [
        {
          "output_type": "execute_result",
          "data": {
            "text/plain": [
              "25819"
            ]
          },
          "metadata": {
            "tags": []
          },
          "execution_count": 15
        }
      ]
    },
    {
      "cell_type": "code",
      "metadata": {
        "id": "wcOMZ8IuBqA5",
        "colab_type": "code",
        "outputId": "216fe891-c035-4513-b42d-a2ea1501ebf8",
        "colab": {
          "base_uri": "https://localhost:8080/",
          "height": 34
        }
      },
      "source": [
        "downsampled[downsampled['label'] == 1].shape[0]"
      ],
      "execution_count": 16,
      "outputs": [
        {
          "output_type": "execute_result",
          "data": {
            "text/plain": [
              "25819"
            ]
          },
          "metadata": {
            "tags": []
          },
          "execution_count": 16
        }
      ]
    },
    {
      "cell_type": "markdown",
      "metadata": {
        "id": "C4dDsykFeLkg",
        "colab_type": "text"
      },
      "source": [
        "**Data Pre-processing**"
      ]
    },
    {
      "cell_type": "code",
      "metadata": {
        "id": "Avew8uWPnv8C",
        "colab_type": "code",
        "outputId": "4780ef79-e039-48e7-f6c1-a54836adbdce",
        "colab": {
          "base_uri": "https://localhost:8080/",
          "height": 83,
          "referenced_widgets": [
            "621f5003c5f44eb08c0c4a27dd316b35",
            "b1bc5eb01be44a8ca3d58f17c86736f5",
            "43cc940616fa4d35844d8b721522aeef",
            "24d053d374e949688d5db7770771e396",
            "a3a9677fc48048f98dc0d6ffba32fb51",
            "9eb09889587b4302b7dd1cae9211e296",
            "2a722e18c0b34aa49c8b9c0b84f7a352",
            "98e8f164d9f542a8a49c078e4cc7e7c1"
          ]
        }
      },
      "source": [
        "#The following code was adapted from this Bert-fine-tuning example by Chris McCormick and Nick Ryan\n",
        "#Link: https://mccormickml.com/2019/07/22/BERT-fine-tuning/\n",
        "#The same tutorial has been helpful for a current Fake Claim detection project I have been working on at NYU.\n",
        "\n",
        "#BERT tokenizer\n",
        "from transformers import BertTokenizer\n",
        "print('Loading BERT tokenizer...')\n",
        "tokenizer = BertTokenizer.from_pretrained('bert-base-uncased', do_lower_case=True)"
      ],
      "execution_count": 17,
      "outputs": [
        {
          "output_type": "stream",
          "text": [
            "Loading BERT tokenizer...\n"
          ],
          "name": "stdout"
        },
        {
          "output_type": "display_data",
          "data": {
            "application/vnd.jupyter.widget-view+json": {
              "model_id": "621f5003c5f44eb08c0c4a27dd316b35",
              "version_minor": 0,
              "version_major": 2
            },
            "text/plain": [
              "HBox(children=(FloatProgress(value=0.0, description='Downloading', max=231508.0, style=ProgressStyle(descripti…"
            ]
          },
          "metadata": {
            "tags": []
          }
        },
        {
          "output_type": "stream",
          "text": [
            "\n"
          ],
          "name": "stdout"
        }
      ]
    },
    {
      "cell_type": "code",
      "metadata": {
        "id": "fHtdYGTnoR3r",
        "colab_type": "code",
        "colab": {}
      },
      "source": [
        "def tokenize_mask(texts):\n",
        "  # Tokenize all of the sentences and map the tokens to thier word IDs.\n",
        "  input_ids = []# For every sentence...\n",
        "  attention_masks = []\n",
        "\n",
        "  for text in texts:\n",
        "    # `encode_plus` will:\n",
        "    #   (1) Tokenize the sentence.\n",
        "    #   (2) Prepend the `[CLS]` token to the start.\n",
        "    #   (3) Append the `[SEP]` token to the end.\n",
        "    #   (4) Map tokens to their IDs.\n",
        "    #   (5) Pad or truncate the sentence to `max_length`\n",
        "    #   (6) Create attention masks for [PAD] tokens.\n",
        "    \n",
        "    encoded_dict = tokenizer.encode_plus(\n",
        "                        text,                      # Sentence to encode.\n",
        "                        add_special_tokens = True, # Add '[CLS]' and '[SEP]'\n",
        "                        max_length = 512,           # Pad & truncate all sentences. Max BERT can do is 512.\n",
        "                        pad_to_max_length = True,\n",
        "                        return_attention_mask = True,   # Construct attn. masks.\n",
        "                        return_tensors = 'pt',     # Return pytorch tensors.\n",
        "                   )\n",
        "\n",
        "    # Add the encoded sentence to the list.\n",
        "    input_ids.append(encoded_dict['input_ids'])# Print sentence 0, now as a list of IDs.\n",
        "    \n",
        "    # And its attention mask (simply differentiates padding from non-padding).\n",
        "    attention_masks.append(encoded_dict['attention_mask'])\n",
        "  \n",
        "    # Convert the lists into tensors.\n",
        "  input_ids = torch.cat(input_ids, dim=0)\n",
        "  attention_masks = torch.cat(attention_masks, dim=0)\n",
        "  \n",
        "  #print out example\n",
        "  print('Original: ', texts[0])\n",
        "  print('Token IDs:', input_ids[0])\n",
        "  print('Attention Masks:', attention_masks[0])\n",
        "\n",
        "  return input_ids, attention_masks"
      ],
      "execution_count": 0,
      "outputs": []
    },
    {
      "cell_type": "code",
      "metadata": {
        "id": "wMk6Y1I1rMpA",
        "colab_type": "code",
        "outputId": "b5cf9994-c809-4186-b1cb-0b0ac9cc9cf4",
        "colab": {
          "base_uri": "https://localhost:8080/",
          "height": 1000
        }
      },
      "source": [
        "#Train data: tokenize, pad, mask and convert to tensors\n",
        "train_inputs, train_masks = tokenize_mask(train_texts)\n",
        "train_labels = torch.tensor(train_labels)\n",
        "\n",
        "#Val data: tokenize, pad, mask and convert to tensors\n",
        "val_inputs, val_masks = tokenize_mask(val_texts)\n",
        "val_labels = torch.tensor(val_labels)"
      ],
      "execution_count": 19,
      "outputs": [
        {
          "output_type": "stream",
          "text": [
            "Original:  What a great place! A variety of low-key Italian restaurants interspersed in a large Italian marketplace. We ate at the fish restaurant and everything was delicious. Later I picked up a small apple tart and panna cotta from the dessert counter. However, the restaurant staff are pretty obnoxious and rude as many of them are transplants who have some Italian background and have no idea of American customer service. However our waiter wasn't Italian so he was great but then again I don't blame the staff for being rude and dismissive as the clientele seems to cater to equally rude, entitled, poser elitists like the table of three women who threw a hissy fit when our food arrived earlier than theirs. Another patron started pouting when she got carded. Just go for the food and selection and it will be fine.\n",
            "Token IDs: tensor([  101,  2054,  1037,  2307,  2173,   999,  1037,  3528,  1997,  2659,\n",
            "         1011,  3145,  3059,  7884, 25338,  1999,  1037,  2312,  3059, 18086,\n",
            "         1012,  2057,  8823,  2012,  1996,  3869,  4825,  1998,  2673,  2001,\n",
            "        12090,  1012,  2101,  1045,  3856,  2039,  1037,  2235,  6207, 16985,\n",
            "         2102,  1998,  6090,  2532, 26046,  2696,  2013,  1996, 18064,  4675,\n",
            "         1012,  2174,  1010,  1996,  4825,  3095,  2024,  3492, 27885,  3630,\n",
            "        25171,  1998, 12726,  2004,  2116,  1997,  2068,  2024, 22291,  2015,\n",
            "         2040,  2031,  2070,  3059,  4281,  1998,  2031,  2053,  2801,  1997,\n",
            "         2137,  8013,  2326,  1012,  2174,  2256, 15610,  2347,  1005,  1056,\n",
            "         3059,  2061,  2002,  2001,  2307,  2021,  2059,  2153,  1045,  2123,\n",
            "         1005,  1056,  7499,  1996,  3095,  2005,  2108, 12726,  1998, 19776,\n",
            "         3512,  2004,  1996,  7396, 12260,  3849,  2000, 23488,  2000,  8053,\n",
            "        12726,  1010,  4709,  1010, 13382,  2099, 12005, 16774,  2015,  2066,\n",
            "         1996,  2795,  1997,  2093,  2308,  2040,  4711,  1037, 19074,  2100,\n",
            "         4906,  2043,  2256,  2833,  3369,  3041,  2084, 17156,  1012,  2178,\n",
            "         9161,  2318, 13433, 20807,  2043,  2016,  2288,  4003,  2098,  1012,\n",
            "         2074,  2175,  2005,  1996,  2833,  1998,  4989,  1998,  2009,  2097,\n",
            "         2022,  2986,  1012,   102,     0,     0,     0,     0,     0,     0,\n",
            "            0,     0,     0,     0,     0,     0,     0,     0,     0,     0,\n",
            "            0,     0,     0,     0,     0,     0,     0,     0,     0,     0,\n",
            "            0,     0,     0,     0,     0,     0,     0,     0,     0,     0,\n",
            "            0,     0,     0,     0,     0,     0,     0,     0,     0,     0,\n",
            "            0,     0,     0,     0,     0,     0,     0,     0,     0,     0,\n",
            "            0,     0,     0,     0,     0,     0,     0,     0,     0,     0,\n",
            "            0,     0,     0,     0,     0,     0,     0,     0,     0,     0,\n",
            "            0,     0,     0,     0,     0,     0,     0,     0,     0,     0,\n",
            "            0,     0,     0,     0,     0,     0,     0,     0,     0,     0,\n",
            "            0,     0,     0,     0,     0,     0,     0,     0,     0,     0,\n",
            "            0,     0,     0,     0,     0,     0,     0,     0,     0,     0,\n",
            "            0,     0,     0,     0,     0,     0,     0,     0,     0,     0,\n",
            "            0,     0,     0,     0,     0,     0,     0,     0,     0,     0,\n",
            "            0,     0,     0,     0,     0,     0,     0,     0,     0,     0,\n",
            "            0,     0,     0,     0,     0,     0,     0,     0,     0,     0,\n",
            "            0,     0,     0,     0,     0,     0,     0,     0,     0,     0,\n",
            "            0,     0,     0,     0,     0,     0,     0,     0,     0,     0,\n",
            "            0,     0,     0,     0,     0,     0,     0,     0,     0,     0,\n",
            "            0,     0,     0,     0,     0,     0,     0,     0,     0,     0,\n",
            "            0,     0,     0,     0,     0,     0,     0,     0,     0,     0,\n",
            "            0,     0,     0,     0,     0,     0,     0,     0,     0,     0,\n",
            "            0,     0,     0,     0,     0,     0,     0,     0,     0,     0,\n",
            "            0,     0,     0,     0,     0,     0,     0,     0,     0,     0,\n",
            "            0,     0,     0,     0,     0,     0,     0,     0,     0,     0,\n",
            "            0,     0,     0,     0,     0,     0,     0,     0,     0,     0,\n",
            "            0,     0,     0,     0,     0,     0,     0,     0,     0,     0,\n",
            "            0,     0,     0,     0,     0,     0,     0,     0,     0,     0,\n",
            "            0,     0,     0,     0,     0,     0,     0,     0,     0,     0,\n",
            "            0,     0,     0,     0,     0,     0,     0,     0,     0,     0,\n",
            "            0,     0,     0,     0,     0,     0,     0,     0,     0,     0,\n",
            "            0,     0,     0,     0,     0,     0,     0,     0,     0,     0,\n",
            "            0,     0,     0,     0,     0,     0,     0,     0,     0,     0,\n",
            "            0,     0,     0,     0,     0,     0,     0,     0,     0,     0,\n",
            "            0,     0])\n",
            "Attention Masks: tensor([1, 1, 1, 1, 1, 1, 1, 1, 1, 1, 1, 1, 1, 1, 1, 1, 1, 1, 1, 1, 1, 1, 1, 1,\n",
            "        1, 1, 1, 1, 1, 1, 1, 1, 1, 1, 1, 1, 1, 1, 1, 1, 1, 1, 1, 1, 1, 1, 1, 1,\n",
            "        1, 1, 1, 1, 1, 1, 1, 1, 1, 1, 1, 1, 1, 1, 1, 1, 1, 1, 1, 1, 1, 1, 1, 1,\n",
            "        1, 1, 1, 1, 1, 1, 1, 1, 1, 1, 1, 1, 1, 1, 1, 1, 1, 1, 1, 1, 1, 1, 1, 1,\n",
            "        1, 1, 1, 1, 1, 1, 1, 1, 1, 1, 1, 1, 1, 1, 1, 1, 1, 1, 1, 1, 1, 1, 1, 1,\n",
            "        1, 1, 1, 1, 1, 1, 1, 1, 1, 1, 1, 1, 1, 1, 1, 1, 1, 1, 1, 1, 1, 1, 1, 1,\n",
            "        1, 1, 1, 1, 1, 1, 1, 1, 1, 1, 1, 1, 1, 1, 1, 1, 1, 1, 1, 1, 1, 1, 1, 1,\n",
            "        1, 1, 1, 1, 1, 1, 0, 0, 0, 0, 0, 0, 0, 0, 0, 0, 0, 0, 0, 0, 0, 0, 0, 0,\n",
            "        0, 0, 0, 0, 0, 0, 0, 0, 0, 0, 0, 0, 0, 0, 0, 0, 0, 0, 0, 0, 0, 0, 0, 0,\n",
            "        0, 0, 0, 0, 0, 0, 0, 0, 0, 0, 0, 0, 0, 0, 0, 0, 0, 0, 0, 0, 0, 0, 0, 0,\n",
            "        0, 0, 0, 0, 0, 0, 0, 0, 0, 0, 0, 0, 0, 0, 0, 0, 0, 0, 0, 0, 0, 0, 0, 0,\n",
            "        0, 0, 0, 0, 0, 0, 0, 0, 0, 0, 0, 0, 0, 0, 0, 0, 0, 0, 0, 0, 0, 0, 0, 0,\n",
            "        0, 0, 0, 0, 0, 0, 0, 0, 0, 0, 0, 0, 0, 0, 0, 0, 0, 0, 0, 0, 0, 0, 0, 0,\n",
            "        0, 0, 0, 0, 0, 0, 0, 0, 0, 0, 0, 0, 0, 0, 0, 0, 0, 0, 0, 0, 0, 0, 0, 0,\n",
            "        0, 0, 0, 0, 0, 0, 0, 0, 0, 0, 0, 0, 0, 0, 0, 0, 0, 0, 0, 0, 0, 0, 0, 0,\n",
            "        0, 0, 0, 0, 0, 0, 0, 0, 0, 0, 0, 0, 0, 0, 0, 0, 0, 0, 0, 0, 0, 0, 0, 0,\n",
            "        0, 0, 0, 0, 0, 0, 0, 0, 0, 0, 0, 0, 0, 0, 0, 0, 0, 0, 0, 0, 0, 0, 0, 0,\n",
            "        0, 0, 0, 0, 0, 0, 0, 0, 0, 0, 0, 0, 0, 0, 0, 0, 0, 0, 0, 0, 0, 0, 0, 0,\n",
            "        0, 0, 0, 0, 0, 0, 0, 0, 0, 0, 0, 0, 0, 0, 0, 0, 0, 0, 0, 0, 0, 0, 0, 0,\n",
            "        0, 0, 0, 0, 0, 0, 0, 0, 0, 0, 0, 0, 0, 0, 0, 0, 0, 0, 0, 0, 0, 0, 0, 0,\n",
            "        0, 0, 0, 0, 0, 0, 0, 0, 0, 0, 0, 0, 0, 0, 0, 0, 0, 0, 0, 0, 0, 0, 0, 0,\n",
            "        0, 0, 0, 0, 0, 0, 0, 0])\n",
            "Original:  all around good place, cozy, I came in and didn't have a huge appetite but just stuck to the appetizers...which my friend and I did the combo platter of and we were more than full with it.\n",
            "Token IDs: tensor([  101,  2035,  2105,  2204,  2173,  1010, 26931,  1010,  1045,  2234,\n",
            "         1999,  1998,  2134,  1005,  1056,  2031,  1037,  4121, 18923,  2021,\n",
            "         2074,  5881,  2000,  1996, 10439, 20624, 16750,  1012,  1012,  1012,\n",
            "         2029,  2026,  2767,  1998,  1045,  2106,  1996, 25025, 28005,  2121,\n",
            "         1997,  1998,  2057,  2020,  2062,  2084,  2440,  2007,  2009,  1012,\n",
            "          102,     0,     0,     0,     0,     0,     0,     0,     0,     0,\n",
            "            0,     0,     0,     0,     0,     0,     0,     0,     0,     0,\n",
            "            0,     0,     0,     0,     0,     0,     0,     0,     0,     0,\n",
            "            0,     0,     0,     0,     0,     0,     0,     0,     0,     0,\n",
            "            0,     0,     0,     0,     0,     0,     0,     0,     0,     0,\n",
            "            0,     0,     0,     0,     0,     0,     0,     0,     0,     0,\n",
            "            0,     0,     0,     0,     0,     0,     0,     0,     0,     0,\n",
            "            0,     0,     0,     0,     0,     0,     0,     0,     0,     0,\n",
            "            0,     0,     0,     0,     0,     0,     0,     0,     0,     0,\n",
            "            0,     0,     0,     0,     0,     0,     0,     0,     0,     0,\n",
            "            0,     0,     0,     0,     0,     0,     0,     0,     0,     0,\n",
            "            0,     0,     0,     0,     0,     0,     0,     0,     0,     0,\n",
            "            0,     0,     0,     0,     0,     0,     0,     0,     0,     0,\n",
            "            0,     0,     0,     0,     0,     0,     0,     0,     0,     0,\n",
            "            0,     0,     0,     0,     0,     0,     0,     0,     0,     0,\n",
            "            0,     0,     0,     0,     0,     0,     0,     0,     0,     0,\n",
            "            0,     0,     0,     0,     0,     0,     0,     0,     0,     0,\n",
            "            0,     0,     0,     0,     0,     0,     0,     0,     0,     0,\n",
            "            0,     0,     0,     0,     0,     0,     0,     0,     0,     0,\n",
            "            0,     0,     0,     0,     0,     0,     0,     0,     0,     0,\n",
            "            0,     0,     0,     0,     0,     0,     0,     0,     0,     0,\n",
            "            0,     0,     0,     0,     0,     0,     0,     0,     0,     0,\n",
            "            0,     0,     0,     0,     0,     0,     0,     0,     0,     0,\n",
            "            0,     0,     0,     0,     0,     0,     0,     0,     0,     0,\n",
            "            0,     0,     0,     0,     0,     0,     0,     0,     0,     0,\n",
            "            0,     0,     0,     0,     0,     0,     0,     0,     0,     0,\n",
            "            0,     0,     0,     0,     0,     0,     0,     0,     0,     0,\n",
            "            0,     0,     0,     0,     0,     0,     0,     0,     0,     0,\n",
            "            0,     0,     0,     0,     0,     0,     0,     0,     0,     0,\n",
            "            0,     0,     0,     0,     0,     0,     0,     0,     0,     0,\n",
            "            0,     0,     0,     0,     0,     0,     0,     0,     0,     0,\n",
            "            0,     0,     0,     0,     0,     0,     0,     0,     0,     0,\n",
            "            0,     0,     0,     0,     0,     0,     0,     0,     0,     0,\n",
            "            0,     0,     0,     0,     0,     0,     0,     0,     0,     0,\n",
            "            0,     0,     0,     0,     0,     0,     0,     0,     0,     0,\n",
            "            0,     0,     0,     0,     0,     0,     0,     0,     0,     0,\n",
            "            0,     0,     0,     0,     0,     0,     0,     0,     0,     0,\n",
            "            0,     0,     0,     0,     0,     0,     0,     0,     0,     0,\n",
            "            0,     0,     0,     0,     0,     0,     0,     0,     0,     0,\n",
            "            0,     0,     0,     0,     0,     0,     0,     0,     0,     0,\n",
            "            0,     0,     0,     0,     0,     0,     0,     0,     0,     0,\n",
            "            0,     0,     0,     0,     0,     0,     0,     0,     0,     0,\n",
            "            0,     0,     0,     0,     0,     0,     0,     0,     0,     0,\n",
            "            0,     0,     0,     0,     0,     0,     0,     0,     0,     0,\n",
            "            0,     0,     0,     0,     0,     0,     0,     0,     0,     0,\n",
            "            0,     0,     0,     0,     0,     0,     0,     0,     0,     0,\n",
            "            0,     0])\n",
            "Attention Masks: tensor([1, 1, 1, 1, 1, 1, 1, 1, 1, 1, 1, 1, 1, 1, 1, 1, 1, 1, 1, 1, 1, 1, 1, 1,\n",
            "        1, 1, 1, 1, 1, 1, 1, 1, 1, 1, 1, 1, 1, 1, 1, 1, 1, 1, 1, 1, 1, 1, 1, 1,\n",
            "        1, 1, 1, 0, 0, 0, 0, 0, 0, 0, 0, 0, 0, 0, 0, 0, 0, 0, 0, 0, 0, 0, 0, 0,\n",
            "        0, 0, 0, 0, 0, 0, 0, 0, 0, 0, 0, 0, 0, 0, 0, 0, 0, 0, 0, 0, 0, 0, 0, 0,\n",
            "        0, 0, 0, 0, 0, 0, 0, 0, 0, 0, 0, 0, 0, 0, 0, 0, 0, 0, 0, 0, 0, 0, 0, 0,\n",
            "        0, 0, 0, 0, 0, 0, 0, 0, 0, 0, 0, 0, 0, 0, 0, 0, 0, 0, 0, 0, 0, 0, 0, 0,\n",
            "        0, 0, 0, 0, 0, 0, 0, 0, 0, 0, 0, 0, 0, 0, 0, 0, 0, 0, 0, 0, 0, 0, 0, 0,\n",
            "        0, 0, 0, 0, 0, 0, 0, 0, 0, 0, 0, 0, 0, 0, 0, 0, 0, 0, 0, 0, 0, 0, 0, 0,\n",
            "        0, 0, 0, 0, 0, 0, 0, 0, 0, 0, 0, 0, 0, 0, 0, 0, 0, 0, 0, 0, 0, 0, 0, 0,\n",
            "        0, 0, 0, 0, 0, 0, 0, 0, 0, 0, 0, 0, 0, 0, 0, 0, 0, 0, 0, 0, 0, 0, 0, 0,\n",
            "        0, 0, 0, 0, 0, 0, 0, 0, 0, 0, 0, 0, 0, 0, 0, 0, 0, 0, 0, 0, 0, 0, 0, 0,\n",
            "        0, 0, 0, 0, 0, 0, 0, 0, 0, 0, 0, 0, 0, 0, 0, 0, 0, 0, 0, 0, 0, 0, 0, 0,\n",
            "        0, 0, 0, 0, 0, 0, 0, 0, 0, 0, 0, 0, 0, 0, 0, 0, 0, 0, 0, 0, 0, 0, 0, 0,\n",
            "        0, 0, 0, 0, 0, 0, 0, 0, 0, 0, 0, 0, 0, 0, 0, 0, 0, 0, 0, 0, 0, 0, 0, 0,\n",
            "        0, 0, 0, 0, 0, 0, 0, 0, 0, 0, 0, 0, 0, 0, 0, 0, 0, 0, 0, 0, 0, 0, 0, 0,\n",
            "        0, 0, 0, 0, 0, 0, 0, 0, 0, 0, 0, 0, 0, 0, 0, 0, 0, 0, 0, 0, 0, 0, 0, 0,\n",
            "        0, 0, 0, 0, 0, 0, 0, 0, 0, 0, 0, 0, 0, 0, 0, 0, 0, 0, 0, 0, 0, 0, 0, 0,\n",
            "        0, 0, 0, 0, 0, 0, 0, 0, 0, 0, 0, 0, 0, 0, 0, 0, 0, 0, 0, 0, 0, 0, 0, 0,\n",
            "        0, 0, 0, 0, 0, 0, 0, 0, 0, 0, 0, 0, 0, 0, 0, 0, 0, 0, 0, 0, 0, 0, 0, 0,\n",
            "        0, 0, 0, 0, 0, 0, 0, 0, 0, 0, 0, 0, 0, 0, 0, 0, 0, 0, 0, 0, 0, 0, 0, 0,\n",
            "        0, 0, 0, 0, 0, 0, 0, 0, 0, 0, 0, 0, 0, 0, 0, 0, 0, 0, 0, 0, 0, 0, 0, 0,\n",
            "        0, 0, 0, 0, 0, 0, 0, 0])\n"
          ],
          "name": "stdout"
        }
      ]
    },
    {
      "cell_type": "markdown",
      "metadata": {
        "id": "4MYOWL6XegkW",
        "colab_type": "text"
      },
      "source": [
        "**Pre-trained Model and Training Set-up**"
      ]
    },
    {
      "cell_type": "code",
      "metadata": {
        "id": "wSfzPkYxsaiH",
        "colab_type": "code",
        "colab": {}
      },
      "source": [
        "from torch.utils.data import TensorDataset, DataLoader, RandomSampler, SequentialSampler# The DataLoader needs to know our batch size for training\n",
        "batch_size = 16\n",
        "\n",
        "# Create the DataLoader for training set.\n",
        "train_data = TensorDataset(train_inputs, train_masks, train_labels)\n",
        "train_sampler = RandomSampler(train_data)\n",
        "train_dataloader = DataLoader(train_data, sampler=train_sampler, batch_size=batch_size)# Create the DataLoader for our validation set.\n",
        "\n",
        "# Create the DataLoader for validation set without labels.\n",
        "val_data = TensorDataset(val_inputs, val_masks, val_labels)\n",
        "val_sampler = SequentialSampler(val_data)\n",
        "val_dataloader = DataLoader(val_data, sampler=val_sampler, batch_size=batch_size)"
      ],
      "execution_count": 0,
      "outputs": []
    },
    {
      "cell_type": "code",
      "metadata": {
        "id": "bAROsdsUtWcw",
        "colab_type": "code",
        "outputId": "5560b61f-f4ed-4435-a5f4-bb93266fba07",
        "colab": {
          "base_uri": "https://localhost:8080/",
          "height": 1000,
          "referenced_widgets": [
            "f7982dd13d724592bb480d1407e1b396",
            "cec9eb609b6a438da8d9e47fdb8c93f4",
            "3e7776b26b134f538a70ca19a1410103",
            "448f301ad0954d5581b2396c845db405",
            "93d75db7bdfd46b79e5b0f782abd2cb1",
            "284cf875f53840de9f29c8486eeb7066",
            "d663cc94ad1a4e42b4fd1aa36ab08fde",
            "3640e7cd939645118b0c78602513095c",
            "a15229eccf374a4fb2f9062cb77c25ab",
            "04f4a168ed80426fb301cf7ce687f8d1",
            "d9106493e9fa44c79103977a97fd57ed",
            "5de95874dbc34484bf9239edc6a1fdc5",
            "e9c5ad16749b478e8a161a007d3676ae",
            "7d70dbcf61ac446bb1fe96c8f06c8b4f",
            "bb0d3a09f9844ee38d6d3aa8f519c1c4",
            "b71ebd95b60f40388c6af9bb77ead339"
          ]
        }
      },
      "source": [
        "from transformers import BertForSequenceClassification, AdamW, BertConfig\n",
        "# Load BertForSequenceClassification, the pretrained BERT model with a single \n",
        "# linear classification layer on top. \n",
        "\n",
        "model = BertForSequenceClassification.from_pretrained(\n",
        " \"bert-base-uncased\", # Use the 12-layer BERT model, with an uncased vocab.\n",
        " num_labels = 2, # The number of output labels for multi-class classification. \n",
        " output_attentions = False, # Whether the model returns attentions weights.\n",
        " output_hidden_states = False, # Whether the model returns all hidden-states.\n",
        ")# Tell pytorch to run this model on the GPU.\n",
        "\n",
        "model.cuda()"
      ],
      "execution_count": 21,
      "outputs": [
        {
          "output_type": "display_data",
          "data": {
            "application/vnd.jupyter.widget-view+json": {
              "model_id": "f7982dd13d724592bb480d1407e1b396",
              "version_minor": 0,
              "version_major": 2
            },
            "text/plain": [
              "HBox(children=(FloatProgress(value=0.0, description='Downloading', max=433.0, style=ProgressStyle(description_…"
            ]
          },
          "metadata": {
            "tags": []
          }
        },
        {
          "output_type": "stream",
          "text": [
            "\n"
          ],
          "name": "stdout"
        },
        {
          "output_type": "display_data",
          "data": {
            "application/vnd.jupyter.widget-view+json": {
              "model_id": "a15229eccf374a4fb2f9062cb77c25ab",
              "version_minor": 0,
              "version_major": 2
            },
            "text/plain": [
              "HBox(children=(FloatProgress(value=0.0, description='Downloading', max=440473133.0, style=ProgressStyle(descri…"
            ]
          },
          "metadata": {
            "tags": []
          }
        },
        {
          "output_type": "stream",
          "text": [
            "\n"
          ],
          "name": "stdout"
        },
        {
          "output_type": "execute_result",
          "data": {
            "text/plain": [
              "BertForSequenceClassification(\n",
              "  (bert): BertModel(\n",
              "    (embeddings): BertEmbeddings(\n",
              "      (word_embeddings): Embedding(30522, 768, padding_idx=0)\n",
              "      (position_embeddings): Embedding(512, 768)\n",
              "      (token_type_embeddings): Embedding(2, 768)\n",
              "      (LayerNorm): LayerNorm((768,), eps=1e-12, elementwise_affine=True)\n",
              "      (dropout): Dropout(p=0.1, inplace=False)\n",
              "    )\n",
              "    (encoder): BertEncoder(\n",
              "      (layer): ModuleList(\n",
              "        (0): BertLayer(\n",
              "          (attention): BertAttention(\n",
              "            (self): BertSelfAttention(\n",
              "              (query): Linear(in_features=768, out_features=768, bias=True)\n",
              "              (key): Linear(in_features=768, out_features=768, bias=True)\n",
              "              (value): Linear(in_features=768, out_features=768, bias=True)\n",
              "              (dropout): Dropout(p=0.1, inplace=False)\n",
              "            )\n",
              "            (output): BertSelfOutput(\n",
              "              (dense): Linear(in_features=768, out_features=768, bias=True)\n",
              "              (LayerNorm): LayerNorm((768,), eps=1e-12, elementwise_affine=True)\n",
              "              (dropout): Dropout(p=0.1, inplace=False)\n",
              "            )\n",
              "          )\n",
              "          (intermediate): BertIntermediate(\n",
              "            (dense): Linear(in_features=768, out_features=3072, bias=True)\n",
              "          )\n",
              "          (output): BertOutput(\n",
              "            (dense): Linear(in_features=3072, out_features=768, bias=True)\n",
              "            (LayerNorm): LayerNorm((768,), eps=1e-12, elementwise_affine=True)\n",
              "            (dropout): Dropout(p=0.1, inplace=False)\n",
              "          )\n",
              "        )\n",
              "        (1): BertLayer(\n",
              "          (attention): BertAttention(\n",
              "            (self): BertSelfAttention(\n",
              "              (query): Linear(in_features=768, out_features=768, bias=True)\n",
              "              (key): Linear(in_features=768, out_features=768, bias=True)\n",
              "              (value): Linear(in_features=768, out_features=768, bias=True)\n",
              "              (dropout): Dropout(p=0.1, inplace=False)\n",
              "            )\n",
              "            (output): BertSelfOutput(\n",
              "              (dense): Linear(in_features=768, out_features=768, bias=True)\n",
              "              (LayerNorm): LayerNorm((768,), eps=1e-12, elementwise_affine=True)\n",
              "              (dropout): Dropout(p=0.1, inplace=False)\n",
              "            )\n",
              "          )\n",
              "          (intermediate): BertIntermediate(\n",
              "            (dense): Linear(in_features=768, out_features=3072, bias=True)\n",
              "          )\n",
              "          (output): BertOutput(\n",
              "            (dense): Linear(in_features=3072, out_features=768, bias=True)\n",
              "            (LayerNorm): LayerNorm((768,), eps=1e-12, elementwise_affine=True)\n",
              "            (dropout): Dropout(p=0.1, inplace=False)\n",
              "          )\n",
              "        )\n",
              "        (2): BertLayer(\n",
              "          (attention): BertAttention(\n",
              "            (self): BertSelfAttention(\n",
              "              (query): Linear(in_features=768, out_features=768, bias=True)\n",
              "              (key): Linear(in_features=768, out_features=768, bias=True)\n",
              "              (value): Linear(in_features=768, out_features=768, bias=True)\n",
              "              (dropout): Dropout(p=0.1, inplace=False)\n",
              "            )\n",
              "            (output): BertSelfOutput(\n",
              "              (dense): Linear(in_features=768, out_features=768, bias=True)\n",
              "              (LayerNorm): LayerNorm((768,), eps=1e-12, elementwise_affine=True)\n",
              "              (dropout): Dropout(p=0.1, inplace=False)\n",
              "            )\n",
              "          )\n",
              "          (intermediate): BertIntermediate(\n",
              "            (dense): Linear(in_features=768, out_features=3072, bias=True)\n",
              "          )\n",
              "          (output): BertOutput(\n",
              "            (dense): Linear(in_features=3072, out_features=768, bias=True)\n",
              "            (LayerNorm): LayerNorm((768,), eps=1e-12, elementwise_affine=True)\n",
              "            (dropout): Dropout(p=0.1, inplace=False)\n",
              "          )\n",
              "        )\n",
              "        (3): BertLayer(\n",
              "          (attention): BertAttention(\n",
              "            (self): BertSelfAttention(\n",
              "              (query): Linear(in_features=768, out_features=768, bias=True)\n",
              "              (key): Linear(in_features=768, out_features=768, bias=True)\n",
              "              (value): Linear(in_features=768, out_features=768, bias=True)\n",
              "              (dropout): Dropout(p=0.1, inplace=False)\n",
              "            )\n",
              "            (output): BertSelfOutput(\n",
              "              (dense): Linear(in_features=768, out_features=768, bias=True)\n",
              "              (LayerNorm): LayerNorm((768,), eps=1e-12, elementwise_affine=True)\n",
              "              (dropout): Dropout(p=0.1, inplace=False)\n",
              "            )\n",
              "          )\n",
              "          (intermediate): BertIntermediate(\n",
              "            (dense): Linear(in_features=768, out_features=3072, bias=True)\n",
              "          )\n",
              "          (output): BertOutput(\n",
              "            (dense): Linear(in_features=3072, out_features=768, bias=True)\n",
              "            (LayerNorm): LayerNorm((768,), eps=1e-12, elementwise_affine=True)\n",
              "            (dropout): Dropout(p=0.1, inplace=False)\n",
              "          )\n",
              "        )\n",
              "        (4): BertLayer(\n",
              "          (attention): BertAttention(\n",
              "            (self): BertSelfAttention(\n",
              "              (query): Linear(in_features=768, out_features=768, bias=True)\n",
              "              (key): Linear(in_features=768, out_features=768, bias=True)\n",
              "              (value): Linear(in_features=768, out_features=768, bias=True)\n",
              "              (dropout): Dropout(p=0.1, inplace=False)\n",
              "            )\n",
              "            (output): BertSelfOutput(\n",
              "              (dense): Linear(in_features=768, out_features=768, bias=True)\n",
              "              (LayerNorm): LayerNorm((768,), eps=1e-12, elementwise_affine=True)\n",
              "              (dropout): Dropout(p=0.1, inplace=False)\n",
              "            )\n",
              "          )\n",
              "          (intermediate): BertIntermediate(\n",
              "            (dense): Linear(in_features=768, out_features=3072, bias=True)\n",
              "          )\n",
              "          (output): BertOutput(\n",
              "            (dense): Linear(in_features=3072, out_features=768, bias=True)\n",
              "            (LayerNorm): LayerNorm((768,), eps=1e-12, elementwise_affine=True)\n",
              "            (dropout): Dropout(p=0.1, inplace=False)\n",
              "          )\n",
              "        )\n",
              "        (5): BertLayer(\n",
              "          (attention): BertAttention(\n",
              "            (self): BertSelfAttention(\n",
              "              (query): Linear(in_features=768, out_features=768, bias=True)\n",
              "              (key): Linear(in_features=768, out_features=768, bias=True)\n",
              "              (value): Linear(in_features=768, out_features=768, bias=True)\n",
              "              (dropout): Dropout(p=0.1, inplace=False)\n",
              "            )\n",
              "            (output): BertSelfOutput(\n",
              "              (dense): Linear(in_features=768, out_features=768, bias=True)\n",
              "              (LayerNorm): LayerNorm((768,), eps=1e-12, elementwise_affine=True)\n",
              "              (dropout): Dropout(p=0.1, inplace=False)\n",
              "            )\n",
              "          )\n",
              "          (intermediate): BertIntermediate(\n",
              "            (dense): Linear(in_features=768, out_features=3072, bias=True)\n",
              "          )\n",
              "          (output): BertOutput(\n",
              "            (dense): Linear(in_features=3072, out_features=768, bias=True)\n",
              "            (LayerNorm): LayerNorm((768,), eps=1e-12, elementwise_affine=True)\n",
              "            (dropout): Dropout(p=0.1, inplace=False)\n",
              "          )\n",
              "        )\n",
              "        (6): BertLayer(\n",
              "          (attention): BertAttention(\n",
              "            (self): BertSelfAttention(\n",
              "              (query): Linear(in_features=768, out_features=768, bias=True)\n",
              "              (key): Linear(in_features=768, out_features=768, bias=True)\n",
              "              (value): Linear(in_features=768, out_features=768, bias=True)\n",
              "              (dropout): Dropout(p=0.1, inplace=False)\n",
              "            )\n",
              "            (output): BertSelfOutput(\n",
              "              (dense): Linear(in_features=768, out_features=768, bias=True)\n",
              "              (LayerNorm): LayerNorm((768,), eps=1e-12, elementwise_affine=True)\n",
              "              (dropout): Dropout(p=0.1, inplace=False)\n",
              "            )\n",
              "          )\n",
              "          (intermediate): BertIntermediate(\n",
              "            (dense): Linear(in_features=768, out_features=3072, bias=True)\n",
              "          )\n",
              "          (output): BertOutput(\n",
              "            (dense): Linear(in_features=3072, out_features=768, bias=True)\n",
              "            (LayerNorm): LayerNorm((768,), eps=1e-12, elementwise_affine=True)\n",
              "            (dropout): Dropout(p=0.1, inplace=False)\n",
              "          )\n",
              "        )\n",
              "        (7): BertLayer(\n",
              "          (attention): BertAttention(\n",
              "            (self): BertSelfAttention(\n",
              "              (query): Linear(in_features=768, out_features=768, bias=True)\n",
              "              (key): Linear(in_features=768, out_features=768, bias=True)\n",
              "              (value): Linear(in_features=768, out_features=768, bias=True)\n",
              "              (dropout): Dropout(p=0.1, inplace=False)\n",
              "            )\n",
              "            (output): BertSelfOutput(\n",
              "              (dense): Linear(in_features=768, out_features=768, bias=True)\n",
              "              (LayerNorm): LayerNorm((768,), eps=1e-12, elementwise_affine=True)\n",
              "              (dropout): Dropout(p=0.1, inplace=False)\n",
              "            )\n",
              "          )\n",
              "          (intermediate): BertIntermediate(\n",
              "            (dense): Linear(in_features=768, out_features=3072, bias=True)\n",
              "          )\n",
              "          (output): BertOutput(\n",
              "            (dense): Linear(in_features=3072, out_features=768, bias=True)\n",
              "            (LayerNorm): LayerNorm((768,), eps=1e-12, elementwise_affine=True)\n",
              "            (dropout): Dropout(p=0.1, inplace=False)\n",
              "          )\n",
              "        )\n",
              "        (8): BertLayer(\n",
              "          (attention): BertAttention(\n",
              "            (self): BertSelfAttention(\n",
              "              (query): Linear(in_features=768, out_features=768, bias=True)\n",
              "              (key): Linear(in_features=768, out_features=768, bias=True)\n",
              "              (value): Linear(in_features=768, out_features=768, bias=True)\n",
              "              (dropout): Dropout(p=0.1, inplace=False)\n",
              "            )\n",
              "            (output): BertSelfOutput(\n",
              "              (dense): Linear(in_features=768, out_features=768, bias=True)\n",
              "              (LayerNorm): LayerNorm((768,), eps=1e-12, elementwise_affine=True)\n",
              "              (dropout): Dropout(p=0.1, inplace=False)\n",
              "            )\n",
              "          )\n",
              "          (intermediate): BertIntermediate(\n",
              "            (dense): Linear(in_features=768, out_features=3072, bias=True)\n",
              "          )\n",
              "          (output): BertOutput(\n",
              "            (dense): Linear(in_features=3072, out_features=768, bias=True)\n",
              "            (LayerNorm): LayerNorm((768,), eps=1e-12, elementwise_affine=True)\n",
              "            (dropout): Dropout(p=0.1, inplace=False)\n",
              "          )\n",
              "        )\n",
              "        (9): BertLayer(\n",
              "          (attention): BertAttention(\n",
              "            (self): BertSelfAttention(\n",
              "              (query): Linear(in_features=768, out_features=768, bias=True)\n",
              "              (key): Linear(in_features=768, out_features=768, bias=True)\n",
              "              (value): Linear(in_features=768, out_features=768, bias=True)\n",
              "              (dropout): Dropout(p=0.1, inplace=False)\n",
              "            )\n",
              "            (output): BertSelfOutput(\n",
              "              (dense): Linear(in_features=768, out_features=768, bias=True)\n",
              "              (LayerNorm): LayerNorm((768,), eps=1e-12, elementwise_affine=True)\n",
              "              (dropout): Dropout(p=0.1, inplace=False)\n",
              "            )\n",
              "          )\n",
              "          (intermediate): BertIntermediate(\n",
              "            (dense): Linear(in_features=768, out_features=3072, bias=True)\n",
              "          )\n",
              "          (output): BertOutput(\n",
              "            (dense): Linear(in_features=3072, out_features=768, bias=True)\n",
              "            (LayerNorm): LayerNorm((768,), eps=1e-12, elementwise_affine=True)\n",
              "            (dropout): Dropout(p=0.1, inplace=False)\n",
              "          )\n",
              "        )\n",
              "        (10): BertLayer(\n",
              "          (attention): BertAttention(\n",
              "            (self): BertSelfAttention(\n",
              "              (query): Linear(in_features=768, out_features=768, bias=True)\n",
              "              (key): Linear(in_features=768, out_features=768, bias=True)\n",
              "              (value): Linear(in_features=768, out_features=768, bias=True)\n",
              "              (dropout): Dropout(p=0.1, inplace=False)\n",
              "            )\n",
              "            (output): BertSelfOutput(\n",
              "              (dense): Linear(in_features=768, out_features=768, bias=True)\n",
              "              (LayerNorm): LayerNorm((768,), eps=1e-12, elementwise_affine=True)\n",
              "              (dropout): Dropout(p=0.1, inplace=False)\n",
              "            )\n",
              "          )\n",
              "          (intermediate): BertIntermediate(\n",
              "            (dense): Linear(in_features=768, out_features=3072, bias=True)\n",
              "          )\n",
              "          (output): BertOutput(\n",
              "            (dense): Linear(in_features=3072, out_features=768, bias=True)\n",
              "            (LayerNorm): LayerNorm((768,), eps=1e-12, elementwise_affine=True)\n",
              "            (dropout): Dropout(p=0.1, inplace=False)\n",
              "          )\n",
              "        )\n",
              "        (11): BertLayer(\n",
              "          (attention): BertAttention(\n",
              "            (self): BertSelfAttention(\n",
              "              (query): Linear(in_features=768, out_features=768, bias=True)\n",
              "              (key): Linear(in_features=768, out_features=768, bias=True)\n",
              "              (value): Linear(in_features=768, out_features=768, bias=True)\n",
              "              (dropout): Dropout(p=0.1, inplace=False)\n",
              "            )\n",
              "            (output): BertSelfOutput(\n",
              "              (dense): Linear(in_features=768, out_features=768, bias=True)\n",
              "              (LayerNorm): LayerNorm((768,), eps=1e-12, elementwise_affine=True)\n",
              "              (dropout): Dropout(p=0.1, inplace=False)\n",
              "            )\n",
              "          )\n",
              "          (intermediate): BertIntermediate(\n",
              "            (dense): Linear(in_features=768, out_features=3072, bias=True)\n",
              "          )\n",
              "          (output): BertOutput(\n",
              "            (dense): Linear(in_features=3072, out_features=768, bias=True)\n",
              "            (LayerNorm): LayerNorm((768,), eps=1e-12, elementwise_affine=True)\n",
              "            (dropout): Dropout(p=0.1, inplace=False)\n",
              "          )\n",
              "        )\n",
              "      )\n",
              "    )\n",
              "    (pooler): BertPooler(\n",
              "      (dense): Linear(in_features=768, out_features=768, bias=True)\n",
              "      (activation): Tanh()\n",
              "    )\n",
              "  )\n",
              "  (dropout): Dropout(p=0.1, inplace=False)\n",
              "  (classifier): Linear(in_features=768, out_features=2, bias=True)\n",
              ")"
            ]
          },
          "metadata": {
            "tags": []
          },
          "execution_count": 21
        }
      ]
    },
    {
      "cell_type": "markdown",
      "metadata": {
        "id": "AMLOMxE3e4eo",
        "colab_type": "text"
      },
      "source": [
        "model.cuda() output removed"
      ]
    },
    {
      "cell_type": "code",
      "metadata": {
        "id": "vGtw1ayevvg2",
        "colab_type": "code",
        "colab": {}
      },
      "source": [
        "# Note: AdamW is a class from the huggingface library (as opposed to pytorch) \n",
        "optimizer = AdamW(model.parameters(),\n",
        " lr = 2e-5, # args.learning_rate - default is 5e-5, our notebook had 2e-5\n",
        " eps = 1e-8 # args.adam_epsilon - default is 1e-8.\n",
        " )\n",
        "\n",
        "from transformers import get_linear_schedule_with_warmup\n",
        "# Number of training epochs (authors recommend between 2 and 4)\n",
        "epochs = 3\n",
        "\n",
        "# Total number of training steps is number of batches * number of epochs.\n",
        "total_steps = len(train_dataloader) * epochs\n",
        "\n",
        "# Create the learning rate scheduler.\n",
        "scheduler = get_linear_schedule_with_warmup(optimizer, \n",
        " num_warmup_steps = 0, # Default value in run_glue.py\n",
        " num_training_steps = total_steps)"
      ],
      "execution_count": 0,
      "outputs": []
    },
    {
      "cell_type": "code",
      "metadata": {
        "id": "WNYYeNFywR8_",
        "colab_type": "code",
        "colab": {}
      },
      "source": [
        "import time\n",
        "import datetime\n",
        "\n",
        "def format_time(elapsed):\n",
        "    '''\n",
        "    Takes a time in seconds and returns a string hh:mm:ss\n",
        "    '''\n",
        "    # Round to the nearest second.\n",
        "    elapsed_rounded = int(round((elapsed)))\n",
        "    \n",
        "    # Format as hh:mm:ss\n",
        "    return str(datetime.timedelta(seconds=elapsed_rounded))"
      ],
      "execution_count": 0,
      "outputs": []
    },
    {
      "cell_type": "code",
      "metadata": {
        "id": "Xg8vSTuT7d0y",
        "colab_type": "code",
        "colab": {}
      },
      "source": [
        "import numpy as np\n",
        "\n",
        "# Function to calculate the accuracy of our predictions vs labels\n",
        "def flat_accuracy(preds, labels):\n",
        "    pred_flat = np.argmax(preds, axis=1).flatten()\n",
        "    labels_flat = labels.flatten()\n",
        "    return np.sum(pred_flat == labels_flat) / len(labels_flat)"
      ],
      "execution_count": 0,
      "outputs": []
    },
    {
      "cell_type": "markdown",
      "metadata": {
        "id": "DK1LwK5GfAEq",
        "colab_type": "text"
      },
      "source": [
        "#Training#"
      ]
    },
    {
      "cell_type": "code",
      "metadata": {
        "id": "x1l0NZC3yWSr",
        "colab_type": "code",
        "outputId": "9cd1a263-b00c-48ef-bf02-f8a7f73db12d",
        "colab": {
          "base_uri": "https://localhost:8080/",
          "height": 1000
        }
      },
      "source": [
        "import random\n",
        "import numpy as np\n",
        "import time\n",
        "\n",
        "# This training code is based on the `run_glue.py` script here:\n",
        "# https://github.com/huggingface/transformers/blob/5bfcd0485ece086ebcbed2d008813037968a9e58/examples/run_glue.py#L128\n",
        "\n",
        "# Set the seed value all over the place to make this reproducible.\n",
        "seed_val = 42\n",
        "\n",
        "random.seed(seed_val)\n",
        "np.random.seed(seed_val)\n",
        "torch.manual_seed(seed_val)\n",
        "torch.cuda.manual_seed_all(seed_val)\n",
        "\n",
        "# We'll store a number of quantities such as training and validation loss, \n",
        "# validation accuracy, and timings.\n",
        "training_stats = []\n",
        "\n",
        "# Measure the total training time for the whole run.\n",
        "total_t0 = time.time()\n",
        "\n",
        "# For each epoch...\n",
        "for epoch_i in range(0, epochs):\n",
        "  \n",
        "    # Perform one full pass over the training set.\n",
        "\n",
        "    print(\"\")\n",
        "    print('======== Epoch {:} / {:} ========'.format(epoch_i + 1, epochs))\n",
        "    print('Training...')\n",
        "\n",
        "    # Measure how long the training epoch takes.\n",
        "    t0 = time.time()\n",
        "\n",
        "    # Reset the total loss for this epoch.\n",
        "    total_train_loss = 0\n",
        "\n",
        "    # Put the model into training mode. Don't be mislead--the call to \n",
        "    # `train` just changes the *mode*, it doesn't *perform* the training.\n",
        "    # `dropout` and `batchnorm` layers behave differently during training\n",
        "    # vs. test (source: https://stackoverflow.com/questions/51433378/what-does-model-train-do-in-pytorch)\n",
        "    model.train()\n",
        "\n",
        "    # For each batch of training data...\n",
        "    for step, batch in enumerate(train_dataloader):\n",
        "\n",
        "        # Progress update every 40 batches.\n",
        "        if step % 40 == 0 and not step == 0:\n",
        "            # Calculate elapsed time in minutes.\n",
        "            elapsed = format_time(time.time() - t0)\n",
        "            \n",
        "            # Report progress.\n",
        "            print('  Batch {:>5,}  of  {:>5,}.    Elapsed: {:}.'.format(step, len(train_dataloader), elapsed))\n",
        "\n",
        "        # Unpack this training batch from our dataloader. \n",
        "        #\n",
        "        # As we unpack the batch, we'll also copy each tensor to the GPU using the \n",
        "        # `to` method.\n",
        "        #\n",
        "        # `batch` contains three pytorch tensors:\n",
        "        #   [0]: input ids \n",
        "        #   [1]: attention masks\n",
        "        #   [2]: labels \n",
        "        b_input_ids = batch[0].to(device)\n",
        "        b_input_mask = batch[1].to(device)\n",
        "        b_labels = batch[2].to(device)\n",
        "\n",
        "        # Always clear any previously calculated gradients before performing a\n",
        "        # backward pass. PyTorch doesn't do this automatically because \n",
        "        # accumulating the gradients is \"convenient while training RNNs\". \n",
        "        # (source: https://stackoverflow.com/questions/48001598/why-do-we-need-to-call-zero-grad-in-pytorch)\n",
        "        model.zero_grad()        \n",
        "\n",
        "        # Perform a forward pass (evaluate the model on this training batch).\n",
        "        # The documentation for this `model` function is here: \n",
        "        # https://huggingface.co/transformers/v2.2.0/model_doc/bert.html#transformers.BertForSequenceClassification\n",
        "        # It returns different numbers of parameters depending on what arguments\n",
        "        # arge given and what flags are set. For our useage here, it returns\n",
        "        # the loss (because we provided labels) and the \"logits\"--the model\n",
        "        # outputs prior to activation.\n",
        "        loss, logits = model(b_input_ids, \n",
        "                             token_type_ids=None, \n",
        "                             attention_mask=b_input_mask, \n",
        "                             labels=b_labels)\n",
        "\n",
        "        # Accumulate the training loss over all of the batches so that we can\n",
        "        # calculate the average loss at the end. `loss` is a Tensor containing a\n",
        "        # single value; the `.item()` function just returns the Python value \n",
        "        # from the tensor.\n",
        "        total_train_loss += loss.item()\n",
        "\n",
        "        # Perform a backward pass to calculate the gradients.\n",
        "        loss.backward()\n",
        "\n",
        "        # Clip the norm of the gradients to 1.0.\n",
        "        # This is to help prevent the \"exploding gradients\" problem.\n",
        "        torch.nn.utils.clip_grad_norm_(model.parameters(), 1.0)\n",
        "\n",
        "        # Update parameters and take a step using the computed gradient.\n",
        "        # The optimizer dictates the \"update rule\"--how the parameters are\n",
        "        # modified based on their gradients, the learning rate, etc.\n",
        "        optimizer.step()\n",
        "\n",
        "        # Update the learning rate.\n",
        "        scheduler.step()\n",
        "\n",
        "    # Calculate the average loss over all of the batches.\n",
        "    avg_train_loss = total_train_loss / len(train_dataloader)            \n",
        "    \n",
        "    # Measure how long this epoch took.\n",
        "    training_time = format_time(time.time() - t0)\n",
        "\n",
        "    print(\"\")\n",
        "    print(\"  Average training loss: {0:.2f}\".format(avg_train_loss))\n",
        "    print(\"  Training epcoh took: {:}\".format(training_time))\n",
        "\n",
        "    # ========================================\n",
        "    #               Validation\n",
        "    # ========================================\n",
        "    # After the completion of each training epoch, measure our performance on\n",
        "    # our validation set.\n",
        "\n",
        "    print(\"\")\n",
        "    print(\"Running Validation...\")\n",
        "\n",
        "    t0 = time.time()\n",
        "\n",
        "    # Put the model in evaluation mode--the dropout layers behave differently\n",
        "    # during evaluation.\n",
        "    model.eval()\n",
        "\n",
        "    # Tracking variables \n",
        "    total_eval_accuracy = 0\n",
        "    total_eval_loss = 0\n",
        "    nb_eval_steps = 0\n",
        "\n",
        "    # Evaluate data for one epoch\n",
        "    for batch in val_dataloader:\n",
        "        \n",
        "        # Unpack this training batch from our dataloader. \n",
        "        #\n",
        "        # As we unpack the batch, we'll also copy each tensor to the GPU using \n",
        "        # the `to` method.\n",
        "        #\n",
        "        # `batch` contains three pytorch tensors:\n",
        "        #   [0]: input ids \n",
        "        #   [1]: attention masks\n",
        "        #   [2]: labels \n",
        "        b_input_ids = batch[0].to(device)\n",
        "        b_input_mask = batch[1].to(device)\n",
        "        b_labels = batch[2].to(device)\n",
        "        \n",
        "        # Tell pytorch not to bother with constructing the compute graph during\n",
        "        # the forward pass, since this is only needed for backprop (training).\n",
        "        with torch.no_grad():        \n",
        "\n",
        "            # Forward pass, calculate logit predictions.\n",
        "            # token_type_ids is the same as the \"segment ids\", which \n",
        "            # differentiates sentence 1 and 2 in 2-sentence tasks.\n",
        "            # The documentation for this `model` function is here: \n",
        "            # https://huggingface.co/transformers/v2.2.0/model_doc/bert.html#transformers.BertForSequenceClassification\n",
        "            # Get the \"logits\" output by the model. The \"logits\" are the output\n",
        "            # values prior to applying an activation function like the softmax.\n",
        "            (loss, logits) = model(b_input_ids, \n",
        "                                   token_type_ids=None, \n",
        "                                   attention_mask=b_input_mask,\n",
        "                                   labels=b_labels)\n",
        "            \n",
        "        # Accumulate the validation loss.\n",
        "        total_eval_loss += loss.item()\n",
        "\n",
        "        # Move logits and labels to CPU\n",
        "        logits = logits.detach().cpu().numpy()\n",
        "        label_ids = b_labels.to('cpu').numpy()\n",
        "\n",
        "        # Calculate the accuracy for this batch of test sentences, and\n",
        "        # accumulate it over all batches.\n",
        "        total_eval_accuracy += flat_accuracy(logits, label_ids)\n",
        "        \n",
        "\n",
        "    # Report the final accuracy for this validation run.\n",
        "    avg_val_accuracy = total_eval_accuracy / len(val_dataloader)\n",
        "    print(\"  Accuracy: {0:.2f}\".format(avg_val_accuracy))\n",
        "\n",
        "    # Calculate the average loss over all of the batches.\n",
        "    avg_val_loss = total_eval_loss / len(val_dataloader)\n",
        "    \n",
        "    # Measure how long the validation run took.\n",
        "    validation_time = format_time(time.time() - t0)\n",
        "    \n",
        "    print(\"  Validation Loss: {0:.2f}\".format(avg_val_loss))\n",
        "    print(\"  Validation took: {:}\".format(validation_time))\n",
        "\n",
        "    # Record all statistics from this epoch.\n",
        "    training_stats.append(\n",
        "        {\n",
        "            'epoch': epoch_i + 1,\n",
        "            'Training Loss': avg_train_loss,\n",
        "            'Valid. Loss': avg_val_loss,\n",
        "            'Valid. Accur.': avg_val_accuracy,\n",
        "            'Training Time': training_time,\n",
        "            'Validation Time': validation_time\n",
        "        }\n",
        "    )\n",
        "\n",
        "    #save model for epoch\n",
        "\n",
        "    import os\n",
        "\n",
        "    output_dir = './model_save2/epoch_{}'.format(epoch_i)\n",
        "\n",
        "    # Create output directory if needed\n",
        "    if not os.path.exists(output_dir):\n",
        "      os.makedirs(output_dir)\n",
        "\n",
        "    print(\"Saving model to %s\" % output_dir)\n",
        "\n",
        "    # Save a trained model, configuration and tokenizer using `save_pretrained()`.\n",
        "    # They can then be reloaded using `from_pretrained()`\n",
        "    model_to_save = model.module if hasattr(model, 'module') else model  # Take care of distributed/parallel training\n",
        "    model_to_save.save_pretrained(output_dir)\n",
        "    tokenizer.save_pretrained(output_dir)\n",
        "    \n",
        "print(\"\")\n",
        "print(\"Training complete!\")\n",
        "\n",
        "print(\"Total training took {:} (h:mm:ss)\".format(format_time(time.time()-total_t0)))"
      ],
      "execution_count": 25,
      "outputs": [
        {
          "output_type": "stream",
          "text": [
            "\n",
            "======== Epoch 1 / 3 ========\n",
            "Training...\n",
            "  Batch    40  of  3,228.    Elapsed: 0:00:33.\n",
            "  Batch    80  of  3,228.    Elapsed: 0:01:07.\n",
            "  Batch   120  of  3,228.    Elapsed: 0:01:40.\n",
            "  Batch   160  of  3,228.    Elapsed: 0:02:13.\n",
            "  Batch   200  of  3,228.    Elapsed: 0:02:46.\n",
            "  Batch   240  of  3,228.    Elapsed: 0:03:19.\n",
            "  Batch   280  of  3,228.    Elapsed: 0:03:52.\n",
            "  Batch   320  of  3,228.    Elapsed: 0:04:25.\n",
            "  Batch   360  of  3,228.    Elapsed: 0:04:58.\n",
            "  Batch   400  of  3,228.    Elapsed: 0:05:31.\n",
            "  Batch   440  of  3,228.    Elapsed: 0:06:04.\n",
            "  Batch   480  of  3,228.    Elapsed: 0:06:38.\n",
            "  Batch   520  of  3,228.    Elapsed: 0:07:11.\n",
            "  Batch   560  of  3,228.    Elapsed: 0:07:44.\n",
            "  Batch   600  of  3,228.    Elapsed: 0:08:17.\n",
            "  Batch   640  of  3,228.    Elapsed: 0:08:50.\n",
            "  Batch   680  of  3,228.    Elapsed: 0:09:23.\n",
            "  Batch   720  of  3,228.    Elapsed: 0:09:56.\n",
            "  Batch   760  of  3,228.    Elapsed: 0:10:29.\n",
            "  Batch   800  of  3,228.    Elapsed: 0:11:03.\n",
            "  Batch   840  of  3,228.    Elapsed: 0:11:36.\n",
            "  Batch   880  of  3,228.    Elapsed: 0:12:09.\n",
            "  Batch   920  of  3,228.    Elapsed: 0:12:42.\n",
            "  Batch   960  of  3,228.    Elapsed: 0:13:15.\n",
            "  Batch 1,000  of  3,228.    Elapsed: 0:13:48.\n",
            "  Batch 1,040  of  3,228.    Elapsed: 0:14:21.\n",
            "  Batch 1,080  of  3,228.    Elapsed: 0:14:54.\n",
            "  Batch 1,120  of  3,228.    Elapsed: 0:15:28.\n",
            "  Batch 1,160  of  3,228.    Elapsed: 0:16:01.\n",
            "  Batch 1,200  of  3,228.    Elapsed: 0:16:34.\n",
            "  Batch 1,240  of  3,228.    Elapsed: 0:17:07.\n",
            "  Batch 1,280  of  3,228.    Elapsed: 0:17:40.\n",
            "  Batch 1,320  of  3,228.    Elapsed: 0:18:13.\n",
            "  Batch 1,360  of  3,228.    Elapsed: 0:18:46.\n",
            "  Batch 1,400  of  3,228.    Elapsed: 0:19:20.\n",
            "  Batch 1,440  of  3,228.    Elapsed: 0:19:53.\n",
            "  Batch 1,480  of  3,228.    Elapsed: 0:20:26.\n",
            "  Batch 1,520  of  3,228.    Elapsed: 0:20:59.\n",
            "  Batch 1,560  of  3,228.    Elapsed: 0:21:32.\n",
            "  Batch 1,600  of  3,228.    Elapsed: 0:22:05.\n",
            "  Batch 1,640  of  3,228.    Elapsed: 0:22:38.\n",
            "  Batch 1,680  of  3,228.    Elapsed: 0:23:12.\n",
            "  Batch 1,720  of  3,228.    Elapsed: 0:23:45.\n",
            "  Batch 1,760  of  3,228.    Elapsed: 0:24:18.\n",
            "  Batch 1,800  of  3,228.    Elapsed: 0:24:51.\n",
            "  Batch 1,840  of  3,228.    Elapsed: 0:25:24.\n",
            "  Batch 1,880  of  3,228.    Elapsed: 0:25:57.\n",
            "  Batch 1,920  of  3,228.    Elapsed: 0:26:31.\n",
            "  Batch 1,960  of  3,228.    Elapsed: 0:27:04.\n",
            "  Batch 2,000  of  3,228.    Elapsed: 0:27:37.\n",
            "  Batch 2,040  of  3,228.    Elapsed: 0:28:10.\n",
            "  Batch 2,080  of  3,228.    Elapsed: 0:28:43.\n",
            "  Batch 2,120  of  3,228.    Elapsed: 0:29:16.\n",
            "  Batch 2,160  of  3,228.    Elapsed: 0:29:49.\n",
            "  Batch 2,200  of  3,228.    Elapsed: 0:30:23.\n",
            "  Batch 2,240  of  3,228.    Elapsed: 0:30:56.\n",
            "  Batch 2,280  of  3,228.    Elapsed: 0:31:29.\n",
            "  Batch 2,320  of  3,228.    Elapsed: 0:32:02.\n",
            "  Batch 2,360  of  3,228.    Elapsed: 0:32:35.\n",
            "  Batch 2,400  of  3,228.    Elapsed: 0:33:08.\n",
            "  Batch 2,440  of  3,228.    Elapsed: 0:33:42.\n",
            "  Batch 2,480  of  3,228.    Elapsed: 0:34:15.\n",
            "  Batch 2,520  of  3,228.    Elapsed: 0:34:48.\n",
            "  Batch 2,560  of  3,228.    Elapsed: 0:35:21.\n",
            "  Batch 2,600  of  3,228.    Elapsed: 0:35:54.\n",
            "  Batch 2,640  of  3,228.    Elapsed: 0:36:27.\n",
            "  Batch 2,680  of  3,228.    Elapsed: 0:37:01.\n",
            "  Batch 2,720  of  3,228.    Elapsed: 0:37:34.\n",
            "  Batch 2,760  of  3,228.    Elapsed: 0:38:07.\n",
            "  Batch 2,800  of  3,228.    Elapsed: 0:38:40.\n",
            "  Batch 2,840  of  3,228.    Elapsed: 0:39:13.\n",
            "  Batch 2,880  of  3,228.    Elapsed: 0:39:46.\n",
            "  Batch 2,920  of  3,228.    Elapsed: 0:40:20.\n",
            "  Batch 2,960  of  3,228.    Elapsed: 0:40:53.\n",
            "  Batch 3,000  of  3,228.    Elapsed: 0:41:26.\n",
            "  Batch 3,040  of  3,228.    Elapsed: 0:41:59.\n",
            "  Batch 3,080  of  3,228.    Elapsed: 0:42:32.\n",
            "  Batch 3,120  of  3,228.    Elapsed: 0:43:05.\n",
            "  Batch 3,160  of  3,228.    Elapsed: 0:43:39.\n",
            "  Batch 3,200  of  3,228.    Elapsed: 0:44:12.\n",
            "\n",
            "  Average training loss: 0.61\n",
            "  Training epcoh took: 0:44:34\n",
            "\n",
            "Running Validation...\n",
            "  Accuracy: 0.62\n",
            "  Validation Loss: 0.60\n",
            "  Validation took: 0:10:02\n",
            "Saving model to ./model_save2/epoch_0\n",
            "\n",
            "======== Epoch 2 / 3 ========\n",
            "Training...\n",
            "  Batch    40  of  3,228.    Elapsed: 0:00:33.\n",
            "  Batch    80  of  3,228.    Elapsed: 0:01:06.\n",
            "  Batch   120  of  3,228.    Elapsed: 0:01:40.\n",
            "  Batch   160  of  3,228.    Elapsed: 0:02:13.\n",
            "  Batch   200  of  3,228.    Elapsed: 0:02:46.\n",
            "  Batch   240  of  3,228.    Elapsed: 0:03:19.\n",
            "  Batch   280  of  3,228.    Elapsed: 0:03:53.\n",
            "  Batch   320  of  3,228.    Elapsed: 0:04:26.\n",
            "  Batch   360  of  3,228.    Elapsed: 0:04:59.\n",
            "  Batch   400  of  3,228.    Elapsed: 0:05:32.\n",
            "  Batch   440  of  3,228.    Elapsed: 0:06:05.\n",
            "  Batch   480  of  3,228.    Elapsed: 0:06:39.\n",
            "  Batch   520  of  3,228.    Elapsed: 0:07:12.\n",
            "  Batch   560  of  3,228.    Elapsed: 0:07:45.\n",
            "  Batch   600  of  3,228.    Elapsed: 0:08:18.\n",
            "  Batch   640  of  3,228.    Elapsed: 0:08:51.\n",
            "  Batch   680  of  3,228.    Elapsed: 0:09:24.\n",
            "  Batch   720  of  3,228.    Elapsed: 0:09:58.\n",
            "  Batch   760  of  3,228.    Elapsed: 0:10:31.\n",
            "  Batch   800  of  3,228.    Elapsed: 0:11:04.\n",
            "  Batch   840  of  3,228.    Elapsed: 0:11:37.\n",
            "  Batch   880  of  3,228.    Elapsed: 0:12:10.\n",
            "  Batch   920  of  3,228.    Elapsed: 0:12:44.\n",
            "  Batch   960  of  3,228.    Elapsed: 0:13:17.\n",
            "  Batch 1,000  of  3,228.    Elapsed: 0:13:50.\n",
            "  Batch 1,040  of  3,228.    Elapsed: 0:14:23.\n",
            "  Batch 1,080  of  3,228.    Elapsed: 0:14:56.\n",
            "  Batch 1,120  of  3,228.    Elapsed: 0:15:29.\n",
            "  Batch 1,160  of  3,228.    Elapsed: 0:16:03.\n",
            "  Batch 1,200  of  3,228.    Elapsed: 0:16:36.\n",
            "  Batch 1,240  of  3,228.    Elapsed: 0:17:09.\n",
            "  Batch 1,280  of  3,228.    Elapsed: 0:17:42.\n",
            "  Batch 1,320  of  3,228.    Elapsed: 0:18:15.\n",
            "  Batch 1,360  of  3,228.    Elapsed: 0:18:48.\n",
            "  Batch 1,400  of  3,228.    Elapsed: 0:19:22.\n",
            "  Batch 1,440  of  3,228.    Elapsed: 0:19:55.\n",
            "  Batch 1,480  of  3,228.    Elapsed: 0:20:28.\n",
            "  Batch 1,520  of  3,228.    Elapsed: 0:21:01.\n",
            "  Batch 1,560  of  3,228.    Elapsed: 0:21:34.\n",
            "  Batch 1,600  of  3,228.    Elapsed: 0:22:08.\n",
            "  Batch 1,640  of  3,228.    Elapsed: 0:22:41.\n",
            "  Batch 1,680  of  3,228.    Elapsed: 0:23:14.\n",
            "  Batch 1,720  of  3,228.    Elapsed: 0:23:47.\n",
            "  Batch 1,760  of  3,228.    Elapsed: 0:24:20.\n",
            "  Batch 1,800  of  3,228.    Elapsed: 0:24:53.\n",
            "  Batch 1,840  of  3,228.    Elapsed: 0:25:27.\n",
            "  Batch 1,880  of  3,228.    Elapsed: 0:26:00.\n",
            "  Batch 1,920  of  3,228.    Elapsed: 0:26:33.\n",
            "  Batch 1,960  of  3,228.    Elapsed: 0:27:06.\n",
            "  Batch 2,000  of  3,228.    Elapsed: 0:27:39.\n",
            "  Batch 2,040  of  3,228.    Elapsed: 0:28:12.\n",
            "  Batch 2,080  of  3,228.    Elapsed: 0:28:46.\n",
            "  Batch 2,120  of  3,228.    Elapsed: 0:29:19.\n",
            "  Batch 2,160  of  3,228.    Elapsed: 0:29:52.\n",
            "  Batch 2,200  of  3,228.    Elapsed: 0:30:25.\n",
            "  Batch 2,240  of  3,228.    Elapsed: 0:30:58.\n",
            "  Batch 2,280  of  3,228.    Elapsed: 0:31:31.\n",
            "  Batch 2,320  of  3,228.    Elapsed: 0:32:05.\n",
            "  Batch 2,360  of  3,228.    Elapsed: 0:32:38.\n",
            "  Batch 2,400  of  3,228.    Elapsed: 0:33:11.\n",
            "  Batch 2,440  of  3,228.    Elapsed: 0:33:44.\n",
            "  Batch 2,480  of  3,228.    Elapsed: 0:34:17.\n",
            "  Batch 2,520  of  3,228.    Elapsed: 0:34:51.\n",
            "  Batch 2,560  of  3,228.    Elapsed: 0:35:24.\n",
            "  Batch 2,600  of  3,228.    Elapsed: 0:35:57.\n",
            "  Batch 2,640  of  3,228.    Elapsed: 0:36:30.\n",
            "  Batch 2,680  of  3,228.    Elapsed: 0:37:03.\n",
            "  Batch 2,720  of  3,228.    Elapsed: 0:37:36.\n",
            "  Batch 2,760  of  3,228.    Elapsed: 0:38:10.\n",
            "  Batch 2,800  of  3,228.    Elapsed: 0:38:43.\n",
            "  Batch 2,840  of  3,228.    Elapsed: 0:39:16.\n",
            "  Batch 2,880  of  3,228.    Elapsed: 0:39:49.\n",
            "  Batch 2,920  of  3,228.    Elapsed: 0:40:22.\n",
            "  Batch 2,960  of  3,228.    Elapsed: 0:40:56.\n",
            "  Batch 3,000  of  3,228.    Elapsed: 0:41:29.\n",
            "  Batch 3,040  of  3,228.    Elapsed: 0:42:02.\n",
            "  Batch 3,080  of  3,228.    Elapsed: 0:42:35.\n",
            "  Batch 3,120  of  3,228.    Elapsed: 0:43:08.\n",
            "  Batch 3,160  of  3,228.    Elapsed: 0:43:41.\n",
            "  Batch 3,200  of  3,228.    Elapsed: 0:44:15.\n",
            "\n",
            "  Average training loss: 0.54\n",
            "  Training epcoh took: 0:44:37\n",
            "\n",
            "Running Validation...\n",
            "  Accuracy: 0.67\n",
            "  Validation Loss: 0.59\n",
            "  Validation took: 0:10:02\n",
            "Saving model to ./model_save2/epoch_1\n",
            "\n",
            "======== Epoch 3 / 3 ========\n",
            "Training...\n",
            "  Batch    40  of  3,228.    Elapsed: 0:00:33.\n",
            "  Batch    80  of  3,228.    Elapsed: 0:01:06.\n",
            "  Batch   120  of  3,228.    Elapsed: 0:01:40.\n",
            "  Batch   160  of  3,228.    Elapsed: 0:02:13.\n",
            "  Batch   200  of  3,228.    Elapsed: 0:02:46.\n",
            "  Batch   240  of  3,228.    Elapsed: 0:03:19.\n",
            "  Batch   280  of  3,228.    Elapsed: 0:03:52.\n",
            "  Batch   320  of  3,228.    Elapsed: 0:04:25.\n",
            "  Batch   360  of  3,228.    Elapsed: 0:04:59.\n",
            "  Batch   400  of  3,228.    Elapsed: 0:05:32.\n",
            "  Batch   440  of  3,228.    Elapsed: 0:06:05.\n",
            "  Batch   480  of  3,228.    Elapsed: 0:06:38.\n",
            "  Batch   520  of  3,228.    Elapsed: 0:07:11.\n",
            "  Batch   560  of  3,228.    Elapsed: 0:07:45.\n",
            "  Batch   600  of  3,228.    Elapsed: 0:08:18.\n",
            "  Batch   640  of  3,228.    Elapsed: 0:08:51.\n",
            "  Batch   680  of  3,228.    Elapsed: 0:09:24.\n",
            "  Batch   720  of  3,228.    Elapsed: 0:09:57.\n",
            "  Batch   760  of  3,228.    Elapsed: 0:10:31.\n",
            "  Batch   800  of  3,228.    Elapsed: 0:11:04.\n",
            "  Batch   840  of  3,228.    Elapsed: 0:11:37.\n",
            "  Batch   880  of  3,228.    Elapsed: 0:12:10.\n",
            "  Batch   920  of  3,228.    Elapsed: 0:12:43.\n",
            "  Batch   960  of  3,228.    Elapsed: 0:13:16.\n",
            "  Batch 1,000  of  3,228.    Elapsed: 0:13:50.\n",
            "  Batch 1,040  of  3,228.    Elapsed: 0:14:23.\n",
            "  Batch 1,080  of  3,228.    Elapsed: 0:14:56.\n",
            "  Batch 1,120  of  3,228.    Elapsed: 0:15:29.\n",
            "  Batch 1,160  of  3,228.    Elapsed: 0:16:02.\n",
            "  Batch 1,200  of  3,228.    Elapsed: 0:16:36.\n",
            "  Batch 1,240  of  3,228.    Elapsed: 0:17:09.\n",
            "  Batch 1,280  of  3,228.    Elapsed: 0:17:42.\n",
            "  Batch 1,320  of  3,228.    Elapsed: 0:18:15.\n",
            "  Batch 1,360  of  3,228.    Elapsed: 0:18:48.\n",
            "  Batch 1,400  of  3,228.    Elapsed: 0:19:21.\n",
            "  Batch 1,440  of  3,228.    Elapsed: 0:19:55.\n",
            "  Batch 1,480  of  3,228.    Elapsed: 0:20:28.\n",
            "  Batch 1,520  of  3,228.    Elapsed: 0:21:01.\n",
            "  Batch 1,560  of  3,228.    Elapsed: 0:21:34.\n",
            "  Batch 1,600  of  3,228.    Elapsed: 0:22:07.\n",
            "  Batch 1,640  of  3,228.    Elapsed: 0:22:41.\n",
            "  Batch 1,680  of  3,228.    Elapsed: 0:23:14.\n",
            "  Batch 1,720  of  3,228.    Elapsed: 0:23:47.\n",
            "  Batch 1,760  of  3,228.    Elapsed: 0:24:20.\n",
            "  Batch 1,800  of  3,228.    Elapsed: 0:24:53.\n",
            "  Batch 1,840  of  3,228.    Elapsed: 0:25:27.\n",
            "  Batch 1,880  of  3,228.    Elapsed: 0:26:00.\n",
            "  Batch 1,920  of  3,228.    Elapsed: 0:26:33.\n",
            "  Batch 1,960  of  3,228.    Elapsed: 0:27:06.\n",
            "  Batch 2,000  of  3,228.    Elapsed: 0:27:39.\n",
            "  Batch 2,040  of  3,228.    Elapsed: 0:28:12.\n",
            "  Batch 2,080  of  3,228.    Elapsed: 0:28:46.\n",
            "  Batch 2,120  of  3,228.    Elapsed: 0:29:19.\n",
            "  Batch 2,160  of  3,228.    Elapsed: 0:29:52.\n",
            "  Batch 2,200  of  3,228.    Elapsed: 0:30:25.\n",
            "  Batch 2,240  of  3,228.    Elapsed: 0:30:58.\n",
            "  Batch 2,280  of  3,228.    Elapsed: 0:31:31.\n",
            "  Batch 2,320  of  3,228.    Elapsed: 0:32:05.\n",
            "  Batch 2,360  of  3,228.    Elapsed: 0:32:38.\n",
            "  Batch 2,400  of  3,228.    Elapsed: 0:33:11.\n",
            "  Batch 2,440  of  3,228.    Elapsed: 0:33:44.\n",
            "  Batch 2,480  of  3,228.    Elapsed: 0:34:17.\n",
            "  Batch 2,520  of  3,228.    Elapsed: 0:34:50.\n",
            "  Batch 2,560  of  3,228.    Elapsed: 0:35:24.\n",
            "  Batch 2,600  of  3,228.    Elapsed: 0:35:57.\n",
            "  Batch 2,640  of  3,228.    Elapsed: 0:36:30.\n",
            "  Batch 2,680  of  3,228.    Elapsed: 0:37:03.\n",
            "  Batch 2,720  of  3,228.    Elapsed: 0:37:36.\n",
            "  Batch 2,760  of  3,228.    Elapsed: 0:38:10.\n",
            "  Batch 2,800  of  3,228.    Elapsed: 0:38:43.\n",
            "  Batch 2,840  of  3,228.    Elapsed: 0:39:16.\n",
            "  Batch 2,880  of  3,228.    Elapsed: 0:39:49.\n",
            "  Batch 2,920  of  3,228.    Elapsed: 0:40:22.\n",
            "  Batch 2,960  of  3,228.    Elapsed: 0:40:55.\n",
            "  Batch 3,000  of  3,228.    Elapsed: 0:41:29.\n",
            "  Batch 3,040  of  3,228.    Elapsed: 0:42:02.\n",
            "  Batch 3,080  of  3,228.    Elapsed: 0:42:35.\n",
            "  Batch 3,120  of  3,228.    Elapsed: 0:43:08.\n",
            "  Batch 3,160  of  3,228.    Elapsed: 0:43:41.\n",
            "  Batch 3,200  of  3,228.    Elapsed: 0:44:14.\n",
            "\n",
            "  Average training loss: 0.43\n",
            "  Training epcoh took: 0:44:37\n",
            "\n",
            "Running Validation...\n",
            "  Accuracy: 0.65\n",
            "  Validation Loss: 0.68\n",
            "  Validation took: 0:10:02\n",
            "Saving model to ./model_save2/epoch_2\n",
            "\n",
            "Training complete!\n",
            "Total training took 2:43:59 (h:mm:ss)\n"
          ],
          "name": "stdout"
        }
      ]
    },
    {
      "cell_type": "code",
      "metadata": {
        "id": "XpiQ1LZ3rsdG",
        "colab_type": "code",
        "colab": {}
      },
      "source": [
        "!cp -r ./model_save2/ \"/drive/My Drive\""
      ],
      "execution_count": 0,
      "outputs": []
    },
    {
      "cell_type": "code",
      "metadata": {
        "id": "O8vT9lN_VOjk",
        "colab_type": "code",
        "outputId": "9ba14649-760d-48b2-f566-c74914b9013b",
        "colab": {
          "base_uri": "https://localhost:8080/",
          "height": 173
        }
      },
      "source": [
        "import pandas as pd\n",
        "\n",
        "# Display floats with two decimal places.\n",
        "pd.set_option('precision', 2)\n",
        "\n",
        "# Create a DataFrame from our training statistics.\n",
        "df_stats = pd.DataFrame(data=training_stats)\n",
        "\n",
        "# Use the 'epoch' as the row index.\n",
        "df_stats = df_stats.set_index('epoch')\n",
        "\n",
        "# A hack to force the column headers to wrap.\n",
        "#df = df.style.set_table_styles([dict(selector=\"th\",props=[('max-width', '70px')])])\n",
        "\n",
        "# Display the table.\n",
        "df_stats"
      ],
      "execution_count": 27,
      "outputs": [
        {
          "output_type": "execute_result",
          "data": {
            "text/html": [
              "<div>\n",
              "<style scoped>\n",
              "    .dataframe tbody tr th:only-of-type {\n",
              "        vertical-align: middle;\n",
              "    }\n",
              "\n",
              "    .dataframe tbody tr th {\n",
              "        vertical-align: top;\n",
              "    }\n",
              "\n",
              "    .dataframe thead th {\n",
              "        text-align: right;\n",
              "    }\n",
              "</style>\n",
              "<table border=\"1\" class=\"dataframe\">\n",
              "  <thead>\n",
              "    <tr style=\"text-align: right;\">\n",
              "      <th></th>\n",
              "      <th>Training Loss</th>\n",
              "      <th>Valid. Loss</th>\n",
              "      <th>Valid. Accur.</th>\n",
              "      <th>Training Time</th>\n",
              "      <th>Validation Time</th>\n",
              "    </tr>\n",
              "    <tr>\n",
              "      <th>epoch</th>\n",
              "      <th></th>\n",
              "      <th></th>\n",
              "      <th></th>\n",
              "      <th></th>\n",
              "      <th></th>\n",
              "    </tr>\n",
              "  </thead>\n",
              "  <tbody>\n",
              "    <tr>\n",
              "      <th>1</th>\n",
              "      <td>0.61</td>\n",
              "      <td>0.60</td>\n",
              "      <td>0.62</td>\n",
              "      <td>0:44:34</td>\n",
              "      <td>0:10:02</td>\n",
              "    </tr>\n",
              "    <tr>\n",
              "      <th>2</th>\n",
              "      <td>0.54</td>\n",
              "      <td>0.59</td>\n",
              "      <td>0.67</td>\n",
              "      <td>0:44:37</td>\n",
              "      <td>0:10:02</td>\n",
              "    </tr>\n",
              "    <tr>\n",
              "      <th>3</th>\n",
              "      <td>0.43</td>\n",
              "      <td>0.68</td>\n",
              "      <td>0.65</td>\n",
              "      <td>0:44:37</td>\n",
              "      <td>0:10:02</td>\n",
              "    </tr>\n",
              "  </tbody>\n",
              "</table>\n",
              "</div>"
            ],
            "text/plain": [
              "       Training Loss  Valid. Loss  Valid. Accur. Training Time Validation Time\n",
              "epoch                                                                         \n",
              "1               0.61         0.60           0.62       0:44:34         0:10:02\n",
              "2               0.54         0.59           0.67       0:44:37         0:10:02\n",
              "3               0.43         0.68           0.65       0:44:37         0:10:02"
            ]
          },
          "metadata": {
            "tags": []
          },
          "execution_count": 27
        }
      ]
    },
    {
      "cell_type": "code",
      "metadata": {
        "id": "eFOYhwOLVWmm",
        "colab_type": "code",
        "outputId": "bcc94d41-8b98-4a01-de37-8aea97f211ce",
        "colab": {
          "base_uri": "https://localhost:8080/",
          "height": 427
        }
      },
      "source": [
        "#We do not have validation labels t\n",
        "import matplotlib.pyplot as plt\n",
        "% matplotlib inline\n",
        "\n",
        "import seaborn as sns\n",
        "\n",
        "# Use plot styling from seaborn.\n",
        "sns.set(style='darkgrid')\n",
        "\n",
        "# Increase the plot size and font size.\n",
        "sns.set(font_scale=1.5)\n",
        "plt.rcParams[\"figure.figsize\"] = (12,6)\n",
        "\n",
        "# Plot the learning curve.\n",
        "plt.plot(df_stats['Training Loss'], 'b-o', label=\"Training\")\n",
        "plt.plot(df_stats['Valid. Loss'], 'g-o', label=\"Validation\")\n",
        "\n",
        "# Label the plot.\n",
        "plt.title(\"Training Loss\")\n",
        "plt.xlabel(\"Epoch\")\n",
        "plt.ylabel(\"Loss\")\n",
        "plt.legend()\n",
        "plt.xticks([1, 2, 3, 4])\n",
        "\n",
        "plt.show()"
      ],
      "execution_count": 28,
      "outputs": [
        {
          "output_type": "display_data",
          "data": {
            "image/png": "[encoded data removed]",
            "text/plain": [
              "<Figure size 864x432 with 1 Axes>"
            ]
          },
          "metadata": {
            "tags": []
          }
        }
      ]
    },
    {
      "cell_type": "code",
      "metadata": {
        "id": "60uJ0z5X_ybO",
        "colab_type": "code",
        "outputId": "82ecfba7-d8ed-436d-c4a5-d20c07b44d3b",
        "colab": {
          "base_uri": "https://localhost:8080/",
          "height": 51
        }
      },
      "source": [
        "# Prediction on test set\n",
        "\n",
        "print('Predicting labels for {:,} test sentences...'.format(len(val_inputs)))\n",
        "\n",
        "# Put model in evaluation mode\n",
        "model.eval()\n",
        "\n",
        "# Tracking variables \n",
        "predictions = []\n",
        "true_labels = []\n",
        "\n",
        "# Predict \n",
        "for batch in val_dataloader:\n",
        "  # Add batch to GPU\n",
        "  batch = tuple(t.to(device) for t in batch)\n",
        "  \n",
        "  # Unpack the inputs from our dataloader\n",
        "  b_input_ids, b_input_mask, b_labels = batch\n",
        "  \n",
        "  # Telling the model not to compute or store gradients, saving memory and \n",
        "  # speeding up prediction\n",
        "  with torch.no_grad():\n",
        "      # Forward pass, calculate logit predictions\n",
        "      outputs = model(b_input_ids, token_type_ids=None, \n",
        "                      attention_mask=b_input_mask)\n",
        "\n",
        "  logits = outputs[0]\n",
        "\n",
        "  # Move logits and labels to CPU\n",
        "  logits = logits.detach().cpu().numpy()\n",
        "  label_ids = b_labels.to('cpu').numpy()\n",
        "  \n",
        "  # Store predictions and true labels\n",
        "  predictions.append(logits)\n",
        "  true_labels.append(label_ids)\n",
        "\n",
        "print('    DONE.')"
      ],
      "execution_count": 29,
      "outputs": [
        {
          "output_type": "stream",
          "text": [
            "Predicting labels for 35,918 test sentences...\n",
            "    DONE.\n"
          ],
          "name": "stdout"
        }
      ]
    },
    {
      "cell_type": "code",
      "metadata": {
        "id": "JCIW87IFZKp8",
        "colab_type": "code",
        "outputId": "58282d24-97a4-49d6-af8e-75230fafdb56",
        "colab": {
          "base_uri": "https://localhost:8080/",
          "height": 34
        }
      },
      "source": [
        "import itertools\n",
        "y_pred = []\n",
        "for i in range(len(predictions)):\n",
        "  \n",
        "  # The predictions for this batch are a 5-column ndarray with a row for each batch (32). \n",
        "  #Pick the label with the highest value and consider the index = class\n",
        "  pred_labels_i = list(np.argmax(predictions[i], axis=1))\n",
        "  y_pred.append(pred_labels_i)\n",
        "\n",
        "y_pred = list(itertools.chain.from_iterable(y_pred))\n",
        "true_labels = list(itertools.chain.from_iterable(true_labels))\n",
        "y_pred[0:5]"
      ],
      "execution_count": 30,
      "outputs": [
        {
          "output_type": "execute_result",
          "data": {
            "text/plain": [
              "[1, 0, 1, 0, 0]"
            ]
          },
          "metadata": {
            "tags": []
          },
          "execution_count": 30
        }
      ]
    },
    {
      "cell_type": "code",
      "metadata": {
        "id": "fFk0A1t8Gbbz",
        "colab_type": "code",
        "outputId": "151aa236-d09c-4d4b-e2b3-94c4dfb800c8",
        "colab": {
          "base_uri": "https://localhost:8080/",
          "height": 34
        }
      },
      "source": [
        "true_labels[0:5]"
      ],
      "execution_count": 31,
      "outputs": [
        {
          "output_type": "execute_result",
          "data": {
            "text/plain": [
              "[1, 0, 0, 0, 0]"
            ]
          },
          "metadata": {
            "tags": []
          },
          "execution_count": 31
        }
      ]
    },
    {
      "cell_type": "code",
      "metadata": {
        "id": "BL3E5firGuka",
        "colab_type": "code",
        "outputId": "3ff70a8f-7547-420c-ceaf-ea03d1bde94a",
        "colab": {
          "base_uri": "https://localhost:8080/",
          "height": 34
        }
      },
      "source": [
        "from sklearn.metrics import f1_score\n",
        "from sklearn.metrics import roc_curve, auc\n",
        "from sklearn.metrics import average_precision_score\n",
        "\n",
        "f1_score(true_labels,y_pred, average='micro')"
      ],
      "execution_count": 32,
      "outputs": [
        {
          "output_type": "execute_result",
          "data": {
            "text/plain": [
              "0.6549640848599588"
            ]
          },
          "metadata": {
            "tags": []
          },
          "execution_count": 32
        }
      ]
    },
    {
      "cell_type": "code",
      "metadata": {
        "id": "jnUhLvNcJK7I",
        "colab_type": "code",
        "outputId": "6fc473ec-8548-445e-cbf6-1ad9b9aa0fb4",
        "colab": {
          "base_uri": "https://localhost:8080/",
          "height": 136
        }
      },
      "source": [
        "from sklearn.metrics import accuracy_score\n",
        "# Combine the results across all batches. \n",
        "# flat_predictions = np.concatenate(predictions, axis=0)\n",
        "\n",
        "# For each sample, pick the label (0 or 1) with the higher score.\n",
        "# flat_predictions = np.argmax(flat_predictions, axis=1).flatten()\n",
        "flat_predictions = y_pred\n",
        "# Combine the correct labels for each batch into a single list.\n",
        "# flat_true_labels = np.concatenate(true_labels, axis=0)\n",
        "flat_true_labels = true_labels\n",
        "\n",
        "# Calculate the MCC\n",
        "# mcc = matthews_corrcoef(flat_true_labels, flat_predictions)\n",
        "f1_weighted = f1_score(flat_true_labels, flat_predictions,average='weighted')\n",
        "f1_micro = f1_score(flat_true_labels, flat_predictions,average='micro')\n",
        "f1_macro = f1_score(flat_true_labels, flat_predictions,average='macro')\n",
        "acc = accuracy_score(flat_true_labels, flat_predictions)\n",
        "fpr, tpr, thresholds = roc_curve(flat_true_labels, flat_predictions)\n",
        "auc_score = auc(fpr, tpr)\n",
        "ap = average_precision_score(flat_true_labels, flat_predictions)\n",
        "\n",
        "\n",
        "# print('Total MCC: %.3f' % mcc)\n",
        "print()\n",
        "print('Total f1_weighted: %.3f' % f1_weighted)\n",
        "print('Total f1_micro: %.3f' % f1_micro)\n",
        "print('Total f1_macro: %.3f' % f1_macro)\n",
        "print('Total acc: %.3f' % acc)\n",
        "print('AUC: %.3f' % auc_score)\n",
        "print('AP: %.3f' % ap)\n"
      ],
      "execution_count": 33,
      "outputs": [
        {
          "output_type": "stream",
          "text": [
            "\n",
            "Total f1_weighted: 0.723\n",
            "Total f1_micro: 0.655\n",
            "Total f1_macro: 0.534\n",
            "Total acc: 0.655\n",
            "AUC: 0.681\n",
            "AP: 0.162\n"
          ],
          "name": "stdout"
        }
      ]
    },
    {
      "cell_type": "code",
      "metadata": {
        "id": "1TN_ZmY2sSl0",
        "colab_type": "code",
        "colab": {}
      },
      "source": [
        "output_dir_0  = './model_save1/epoch_0'\n",
        "output_dir_1  = './model_save1/epoch_1'"
      ],
      "execution_count": 0,
      "outputs": []
    },
    {
      "cell_type": "markdown",
      "metadata": {
        "id": "ZRHg2uEVvCuD",
        "colab_type": "text"
      },
      "source": [
        "EPOCH 1"
      ]
    },
    {
      "cell_type": "code",
      "metadata": {
        "id": "fRnr_EOrrwzQ",
        "colab_type": "code",
        "outputId": "ba856418-2d58-4903-e2a2-3e236a7b6941",
        "colab": {
          "base_uri": "https://localhost:8080/",
          "height": 531
        }
      },
      "source": [
        "# Load a trained model and vocabulary that you have fine-tuned\n",
        "model = model.from_pretrained(output_dir_1)\n",
        "# tokenizer = tokenizer.from_pretrained(output_dir_1)\n",
        "\n",
        "# # Copy the model to the GPU.\n",
        "# model.to(device)"
      ],
      "execution_count": 37,
      "outputs": [
        {
          "output_type": "error",
          "ename": "OSError",
          "evalue": "ignored",
          "traceback": [
            "\u001b[0;31m---------------------------------------------------------------------------\u001b[0m",
            "\u001b[0;31mOSError\u001b[0m                                   Traceback (most recent call last)",
            "\u001b[0;32m/usr/local/lib/python3.6/dist-packages/transformers/configuration_utils.py\u001b[0m in \u001b[0;36mget_config_dict\u001b[0;34m(cls, pretrained_model_name_or_path, pretrained_config_archive_map, **kwargs)\u001b[0m\n\u001b[1;32m    252\u001b[0m             \u001b[0;32mif\u001b[0m \u001b[0mresolved_config_file\u001b[0m \u001b[0;32mis\u001b[0m \u001b[0;32mNone\u001b[0m\u001b[0;34m:\u001b[0m\u001b[0;34m\u001b[0m\u001b[0;34m\u001b[0m\u001b[0m\n\u001b[0;32m--> 253\u001b[0;31m                 \u001b[0;32mraise\u001b[0m \u001b[0mEnvironmentError\u001b[0m\u001b[0;34m\u001b[0m\u001b[0;34m\u001b[0m\u001b[0m\n\u001b[0m\u001b[1;32m    254\u001b[0m             \u001b[0mconfig_dict\u001b[0m \u001b[0;34m=\u001b[0m \u001b[0mcls\u001b[0m\u001b[0;34m.\u001b[0m\u001b[0m_dict_from_json_file\u001b[0m\u001b[0;34m(\u001b[0m\u001b[0mresolved_config_file\u001b[0m\u001b[0;34m)\u001b[0m\u001b[0;34m\u001b[0m\u001b[0;34m\u001b[0m\u001b[0m\n",
            "\u001b[0;31mOSError\u001b[0m: ",
            "\nDuring handling of the above exception, another exception occurred:\n",
            "\u001b[0;31mOSError\u001b[0m                                   Traceback (most recent call last)",
            "\u001b[0;32m<ipython-input-37-d37ad69fdd1a>\u001b[0m in \u001b[0;36m<module>\u001b[0;34m()\u001b[0m\n\u001b[1;32m      1\u001b[0m \u001b[0;31m# Load a trained model and vocabulary that you have fine-tuned\u001b[0m\u001b[0;34m\u001b[0m\u001b[0;34m\u001b[0m\u001b[0;34m\u001b[0m\u001b[0m\n\u001b[0;32m----> 2\u001b[0;31m \u001b[0mmodel\u001b[0m \u001b[0;34m=\u001b[0m \u001b[0mmodel\u001b[0m\u001b[0;34m.\u001b[0m\u001b[0mfrom_pretrained\u001b[0m\u001b[0;34m(\u001b[0m\u001b[0moutput_dir_1\u001b[0m\u001b[0;34m)\u001b[0m\u001b[0;34m\u001b[0m\u001b[0;34m\u001b[0m\u001b[0m\n\u001b[0m\u001b[1;32m      3\u001b[0m \u001b[0;31m# tokenizer = tokenizer.from_pretrained(output_dir_1)\u001b[0m\u001b[0;34m\u001b[0m\u001b[0;34m\u001b[0m\u001b[0;34m\u001b[0m\u001b[0m\n\u001b[1;32m      4\u001b[0m \u001b[0;34m\u001b[0m\u001b[0m\n\u001b[1;32m      5\u001b[0m \u001b[0;31m# # Copy the model to the GPU.\u001b[0m\u001b[0;34m\u001b[0m\u001b[0;34m\u001b[0m\u001b[0;34m\u001b[0m\u001b[0m\n",
            "\u001b[0;32m/usr/local/lib/python3.6/dist-packages/transformers/modeling_utils.py\u001b[0m in \u001b[0;36mfrom_pretrained\u001b[0;34m(cls, pretrained_model_name_or_path, *model_args, **kwargs)\u001b[0m\n\u001b[1;32m    544\u001b[0m                 \u001b[0mproxies\u001b[0m\u001b[0;34m=\u001b[0m\u001b[0mproxies\u001b[0m\u001b[0;34m,\u001b[0m\u001b[0;34m\u001b[0m\u001b[0;34m\u001b[0m\u001b[0m\n\u001b[1;32m    545\u001b[0m                 \u001b[0mlocal_files_only\u001b[0m\u001b[0;34m=\u001b[0m\u001b[0mlocal_files_only\u001b[0m\u001b[0;34m,\u001b[0m\u001b[0;34m\u001b[0m\u001b[0;34m\u001b[0m\u001b[0m\n\u001b[0;32m--> 546\u001b[0;31m                 \u001b[0;34m**\u001b[0m\u001b[0mkwargs\u001b[0m\u001b[0;34m,\u001b[0m\u001b[0;34m\u001b[0m\u001b[0;34m\u001b[0m\u001b[0m\n\u001b[0m\u001b[1;32m    547\u001b[0m             )\n\u001b[1;32m    548\u001b[0m         \u001b[0;32melse\u001b[0m\u001b[0;34m:\u001b[0m\u001b[0;34m\u001b[0m\u001b[0;34m\u001b[0m\u001b[0m\n",
            "\u001b[0;32m/usr/local/lib/python3.6/dist-packages/transformers/configuration_utils.py\u001b[0m in \u001b[0;36mfrom_pretrained\u001b[0;34m(cls, pretrained_model_name_or_path, **kwargs)\u001b[0m\n\u001b[1;32m    200\u001b[0m \u001b[0;34m\u001b[0m\u001b[0m\n\u001b[1;32m    201\u001b[0m         \"\"\"\n\u001b[0;32m--> 202\u001b[0;31m         \u001b[0mconfig_dict\u001b[0m\u001b[0;34m,\u001b[0m \u001b[0mkwargs\u001b[0m \u001b[0;34m=\u001b[0m \u001b[0mcls\u001b[0m\u001b[0;34m.\u001b[0m\u001b[0mget_config_dict\u001b[0m\u001b[0;34m(\u001b[0m\u001b[0mpretrained_model_name_or_path\u001b[0m\u001b[0;34m,\u001b[0m \u001b[0;34m**\u001b[0m\u001b[0mkwargs\u001b[0m\u001b[0;34m)\u001b[0m\u001b[0;34m\u001b[0m\u001b[0;34m\u001b[0m\u001b[0m\n\u001b[0m\u001b[1;32m    203\u001b[0m         \u001b[0;32mreturn\u001b[0m \u001b[0mcls\u001b[0m\u001b[0;34m.\u001b[0m\u001b[0mfrom_dict\u001b[0m\u001b[0;34m(\u001b[0m\u001b[0mconfig_dict\u001b[0m\u001b[0;34m,\u001b[0m \u001b[0;34m**\u001b[0m\u001b[0mkwargs\u001b[0m\u001b[0;34m)\u001b[0m\u001b[0;34m\u001b[0m\u001b[0;34m\u001b[0m\u001b[0m\n\u001b[1;32m    204\u001b[0m \u001b[0;34m\u001b[0m\u001b[0m\n",
            "\u001b[0;32m/usr/local/lib/python3.6/dist-packages/transformers/configuration_utils.py\u001b[0m in \u001b[0;36mget_config_dict\u001b[0;34m(cls, pretrained_model_name_or_path, pretrained_config_archive_map, **kwargs)\u001b[0m\n\u001b[1;32m    270\u001b[0m                     )\n\u001b[1;32m    271\u001b[0m                 )\n\u001b[0;32m--> 272\u001b[0;31m             \u001b[0;32mraise\u001b[0m \u001b[0mEnvironmentError\u001b[0m\u001b[0;34m(\u001b[0m\u001b[0mmsg\u001b[0m\u001b[0;34m)\u001b[0m\u001b[0;34m\u001b[0m\u001b[0;34m\u001b[0m\u001b[0m\n\u001b[0m\u001b[1;32m    273\u001b[0m \u001b[0;34m\u001b[0m\u001b[0m\n\u001b[1;32m    274\u001b[0m         \u001b[0;32mexcept\u001b[0m \u001b[0mjson\u001b[0m\u001b[0;34m.\u001b[0m\u001b[0mJSONDecodeError\u001b[0m\u001b[0;34m:\u001b[0m\u001b[0;34m\u001b[0m\u001b[0;34m\u001b[0m\u001b[0m\n",
            "\u001b[0;31mOSError\u001b[0m: Can't load './model_save1/epoch_1'. Make sure that:\n\n- './model_save1/epoch_1' is a correct model identifier listed on 'https://huggingface.co/models'\n\n- or './model_save1/epoch_1' is the correct path to a directory containing a 'config.json' file\n\n"
          ]
        }
      ]
    },
    {
      "cell_type": "code",
      "metadata": {
        "id": "okutIz06smPi",
        "colab_type": "code",
        "colab": {}
      },
      "source": [
        "# Prediction on test set\n",
        "\n",
        "print('Predicting labels for {:,} test sentences...'.format(len(val_inputs)))\n",
        "\n",
        "# Put model in evaluation mode\n",
        "model.eval()\n",
        "\n",
        "# Tracking variables \n",
        "predictions = []\n",
        "true_labels = []\n",
        "\n",
        "# Predict \n",
        "for batch in val_dataloader:\n",
        "  # Add batch to GPU\n",
        "  batch = tuple(t.to(device) for t in batch)\n",
        "  \n",
        "  # Unpack the inputs from our dataloader\n",
        "  b_input_ids, b_input_mask, b_labels = batch\n",
        "  \n",
        "  # Telling the model not to compute or store gradients, saving memory and \n",
        "  # speeding up prediction\n",
        "  with torch.no_grad():\n",
        "      # Forward pass, calculate logit predictions\n",
        "      outputs = model(b_input_ids, token_type_ids=None, \n",
        "                      attention_mask=b_input_mask)\n",
        "\n",
        "  logits = outputs[0]\n",
        "\n",
        "  # Move logits and labels to CPU\n",
        "  logits = logits.detach().cpu().numpy()\n",
        "  label_ids = b_labels.to('cpu').numpy()\n",
        "  \n",
        "  # Store predictions and true labels\n",
        "  predictions.append(logits)\n",
        "  true_labels.append(label_ids)\n",
        "\n",
        "print('    DONE.')"
      ],
      "execution_count": 0,
      "outputs": []
    },
    {
      "cell_type": "code",
      "metadata": {
        "id": "6sg6qDaYu2Tx",
        "colab_type": "code",
        "colab": {}
      },
      "source": [
        "import itertools\n",
        "y_pred = []\n",
        "for i in range(len(predictions)):\n",
        "  \n",
        "  # The predictions for this batch are a 5-column ndarray with a row for each batch (32). \n",
        "  #Pick the label with the highest value and consider the index = class\n",
        "  pred_labels_i = list(np.argmax(predictions[i], axis=1))\n",
        "  y_pred.append(pred_labels_i)\n",
        "\n",
        "y_pred = list(itertools.chain.from_iterable(y_pred))\n",
        "true_labels = list(itertools.chain.from_iterable(true_labels))\n",
        "y_pred[0:5]"
      ],
      "execution_count": 0,
      "outputs": []
    },
    {
      "cell_type": "code",
      "metadata": {
        "id": "TDtuLKRLvdKm",
        "colab_type": "code",
        "colab": {}
      },
      "source": [
        "true_labels[0:5]"
      ],
      "execution_count": 0,
      "outputs": []
    },
    {
      "cell_type": "code",
      "metadata": {
        "id": "EIxhTCZIu-uB",
        "colab_type": "code",
        "colab": {}
      },
      "source": [
        "flat_predictions = y_pred\n",
        "# Combine the correct labels for each batch into a single list.\n",
        "# flat_true_labels = np.concatenate(true_labels, axis=0)\n",
        "flat_true_labels = true_labels\n",
        "\n",
        "# Calculate the MCC\n",
        "# mcc = matthews_corrcoef(flat_true_labels, flat_predictions)\n",
        "f1_weighted = f1_score(flat_true_labels, flat_predictions,average='weighted')\n",
        "f1_micro = f1_score(flat_true_labels, flat_predictions,average='micro')\n",
        "f1_macro = f1_score(flat_true_labels, flat_predictions,average='macro')\n",
        "acc = accuracy_score(flat_true_labels, flat_predictions)\n",
        "fpr, tpr, thresholds = roc_curve(flat_true_labels, flat_predictions)\n",
        "auc_score = auc(fpr, tpr)\n",
        "ap = average_precision_score(flat_true_labels, flat_predictions)\n",
        "\n",
        "\n",
        "# print('Total MCC: %.3f' % mcc)\n",
        "print()\n",
        "print('Total f1_weighted: %.3f' % f1_weighted)\n",
        "print('Total f1_micro: %.3f' % f1_micro)\n",
        "print('Total f1_macro: %.3f' % f1_macro)\n",
        "print('Total acc: %.3f' % acc)\n",
        "print('AUC: %.3f' % auc_score)\n",
        "print('AP: %.3f' % ap)"
      ],
      "execution_count": 0,
      "outputs": []
    },
    {
      "cell_type": "code",
      "metadata": {
        "id": "xkRXf6zHvADv",
        "colab_type": "code",
        "colab": {}
      },
      "source": [
        ""
      ],
      "execution_count": 0,
      "outputs": []
    },
    {
      "cell_type": "markdown",
      "metadata": {
        "id": "kW51Xe-Tw5Jo",
        "colab_type": "text"
      },
      "source": [
        "EPOCH 0"
      ]
    },
    {
      "cell_type": "code",
      "metadata": {
        "id": "LKvVHU_Aw50D",
        "colab_type": "code",
        "colab": {}
      },
      "source": [
        "# Load a trained model and vocabulary that you have fine-tuned\n",
        "model = model.from_pretrained(output_dir_0)\n",
        "tokenizer = tokenizer.from_pretrained(output_dir_0)\n",
        "\n",
        "# Copy the model to the GPU.\n",
        "model.to(device)"
      ],
      "execution_count": 0,
      "outputs": []
    },
    {
      "cell_type": "code",
      "metadata": {
        "id": "FjFrmBgaw8JD",
        "colab_type": "code",
        "colab": {}
      },
      "source": [
        "# Prediction on test set\n",
        "\n",
        "print('Predicting labels for {:,} test sentences...'.format(len(val_inputs)))\n",
        "\n",
        "# Put model in evaluation mode\n",
        "model.eval()\n",
        "\n",
        "# Tracking variables \n",
        "predictions = []\n",
        "true_labels = []\n",
        "\n",
        "# Predict \n",
        "for batch in val_dataloader:\n",
        "  # Add batch to GPU\n",
        "  batch = tuple(t.to(device) for t in batch)\n",
        "  \n",
        "  # Unpack the inputs from our dataloader\n",
        "  b_input_ids, b_input_mask, b_labels = batch\n",
        "  \n",
        "  # Telling the model not to compute or store gradients, saving memory and \n",
        "  # speeding up prediction\n",
        "  with torch.no_grad():\n",
        "      # Forward pass, calculate logit predictions\n",
        "      outputs = model(b_input_ids, token_type_ids=None, \n",
        "                      attention_mask=b_input_mask)\n",
        "\n",
        "  logits = outputs[0]\n",
        "\n",
        "  # Move logits and labels to CPU\n",
        "  logits = logits.detach().cpu().numpy()\n",
        "  label_ids = b_labels.to('cpu').numpy()\n",
        "  \n",
        "  # Store predictions and true labels\n",
        "  predictions.append(logits)\n",
        "  true_labels.append(label_ids)\n",
        "\n",
        "print('    DONE.')"
      ],
      "execution_count": 0,
      "outputs": []
    },
    {
      "cell_type": "code",
      "metadata": {
        "id": "0-e-5xBzxFUt",
        "colab_type": "code",
        "colab": {}
      },
      "source": [
        "import itertools\n",
        "y_pred = []\n",
        "for i in range(len(predictions)):\n",
        "  \n",
        "  # The predictions for this batch are a 5-column ndarray with a row for each batch (32). \n",
        "  #Pick the label with the highest value and consider the index = class\n",
        "  pred_labels_i = list(np.argmax(predictions[i], axis=1))\n",
        "  y_pred.append(pred_labels_i)\n",
        "\n",
        "y_pred = list(itertools.chain.from_iterable(y_pred))\n",
        "true_labels = list(itertools.chain.from_iterable(true_labels))\n",
        "y_pred[0:5]"
      ],
      "execution_count": 0,
      "outputs": []
    },
    {
      "cell_type": "code",
      "metadata": {
        "id": "qWUxj68AxJiQ",
        "colab_type": "code",
        "colab": {}
      },
      "source": [
        "flat_predictions = y_pred\n",
        "# Combine the correct labels for each batch into a single list.\n",
        "# flat_true_labels = np.concatenate(true_labels, axis=0)\n",
        "flat_true_labels = true_labels\n",
        "\n",
        "# Calculate the MCC\n",
        "# mcc = matthews_corrcoef(flat_true_labels, flat_predictions)\n",
        "f1_weighted = f1_score(flat_true_labels, flat_predictions,average='weighted')\n",
        "f1_micro = f1_score(flat_true_labels, flat_predictions,average='micro')\n",
        "f1_macro = f1_score(flat_true_labels, flat_predictions,average='macro')\n",
        "acc = accuracy_score(flat_true_labels, flat_predictions)\n",
        "fpr, tpr, thresholds = roc_curve(flat_true_labels, flat_predictions)\n",
        "auc_score = auc(fpr, tpr)\n",
        "ap = average_precision_score(flat_true_labels, flat_predictions)\n",
        "\n",
        "\n",
        "# print('Total MCC: %.3f' % mcc)\n",
        "print()\n",
        "print('Total f1_weighted: %.3f' % f1_weighted)\n",
        "print('Total f1_micro: %.3f' % f1_micro)\n",
        "print('Total f1_macro: %.3f' % f1_macro)\n",
        "print('Total acc: %.3f' % acc)\n",
        "print('AUC: %.3f' % auc_score)\n",
        "print('AP: %.3f' % ap)"
      ],
      "execution_count": 0,
      "outputs": []
    },
    {
      "cell_type": "code",
      "metadata": {
        "id": "Qb02FRCrxrlF",
        "colab_type": "code",
        "colab": {}
      },
      "source": [
        ""
      ],
      "execution_count": 0,
      "outputs": []
    }
  ]
}
